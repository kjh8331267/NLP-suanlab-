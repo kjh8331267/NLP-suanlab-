{
  "nbformat": 4,
  "nbformat_minor": 0,
  "metadata": {
    "colab": {
      "provenance": [],
      "toc_visible": true,
      "include_colab_link": true
    },
    "kernelspec": {
      "name": "python3",
      "display_name": "Python 3"
    }
  },
  "cells": [
    {
      "cell_type": "markdown",
      "metadata": {
        "id": "view-in-github",
        "colab_type": "text"
      },
      "source": [
        "<a href=\"https://colab.research.google.com/github/kjh8331267/NLP_suanlab/blob/main/Numpy_%ED%95%9C%EB%B2%88%EC%97%90_%EC%A0%9C%EB%8C%80%EB%A1%9C_%EB%B0%B0%EC%9A%B0%EA%B8%B0.ipynb\" target=\"_parent\"><img src=\"https://colab.research.google.com/assets/colab-badge.svg\" alt=\"Open In Colab\"/></a>"
      ]
    },
    {
      "cell_type": "markdown",
      "metadata": {
        "id": "J_FfQuu2Tb30"
      },
      "source": [
        "# NumPy 한번에 제대로 배우기"
      ]
    },
    {
      "cell_type": "markdown",
      "metadata": {
        "id": "Zgrrh9T2vs8u"
      },
      "source": [
        "\n",
        "\n",
        "---\n",
        "\n"
      ]
    },
    {
      "cell_type": "markdown",
      "metadata": {
        "id": "oR5hNBH-Retd"
      },
      "source": [
        "## NumPy 특징\n",
        "\n",
        "* Numerical Python의 약자\n",
        "* 고성능 과학 계산용 패키지로 강력한 N차원 배열 객체\n",
        "* 범용적 데이터 처리에 사용 가능한 다차원 컨테이너\n",
        "* 정교한 브로드캐스팅(broadcasting) 기능\n",
        "* 파이썬의 자료형 list와 비슷하지만, 더 빠르고 메모리를 효율적으로 관리\n",
        "* 반복문 없이 데이터 배열에 대한 처리를 지원하여 빠르고 편리\n",
        "* 데이터 과학 도구에 대한 생태계의 핵심을 이루고 있음"
      ]
    },
    {
      "cell_type": "code",
      "metadata": {
        "id": "R9klTdhLQ564",
        "colab": {
          "base_uri": "https://localhost:8080/",
          "height": 35
        },
        "outputId": "a6963f2d-5f7b-4e2b-d59d-1ac68ce4cfa2"
      },
      "source": [
        "import numpy as np\n",
        "np.__version__"
      ],
      "execution_count": null,
      "outputs": [
        {
          "output_type": "execute_result",
          "data": {
            "text/plain": [
              "'1.21.6'"
            ],
            "application/vnd.google.colaboratory.intrinsic+json": {
              "type": "string"
            }
          },
          "metadata": {},
          "execution_count": 2
        }
      ]
    },
    {
      "cell_type": "markdown",
      "metadata": {
        "id": "2hSWC5ptGyWP"
      },
      "source": [
        "\n",
        "\n",
        "---\n",
        "\n"
      ]
    },
    {
      "cell_type": "markdown",
      "metadata": {
        "id": "1kgkJZFlVUqk"
      },
      "source": [
        "## 배열 생성"
      ]
    },
    {
      "cell_type": "markdown",
      "metadata": {
        "id": "5eQ4sAkMbzm0"
      },
      "source": [
        "### 리스트로 배열 만들기\n"
      ]
    },
    {
      "cell_type": "code",
      "metadata": {
        "id": "Mtod2jcPWVvV",
        "colab": {
          "base_uri": "https://localhost:8080/"
        },
        "outputId": "3a248cdd-1cb9-4f32-af80-e0c16dbde355"
      },
      "source": [
        "a1 = np.array([1, 2, 3, 4, 5])\n",
        "print(a1)\n",
        "print(type(a1))\n",
        "print(a1.shape)\n",
        "print(a1[0], a1[1], a1[2], a1[3], a1[4])\n",
        "a1[0] = 4\n",
        "a1[1] = 5\n",
        "a1[2] = 6\n",
        "print(a1)"
      ],
      "execution_count": null,
      "outputs": [
        {
          "output_type": "stream",
          "name": "stdout",
          "text": [
            "[1 2 3 4 5]\n",
            "<class 'numpy.ndarray'>\n",
            "(5,)\n",
            "1 2 3 4 5\n",
            "[4 5 6 4 5]\n"
          ]
        }
      ]
    },
    {
      "cell_type": "code",
      "metadata": {
        "id": "vp9tkHH8esXT",
        "colab": {
          "base_uri": "https://localhost:8080/"
        },
        "outputId": "104d567e-0d14-4453-80c4-95e5de0c04d9"
      },
      "source": [
        "a2 = np.array([[1, 2, 3, 0], [4, 5, 6, 0], [7, 8, 9, 0]])\n",
        "print(a2)\n",
        "print(a2.shape)\n",
        "print(a2[0, 0], a2[1, 1], a2[2, 2])"
      ],
      "execution_count": null,
      "outputs": [
        {
          "output_type": "stream",
          "name": "stdout",
          "text": [
            "[[1 2 3 0]\n",
            " [4 5 6 0]\n",
            " [7 8 9 0]]\n",
            "(3, 4)\n",
            "1 5 9\n"
          ]
        }
      ]
    },
    {
      "cell_type": "code",
      "metadata": {
        "id": "Baj4gZ2meuJu",
        "colab": {
          "base_uri": "https://localhost:8080/"
        },
        "outputId": "b700592a-5c9d-4ea8-d9ee-f108fcaadcba"
      },
      "source": [
        "a3 = np.array([ [ [1, 2, 3], [4, 5, 6], [7, 8, 9] ],\n",
        "                [ [1, 2, 3], [4, 5, 6], [7, 8, 9] ],\n",
        "                [ [1, 2, 3], [4, 5, 6], [7, 8, 9] ] ])\n",
        "\n",
        "print(a3)"
      ],
      "execution_count": null,
      "outputs": [
        {
          "output_type": "stream",
          "name": "stdout",
          "text": [
            "[[[1 2 3]\n",
            "  [4 5 6]\n",
            "  [7 8 9]]\n",
            "\n",
            " [[1 2 3]\n",
            "  [4 5 6]\n",
            "  [7 8 9]]\n",
            "\n",
            " [[1 2 3]\n",
            "  [4 5 6]\n",
            "  [7 8 9]]]\n"
          ]
        }
      ]
    },
    {
      "cell_type": "markdown",
      "metadata": {
        "id": "PNkKtw4CoSDB"
      },
      "source": [
        "### 배열 생성 및 초기화"
      ]
    },
    {
      "cell_type": "markdown",
      "metadata": {
        "id": "mJVii5p_VfgM"
      },
      "source": [
        "* `zeros()`: 모든 요소를 0으로 초기화"
      ]
    },
    {
      "cell_type": "code",
      "metadata": {
        "id": "W_SF1tVoVTf1",
        "colab": {
          "base_uri": "https://localhost:8080/"
        },
        "outputId": "1484d030-621b-4459-f475-f9a4904c4844"
      },
      "source": [
        "print(np.zeros(10))\n",
        "print(np.zeros((3,3)))"
      ],
      "execution_count": null,
      "outputs": [
        {
          "output_type": "stream",
          "name": "stdout",
          "text": [
            "[0. 0. 0. 0. 0. 0. 0. 0. 0. 0.]\n",
            "[[0. 0. 0.]\n",
            " [0. 0. 0.]\n",
            " [0. 0. 0.]]\n"
          ]
        }
      ]
    },
    {
      "cell_type": "markdown",
      "metadata": {
        "id": "LjYFQrODVqhX"
      },
      "source": [
        "* `ones()`: 모든 요소를 1로 초기화"
      ]
    },
    {
      "cell_type": "code",
      "metadata": {
        "id": "MURoqsMsVeUw",
        "colab": {
          "base_uri": "https://localhost:8080/"
        },
        "outputId": "b2e1922f-2b27-4f2b-9011-a1769fa419d4"
      },
      "source": [
        "np.ones(10)"
      ],
      "execution_count": null,
      "outputs": [
        {
          "output_type": "execute_result",
          "data": {
            "text/plain": [
              "array([1., 1., 1., 1., 1., 1., 1., 1., 1., 1.])"
            ]
          },
          "metadata": {},
          "execution_count": 10
        }
      ]
    },
    {
      "cell_type": "markdown",
      "metadata": {
        "id": "jnmm3Cj-cGtx"
      },
      "source": [
        "* `full()`: 모든 요소를 지정한 값으로 초기화"
      ]
    },
    {
      "cell_type": "code",
      "metadata": {
        "id": "oscabrdcV7Ny",
        "colab": {
          "base_uri": "https://localhost:8080/"
        },
        "outputId": "cc9926ea-7046-4500-cde7-60446f7babb6"
      },
      "source": [
        "np.full((3, 3), 1.23)"
      ],
      "execution_count": null,
      "outputs": [
        {
          "output_type": "execute_result",
          "data": {
            "text/plain": [
              "array([[1.23, 1.23, 1.23],\n",
              "       [1.23, 1.23, 1.23],\n",
              "       [1.23, 1.23, 1.23]])"
            ]
          },
          "metadata": {},
          "execution_count": 7
        }
      ]
    },
    {
      "cell_type": "markdown",
      "metadata": {
        "id": "0SRI4jbmlIKc"
      },
      "source": [
        "* `eye()`: 단위행렬(identity matrix) 생성\n",
        "  + 주대각선의 원소가 모두 1이고 나머지 원소는 모두 0인 정사각 행렬"
      ]
    },
    {
      "cell_type": "code",
      "metadata": {
        "id": "VceBVLLjk9o5",
        "colab": {
          "base_uri": "https://localhost:8080/"
        },
        "outputId": "578c80dd-36da-4ed1-b545-c72dc6a23450"
      },
      "source": [
        "np.eye(4)"
      ],
      "execution_count": null,
      "outputs": [
        {
          "output_type": "execute_result",
          "data": {
            "text/plain": [
              "array([[1., 0., 0., 0.],\n",
              "       [0., 1., 0., 0.],\n",
              "       [0., 0., 1., 0.],\n",
              "       [0., 0., 0., 1.]])"
            ]
          },
          "metadata": {},
          "execution_count": 12
        }
      ]
    },
    {
      "cell_type": "markdown",
      "metadata": {
        "id": "7CCH1ZMT5R02"
      },
      "source": [
        "* `tri()`: 삼각행렬 생성"
      ]
    },
    {
      "cell_type": "code",
      "metadata": {
        "id": "mLe2Bhj05VYu",
        "colab": {
          "base_uri": "https://localhost:8080/"
        },
        "outputId": "6dcfb426-a49b-4eac-90d9-4668f80e0af4"
      },
      "source": [
        "np.tri(4)"
      ],
      "execution_count": null,
      "outputs": [
        {
          "output_type": "execute_result",
          "data": {
            "text/plain": [
              "array([[1., 0., 0., 0.],\n",
              "       [1., 1., 0., 0.],\n",
              "       [1., 1., 1., 0.],\n",
              "       [1., 1., 1., 1.]])"
            ]
          },
          "metadata": {},
          "execution_count": 13
        }
      ]
    },
    {
      "cell_type": "markdown",
      "metadata": {
        "id": "ObZRA4HclZlO"
      },
      "source": [
        "* `empty()`: 초기화되지 않은 배열 생성\n",
        "  + 초기화가 없어서 배열 생성비용 저렴하고 빠름\n",
        "  + 초기화되지 않아서 기존 메모리 위치에 존재하는 값이 있음"
      ]
    },
    {
      "cell_type": "code",
      "metadata": {
        "id": "I3SoFgiglAkz",
        "colab": {
          "base_uri": "https://localhost:8080/"
        },
        "outputId": "324f5ea0-b810-4f4b-94e5-84f84c0fe003"
      },
      "source": [
        "np.empty(10)"
      ],
      "execution_count": null,
      "outputs": [
        {
          "output_type": "execute_result",
          "data": {
            "text/plain": [
              "array([1., 1., 1., 1., 1., 1., 1., 1., 1., 1.])"
            ]
          },
          "metadata": {},
          "execution_count": 14
        }
      ]
    },
    {
      "cell_type": "markdown",
      "metadata": {
        "id": "p3uSl1Ccmi5_"
      },
      "source": [
        "* `_like()`: 지정된 배열과 shape가 같은 행렬 생성\n",
        "  + `np.zeros_like()`\n",
        "  + `np.ones_like()`\n",
        "  + `np.full_like()`\n",
        "  + `np.empty_like()`"
      ]
    },
    {
      "cell_type": "code",
      "metadata": {
        "id": "Ad5RskRRlZLs",
        "colab": {
          "base_uri": "https://localhost:8080/"
        },
        "outputId": "00f74012-96c7-4ba4-cf87-1748ba9c5a9f"
      },
      "source": [
        "print(a1)\n",
        "np.zeros_like(a1)"
      ],
      "execution_count": null,
      "outputs": [
        {
          "output_type": "stream",
          "name": "stdout",
          "text": [
            "[4 5 6 4 5]\n"
          ]
        },
        {
          "output_type": "execute_result",
          "data": {
            "text/plain": [
              "array([0, 0, 0, 0, 0])"
            ]
          },
          "metadata": {},
          "execution_count": 19
        }
      ]
    },
    {
      "cell_type": "code",
      "metadata": {
        "id": "KChUHsG003Nf",
        "colab": {
          "base_uri": "https://localhost:8080/"
        },
        "outputId": "a829dca9-27ab-42a1-d3ad-873c3832e08f"
      },
      "source": [
        "print(a2)\n",
        "np.ones_like(a2)"
      ],
      "execution_count": null,
      "outputs": [
        {
          "output_type": "stream",
          "name": "stdout",
          "text": [
            "[[1 2 3 0]\n",
            " [4 5 6 0]\n",
            " [7 8 9 0]]\n"
          ]
        },
        {
          "output_type": "execute_result",
          "data": {
            "text/plain": [
              "array([[1, 1, 1, 1],\n",
              "       [1, 1, 1, 1],\n",
              "       [1, 1, 1, 1]])"
            ]
          },
          "metadata": {},
          "execution_count": 20
        }
      ]
    },
    {
      "cell_type": "code",
      "metadata": {
        "id": "PUnDz6b305Gg",
        "colab": {
          "base_uri": "https://localhost:8080/"
        },
        "outputId": "592b5117-54cb-4034-b82d-2e8254e3ba06"
      },
      "source": [
        "print(a3)\n",
        "np.full_like(a3, 10)"
      ],
      "execution_count": null,
      "outputs": [
        {
          "output_type": "stream",
          "name": "stdout",
          "text": [
            "[[[1 2 3]\n",
            "  [4 5 6]\n",
            "  [7 8 9]]\n",
            "\n",
            " [[1 2 3]\n",
            "  [4 5 6]\n",
            "  [7 8 9]]\n",
            "\n",
            " [[1 2 3]\n",
            "  [4 5 6]\n",
            "  [7 8 9]]]\n"
          ]
        },
        {
          "output_type": "execute_result",
          "data": {
            "text/plain": [
              "array([[[10, 10, 10],\n",
              "        [10, 10, 10],\n",
              "        [10, 10, 10]],\n",
              "\n",
              "       [[10, 10, 10],\n",
              "        [10, 10, 10],\n",
              "        [10, 10, 10]],\n",
              "\n",
              "       [[10, 10, 10],\n",
              "        [10, 10, 10],\n",
              "        [10, 10, 10]]])"
            ]
          },
          "metadata": {},
          "execution_count": 21
        }
      ]
    },
    {
      "cell_type": "markdown",
      "metadata": {
        "id": "apoksGJNrn1z"
      },
      "source": [
        "### 생성한 값으로 배열 생성"
      ]
    },
    {
      "cell_type": "markdown",
      "metadata": {
        "id": "H3nmLct8cnV8"
      },
      "source": [
        "* `arange()`: 정수 범위로 배열 생성"
      ]
    },
    {
      "cell_type": "code",
      "metadata": {
        "id": "mANy4WY4cDKa",
        "colab": {
          "base_uri": "https://localhost:8080/"
        },
        "outputId": "75e53861-caa4-4c85-8a5e-5a43bbfc6f0c"
      },
      "source": [
        "np.arange(0, 30, 2)"
      ],
      "execution_count": null,
      "outputs": [
        {
          "output_type": "execute_result",
          "data": {
            "text/plain": [
              "array([ 0,  2,  4,  6,  8, 10, 12, 14, 16, 18, 20, 22, 24, 26, 28])"
            ]
          },
          "metadata": {},
          "execution_count": 22
        }
      ]
    },
    {
      "cell_type": "markdown",
      "metadata": {
        "id": "s5kET1e6itlo"
      },
      "source": [
        "* `linspace()`: 범위 내에서 균등 간격의 배열 생성"
      ]
    },
    {
      "cell_type": "code",
      "metadata": {
        "id": "u4q9gI7Zcltz",
        "colab": {
          "base_uri": "https://localhost:8080/"
        },
        "outputId": "686a0d48-75f6-487b-dee5-e342a793d758"
      },
      "source": [
        "np.linspace(0.1, 1, 20)"
      ],
      "execution_count": null,
      "outputs": [
        {
          "output_type": "execute_result",
          "data": {
            "text/plain": [
              "array([0.1       , 0.14736842, 0.19473684, 0.24210526, 0.28947368,\n",
              "       0.33684211, 0.38421053, 0.43157895, 0.47894737, 0.52631579,\n",
              "       0.57368421, 0.62105263, 0.66842105, 0.71578947, 0.76315789,\n",
              "       0.81052632, 0.85789474, 0.90526316, 0.95263158, 1.        ])"
            ]
          },
          "metadata": {},
          "execution_count": 25
        }
      ]
    },
    {
      "cell_type": "markdown",
      "metadata": {
        "id": "Eq26d7T3nnAH"
      },
      "source": [
        "* `logspace()`: 범위 내에서 균등간격으로 로그 스케일로 배열 생성"
      ]
    },
    {
      "cell_type": "code",
      "metadata": {
        "id": "-O29WBVEnyXX",
        "colab": {
          "base_uri": "https://localhost:8080/"
        },
        "outputId": "d61f6acc-0e15-4c84-b648-40db68398258"
      },
      "source": [
        "np.logspace(0.1, 1, 20)"
      ],
      "execution_count": null,
      "outputs": [
        {
          "output_type": "execute_result",
          "data": {
            "text/plain": [
              "array([ 1.25892541,  1.40400425,  1.565802  ,  1.74624535,  1.94748304,\n",
              "        2.1719114 ,  2.42220294,  2.70133812,  3.0126409 ,  3.35981829,\n",
              "        3.74700446,  4.17881006,  4.66037703,  5.19743987,  5.79639395,\n",
              "        6.46437163,  7.2093272 ,  8.04013161,  8.9666781 , 10.        ])"
            ]
          },
          "metadata": {},
          "execution_count": 24
        }
      ]
    },
    {
      "cell_type": "markdown",
      "metadata": {
        "id": "6_88s4_Jr7fO"
      },
      "source": [
        "### 랜덤값으로 배열 생성\n",
        "\n",
        "\n",
        "|함수|설명|\n",
        "|----|----|\n",
        "|`seed`|난수 발생을 위한 시드(seed) 지정|\n",
        "|`permutation`|순서를 임의로 바꾸거나 임의의 순열 반환|\n",
        "|`shuffle`|리스트나 배열의 순서를 뒤섞음|\n",
        "|`random`|랜덤한 수의 배열 생성|\n",
        "|`rand`|균등분포에서 표본 추출|\n",
        "|`randint`|주어진 최소/최대 범위의 난수 추출|\n",
        "|`randn`|표준편차가 1, 평균값이 0인 정규분포에서 표본 추출|\n",
        "|`binomial`|이항분포에서 표본 추출|\n",
        "|`normal`|정규분포(가우시안)에서 표본 추출|\n",
        "|`beta`|베타분포에서 표본 추출|\n",
        "|`chisquare`|카이제곱분포에서 표본 추출|\n",
        "|`gamma`|감마분포에서 표본 추출|\n",
        "|`uniform`|균등(0, 1) 분포에서 표본 추출|"
      ]
    },
    {
      "cell_type": "markdown",
      "metadata": {
        "id": "CoK1cVUkjNMg"
      },
      "source": [
        "* `random.random()`: 랜덤한 수의 배열 생성"
      ]
    },
    {
      "cell_type": "code",
      "metadata": {
        "id": "qJwccKEnjMze",
        "colab": {
          "base_uri": "https://localhost:8080/"
        },
        "outputId": "ee5e7b6f-629d-4487-8f1c-d5e7b43ef8a3"
      },
      "source": [
        "np.random.random((3,3))"
      ],
      "execution_count": null,
      "outputs": [
        {
          "output_type": "execute_result",
          "data": {
            "text/plain": [
              "array([[0.49406374, 0.85323664, 0.45744252],\n",
              "       [0.09589104, 0.44085628, 0.46567002],\n",
              "       [0.68147596, 0.05250851, 0.47037705]])"
            ]
          },
          "metadata": {},
          "execution_count": 28
        }
      ]
    },
    {
      "cell_type": "markdown",
      "metadata": {
        "id": "BYsAVwA1kvDI"
      },
      "source": [
        "* `random.randint()`: 일정 구간의 랜덤 정수의 배열 생성"
      ]
    },
    {
      "cell_type": "code",
      "metadata": {
        "id": "oR-UszZ_jqfQ",
        "colab": {
          "base_uri": "https://localhost:8080/"
        },
        "outputId": "43d73b9c-7b18-4c0f-8e2a-6fab725e5681"
      },
      "source": [
        "np.random.randint(0, 10, (3, 3)) # 구간, 배열 사이즈"
      ],
      "execution_count": null,
      "outputs": [
        {
          "output_type": "execute_result",
          "data": {
            "text/plain": [
              "array([[7, 2, 2],\n",
              "       [9, 9, 1],\n",
              "       [4, 7, 6]])"
            ]
          },
          "metadata": {},
          "execution_count": 32
        }
      ]
    },
    {
      "cell_type": "markdown",
      "metadata": {
        "id": "2r557WHsjrL3"
      },
      "source": [
        "* `random.normal()`: 정규분포(normal distribution)를 고려한 랜덤한 수의 배열 생성\n",
        "* 평균=0, 표준편차=1, 3 x 3 배열"
      ]
    },
    {
      "cell_type": "code",
      "metadata": {
        "id": "Oan3bSpHi2Wq",
        "colab": {
          "base_uri": "https://localhost:8080/"
        },
        "outputId": "275214e7-ba4a-4854-a849-27a274943b15"
      },
      "source": [
        "np.random.normal(10, 1, size = (3, 3)) # 평균, 표준편차, 사이즈"
      ],
      "execution_count": null,
      "outputs": [
        {
          "output_type": "execute_result",
          "data": {
            "text/plain": [
              "array([[11.52483036, 10.23116488, 11.35106261],\n",
              "       [10.00798481, 10.0038185 , 10.07877707],\n",
              "       [10.95572386,  9.11502003, 10.85609179]])"
            ]
          },
          "metadata": {},
          "execution_count": 33
        }
      ]
    },
    {
      "cell_type": "markdown",
      "metadata": {
        "id": "fPO-D1rHsrFw"
      },
      "source": [
        "* `random.rand()`: 균등분포(uniform distribution)를 고려한 랜덤한 수의 배열 생성"
      ]
    },
    {
      "cell_type": "code",
      "metadata": {
        "id": "DxiyEjnXnDUT",
        "colab": {
          "base_uri": "https://localhost:8080/"
        },
        "outputId": "c9b2ba09-8d4d-419c-e0bc-7385278ece3e"
      },
      "source": [
        "np.random.rand(3, 3)"
      ],
      "execution_count": null,
      "outputs": [
        {
          "output_type": "execute_result",
          "data": {
            "text/plain": [
              "array([[0.94870584, 0.88326728, 0.20487565],\n",
              "       [0.84726163, 0.36977478, 0.47891025],\n",
              "       [0.40214723, 0.22076464, 0.19415215]])"
            ]
          },
          "metadata": {},
          "execution_count": 34
        }
      ]
    },
    {
      "cell_type": "markdown",
      "metadata": {
        "id": "IegH2dsPLQgd"
      },
      "source": [
        "* `random.randn()`: 표준 정규 분포(standard normal distribution)를 고려한 랜덤한 수의 배열 생성"
      ]
    },
    {
      "cell_type": "code",
      "metadata": {
        "id": "V61VHa-JLIma",
        "colab": {
          "base_uri": "https://localhost:8080/"
        },
        "outputId": "f6693888-26bb-4c8c-9bbc-fc36a20ea14a"
      },
      "source": [
        "np.random.randn(3, 3)"
      ],
      "execution_count": null,
      "outputs": [
        {
          "output_type": "execute_result",
          "data": {
            "text/plain": [
              "array([[-0.35682408, -1.65430526,  0.8244986 ],\n",
              "       [-1.02073742, -0.61673734,  0.36208859],\n",
              "       [-1.39690556,  1.58814298, -0.4854188 ]])"
            ]
          },
          "metadata": {},
          "execution_count": 35
        }
      ]
    },
    {
      "cell_type": "markdown",
      "metadata": {
        "id": "5ts0cYLQL_pT"
      },
      "source": [
        "### 표준 데이터 타입\n",
        "\n",
        "|데이터타입|설명|\n",
        "|----|----|\n",
        "|`bool_`|바이트로 저장된 불리언(Boolean)으로 True 또는 False 값을 가짐|\n",
        "|`int_`|기본 정수(Integer)타입|\n",
        "|`intc`|C 언어에서 사용되는 int와 동일(일반적으로 int32 또는 int64)|\n",
        "|`intp`|인덱싱에 사용되는 정수(일반적으로 int32 또는 int64)|\n",
        "|`int8`|바이트(Byte)(-128~127)|\n",
        "|`int16`|정수 (-32768~32767)|\n",
        "|`int32`|정수 (-2147483648~2147483647)|\n",
        "|`int64`|정수 (-9223372036854775808~9223372036854775807)|\n",
        "|`unit8`|부호 없는 정수 (0~255)|\n",
        "|`unit16`|부호 없는 정수 (0~65535)|\n",
        "|`unit32`|부호 없는 정수 (0~4294967295)|\n",
        "|`unit64`|부호 없는 정수 (0~18446744073709551615)|\n",
        "|`float16`|반정밀 부동 소수점(Half precision float): 부호비트, 5비트 지수, 10비트 가수|\n",
        "|`float32`|단정밀 부동 소수점(Single precision float): 부호비트, 8비트 지수, 23비트 가수|\n",
        "|`float64`|배정밀 부동 소수점(Double precision float): 부호비트, 11비트 지수, 52비트 가수|\n",
        "|`float_`|`float64`를 줄여서 표현|\n",
        "|`complex64`|복소수(Complex number), 두 개의 32비트 부동 소수점으로 표현|\n",
        "|`complex128`|복소수, 두 개의 64비트 부동 소수점으로 표현|\n",
        "|`complex_`|complex128를 줄여서 표현|"
      ]
    },
    {
      "cell_type": "code",
      "metadata": {
        "id": "rxqTqAFKL73y",
        "colab": {
          "base_uri": "https://localhost:8080/"
        },
        "outputId": "6f6754a6-3572-41a7-c4e0-6eaf54a1f8ff"
      },
      "source": [
        "np.zeros(20, dtype = int)"
      ],
      "execution_count": null,
      "outputs": [
        {
          "output_type": "execute_result",
          "data": {
            "text/plain": [
              "array([0, 0, 0, 0, 0, 0, 0, 0, 0, 0, 0, 0, 0, 0, 0, 0, 0, 0, 0, 0])"
            ]
          },
          "metadata": {},
          "execution_count": 36
        }
      ]
    },
    {
      "cell_type": "code",
      "metadata": {
        "id": "o9TuSl6HIsXr",
        "colab": {
          "base_uri": "https://localhost:8080/"
        },
        "outputId": "4b1fdd07-bedd-4853-8372-5759dc62b72e"
      },
      "source": [
        "np.ones((3, 3), dtype = bool)"
      ],
      "execution_count": null,
      "outputs": [
        {
          "output_type": "execute_result",
          "data": {
            "text/plain": [
              "array([[ True,  True,  True],\n",
              "       [ True,  True,  True],\n",
              "       [ True,  True,  True]])"
            ]
          },
          "metadata": {},
          "execution_count": 38
        }
      ]
    },
    {
      "cell_type": "code",
      "metadata": {
        "id": "w-TciNfzEhY0",
        "colab": {
          "base_uri": "https://localhost:8080/"
        },
        "outputId": "95a89acc-2030-47cc-8469-a8eb6d99c334"
      },
      "source": [
        "np.full((3, 3), 1.0, dtype = float)"
      ],
      "execution_count": null,
      "outputs": [
        {
          "output_type": "execute_result",
          "data": {
            "text/plain": [
              "array([[1., 1., 1.],\n",
              "       [1., 1., 1.],\n",
              "       [1., 1., 1.]])"
            ]
          },
          "metadata": {},
          "execution_count": 39
        }
      ]
    },
    {
      "cell_type": "markdown",
      "metadata": {
        "id": "1qFumu-p-0mQ"
      },
      "source": [
        "### 날짜/시간 배열 생성\n",
        "\n",
        "|코드|의미|상대적 시간 범위|\n",
        "|----|-----|----|\n",
        "|`Y`|연|\n",
        "|`M`|월|\n",
        "|`W`|주|\n",
        "|`D`|일|\n",
        "|`h`|시|\n",
        "|`m`|분|\n",
        "|`s`|초|\n",
        "|`ms`|밀리초|\n",
        "|`us`|마이크로초|\n",
        "|`ns`|나노초|\n",
        "|`ps`|피코초|\n",
        "|`fs`|펨토초|\n",
        "|`as`|아토초|\n"
      ]
    },
    {
      "cell_type": "code",
      "metadata": {
        "id": "D8ozvTUf-6Rr",
        "colab": {
          "base_uri": "https://localhost:8080/"
        },
        "outputId": "9eb69a81-d9f4-421a-a561-73fc38d9eb9f"
      },
      "source": [
        "date = np.array('2020-01-01', dtype = np.datetime64) # 날짜 계산 가능해짐\n",
        "date"
      ],
      "execution_count": null,
      "outputs": [
        {
          "output_type": "execute_result",
          "data": {
            "text/plain": [
              "array('2020-01-01', dtype='datetime64[D]')"
            ]
          },
          "metadata": {},
          "execution_count": 41
        }
      ]
    },
    {
      "cell_type": "code",
      "metadata": {
        "id": "XIjLUkn6_K3J",
        "colab": {
          "base_uri": "https://localhost:8080/"
        },
        "outputId": "bc853e91-5816-4d04-a590-52a68398b5b7"
      },
      "source": [
        "date + np.arange(12) # 기존 날짜에 합할 수 있음"
      ],
      "execution_count": null,
      "outputs": [
        {
          "output_type": "execute_result",
          "data": {
            "text/plain": [
              "array(['2020-01-01', '2020-01-02', '2020-01-03', '2020-01-04',\n",
              "       '2020-01-05', '2020-01-06', '2020-01-07', '2020-01-08',\n",
              "       '2020-01-09', '2020-01-10', '2020-01-11', '2020-01-12'],\n",
              "      dtype='datetime64[D]')"
            ]
          },
          "metadata": {},
          "execution_count": 42
        }
      ]
    },
    {
      "cell_type": "code",
      "metadata": {
        "id": "EO7yE5VR_Wlh",
        "colab": {
          "base_uri": "https://localhost:8080/"
        },
        "outputId": "f2a3481c-3f78-4f1f-cbd0-acc1dd9e90f4"
      },
      "source": [
        "datetime = np.datetime64('2020-06-01 12:00')\n",
        "datetime"
      ],
      "execution_count": null,
      "outputs": [
        {
          "output_type": "execute_result",
          "data": {
            "text/plain": [
              "numpy.datetime64('2020-06-01T12:00')"
            ]
          },
          "metadata": {},
          "execution_count": 44
        }
      ]
    },
    {
      "cell_type": "code",
      "metadata": {
        "id": "3dnOlf9i_kzX",
        "colab": {
          "base_uri": "https://localhost:8080/"
        },
        "outputId": "22e24ca7-484d-430c-fe4a-f0b0365b0951"
      },
      "source": [
        "datetime = np.datetime64('2020-06-01 12:00:12.34', 'ns')\n",
        "datetime"
      ],
      "execution_count": null,
      "outputs": [
        {
          "output_type": "execute_result",
          "data": {
            "text/plain": [
              "numpy.datetime64('2020-06-01T12:00:12.340000000')"
            ]
          },
          "metadata": {},
          "execution_count": 45
        }
      ]
    },
    {
      "cell_type": "markdown",
      "metadata": {
        "id": "5AREIamhGxAr"
      },
      "source": [
        "\n",
        "\n",
        "---\n",
        "\n"
      ]
    },
    {
      "cell_type": "markdown",
      "metadata": {
        "id": "d88tkTqbBE5V"
      },
      "source": [
        "## 배열 조회"
      ]
    },
    {
      "cell_type": "markdown",
      "metadata": {
        "id": "vRqwfbjtFnPn"
      },
      "source": [
        "### 배열 속성 정보"
      ]
    },
    {
      "cell_type": "code",
      "metadata": {
        "id": "R5Rlcll7GXrM"
      },
      "source": [
        "def array_info(array):\n",
        "    print(array)\n",
        "    print(\"ndim : \", array.ndim)\n",
        "    print(\"shape : \", array.shape)\n",
        "    print(\"dtype : \", array.dtype)\n",
        "    print(\"size : \", array.size)\n",
        "    print(\"itemsize : \", array.itemsize) # 하나당 바이트\n",
        "    print(\"nbytes : \", array.nbytes) # 전체 바이트 (size*itemsize)\n",
        "    print(\"strides : \", array.strides) # 다음 element로 넘어갈 때 필요한 바이트"
      ],
      "execution_count": null,
      "outputs": []
    },
    {
      "cell_type": "code",
      "metadata": {
        "id": "Na59LwA7KXZV",
        "colab": {
          "base_uri": "https://localhost:8080/"
        },
        "outputId": "1700827e-93a9-494e-ab8f-46f4db071ca1"
      },
      "source": [
        "array_info(a1)"
      ],
      "execution_count": null,
      "outputs": [
        {
          "output_type": "stream",
          "name": "stdout",
          "text": [
            "[4 5 6 4 5]\n",
            "ndim :  1\n",
            "shape :  (5,)\n",
            "dtype :  int64\n",
            "size :  5\n",
            "itemsize :  8\n",
            "nbytes :  40\n",
            "strides :  (8,)\n"
          ]
        }
      ]
    },
    {
      "cell_type": "code",
      "metadata": {
        "id": "Urzr_LsdLah0",
        "colab": {
          "base_uri": "https://localhost:8080/"
        },
        "outputId": "a2cf2d71-69a1-45c9-97d6-143443d89964"
      },
      "source": [
        "array_info(a2)"
      ],
      "execution_count": null,
      "outputs": [
        {
          "output_type": "stream",
          "name": "stdout",
          "text": [
            "[[1 2 3 0]\n",
            " [4 5 6 0]\n",
            " [7 8 9 0]]\n",
            "ndim :  2\n",
            "shape :  (3, 4)\n",
            "dtype :  int64\n",
            "size :  12\n",
            "itemsize :  8\n",
            "nbytes :  96\n",
            "strides :  (32, 8)\n"
          ]
        }
      ]
    },
    {
      "cell_type": "code",
      "metadata": {
        "id": "jktqh1lsLf4V",
        "colab": {
          "base_uri": "https://localhost:8080/"
        },
        "outputId": "442de71c-56f8-4613-9dd4-ecd5efd708ad"
      },
      "source": [
        "array_info(a3)"
      ],
      "execution_count": null,
      "outputs": [
        {
          "output_type": "stream",
          "name": "stdout",
          "text": [
            "[[[1 2 3]\n",
            "  [4 5 6]\n",
            "  [7 8 9]]\n",
            "\n",
            " [[1 2 3]\n",
            "  [4 5 6]\n",
            "  [7 8 9]]\n",
            "\n",
            " [[1 2 3]\n",
            "  [4 5 6]\n",
            "  [7 8 9]]]\n",
            "ndim :  3\n",
            "shape :  (3, 3, 3)\n",
            "dtype :  int64\n",
            "size :  27\n",
            "itemsize :  8\n",
            "nbytes :  216\n",
            "strides :  (72, 24, 8)\n"
          ]
        }
      ]
    },
    {
      "cell_type": "markdown",
      "metadata": {
        "id": "LV1WfdBWFqDu"
      },
      "source": [
        "### 인덱싱(Indexing)"
      ]
    },
    {
      "cell_type": "code",
      "metadata": {
        "id": "Nyb7eDmGFr5m",
        "colab": {
          "base_uri": "https://localhost:8080/"
        },
        "outputId": "a4938bd3-199b-454c-fcf1-4655fcc98607"
      },
      "source": [
        "print(a1)\n",
        "print(a1[0])\n",
        "print(a1[2])\n",
        "print(a1[-1])\n",
        "print(a1[-2])"
      ],
      "execution_count": null,
      "outputs": [
        {
          "output_type": "stream",
          "name": "stdout",
          "text": [
            "[4 5 6 4 5]\n",
            "4\n",
            "6\n",
            "5\n",
            "4\n"
          ]
        }
      ]
    },
    {
      "cell_type": "code",
      "metadata": {
        "id": "uHMNcQW3Kn-h",
        "colab": {
          "base_uri": "https://localhost:8080/"
        },
        "outputId": "8c57586f-15df-4ac5-f54d-cc3186221f3a"
      },
      "source": [
        "print(a2)\n",
        "print(a2[0, 0])\n",
        "print(a2[0, 2])\n",
        "print(a2[1, 1])\n",
        "print(a2[2, -1])"
      ],
      "execution_count": null,
      "outputs": [
        {
          "output_type": "stream",
          "name": "stdout",
          "text": [
            "[[1 2 3 0]\n",
            " [4 5 6 0]\n",
            " [7 8 9 0]]\n",
            "1\n",
            "3\n",
            "5\n",
            "0\n"
          ]
        }
      ]
    },
    {
      "cell_type": "code",
      "metadata": {
        "id": "IX5yDMGiMxYZ",
        "colab": {
          "base_uri": "https://localhost:8080/"
        },
        "outputId": "1270c5cc-1e37-465c-f6a3-56417d376366"
      },
      "source": [
        "print(a3)\n",
        "print(a3[0, 0, 0])\n",
        "print(a3[1, 1, 1])\n",
        "print(a3[2, 2, 2])\n",
        "print(a3[2, -1, -1])"
      ],
      "execution_count": null,
      "outputs": [
        {
          "output_type": "stream",
          "name": "stdout",
          "text": [
            "[[[1 2 3]\n",
            "  [4 5 6]\n",
            "  [7 8 9]]\n",
            "\n",
            " [[1 2 3]\n",
            "  [4 5 6]\n",
            "  [7 8 9]]\n",
            "\n",
            " [[1 2 3]\n",
            "  [4 5 6]\n",
            "  [7 8 9]]]\n",
            "1\n",
            "5\n",
            "9\n",
            "9\n"
          ]
        }
      ]
    },
    {
      "cell_type": "markdown",
      "metadata": {
        "id": "uSeXu2y_O4cu"
      },
      "source": [
        "### 슬라이싱(Slicing)"
      ]
    },
    {
      "cell_type": "markdown",
      "metadata": {
        "id": "1hikO_6ZPp5m"
      },
      "source": [
        "* 슬라이싱 구문: `a[start:stop:step]`\n",
        "* 기본값: start=0, stop=ndim, step=1"
      ]
    },
    {
      "cell_type": "code",
      "metadata": {
        "id": "PYZOOCoVO7BF",
        "colab": {
          "base_uri": "https://localhost:8080/"
        },
        "outputId": "f8772e34-011d-4dc9-f9bf-d89a5a1be272"
      },
      "source": [
        "print(a1)\n",
        "print(a1[0:2])\n",
        "print(a1[0:])\n",
        "print(a1[:1])\n",
        "print(a1[::2]) # 2 step\n",
        "print(a1[::-1])"
      ],
      "execution_count": null,
      "outputs": [
        {
          "output_type": "stream",
          "name": "stdout",
          "text": [
            "[4 5 6 4 5]\n",
            "[4 5]\n",
            "[4 5 6 4 5]\n",
            "[4]\n",
            "[4 6 5]\n",
            "[5 4 6 5 4]\n"
          ]
        }
      ]
    },
    {
      "cell_type": "code",
      "metadata": {
        "id": "oULOFrBQWs1G",
        "colab": {
          "base_uri": "https://localhost:8080/"
        },
        "outputId": "901708e3-6d41-420f-9cf5-7471903676dd"
      },
      "source": [
        "print(a2)\n",
        "print(a2[1])\n",
        "print(a2[1, :])\n",
        "print(a2[:2, :2])\n",
        "print(a2[1:, ::-1])\n",
        "print(a2[::-1, ::-1])"
      ],
      "execution_count": null,
      "outputs": [
        {
          "output_type": "stream",
          "name": "stdout",
          "text": [
            "[[1 2 3 0]\n",
            " [4 5 6 0]\n",
            " [7 8 9 0]]\n",
            "[4 5 6 0]\n",
            "[4 5 6 0]\n",
            "[[1 2]\n",
            " [4 5]]\n",
            "[[0 6 5 4]\n",
            " [0 9 8 7]]\n",
            "[[0 9 8 7]\n",
            " [0 6 5 4]\n",
            " [0 3 2 1]]\n"
          ]
        }
      ]
    },
    {
      "cell_type": "markdown",
      "metadata": {
        "id": "LD52bXAsBgbH"
      },
      "source": [
        "### 불리언 인덱싱(Boolean Indexing)\n",
        "\n",
        "* 배열 각 요소의 선택 여부를 불리언(True or False)로 지정\n",
        "* True 값인 인덱스의 값만 조회"
      ]
    },
    {
      "cell_type": "code",
      "metadata": {
        "id": "pOvNsH2oBgz-",
        "colab": {
          "base_uri": "https://localhost:8080/"
        },
        "outputId": "d3776cd4-0908-4d02-b414-1329690d32a0"
      },
      "source": [
        "print(a1)\n",
        "bi = [False, True, True, False, True]\n",
        "print(a1[bi])\n",
        "\n",
        "bi = [True, False, True, True, False]\n",
        "print(a1[bi])"
      ],
      "execution_count": null,
      "outputs": [
        {
          "output_type": "stream",
          "name": "stdout",
          "text": [
            "[4 5 6 4 5]\n",
            "[5 6 5]\n",
            "[4 6 4]\n"
          ]
        }
      ]
    },
    {
      "cell_type": "code",
      "metadata": {
        "id": "EFfquM2kWHAU",
        "colab": {
          "base_uri": "https://localhost:8080/"
        },
        "outputId": "d5c82b49-42b6-4d27-89dd-2824ba01241b"
      },
      "source": [
        "print(a2)\n",
        "bi = np.random.randint(0, 2, (3, 4), dtype = bool)\n",
        "print(bi)\n",
        "print(a2[bi])"
      ],
      "execution_count": null,
      "outputs": [
        {
          "output_type": "stream",
          "name": "stdout",
          "text": [
            "[[1 2 3 0]\n",
            " [4 5 6 0]\n",
            " [7 8 9 0]]\n",
            "[[False  True False False]\n",
            " [False  True  True False]\n",
            " [ True False False  True]]\n",
            "[2 5 6 7 0]\n"
          ]
        }
      ]
    },
    {
      "cell_type": "markdown",
      "metadata": {
        "id": "R5hes-hdBujH"
      },
      "source": [
        "### 팬시 인덱싱(Fancy Indedxing)"
      ]
    },
    {
      "cell_type": "code",
      "metadata": {
        "id": "z-Luw5fzBx30",
        "colab": {
          "base_uri": "https://localhost:8080/"
        },
        "outputId": "bbae3127-a995-4bf1-e97e-f61a28f93c00"
      },
      "source": [
        "print(a1)\n",
        "print([a1[0], a1[2]])\n",
        "ind = [0, 2]\n",
        "print(a1[ind])\n",
        "\n",
        "ind = np.array([[0, 1], # index에 따라서 shape이 결정됨\n",
        "                [2, 0]])\n",
        "print(a1[ind])"
      ],
      "execution_count": null,
      "outputs": [
        {
          "output_type": "stream",
          "name": "stdout",
          "text": [
            "[4 5 6 4 5]\n",
            "[4, 6]\n",
            "[4 6]\n",
            "[[4 5]\n",
            " [6 4]]\n"
          ]
        }
      ]
    },
    {
      "cell_type": "code",
      "metadata": {
        "id": "p_Dd0oiJahgj",
        "colab": {
          "base_uri": "https://localhost:8080/"
        },
        "outputId": "15c7076b-d2ed-4622-8d57-f9430a8f3afd"
      },
      "source": [
        "print(a2)\n",
        "row = np.array([0, 2])\n",
        "col = np.array([1, 2])\n",
        "print(a2[row, col])\n",
        "\n",
        "print(a2[row, :])\n",
        "print(a2[:, col])\n",
        "print(a2[row, 1])\n",
        "print(a2[2, col])\n",
        "print(a2[row, 1:])\n",
        "print(a2[1:, col])"
      ],
      "execution_count": null,
      "outputs": [
        {
          "output_type": "stream",
          "name": "stdout",
          "text": [
            "[[1 2 3 0]\n",
            " [4 5 6 0]\n",
            " [7 8 9 0]]\n",
            "[2 9]\n",
            "[[1 2 3 0]\n",
            " [7 8 9 0]]\n",
            "[[2 3]\n",
            " [5 6]\n",
            " [8 9]]\n",
            "[2 8]\n",
            "[8 9]\n",
            "[[2 3 0]\n",
            " [8 9 0]]\n",
            "[[5 6]\n",
            " [8 9]]\n"
          ]
        }
      ]
    },
    {
      "cell_type": "markdown",
      "metadata": {
        "id": "F71_PQF1GvTs"
      },
      "source": [
        "\n",
        "\n",
        "---\n",
        "\n"
      ]
    },
    {
      "cell_type": "markdown",
      "metadata": {
        "id": "zDI5yQ58O-IX"
      },
      "source": [
        "## 배열 값 삽입/수정/삭제/복사"
      ]
    },
    {
      "cell_type": "markdown",
      "metadata": {
        "id": "zajd1qpVOQYy"
      },
      "source": [
        "### 배열 값 삽입\n",
        "\n",
        "* `insert()`: 배열의 특정 위치에 값 삽입\n",
        "* axis를 지정하지 않으면 1차원 배열로 변환\n",
        "* 추가할 방향을 axis로 지정\n",
        "* 원본 배열 변경없이 새로운 배열 반환"
      ]
    },
    {
      "cell_type": "code",
      "metadata": {
        "id": "sedRT54rP395",
        "colab": {
          "base_uri": "https://localhost:8080/"
        },
        "outputId": "c1faa3f8-dbe4-47ce-8bac-08faaa113b89"
      },
      "source": [
        "print(a1)\n",
        "b1 = np.insert(a1, 0, 10)\n",
        "print(b1)\n",
        "print(a1)\n",
        "c1 = np.insert(a1, 2, 10) # 2번 위치에 10을 넣어라\n",
        "print(c1)"
      ],
      "execution_count": null,
      "outputs": [
        {
          "output_type": "stream",
          "name": "stdout",
          "text": [
            "[4 5 6 4 5]\n",
            "[10  4  5  6  4  5]\n",
            "[4 5 6 4 5]\n",
            "[ 4  5 10  6  4  5]\n"
          ]
        }
      ]
    },
    {
      "cell_type": "code",
      "metadata": {
        "id": "zNmu1E4iQ6h-",
        "colab": {
          "base_uri": "https://localhost:8080/"
        },
        "outputId": "59d076fc-ecec-4363-9449-becd7726bfb7"
      },
      "source": [
        "print(a2)\n",
        "b2 = np.insert(a2, 1, 10, axis = 0) # axis=0 : 행방향\n",
        "print(b2)\n",
        "c2 = np.insert(a2, 1, 10, axis = 1) # axis=1 : 하나의컬럼\n",
        "print(c2)"
      ],
      "execution_count": null,
      "outputs": [
        {
          "output_type": "stream",
          "name": "stdout",
          "text": [
            "[[1 2 3 0]\n",
            " [4 5 6 0]\n",
            " [7 8 9 0]]\n",
            "[[ 1  2  3  0]\n",
            " [10 10 10 10]\n",
            " [ 4  5  6  0]\n",
            " [ 7  8  9  0]]\n",
            "[[ 1 10  2  3  0]\n",
            " [ 4 10  5  6  0]\n",
            " [ 7 10  8  9  0]]\n"
          ]
        }
      ]
    },
    {
      "cell_type": "markdown",
      "metadata": {
        "id": "OlEzG4ffNjyL"
      },
      "source": [
        "### 배열 값 수정\n",
        "\n",
        "* 배열의 인덱싱으로 접근하여 값 수정"
      ]
    },
    {
      "cell_type": "code",
      "metadata": {
        "id": "ec43i1KWNjeN",
        "colab": {
          "base_uri": "https://localhost:8080/"
        },
        "outputId": "2d2ea342-3946-4a79-9bef-bb8277826e7b"
      },
      "source": [
        "print(a1)\n",
        "a1[0] = 1\n",
        "a1[1] = 2\n",
        "a1[2] = 3\n",
        "print(a1)\n",
        "a1[:1] = 9\n",
        "i = np.array([1, 3, 4])\n",
        "a1[i] = 0\n",
        "print(a1)\n",
        "a1[i] += 4\n",
        "print(a1)"
      ],
      "execution_count": null,
      "outputs": [
        {
          "output_type": "stream",
          "name": "stdout",
          "text": [
            "[4 5 6 4 5]\n",
            "[1 2 3 4 5]\n",
            "[9 0 3 0 0]\n",
            "[9 4 3 4 4]\n"
          ]
        }
      ]
    },
    {
      "cell_type": "code",
      "metadata": {
        "id": "IApNNx3NOMQh",
        "colab": {
          "base_uri": "https://localhost:8080/"
        },
        "outputId": "0487cf52-7fda-4309-ea8f-b983541c043e"
      },
      "source": [
        "print(a2)\n",
        "a2[0, 0] = 1\n",
        "a2[1, 1] = 2\n",
        "a2[2, 2] = 3\n",
        "a2[0] = 1\n",
        "print(a2)\n",
        "a2[1:,2] = 9\n",
        "print(a2)\n",
        "row = np.array([0, 1])\n",
        "col = np.array([1, 2])\n",
        "a2[row, col] = 0\n",
        "print(a2)"
      ],
      "execution_count": null,
      "outputs": [
        {
          "output_type": "stream",
          "name": "stdout",
          "text": [
            "[[1 1 1 1]\n",
            " [4 2 9 0]\n",
            " [7 8 9 0]]\n",
            "[[1 1 1 1]\n",
            " [4 2 9 0]\n",
            " [7 8 3 0]]\n",
            "[[1 1 1 1]\n",
            " [4 2 9 0]\n",
            " [7 8 9 0]]\n",
            "[[1 0 1 1]\n",
            " [4 2 0 0]\n",
            " [7 8 9 0]]\n"
          ]
        }
      ]
    },
    {
      "cell_type": "markdown",
      "metadata": {
        "id": "emV7DgrITPcn"
      },
      "source": [
        "### 배열 값 삭제\n",
        "\n",
        "* `delete()`: 배열의 특정 위치에 값 삭제\n",
        "* axis를 지정하지 않으면 1차원 배열로 변환\n",
        "* 삭제할 방향을 axis로 지정\n",
        "* 원본 배열 변경없이 새로운 배열 반환"
      ]
    },
    {
      "cell_type": "code",
      "metadata": {
        "id": "I3k_Yx8lTRJ2",
        "colab": {
          "base_uri": "https://localhost:8080/"
        },
        "outputId": "2baed25d-a5a6-47f1-a576-d7b1a21a2514"
      },
      "source": [
        "print(a1)\n",
        "b1 = np.delete(a1, 1)\n",
        "print(b1)\n",
        "print(a1)"
      ],
      "execution_count": null,
      "outputs": [
        {
          "output_type": "stream",
          "name": "stdout",
          "text": [
            "[9 4 3 4 4]\n",
            "[9 3 4 4]\n"
          ]
        }
      ]
    },
    {
      "cell_type": "code",
      "metadata": {
        "id": "tRTwMIfJTq_y",
        "colab": {
          "base_uri": "https://localhost:8080/"
        },
        "outputId": "fbacc870-a80d-426b-93c0-8f9e9fd5649e"
      },
      "source": [
        "print(a2)\n",
        "b2 = np.delete(a2, 1, axis = 0) # 행방향\n",
        "print(b2)\n",
        "\n",
        "c2 = np.delete(a2, 1, axis = 1) # 컬럼방향\n",
        "print(c2)"
      ],
      "execution_count": null,
      "outputs": [
        {
          "output_type": "stream",
          "name": "stdout",
          "text": [
            "[[1 0 1 1]\n",
            " [4 2 0 0]\n",
            " [7 8 9 0]]\n",
            "[[1 0 1 1]\n",
            " [7 8 9 0]]\n",
            "[[1 1 1]\n",
            " [4 0 0]\n",
            " [7 9 0]]\n"
          ]
        }
      ]
    },
    {
      "cell_type": "markdown",
      "metadata": {
        "id": "UydkYxV8Z6Fx"
      },
      "source": [
        "### 배열 복사\n",
        "\n",
        "* 리스트 자료형과 달리 배열의 슬라이스는 복사본이 아님"
      ]
    },
    {
      "cell_type": "code",
      "metadata": {
        "id": "n2_0L8KWZ7wH",
        "colab": {
          "base_uri": "https://localhost:8080/"
        },
        "outputId": "26526d27-5930-468e-e4bc-a0550d528b66"
      },
      "source": [
        "print(a2)\n",
        "print(a2[:2,  :2])\n",
        "\n",
        "a2_sub = a2[:2,  :2] # 원본의 메모리 위치상의 결과를 슬라이스하여 준 것\n",
        "print(a2_sub)\n",
        "a2_sub[:, 1] = 0\n",
        "print(a2_sub)\n",
        "print(a2) # 원본도 바뀜!!!!!!!!!!!!!!"
      ],
      "execution_count": null,
      "outputs": [
        {
          "output_type": "stream",
          "name": "stdout",
          "text": [
            "[[1 0 1 1]\n",
            " [4 0 0 0]\n",
            " [7 8 9 0]]\n",
            "[[1 0]\n",
            " [4 0]]\n",
            "[[1 0]\n",
            " [4 0]]\n",
            "[[1 0]\n",
            " [4 0]]\n",
            "[[1 0 1 1]\n",
            " [4 0 0 0]\n",
            " [7 8 9 0]]\n"
          ]
        }
      ]
    },
    {
      "cell_type": "markdown",
      "metadata": {
        "id": "UrQqOC1Eat5l"
      },
      "source": [
        "\n",
        "* `copy()`: 배열이나 하위 배열 내의 값을 명시적으로 복사"
      ]
    },
    {
      "cell_type": "code",
      "metadata": {
        "id": "hLBZ7Qn6bAKO",
        "colab": {
          "base_uri": "https://localhost:8080/"
        },
        "outputId": "6f376c74-4ee6-43c1-c5d1-7425900cc76a"
      },
      "source": [
        "print(a2)\n",
        "a2_sub_copy = a2[:2, :2].copy()\n",
        "print(a2_sub_copy)\n",
        "a2_sub_copy[:, 1] = 1\n",
        "\n",
        "print(a2_sub_copy)\n",
        "print(a2) # 원본은 바뀌지 않음!!!!!!!!!"
      ],
      "execution_count": null,
      "outputs": [
        {
          "output_type": "stream",
          "name": "stdout",
          "text": [
            "[[1 0 1 1]\n",
            " [4 0 0 0]\n",
            " [7 8 9 0]]\n",
            "[[1 0]\n",
            " [4 0]]\n",
            "[[1 1]\n",
            " [4 1]]\n",
            "[[1 0 1 1]\n",
            " [4 0 0 0]\n",
            " [7 8 9 0]]\n"
          ]
        }
      ]
    },
    {
      "cell_type": "markdown",
      "metadata": {
        "id": "4HTc9FXOGtA7"
      },
      "source": [
        "\n",
        "\n",
        "---\n",
        "\n"
      ]
    },
    {
      "cell_type": "markdown",
      "metadata": {
        "id": "XVZY082__yV6"
      },
      "source": [
        "## 배열 변환"
      ]
    },
    {
      "cell_type": "markdown",
      "metadata": {
        "id": "Ec09aPeBO58M"
      },
      "source": [
        "### 배열 전치 및 축 변경"
      ]
    },
    {
      "cell_type": "code",
      "metadata": {
        "id": "anYByBpoWZmj",
        "colab": {
          "base_uri": "https://localhost:8080/"
        },
        "outputId": "879b79fd-d2f4-4069-8717-b0aabfef8771"
      },
      "source": [
        "print(a2)\n",
        "print(a2.T)"
      ],
      "execution_count": null,
      "outputs": [
        {
          "output_type": "stream",
          "name": "stdout",
          "text": [
            "[[1 0 1 1]\n",
            " [4 0 0 0]\n",
            " [7 8 9 0]]\n",
            "[[1 4 7]\n",
            " [0 0 8]\n",
            " [1 0 9]\n",
            " [1 0 0]]\n"
          ]
        }
      ]
    },
    {
      "cell_type": "code",
      "metadata": {
        "id": "wg4XC6kiRnZo",
        "colab": {
          "base_uri": "https://localhost:8080/"
        },
        "outputId": "0bf53eeb-3dcd-4ab8-c508-f698305529fd"
      },
      "source": [
        "print(a3)\n",
        "print(a3.T)"
      ],
      "execution_count": null,
      "outputs": [
        {
          "output_type": "stream",
          "name": "stdout",
          "text": [
            "[[[1 2 3]\n",
            "  [4 5 6]\n",
            "  [7 8 9]]\n",
            "\n",
            " [[1 2 3]\n",
            "  [4 5 6]\n",
            "  [7 8 9]]\n",
            "\n",
            " [[1 2 3]\n",
            "  [4 5 6]\n",
            "  [7 8 9]]]\n",
            "[[[1 1 1]\n",
            "  [4 4 4]\n",
            "  [7 7 7]]\n",
            "\n",
            " [[2 2 2]\n",
            "  [5 5 5]\n",
            "  [8 8 8]]\n",
            "\n",
            " [[3 3 3]\n",
            "  [6 6 6]\n",
            "  [9 9 9]]]\n"
          ]
        }
      ]
    },
    {
      "cell_type": "code",
      "metadata": {
        "id": "6lPwXL8rRTfI",
        "colab": {
          "base_uri": "https://localhost:8080/"
        },
        "outputId": "10d481d3-c255-448e-eec8-cf01579742e5"
      },
      "source": [
        "print(a2)\n",
        "print(a2.swapaxes(1, 0))"
      ],
      "execution_count": null,
      "outputs": [
        {
          "output_type": "stream",
          "name": "stdout",
          "text": [
            "[[1 0 1 1]\n",
            " [4 0 0 0]\n",
            " [7 8 9 0]]\n",
            "[[1 4 7]\n",
            " [0 0 8]\n",
            " [1 0 9]\n",
            " [1 0 0]]\n"
          ]
        }
      ]
    },
    {
      "cell_type": "code",
      "metadata": {
        "id": "oLbEHtijRewH",
        "colab": {
          "base_uri": "https://localhost:8080/"
        },
        "outputId": "3ee0af82-4a05-45e0-8818-73f1ad588a50"
      },
      "source": [
        "print(a3)\n",
        "print(a3.swapaxes(0, 1))\n",
        "print(a3.swapaxes(1, 2))"
      ],
      "execution_count": null,
      "outputs": [
        {
          "output_type": "stream",
          "name": "stdout",
          "text": [
            "[[[1 2 3]\n",
            "  [4 5 6]\n",
            "  [7 8 9]]\n",
            "\n",
            " [[1 2 3]\n",
            "  [4 5 6]\n",
            "  [7 8 9]]\n",
            "\n",
            " [[1 2 3]\n",
            "  [4 5 6]\n",
            "  [7 8 9]]]\n",
            "[[[1 2 3]\n",
            "  [1 2 3]\n",
            "  [1 2 3]]\n",
            "\n",
            " [[4 5 6]\n",
            "  [4 5 6]\n",
            "  [4 5 6]]\n",
            "\n",
            " [[7 8 9]\n",
            "  [7 8 9]\n",
            "  [7 8 9]]]\n",
            "[[[1 4 7]\n",
            "  [2 5 8]\n",
            "  [3 6 9]]\n",
            "\n",
            " [[1 4 7]\n",
            "  [2 5 8]\n",
            "  [3 6 9]]\n",
            "\n",
            " [[1 4 7]\n",
            "  [2 5 8]\n",
            "  [3 6 9]]]\n"
          ]
        }
      ]
    },
    {
      "cell_type": "markdown",
      "metadata": {
        "id": "M7xN8WdOdb_S"
      },
      "source": [
        "### 배열 재구조화\n"
      ]
    },
    {
      "cell_type": "markdown",
      "metadata": {
        "id": "JwZJMpXGfY0V"
      },
      "source": [
        "* `reshape()`: 배열의 형상을 변경"
      ]
    },
    {
      "cell_type": "code",
      "metadata": {
        "id": "SlGQ17VQdd8i",
        "colab": {
          "base_uri": "https://localhost:8080/"
        },
        "outputId": "31d7631b-7d39-4f54-d138-2e26f5a2cb86"
      },
      "source": [
        "n1 = np.arange(1, 10)\n",
        "print(n1)\n",
        "print(n1.reshape(3, 3))"
      ],
      "execution_count": null,
      "outputs": [
        {
          "output_type": "stream",
          "name": "stdout",
          "text": [
            "[1 2 3 4 5 6 7 8 9]\n",
            "[[1 2 3]\n",
            " [4 5 6]\n",
            " [7 8 9]]\n"
          ]
        }
      ]
    },
    {
      "cell_type": "markdown",
      "metadata": {
        "id": "y_U1W-fQfuQY"
      },
      "source": [
        "* `newaxis()`: 새로운 축 추가"
      ]
    },
    {
      "cell_type": "code",
      "metadata": {
        "id": "COif_weCfkGo",
        "colab": {
          "base_uri": "https://localhost:8080/"
        },
        "outputId": "867ef3e3-7542-4a7b-a366-e68c53e3d459"
      },
      "source": [
        "print(n1)\n",
        "print(n1[np.newaxis, :5])\n",
        "print(n1[:5, np.newaxis])"
      ],
      "execution_count": null,
      "outputs": [
        {
          "output_type": "stream",
          "name": "stdout",
          "text": [
            "[1 2 3 4 5 6 7 8 9]\n",
            "[[1 2 3 4 5]]\n",
            "[[1]\n",
            " [2]\n",
            " [3]\n",
            " [4]\n",
            " [5]]\n"
          ]
        }
      ]
    },
    {
      "cell_type": "markdown",
      "metadata": {
        "id": "FR82RSDggbcJ"
      },
      "source": [
        "### 배열 크기 변경"
      ]
    },
    {
      "cell_type": "markdown",
      "metadata": {
        "id": "D1LuDMVFl4tc"
      },
      "source": [
        "* 배열 모양만 변경"
      ]
    },
    {
      "cell_type": "code",
      "metadata": {
        "id": "7B6pHlfxgdSJ",
        "colab": {
          "base_uri": "https://localhost:8080/"
        },
        "outputId": "aa5c93a0-f67c-4443-a9ef-4ccae47a7d7d"
      },
      "source": [
        "n2 = np.random.randint(0, 10, (2, 5))\n",
        "print(n2)\n",
        "n2.resize((5, 2))\n",
        "print(n2)"
      ],
      "execution_count": null,
      "outputs": [
        {
          "output_type": "stream",
          "name": "stdout",
          "text": [
            "[[9 5 8 4 3]\n",
            " [4 7 8 8 2]]\n",
            "[[9 5]\n",
            " [8 4]\n",
            " [3 4]\n",
            " [7 8]\n",
            " [8 2]]\n"
          ]
        }
      ]
    },
    {
      "cell_type": "markdown",
      "metadata": {
        "id": "s0adm-h9l6sv"
      },
      "source": [
        "* 배열 크기 증가\n",
        "* 남은 공간은 0으로 채워짐"
      ]
    },
    {
      "cell_type": "code",
      "metadata": {
        "id": "IrX0UcjrlWRV",
        "colab": {
          "base_uri": "https://localhost:8080/"
        },
        "outputId": "bfa850c0-8a9b-473e-85a4-b5ba5b5210ba"
      },
      "source": [
        "n2.resize((5, 5), refcheck=False)\n",
        "print(n2)"
      ],
      "execution_count": null,
      "outputs": [
        {
          "output_type": "stream",
          "name": "stdout",
          "text": [
            "[[9 5 8 4 3]\n",
            " [4 7 8 8 2]\n",
            " [0 0 0 0 0]\n",
            " [0 0 0 0 0]\n",
            " [0 0 0 0 0]]\n"
          ]
        }
      ]
    },
    {
      "cell_type": "markdown",
      "metadata": {
        "id": "78hPDEzfl9JB"
      },
      "source": [
        "* 배열 크기 감소\n",
        "* 포함되지 않은 값은 삭제됨"
      ]
    },
    {
      "cell_type": "code",
      "metadata": {
        "id": "fJWrwhc6lmjW",
        "colab": {
          "base_uri": "https://localhost:8080/"
        },
        "outputId": "8e48c746-1d06-482f-c407-2a4aadfed90d"
      },
      "source": [
        "n2.resize((3, 3), refcheck=False)\n",
        "print(n2)"
      ],
      "execution_count": null,
      "outputs": [
        {
          "output_type": "stream",
          "name": "stdout",
          "text": [
            "[[9 5 8]\n",
            " [4 3 4]\n",
            " [7 8 8]]\n"
          ]
        }
      ]
    },
    {
      "cell_type": "markdown",
      "metadata": {
        "id": "r9z2gD_pHyx9"
      },
      "source": [
        "### 배열 추가\n",
        "\n",
        "* `append()`: 배열의 끝에 값 추가"
      ]
    },
    {
      "cell_type": "code",
      "metadata": {
        "id": "fH4lpQKNH5s1",
        "colab": {
          "base_uri": "https://localhost:8080/"
        },
        "outputId": "c180b3b7-054e-4c41-85a1-22b14f464bed"
      },
      "source": [
        "a2 = np.arange(1, 10).reshape(3, 3)\n",
        "print(a2)\n",
        "b2 = np.arange(10, 19).reshape(3, 3)\n",
        "print(b2)"
      ],
      "execution_count": null,
      "outputs": [
        {
          "output_type": "stream",
          "name": "stdout",
          "text": [
            "[[1 2 3]\n",
            " [4 5 6]\n",
            " [7 8 9]]\n",
            "[[10 11 12]\n",
            " [13 14 15]\n",
            " [16 17 18]]\n"
          ]
        }
      ]
    },
    {
      "cell_type": "markdown",
      "metadata": {
        "id": "n8SMl5VVIquk"
      },
      "source": [
        "* axis 지정이 없으면 1차원 배열 형태로 변형되어 결합"
      ]
    },
    {
      "cell_type": "code",
      "metadata": {
        "id": "LRltk3yFIVsV",
        "colab": {
          "base_uri": "https://localhost:8080/"
        },
        "outputId": "f1bdf468-48db-4b40-f86f-e5438a6defb7"
      },
      "source": [
        "c2 = np.append(a2, b2)\n",
        "print(c2)"
      ],
      "execution_count": null,
      "outputs": [
        {
          "output_type": "stream",
          "name": "stdout",
          "text": [
            "[ 1  2  3  4  5  6  7  8  9 10 11 12 13 14 15 16 17 18]\n"
          ]
        }
      ]
    },
    {
      "cell_type": "markdown",
      "metadata": {
        "id": "sVW2UFVZJfpR"
      },
      "source": [
        "* axis를 0으로 지정\n",
        "* shape[0]을 제외한 나머지 shape은 같아야 함"
      ]
    },
    {
      "cell_type": "code",
      "metadata": {
        "id": "nwJ4xLOeIbMg",
        "colab": {
          "base_uri": "https://localhost:8080/"
        },
        "outputId": "ba8089a4-1e2b-4adb-b693-33afbe0cbdb7"
      },
      "source": [
        "c2 = np.append(a2, b2, axis = 0) # 아래 새로운 행으로 붙여짐\n",
        "print(c2)"
      ],
      "execution_count": null,
      "outputs": [
        {
          "output_type": "stream",
          "name": "stdout",
          "text": [
            "[[ 1  2  3]\n",
            " [ 4  5  6]\n",
            " [ 7  8  9]\n",
            " [10 11 12]\n",
            " [13 14 15]\n",
            " [16 17 18]]\n"
          ]
        }
      ]
    },
    {
      "cell_type": "markdown",
      "metadata": {
        "id": "4YXxzygaJmj-"
      },
      "source": [
        "* axis를 1로 지정\n",
        "* shape[1]을 제외한 나머지 shape은 같아야 함"
      ]
    },
    {
      "cell_type": "code",
      "metadata": {
        "id": "JYE4_5gAJmYe",
        "colab": {
          "base_uri": "https://localhost:8080/"
        },
        "outputId": "90a4b43d-621e-4aeb-ac05-48f109ea8a67"
      },
      "source": [
        "c2 = np.append(a2, b2, axis = 1) # 옆 새로운 컬럼으로 붙여짐\n",
        "print(c2)"
      ],
      "execution_count": null,
      "outputs": [
        {
          "output_type": "stream",
          "name": "stdout",
          "text": [
            "[[ 1  2  3 10 11 12]\n",
            " [ 4  5  6 13 14 15]\n",
            " [ 7  8  9 16 17 18]]\n"
          ]
        }
      ]
    },
    {
      "cell_type": "markdown",
      "metadata": {
        "id": "9sTza3b2hoe4"
      },
      "source": [
        "### 배열 연결"
      ]
    },
    {
      "cell_type": "markdown",
      "metadata": {
        "id": "TRun2NPYj8Ct"
      },
      "source": [
        "* `concatenate()`: 튜플이나 배열의 리스트를 인수로 사용해 배열 연결"
      ]
    },
    {
      "cell_type": "code",
      "metadata": {
        "id": "lmEqdPifhrB_",
        "colab": {
          "base_uri": "https://localhost:8080/"
        },
        "outputId": "31855678-6e6e-461d-8c32-e80e7bc768a3"
      },
      "source": [
        "a1 = np.array([1, 3, 5])\n",
        "b1 = np.array([2, 4, 6])\n",
        "np.concatenate([a1, b1])"
      ],
      "execution_count": null,
      "outputs": [
        {
          "output_type": "execute_result",
          "data": {
            "text/plain": [
              "array([1, 3, 5, 2, 4, 6])"
            ]
          },
          "metadata": {},
          "execution_count": 53
        }
      ]
    },
    {
      "cell_type": "code",
      "metadata": {
        "id": "IkoTNIt2k0tp",
        "colab": {
          "base_uri": "https://localhost:8080/"
        },
        "outputId": "7146aa24-61de-45ca-b021-61b5d3ee5acb"
      },
      "source": [
        "c1 = np.array([7, 8, 9])\n",
        "np.concatenate([a1, b1, c1])"
      ],
      "execution_count": null,
      "outputs": [
        {
          "output_type": "execute_result",
          "data": {
            "text/plain": [
              "array([1, 3, 5, 2, 4, 6, 7, 8, 9])"
            ]
          },
          "metadata": {},
          "execution_count": 54
        }
      ]
    },
    {
      "cell_type": "code",
      "metadata": {
        "id": "vX0SCYX3lEs2",
        "colab": {
          "base_uri": "https://localhost:8080/"
        },
        "outputId": "eb78daf4-07b3-4827-a214-daa539573899"
      },
      "source": [
        "a2 = np.array([[1, 2, 3],\n",
        "               [4, 5, 6]])\n",
        "np.concatenate([a2, a2]) # 밑에 붙음 기본 axis = 0"
      ],
      "execution_count": null,
      "outputs": [
        {
          "output_type": "execute_result",
          "data": {
            "text/plain": [
              "array([[1, 2, 3],\n",
              "       [4, 5, 6],\n",
              "       [1, 2, 3],\n",
              "       [4, 5, 6]])"
            ]
          },
          "metadata": {},
          "execution_count": 56
        }
      ]
    },
    {
      "cell_type": "code",
      "metadata": {
        "id": "Rv6xGva7lxHP",
        "colab": {
          "base_uri": "https://localhost:8080/"
        },
        "outputId": "1f14cb03-f726-4675-bf1f-693f641aeb47"
      },
      "source": [
        "a2 = np.array([[1, 2, 3],\n",
        "               [4, 5, 6]])\n",
        "np.concatenate([a2, a2], axis = 1)"
      ],
      "execution_count": null,
      "outputs": [
        {
          "output_type": "execute_result",
          "data": {
            "text/plain": [
              "array([[1, 2, 3, 1, 2, 3],\n",
              "       [4, 5, 6, 4, 5, 6]])"
            ]
          },
          "metadata": {},
          "execution_count": 57
        }
      ]
    },
    {
      "cell_type": "markdown",
      "metadata": {
        "id": "MbiBbx4nl2KD"
      },
      "source": [
        "* `vstack()`: 수직 스택(vertical stack), 1차원으로 연결"
      ]
    },
    {
      "cell_type": "code",
      "metadata": {
        "id": "HkHJwdBMl_qi",
        "colab": {
          "base_uri": "https://localhost:8080/"
        },
        "outputId": "45903ba6-0c62-46cb-914f-258a342855e5"
      },
      "source": [
        "np.vstack([a2, a2])"
      ],
      "execution_count": null,
      "outputs": [
        {
          "output_type": "execute_result",
          "data": {
            "text/plain": [
              "array([[1, 2, 3],\n",
              "       [4, 5, 6],\n",
              "       [1, 2, 3],\n",
              "       [4, 5, 6]])"
            ]
          },
          "metadata": {},
          "execution_count": 58
        }
      ]
    },
    {
      "cell_type": "markdown",
      "metadata": {
        "id": "-hTlAnWxmHA_"
      },
      "source": [
        "* `hstack()`: 수평 스택(horizontal stack), 2차원으로 연결"
      ]
    },
    {
      "cell_type": "code",
      "metadata": {
        "id": "-HsGlAytmNEz",
        "colab": {
          "base_uri": "https://localhost:8080/"
        },
        "outputId": "40535f0e-6193-4754-8205-30b960c93be5"
      },
      "source": [
        "np.hstack([a2, a2])"
      ],
      "execution_count": null,
      "outputs": [
        {
          "output_type": "execute_result",
          "data": {
            "text/plain": [
              "array([[1, 2, 3, 1, 2, 3],\n",
              "       [4, 5, 6, 4, 5, 6]])"
            ]
          },
          "metadata": {},
          "execution_count": 59
        }
      ]
    },
    {
      "cell_type": "markdown",
      "metadata": {
        "id": "CshM6LURmUhV"
      },
      "source": [
        "* `dstack()`: 깊이 스택(depth stack), 3차원으로 연결"
      ]
    },
    {
      "cell_type": "code",
      "metadata": {
        "id": "TFBdRddpmU4m",
        "colab": {
          "base_uri": "https://localhost:8080/"
        },
        "outputId": "4e08b364-e727-460a-ad08-4ea1aefa0e01"
      },
      "source": [
        "np.dstack([a2, a2, a2])"
      ],
      "execution_count": null,
      "outputs": [
        {
          "output_type": "execute_result",
          "data": {
            "text/plain": [
              "array([[[1, 1, 1],\n",
              "        [2, 2, 2],\n",
              "        [3, 3, 3]],\n",
              "\n",
              "       [[4, 4, 4],\n",
              "        [5, 5, 5],\n",
              "        [6, 6, 6]]])"
            ]
          },
          "metadata": {},
          "execution_count": 60
        }
      ]
    },
    {
      "cell_type": "markdown",
      "metadata": {
        "id": "JUBtc4UnpaSz"
      },
      "source": [
        "* `stack()`: 새로운 차원으로 연결"
      ]
    },
    {
      "cell_type": "code",
      "metadata": {
        "id": "JzoujQ9_pHS5",
        "colab": {
          "base_uri": "https://localhost:8080/"
        },
        "outputId": "9ee50f9d-aa3b-4c5e-cf1a-038b6baca7bf"
      },
      "source": [
        "np.stack([a2, a2])"
      ],
      "execution_count": null,
      "outputs": [
        {
          "output_type": "execute_result",
          "data": {
            "text/plain": [
              "array([[[1, 2, 3],\n",
              "        [4, 5, 6]],\n",
              "\n",
              "       [[1, 2, 3],\n",
              "        [4, 5, 6]]])"
            ]
          },
          "metadata": {},
          "execution_count": 61
        }
      ]
    },
    {
      "cell_type": "markdown",
      "metadata": {
        "id": "eYz74NYKo8iH"
      },
      "source": [
        "### 배열 분할"
      ]
    },
    {
      "cell_type": "markdown",
      "metadata": {
        "id": "wjt2zku5pBmF"
      },
      "source": [
        "* `split()`: 배열 분할"
      ]
    },
    {
      "cell_type": "code",
      "metadata": {
        "id": "H_2e71heo-Eq",
        "colab": {
          "base_uri": "https://localhost:8080/"
        },
        "outputId": "dc043c29-1a2c-47e0-8dde-0d9f5488fbd9"
      },
      "source": [
        "a1 = np.arange(0, 10)\n",
        "print(a1)\n",
        "b1, c1 = np.split(a1, [5]) # split할 위치 지정\n",
        "print(b1, c1)\n",
        "b1, c1, d1, e1, f1 = np.split(a1, [2, 4, 6, 8])\n",
        "print(b1, c1, d1, e1, f1)"
      ],
      "execution_count": null,
      "outputs": [
        {
          "output_type": "stream",
          "name": "stdout",
          "text": [
            "[0 1 2 3 4 5 6 7 8 9]\n",
            "[0 1 2 3 4] [5 6 7 8 9]\n",
            "[0 1] [2 3] [4 5] [6 7] [8 9]\n"
          ]
        }
      ]
    },
    {
      "cell_type": "markdown",
      "metadata": {
        "id": "IvvdCQcKsCLn"
      },
      "source": [
        "* `vsplit()`: 수직 분할, 1차원으로 분할"
      ]
    },
    {
      "cell_type": "code",
      "metadata": {
        "id": "GdMYlsiLsCoe",
        "colab": {
          "base_uri": "https://localhost:8080/"
        },
        "outputId": "7968607e-296f-441d-e621-e35bd70c8967"
      },
      "source": [
        "a2 = np.arange(1, 10).reshape(3, 3)\n",
        "print(a2)\n",
        "b2, c2 = np.vsplit(a2, [2])\n",
        "print(b2)\n",
        "print(c2)"
      ],
      "execution_count": null,
      "outputs": [
        {
          "output_type": "stream",
          "name": "stdout",
          "text": [
            "[[1 2 3]\n",
            " [4 5 6]\n",
            " [7 8 9]]\n",
            "[[1 2 3]\n",
            " [4 5 6]]\n",
            "[[7 8 9]]\n"
          ]
        }
      ]
    },
    {
      "cell_type": "markdown",
      "metadata": {
        "id": "1aC0a034rSXi"
      },
      "source": [
        "* `hsplit()`: 수평 분할, 2차원으로 분할"
      ]
    },
    {
      "cell_type": "code",
      "metadata": {
        "id": "ShMnE_bnrSBJ",
        "colab": {
          "base_uri": "https://localhost:8080/"
        },
        "outputId": "b73e7217-03fe-4056-9ef3-40dc8255610b"
      },
      "source": [
        "a2 = np.arange(1, 10).reshape(3, 3)\n",
        "print(a2)\n",
        "b2, c2 = np.hsplit(a2, [2])\n",
        "print(b2)\n",
        "print(c2)"
      ],
      "execution_count": null,
      "outputs": [
        {
          "output_type": "stream",
          "name": "stdout",
          "text": [
            "[[1 2 3]\n",
            " [4 5 6]\n",
            " [7 8 9]]\n",
            "[[1 2]\n",
            " [4 5]\n",
            " [7 8]]\n",
            "[[3]\n",
            " [6]\n",
            " [9]]\n"
          ]
        }
      ]
    },
    {
      "cell_type": "markdown",
      "metadata": {
        "id": "Pz3BDD8qsQER"
      },
      "source": [
        "* `dsplit()`: 깊이 분할, 3차원으로 분할"
      ]
    },
    {
      "cell_type": "code",
      "metadata": {
        "id": "DqHFGd43sQYj",
        "colab": {
          "base_uri": "https://localhost:8080/"
        },
        "outputId": "897667f3-d241-4fe5-eb63-990e25bc0f28"
      },
      "source": [
        "a3 = np.arange(1, 28).reshape(3, 3, 3)\n",
        "print(a3)\n",
        "b3, c3 = np.dsplit(a3, [2])\n",
        "print(b3)\n",
        "print(c3)"
      ],
      "execution_count": null,
      "outputs": [
        {
          "output_type": "stream",
          "name": "stdout",
          "text": [
            "[[[ 1  2  3]\n",
            "  [ 4  5  6]\n",
            "  [ 7  8  9]]\n",
            "\n",
            " [[10 11 12]\n",
            "  [13 14 15]\n",
            "  [16 17 18]]\n",
            "\n",
            " [[19 20 21]\n",
            "  [22 23 24]\n",
            "  [25 26 27]]]\n",
            "[[[ 1  2]\n",
            "  [ 4  5]\n",
            "  [ 7  8]]\n",
            "\n",
            " [[10 11]\n",
            "  [13 14]\n",
            "  [16 17]]\n",
            "\n",
            " [[19 20]\n",
            "  [22 23]\n",
            "  [25 26]]]\n",
            "[[[ 3]\n",
            "  [ 6]\n",
            "  [ 9]]\n",
            "\n",
            " [[12]\n",
            "  [15]\n",
            "  [18]]\n",
            "\n",
            " [[21]\n",
            "  [24]\n",
            "  [27]]]\n"
          ]
        }
      ]
    },
    {
      "cell_type": "markdown",
      "metadata": {
        "id": "rK-zrDZuGoVd"
      },
      "source": [
        "\n",
        "\n",
        "---\n",
        "\n"
      ]
    },
    {
      "cell_type": "markdown",
      "metadata": {
        "id": "Vc-iSWewJ3C1"
      },
      "source": [
        "## 배열 연산\n",
        "\n",
        "* NumPy의 배열 연산은 벡터화(vectorized) 연산을 사용\n",
        "* 일반적으로 NumPy의 범용 함수(universal functions)를 통해 구현\n",
        "* 배열 요소에 대한 반복적인 계산을 효율적으로 수행"
      ]
    },
    {
      "cell_type": "markdown",
      "metadata": {
        "id": "Pg2er1A2w3cz"
      },
      "source": [
        "### 브로드캐스팅(Broadcasting)"
      ]
    },
    {
      "cell_type": "code",
      "metadata": {
        "id": "IGU-HRgr20nj",
        "colab": {
          "base_uri": "https://localhost:8080/"
        },
        "outputId": "afffe620-6812-4df7-cd1a-65eee33bd877"
      },
      "source": [
        "a1 = np.array([1, 2, 3])\n",
        "print(a1)\n",
        "print(a1 + 5)\n",
        "\n",
        "a2 = np.arange(1, 10).reshape(3, 3)\n",
        "print(a2)\n",
        "print(a1 + a2)\n",
        "\n",
        "b2 = np.array([1, 2, 3]).reshape(3, 1)\n",
        "print(b2)\n",
        "print(a1 + b2)"
      ],
      "execution_count": null,
      "outputs": [
        {
          "output_type": "stream",
          "name": "stdout",
          "text": [
            "[1 2 3]\n",
            "[6 7 8]\n",
            "[[1 2 3]\n",
            " [4 5 6]\n",
            " [7 8 9]]\n",
            "[[ 2  4  6]\n",
            " [ 5  7  9]\n",
            " [ 8 10 12]]\n",
            "[[1]\n",
            " [2]\n",
            " [3]]\n",
            "[[2 3 4]\n",
            " [3 4 5]\n",
            " [4 5 6]]\n"
          ]
        }
      ]
    },
    {
      "cell_type": "markdown",
      "metadata": {
        "id": "NZzLHHLmwl_b"
      },
      "source": [
        "### 산술 연산(Arithmetic Operators)\n",
        "|연산자|범용 함수|설명|\n",
        "|----|----|----|\n",
        "|`+`|`np.add`|덧셈|\n",
        "|`-`|`np.subtract`|뺄셈|\n",
        "|`-`|`np.negative`|단항 음수|\n",
        "|`*`|`np.multiply`|곱셈|\n",
        "|`/`|`np.divide`|나눗셈|\n",
        "|`//`|`np.floor_divide`|나눗셈 내림|\n",
        "|`**`|`np.power`|지수 연산|\n",
        "|`%`|`np.mod`|나머지 연산|"
      ]
    },
    {
      "cell_type": "code",
      "metadata": {
        "id": "jHrIjHGEi05k",
        "colab": {
          "base_uri": "https://localhost:8080/"
        },
        "outputId": "a912aff5-d6d8-4d30-9699-dc0725f386e6"
      },
      "source": [
        "a1 = np.arange(1, 10)\n",
        "print(a1)\n",
        "print(a1 + 1)\n",
        "print(np.add(a1, 10))\n",
        "print(a1 - 2)\n",
        "print(np.subtract(a1, 10))\n",
        "print(-a1)\n",
        "print(np.negative(a1))\n",
        "print(a1 * 2)\n",
        "print(np.multiply(a1, 2))\n",
        "print(a1 / 2)\n",
        "print(np.divide(a1, 2))\n",
        "print(a1 // 2)\n",
        "print(np.floor_divide(a1, 2))\n",
        "print(a1 ** 2)\n",
        "print(np.power(a1, 2))\n",
        "print(a1 % 2)\n",
        "print(np.mod(a1, 2))"
      ],
      "execution_count": null,
      "outputs": [
        {
          "output_type": "stream",
          "name": "stdout",
          "text": [
            "[1 2 3 4 5 6 7 8 9]\n",
            "[ 2  3  4  5  6  7  8  9 10]\n",
            "[11 12 13 14 15 16 17 18 19]\n",
            "[-1  0  1  2  3  4  5  6  7]\n",
            "[-9 -8 -7 -6 -5 -4 -3 -2 -1]\n",
            "[-1 -2 -3 -4 -5 -6 -7 -8 -9]\n",
            "[-1 -2 -3 -4 -5 -6 -7 -8 -9]\n",
            "[ 2  4  6  8 10 12 14 16 18]\n",
            "[ 2  4  6  8 10 12 14 16 18]\n",
            "[0.5 1.  1.5 2.  2.5 3.  3.5 4.  4.5]\n",
            "[0.5 1.  1.5 2.  2.5 3.  3.5 4.  4.5]\n",
            "[0 1 1 2 2 3 3 4 4]\n",
            "[0 1 1 2 2 3 3 4 4]\n",
            "[ 1  4  9 16 25 36 49 64 81]\n",
            "[ 1  4  9 16 25 36 49 64 81]\n",
            "[1 0 1 0 1 0 1 0 1]\n",
            "[1 0 1 0 1 0 1 0 1]\n"
          ]
        }
      ]
    },
    {
      "cell_type": "code",
      "metadata": {
        "id": "sMUYzXk3psgC",
        "colab": {
          "base_uri": "https://localhost:8080/"
        },
        "outputId": "c22cd957-7d2d-43f2-acf6-c699e20da5d3"
      },
      "source": [
        "a1 = np.arange(1, 10)\n",
        "print(a1)\n",
        "b1 = np.random.randint(1, 10, size = 9)\n",
        "print(b1)\n",
        "print(a1 + b1)\n",
        "print(a1 - b1)\n",
        "print(a1 * b1)\n",
        "print(a1 / b1)\n",
        "print(a1 // b1)"
      ],
      "execution_count": null,
      "outputs": [
        {
          "output_type": "stream",
          "name": "stdout",
          "text": [
            "[1 2 3 4 5 6 7 8 9]\n",
            "[4 1 2 5 9 6 4 9 8]\n",
            "[ 5  3  5  9 14 12 11 17 17]\n",
            "[-3  1  1 -1 -4  0  3 -1  1]\n",
            "[ 4  2  6 20 45 36 28 72 72]\n",
            "[0.25       2.         1.5        0.8        0.55555556 1.\n",
            " 1.75       0.88888889 1.125     ]\n",
            "[0 2 1 0 0 1 1 0 1]\n"
          ]
        }
      ]
    },
    {
      "cell_type": "code",
      "metadata": {
        "id": "ZkyjPmk5onPK",
        "colab": {
          "base_uri": "https://localhost:8080/"
        },
        "outputId": "1bff7b7d-8ddd-48f1-f022-7b5b62375edb"
      },
      "source": [
        "a2 = np.arange(1, 10).reshape(3, 3)\n",
        "print(a2)\n",
        "b2 = np.random.randint(1, 10, size = (3, 3))\n",
        "print(b2)\n",
        "print(a2 + b2)\n",
        "print(a2 - b2)\n",
        "print(a2 / b2)\n",
        "print(a2 // b2)\n",
        "print(a2 ** b2)\n",
        "print(a2 % b2)"
      ],
      "execution_count": null,
      "outputs": [
        {
          "output_type": "stream",
          "name": "stdout",
          "text": [
            "[[1 2 3]\n",
            " [4 5 6]\n",
            " [7 8 9]]\n",
            "[[4 4 3]\n",
            " [5 7 3]\n",
            " [1 4 6]]\n",
            "[[ 5  6  6]\n",
            " [ 9 12  9]\n",
            " [ 8 12 15]]\n",
            "[[-3 -2  0]\n",
            " [-1 -2  3]\n",
            " [ 6  4  3]]\n",
            "[[0.25       0.5        1.        ]\n",
            " [0.8        0.71428571 2.        ]\n",
            " [7.         2.         1.5       ]]\n",
            "[[0 0 1]\n",
            " [0 0 2]\n",
            " [7 2 1]]\n",
            "[[     1     16     27]\n",
            " [  1024  78125    216]\n",
            " [     7   4096 531441]]\n",
            "[[1 2 0]\n",
            " [4 5 0]\n",
            " [0 0 3]]\n"
          ]
        }
      ]
    },
    {
      "cell_type": "markdown",
      "metadata": {
        "id": "hxG_aECas3a9"
      },
      "source": [
        "#### 절대값 함수(Absolute Function)\n",
        "\n",
        "* `absolute()`, `abs()`: 내장된 절대값 함수"
      ]
    },
    {
      "cell_type": "code",
      "metadata": {
        "id": "YmX-0LvWs7qM",
        "colab": {
          "base_uri": "https://localhost:8080/"
        },
        "outputId": "3ef57baa-c6f6-407c-e564-362956c4250e"
      },
      "source": [
        "a1 = np.random.randint(-10, 10, size = 5)\n",
        "print(a1)\n",
        "print(np.absolute(a1))\n",
        "print(np.abs(a1))"
      ],
      "execution_count": null,
      "outputs": [
        {
          "output_type": "stream",
          "name": "stdout",
          "text": [
            "[ -6   3  -9   0 -10]\n",
            "[ 6  3  9  0 10]\n",
            "[ 6  3  9  0 10]\n"
          ]
        }
      ]
    },
    {
      "cell_type": "markdown",
      "metadata": {
        "id": "U5uE3sVtzRvA"
      },
      "source": [
        "#### 제곱/제곱근 함수\n",
        "\n",
        "* `square`, `sqrt`: 제곱, 제곱근 함수"
      ]
    },
    {
      "cell_type": "code",
      "metadata": {
        "id": "ggnIxDGzzTfX",
        "colab": {
          "base_uri": "https://localhost:8080/"
        },
        "outputId": "60419fc8-79b2-4e3b-96af-e7187df14547"
      },
      "source": [
        "print(a1)\n",
        "print(np.square(a1))\n",
        "print(np.sqrt(a1))"
      ],
      "execution_count": null,
      "outputs": [
        {
          "output_type": "stream",
          "name": "stdout",
          "text": [
            "[ -6   3  -9   0 -10]\n",
            "[ 36   9  81   0 100]\n",
            "[       nan 1.73205081        nan 0.                nan]\n"
          ]
        },
        {
          "output_type": "stream",
          "name": "stderr",
          "text": [
            "/usr/local/lib/python3.7/dist-packages/ipykernel_launcher.py:3: RuntimeWarning: invalid value encountered in sqrt\n",
            "  This is separate from the ipykernel package so we can avoid doing imports until\n"
          ]
        }
      ]
    },
    {
      "cell_type": "markdown",
      "metadata": {
        "id": "tWh1aQ50vRhB"
      },
      "source": [
        "#### 지수와 로그 함수 (Exponential and Log Function)"
      ]
    },
    {
      "cell_type": "code",
      "metadata": {
        "id": "Dygt3AyHvTZz",
        "colab": {
          "base_uri": "https://localhost:8080/"
        },
        "outputId": "89602b4f-8a54-4cf0-c7ed-00aee8aeebe2"
      },
      "source": [
        "a1 = np.random.randint(1, 10, size = 5)\n",
        "print(a1)\n",
        "print(np.exp(a1))\n",
        "print(np.power(a1, 2))"
      ],
      "execution_count": null,
      "outputs": [
        {
          "output_type": "stream",
          "name": "stdout",
          "text": [
            "[5 7 9 9 5]\n",
            "[ 148.4131591  1096.63315843 8103.08392758 8103.08392758  148.4131591 ]\n",
            "[25 49 81 81 25]\n"
          ]
        }
      ]
    },
    {
      "cell_type": "code",
      "metadata": {
        "id": "YB0BzwxDvnkT",
        "colab": {
          "base_uri": "https://localhost:8080/"
        },
        "outputId": "2a143c93-aade-430f-d158-2c1927bd6c8a"
      },
      "source": [
        "print(a1)\n",
        "print(np.log(a1))\n",
        "print(np.log2(a1))\n",
        "print(np.log10(a1))"
      ],
      "execution_count": null,
      "outputs": [
        {
          "output_type": "stream",
          "name": "stdout",
          "text": [
            "[5 7 9 9 5]\n",
            "[1.60943791 1.94591015 2.19722458 2.19722458 1.60943791]\n",
            "[2.32192809 2.80735492 3.169925   3.169925   2.32192809]\n",
            "[0.69897    0.84509804 0.95424251 0.95424251 0.69897   ]\n"
          ]
        }
      ]
    },
    {
      "cell_type": "markdown",
      "metadata": {
        "id": "wE_p9AxjtdJ9"
      },
      "source": [
        "#### 삼각 함수(Trigonometrical Function)\n",
        "|함수|설명|\n",
        "|----|----|\n",
        "|`np.sin(array)`|요소별 사인|\n",
        "|`np.cos(array)`|요소별 코사인|\n",
        "|`np.tan(array)`|요소별 탄젠트|\n",
        "|`np.arcsin(array)`|요소별 아크사인|\n",
        "|`np.arccos(array)`|요소별 아크코사인|\n",
        "|`np.arctan(array)`|요소별 아크탄젠트|\n",
        "|`np.arctan2(array1, array2)`|요소별 아크탄젠트 array1 / array2|\n",
        "|`np.sinh(array)`|요소별 하이퍼볼릭 사인|\n",
        "|`np.cosh(array)`|요소별 하이퍼볼릭 코사인|\n",
        "|`np.tanh(array)`|요소별 하이퍼볼릭 탄젠트|\n",
        "|`np.arcsinh(array)`|요소별 하이퍼볼릭 아크사인|\n",
        "|`np.arccosh(array)`|요소별 하이퍼볼릭 아크코사인|\n",
        "|`np.arctanh(array)`|요소별 하이퍼볼릭 아크탄젠트|\n",
        "|`np.deg2rad(array)`|요소별 각도에서 라디안 변환|\n",
        "|`np.rad2deg(array)`|요소별 라디안에서 각도 변환|\n",
        "|`np.hypot(array1, array2)`|요소별 유클리드 거리 계산|"
      ]
    },
    {
      "cell_type": "code",
      "metadata": {
        "id": "6bOSPS81tuo5",
        "colab": {
          "base_uri": "https://localhost:8080/"
        },
        "outputId": "a7ae2ee4-f50f-49f7-cf6d-f9d057f16a68"
      },
      "source": [
        "t = np.linspace(0, np.pi, 3)\n",
        "print(t)\n",
        "print(np.sin(t))\n",
        "print(np.cos(t))\n",
        "print(np.tan(t))"
      ],
      "execution_count": null,
      "outputs": [
        {
          "output_type": "stream",
          "name": "stdout",
          "text": [
            "[0.         1.57079633 3.14159265]\n",
            "[0.0000000e+00 1.0000000e+00 1.2246468e-16]\n",
            "[ 1.000000e+00  6.123234e-17 -1.000000e+00]\n",
            "[ 0.00000000e+00  1.63312394e+16 -1.22464680e-16]\n"
          ]
        }
      ]
    },
    {
      "cell_type": "code",
      "metadata": {
        "id": "v7m-AQW9uJ9u",
        "colab": {
          "base_uri": "https://localhost:8080/"
        },
        "outputId": "0fc7567d-8e0c-4db0-aef1-812abdf929a3"
      },
      "source": [
        "x = [-1, 0, 1]\n",
        "print(x)\n",
        "print(np.arcsin(x))\n",
        "print(np.arccos(x))\n",
        "print(np.arctan(x))"
      ],
      "execution_count": null,
      "outputs": [
        {
          "output_type": "stream",
          "name": "stdout",
          "text": [
            "[-1, 0, 1]\n",
            "[-1.57079633  0.          1.57079633]\n",
            "[3.14159265 1.57079633 0.        ]\n",
            "[-0.78539816  0.          0.78539816]\n"
          ]
        }
      ]
    },
    {
      "cell_type": "markdown",
      "metadata": {
        "id": "hKJtYUVWwxQy"
      },
      "source": [
        "### 집계 함수(Aggregate Functions)\n",
        "|함수|NaN 안전 모드|설명|\n",
        "|----|----|----|\n",
        "|`np.sum`|`np.nansum`|요소의 합 계산|\n",
        "|`np.cumsum`|`np.nancumsum`|요소의 누적 합|\n",
        "|`np.diff`|N/A|요소의 차분|\n",
        "|`np.prod`|`np.nanprod`|요소의 곱 계산|\n",
        "|`np.cumprod`|`np.nancumprod`|요소의 누적 곱|\n",
        "|`np.dot`|N/A|점 곱(dot product)|\n",
        "|`np.matmul`|N/A|행렬 곱|\n",
        "|`np.tensordot`|N/A|텐서곱(tensor product)|\n",
        "|`np.cross`|N/A|벡터곱(cross product)|\n",
        "|`np.inner`|N/A|내적(inner product)|\n",
        "|`np.outer`|N/A|외적(outer product)|\n",
        "|`np.mean`|`np.nanmean`|요소의 평균 계산|\n",
        "|`np.std`|`np.nanstd`|표준 편차 계산|\n",
        "|`np.var`|`np.nanvar`|분산 계산|\n",
        "|`np.min`|`np.nanmin`|최소값|\n",
        "|`np.max`|`np.nanmax`|최대값|\n",
        "|`np.argmin`|`np.nanargmin`|최소값 인덱스|\n",
        "|`np.argmax`|`np.nanargmax`|최대값 인덱스|\n",
        "|`np.median`|`np.nanmedian`|중앙값|\n",
        "|`np.percentile`|`np.nanpercentile`|요소의 순위 기반 백분위 수 계산|\n",
        "|`np.any`|N/A|요소 중 참이 있는지 평가|\n",
        "|`np.all`|N/A|모든 요소가 참인지 평가|"
      ]
    },
    {
      "cell_type": "markdown",
      "metadata": {
        "id": "GdxMrX5l9m6W"
      },
      "source": [
        "#### sum(): 합 계산"
      ]
    },
    {
      "cell_type": "code",
      "metadata": {
        "id": "AJQ3GjLI0cZU",
        "colab": {
          "base_uri": "https://localhost:8080/"
        },
        "outputId": "10f89a15-874c-461a-a77c-430b67ba9259"
      },
      "source": [
        "a2 = np.random.randint(1, 10, size = (3, 3))\n",
        "print(a2)\n",
        "print(a2.sum(), np.sum(a2))\n",
        "print(a2.sum(axis = 0), np.sum(a2, axis = 0)) # 행을 합합니다. 세로로 합!\n",
        "print(a2.sum(axis = 1), np.sum(a2, axis = 1)) # 열을 합합니다. 가로로 합!"
      ],
      "execution_count": null,
      "outputs": [
        {
          "output_type": "stream",
          "name": "stdout",
          "text": [
            "[[7 3 5]\n",
            " [3 4 3]\n",
            " [2 7 7]]\n",
            "41 41\n",
            "[12 14 15] [12 14 15]\n",
            "[15 10 16] [15 10 16]\n"
          ]
        }
      ]
    },
    {
      "cell_type": "markdown",
      "metadata": {
        "id": "U4W4iIb9J4Zd"
      },
      "source": [
        "#### cumsum(): 누적합 계산"
      ]
    },
    {
      "cell_type": "code",
      "metadata": {
        "id": "SRZWZD3UJ4wo",
        "colab": {
          "base_uri": "https://localhost:8080/"
        },
        "outputId": "5812b95b-7f86-4626-c393-d2cb72d47844"
      },
      "source": [
        "print(a2)\n",
        "print(np.cumsum(a2))\n",
        "print(np.cumsum(a2, axis = 0)) # 행을 누적 합합니다. 세로로 누적 합!\n",
        "print(np.cumsum(a2, axis = 1)) # 열을 누적 합합니다. 가로로 누적 합!"
      ],
      "execution_count": null,
      "outputs": [
        {
          "output_type": "stream",
          "name": "stdout",
          "text": [
            "[[7 3 5]\n",
            " [3 4 3]\n",
            " [2 7 7]]\n",
            "[ 7 10 15 18 22 25 27 34 41]\n",
            "[[ 7  3  5]\n",
            " [10  7  8]\n",
            " [12 14 15]]\n",
            "[[ 7 10 15]\n",
            " [ 3  7 10]\n",
            " [ 2  9 16]]\n"
          ]
        }
      ]
    },
    {
      "cell_type": "markdown",
      "metadata": {
        "id": "pVaJRWQ-LV0f"
      },
      "source": [
        "#### diff(): 차분 계산"
      ]
    },
    {
      "cell_type": "code",
      "metadata": {
        "id": "yKjnWtGVLWJj",
        "colab": {
          "base_uri": "https://localhost:8080/"
        },
        "outputId": "0b17db52-e541-4f55-da29-235ba2226136"
      },
      "source": [
        "print(a2)\n",
        "print(np.diff(a2))\n",
        "print(np.diff(a2, axis = 0))\n",
        "print(np.diff(a2, axis = 1))"
      ],
      "execution_count": null,
      "outputs": [
        {
          "output_type": "stream",
          "name": "stdout",
          "text": [
            "[[7 3 5]\n",
            " [3 4 3]\n",
            " [2 7 7]]\n",
            "[[-4  2]\n",
            " [ 1 -1]\n",
            " [ 5  0]]\n",
            "[[-4  1 -2]\n",
            " [-1  3  4]]\n",
            "[[-4  2]\n",
            " [ 1 -1]\n",
            " [ 5  0]]\n"
          ]
        }
      ]
    },
    {
      "cell_type": "markdown",
      "metadata": {
        "id": "b6I38HfA9vGL"
      },
      "source": [
        "#### prod(): 곱 계산"
      ]
    },
    {
      "cell_type": "code",
      "metadata": {
        "id": "rGPMXGe89y0O",
        "colab": {
          "base_uri": "https://localhost:8080/"
        },
        "outputId": "3c9fb68f-da13-4565-c570-df4e4865b265"
      },
      "source": [
        "print(a2)\n",
        "print(np.prod(a2))\n",
        "print(np.prod(a2, axis = 0))\n",
        "print(np.prod(a2, axis = 1))"
      ],
      "execution_count": null,
      "outputs": [
        {
          "output_type": "stream",
          "name": "stdout",
          "text": [
            "[[7 3 5]\n",
            " [3 4 3]\n",
            " [2 7 7]]\n",
            "370440\n",
            "[ 42  84 105]\n",
            "[105  36  98]\n"
          ]
        }
      ]
    },
    {
      "cell_type": "markdown",
      "metadata": {
        "id": "RwaoVUGcKkkE"
      },
      "source": [
        "#### cumprod(): 누적곱 계산"
      ]
    },
    {
      "cell_type": "code",
      "metadata": {
        "id": "jwYoX9inKk4D",
        "colab": {
          "base_uri": "https://localhost:8080/"
        },
        "outputId": "10497086-e46d-4c4b-dd98-c0e0225c6b86"
      },
      "source": [
        "print(a2)\n",
        "print(np.cumprod(a2))\n",
        "print(np.cumprod(a2, axis = 0))\n",
        "print(np.cumprod(a2, axis = 1))"
      ],
      "execution_count": null,
      "outputs": [
        {
          "output_type": "stream",
          "name": "stdout",
          "text": [
            "[[7 3 5]\n",
            " [3 4 3]\n",
            " [2 7 7]]\n",
            "[     7     21    105    315   1260   3780   7560  52920 370440]\n",
            "[[  7   3   5]\n",
            " [ 21  12  15]\n",
            " [ 42  84 105]]\n",
            "[[  7  21 105]\n",
            " [  3  12  36]\n",
            " [  2  14  98]]\n"
          ]
        }
      ]
    },
    {
      "cell_type": "markdown",
      "metadata": {
        "id": "_LMAbL9hMV7T"
      },
      "source": [
        "#### dot()/matmul(): 점곱/행렬곱 계산"
      ]
    },
    {
      "cell_type": "code",
      "metadata": {
        "id": "xC6FBzF0MWW1",
        "colab": {
          "base_uri": "https://localhost:8080/"
        },
        "outputId": "1617e976-e3da-40b0-8249-8522a8b6dbb5"
      },
      "source": [
        "print(a2)\n",
        "b2 = np.ones_like(a2)\n",
        "print(b2)\n",
        "print(np.dot(a2, b2))\n",
        "print(np.matmul(a2, b2))"
      ],
      "execution_count": null,
      "outputs": [
        {
          "output_type": "stream",
          "name": "stdout",
          "text": [
            "[[7 3 5]\n",
            " [3 4 3]\n",
            " [2 7 7]]\n",
            "[[1 1 1]\n",
            " [1 1 1]\n",
            " [1 1 1]]\n",
            "[[15 15 15]\n",
            " [10 10 10]\n",
            " [16 16 16]]\n",
            "[[15 15 15]\n",
            " [10 10 10]\n",
            " [16 16 16]]\n"
          ]
        }
      ]
    },
    {
      "cell_type": "markdown",
      "metadata": {
        "id": "juVk3vnjPu31"
      },
      "source": [
        "#### tensordot(): 텐서곱 계산"
      ]
    },
    {
      "cell_type": "code",
      "metadata": {
        "id": "3LrcLOcjPvNI",
        "colab": {
          "base_uri": "https://localhost:8080/"
        },
        "outputId": "6796d3b9-394f-4dd0-f347-2fdfed07d04a"
      },
      "source": [
        "print(a2)\n",
        "print(b2)\n",
        "print('---')\n",
        "print(np.tensordot(a2, b2))\n",
        "print('---')\n",
        "print(np.tensordot(a2, b2, axes = 0))\n",
        "print('---')\n",
        "print(np.tensordot(a2, b2, axes = 1))"
      ],
      "execution_count": null,
      "outputs": [
        {
          "output_type": "stream",
          "name": "stdout",
          "text": [
            "[[7 3 5]\n",
            " [3 4 3]\n",
            " [2 7 7]]\n",
            "[[1 1 1]\n",
            " [1 1 1]\n",
            " [1 1 1]]\n",
            "---\n",
            "41\n",
            "---\n",
            "[[[[7 7 7]\n",
            "   [7 7 7]\n",
            "   [7 7 7]]\n",
            "\n",
            "  [[3 3 3]\n",
            "   [3 3 3]\n",
            "   [3 3 3]]\n",
            "\n",
            "  [[5 5 5]\n",
            "   [5 5 5]\n",
            "   [5 5 5]]]\n",
            "\n",
            "\n",
            " [[[3 3 3]\n",
            "   [3 3 3]\n",
            "   [3 3 3]]\n",
            "\n",
            "  [[4 4 4]\n",
            "   [4 4 4]\n",
            "   [4 4 4]]\n",
            "\n",
            "  [[3 3 3]\n",
            "   [3 3 3]\n",
            "   [3 3 3]]]\n",
            "\n",
            "\n",
            " [[[2 2 2]\n",
            "   [2 2 2]\n",
            "   [2 2 2]]\n",
            "\n",
            "  [[7 7 7]\n",
            "   [7 7 7]\n",
            "   [7 7 7]]\n",
            "\n",
            "  [[7 7 7]\n",
            "   [7 7 7]\n",
            "   [7 7 7]]]]\n",
            "---\n",
            "[[15 15 15]\n",
            " [10 10 10]\n",
            " [16 16 16]]\n"
          ]
        }
      ]
    },
    {
      "cell_type": "markdown",
      "metadata": {
        "id": "UzmZhB5TNRMX"
      },
      "source": [
        "#### cross(): 벡터곱"
      ]
    },
    {
      "cell_type": "code",
      "metadata": {
        "id": "xvT2hy1FNRkU",
        "colab": {
          "base_uri": "https://localhost:8080/"
        },
        "outputId": "a092fec9-c12e-4f70-cd18-d128a8615558"
      },
      "source": [
        "x = [1, 2, 3]\n",
        "y = [4, 5, 6] # 6*2-5*3 = -3  /  4*3-6*1 = 6  /   5*1-4*2 = -3\n",
        "print(np.cross(x, y))"
      ],
      "execution_count": null,
      "outputs": [
        {
          "output_type": "stream",
          "name": "stdout",
          "text": [
            "[-3  6 -3]\n"
          ]
        }
      ]
    },
    {
      "cell_type": "markdown",
      "metadata": {
        "id": "SJVYmtrSO5YL"
      },
      "source": [
        "#### inner()/outer(): 내적/외적"
      ]
    },
    {
      "cell_type": "code",
      "metadata": {
        "id": "HJpomax7O5s6",
        "colab": {
          "base_uri": "https://localhost:8080/"
        },
        "outputId": "d8ad1c20-02c5-462f-9b6c-3cc43d0514b9"
      },
      "source": [
        "print(a2)\n",
        "print(b2)\n",
        "print(np.inner(a2, b2)) # dot product 결과와 같음\n",
        "print(np.outer(a2, b2)) #"
      ],
      "execution_count": null,
      "outputs": [
        {
          "output_type": "stream",
          "name": "stdout",
          "text": [
            "[[7 3 5]\n",
            " [3 4 3]\n",
            " [2 7 7]]\n",
            "[[1 1 1]\n",
            " [1 1 1]\n",
            " [1 1 1]]\n",
            "[[15 15 15]\n",
            " [10 10 10]\n",
            " [16 16 16]]\n",
            "[[7 7 7 7 7 7 7 7 7]\n",
            " [3 3 3 3 3 3 3 3 3]\n",
            " [5 5 5 5 5 5 5 5 5]\n",
            " [3 3 3 3 3 3 3 3 3]\n",
            " [4 4 4 4 4 4 4 4 4]\n",
            " [3 3 3 3 3 3 3 3 3]\n",
            " [2 2 2 2 2 2 2 2 2]\n",
            " [7 7 7 7 7 7 7 7 7]\n",
            " [7 7 7 7 7 7 7 7 7]]\n"
          ]
        }
      ]
    },
    {
      "cell_type": "markdown",
      "metadata": {
        "id": "9CIotQgI_RQ-"
      },
      "source": [
        "#### mean(): 평균 계산"
      ]
    },
    {
      "cell_type": "code",
      "metadata": {
        "id": "g96wAEOT_bUk",
        "colab": {
          "base_uri": "https://localhost:8080/"
        },
        "outputId": "98955c03-ad64-469f-83b8-2ba21e8cecee"
      },
      "source": [
        "print(a2)\n",
        "print(np.mean(a2))\n",
        "print(np.mean(a2, axis = 0))\n",
        "print(np.mean(a2, axis = 1))"
      ],
      "execution_count": null,
      "outputs": [
        {
          "output_type": "stream",
          "name": "stdout",
          "text": [
            "[[7 3 5]\n",
            " [3 4 3]\n",
            " [2 7 7]]\n",
            "4.555555555555555\n",
            "[4.         4.66666667 5.        ]\n",
            "[5.         3.33333333 5.33333333]\n"
          ]
        }
      ]
    },
    {
      "cell_type": "markdown",
      "metadata": {
        "id": "wAG_zijP_Z5o"
      },
      "source": [
        "#### std(): 표준 편차 계산"
      ]
    },
    {
      "cell_type": "code",
      "metadata": {
        "id": "hlpnuyug_TXA",
        "colab": {
          "base_uri": "https://localhost:8080/"
        },
        "outputId": "df5440a7-c2bd-479d-df11-b217098b425b"
      },
      "source": [
        "print(a2)\n",
        "print(np.std(a2))\n",
        "print(np.std(a2, axis = 0))\n",
        "print(np.std(a2, axis = 1))"
      ],
      "execution_count": null,
      "outputs": [
        {
          "output_type": "stream",
          "name": "stdout",
          "text": [
            "[[7 3 5]\n",
            " [3 4 3]\n",
            " [2 7 7]]\n",
            "1.892154040658489\n",
            "[2.1602469  1.69967317 1.63299316]\n",
            "[1.63299316 0.47140452 2.3570226 ]\n"
          ]
        }
      ]
    },
    {
      "cell_type": "markdown",
      "metadata": {
        "id": "5FFTCCDaAEhx"
      },
      "source": [
        "#### var(): 분산 계산"
      ]
    },
    {
      "cell_type": "code",
      "metadata": {
        "id": "CRMNkSdzAGZG",
        "colab": {
          "base_uri": "https://localhost:8080/"
        },
        "outputId": "84f3bd89-a694-46df-ee62-594f07203f06"
      },
      "source": [
        "print(a2)\n",
        "print(np.var(a2))\n",
        "print(np.var(a2, axis = 0))\n",
        "print(np.var(a2, axis = 1))"
      ],
      "execution_count": null,
      "outputs": [
        {
          "output_type": "stream",
          "name": "stdout",
          "text": [
            "[[7 3 5]\n",
            " [3 4 3]\n",
            " [2 7 7]]\n",
            "3.580246913580247\n",
            "[4.66666667 2.88888889 2.66666667]\n",
            "[2.66666667 0.22222222 5.55555556]\n"
          ]
        }
      ]
    },
    {
      "cell_type": "markdown",
      "metadata": {
        "id": "QFeh-4tmCCrU"
      },
      "source": [
        "#### min(): 최소값"
      ]
    },
    {
      "cell_type": "code",
      "metadata": {
        "id": "SMNCfYBQCEtf",
        "colab": {
          "base_uri": "https://localhost:8080/"
        },
        "outputId": "966b0350-f42c-470d-a63f-805f248379e0"
      },
      "source": [
        "print(a2)\n",
        "print(np.min(a2))\n",
        "print(np.min(a2, axis = 0))\n",
        "print(np.min(a2, axis = 1))"
      ],
      "execution_count": null,
      "outputs": [
        {
          "output_type": "stream",
          "name": "stdout",
          "text": [
            "[[7 3 5]\n",
            " [3 4 3]\n",
            " [2 7 7]]\n",
            "2\n",
            "[2 3 3]\n",
            "[3 3 2]\n"
          ]
        }
      ]
    },
    {
      "cell_type": "markdown",
      "metadata": {
        "id": "A3n_JBnBJ2bo"
      },
      "source": [
        "#### max(): 최대값"
      ]
    },
    {
      "cell_type": "code",
      "metadata": {
        "id": "FmuOFKGAJ6Pf",
        "colab": {
          "base_uri": "https://localhost:8080/"
        },
        "outputId": "cd7b78d6-6e1d-4e20-e42f-b79eec8569e7"
      },
      "source": [
        "print(a2)\n",
        "print(np.max(a2))\n",
        "print(np.max(a2, axis = 0))\n",
        "print(np.max(a2, axis = 1))"
      ],
      "execution_count": null,
      "outputs": [
        {
          "output_type": "stream",
          "name": "stdout",
          "text": [
            "[[7 3 5]\n",
            " [3 4 3]\n",
            " [2 7 7]]\n",
            "7\n",
            "[7 7 7]\n",
            "[7 4 7]\n"
          ]
        }
      ]
    },
    {
      "cell_type": "markdown",
      "metadata": {
        "id": "PvGOKDP0J_5b"
      },
      "source": [
        "#### argmin(): 최소값 인덱스"
      ]
    },
    {
      "cell_type": "code",
      "metadata": {
        "id": "1ILP7L3yKCqA",
        "colab": {
          "base_uri": "https://localhost:8080/"
        },
        "outputId": "ec5c1f1a-7d47-4f69-bf22-22cced5b3f10"
      },
      "source": [
        "print(a2)\n",
        "print(np.argmin(a2)) # 위치값을 알려줌\n",
        "print(np.argmin(a2, axis = 0))\n",
        "print(np.argmin(a2, axis = 1))"
      ],
      "execution_count": null,
      "outputs": [
        {
          "output_type": "stream",
          "name": "stdout",
          "text": [
            "[[7 3 5]\n",
            " [3 4 3]\n",
            " [2 7 7]]\n",
            "6\n",
            "[2 0 1]\n",
            "[1 0 0]\n"
          ]
        }
      ]
    },
    {
      "cell_type": "markdown",
      "metadata": {
        "id": "23IcSctIKbUa"
      },
      "source": [
        "#### argmax(): 최대값 인덱스"
      ]
    },
    {
      "cell_type": "code",
      "metadata": {
        "id": "2m21cfCFKd-Q"
      },
      "source": [
        "print(a2)\n",
        "print(np.argmax(a2)) # 위치값을 알려줌\n",
        "print(np.argmax(a2, axis = 0))\n",
        "print(np.argmax(a2, axis = 1))"
      ],
      "execution_count": null,
      "outputs": []
    },
    {
      "cell_type": "markdown",
      "metadata": {
        "id": "3TjeNFQLKuZb"
      },
      "source": [
        "#### median(): 중앙값"
      ]
    },
    {
      "cell_type": "code",
      "metadata": {
        "id": "kSLN17bpKwv6",
        "colab": {
          "base_uri": "https://localhost:8080/"
        },
        "outputId": "eb486de9-e8ce-4c40-abeb-076624e6604a"
      },
      "source": [
        "print(a2)\n",
        "print(np.median(a2)) # 위치값을 알려줌\n",
        "print(np.median(a2, axis = 0))\n",
        "print(np.median(a2, axis = 1))"
      ],
      "execution_count": null,
      "outputs": [
        {
          "output_type": "stream",
          "name": "stdout",
          "text": [
            "[[7 3 5]\n",
            " [3 4 3]\n",
            " [2 7 7]]\n",
            "4.0\n",
            "[3. 4. 5.]\n",
            "[5. 3. 7.]\n"
          ]
        }
      ]
    },
    {
      "cell_type": "markdown",
      "metadata": {
        "id": "df-Id-nhLs3L"
      },
      "source": [
        "#### percentile(): 백분위 수\n",
        "![image.png](data:image/png;base64,iVBORw0KGgoAAAANSUhEUgAAAk8AAAF8CAYAAADWwV/wAAAgAElEQVR4nOy9aWxc13n//7nb7MPhzuFOcRMla7ckW5IVL3GdNJvTNGgbBEmaICiSvAiKtG+CLmiBFg2KNmjfBMEPCGI0SYsUTf5xlsZO7DReZMmOrZXWzp3iTg7X2e7ce/8vZs7hndFQonZKni9AkJy59571nud7nu0oy8vLDteBqqrXu+SasG37lu6/1+WXcHvhONkppyjKNa8p/H6jj6OiKLLOhW0U/xdefy0U64NCPAjvhm3bRdtRbJ6sp09uFqIOmUzmtvSLoihFx11VVRzHyWufaNONtk2UUdgvd7KfbhZr9ce9hLv/RJ+JH/ecvNZ7XIi15rP7e4FbfX9LuH1YzzvvHn9d1/Xr3nCrL+GtTpB7XX4JNw/bttF1HU3TWFhYQNd1DMMAyFusCuE4DpZloWkaqqped0HaKLBtm0wmI9t8LYEh2u44DplMRrbPsixs28YwDBRFwbIsADRNA/IFo3uxXw+udd3d7l/RV+6yxTgLggGr7TYMg0QiIa83TRPbtq/bdnf/iHKK3aMoiiz/Wn26Vj/Zto3jONi2jaZpcu4Wjr9YpMVvUd5a9VoPMpkMfr8fy7KwLCtvTnk8HizLkn0t+rMQgjDYto1lWQjZ4CZ614N4hugHUTdFUdB1XdZL13V8Ph8rKyuoqirLEn1YrLzC/rIsC1VVsSxLlnutfhTvmm3bV60nbkLrvrfYM8X9mqbJtgAkk0m8Xi+KomCaJh6PJ+/9FeW558RGI5PvZdzo+qek0+nrjt6tkpdbnSD3uvwSbg2O4+DxeDBNE0AuKELwFY6vWAjFQn6/jJ9YfDVNkwu7+LwQhW0WREsIPyEoFEXB4/HIBVd8575G3LvRNA3rgRBWqqrKdmQyGSlw3NA0LU/oFLumGNz9UmyuuYWjqE8ymcTn8131rGuRL0FaHMeR7RFkwU0ICjcN16rftVComRNkTZRnGAbpdFqS1GAwKMnD9QiRu/43+g4KMpFOp/F6vaTT6by+LWyrIEDuOV+sfmKeGIYh3wFAEj03iSomCEWfC/Lj7kPDMPI0jqLN4lnu+ot56iZRAKZpynrruo6u65imKTeBJWxs3KiWXzFNs2S2K+GOQVVVEokEXq8X0zQxDEOSi2LkSSxMQJ6wuV9IVDF1/3oFYiqVwrZtvF6vJI6wupDrup63+3Vrbdw75PsJ7vYI8gGru3O3sBLtFZ+vR2surndrQtzzyK1tcZMFXddJp9NF61uoxXLDPU/d9S+G661L11v3RD3cJEWQd03TSKVSkkSlUimpySyco8XKM01z3f0r4NYWi/ES/en1evM0UJCd74LsqaqK1+vNIyRrzWdBSHRdl/3t9XpJJBJ578JVws6l6RVjIzRyQlMs2iHqUWy83RqwwmeL+90aZfEct3athI2JG+Ea+nouvtdms3tdfgk3j5dffpmlpSV27dpFXV2d/NytVSq2G02n08TjcRYXF1EUhfLycsLh8F2v/43i+eefJ5PJ8KEPfUguxmIXXwxid5tIJBgdHUXXdWpqagiFQpimiWmajI6OMj8/TygUora2lrKysrxnr2Vmutd+L+sp37ZtTNMklUqRTqeJxWKUl5dTUVFBJpPBMAwuXLjAj370I5599lm6urqkkBWazGvBLfhEnxX6BsGqKevUqVP85je/4f3vfz9bt25d87lraTbEWAgB/+tf/5rh4WHKysqIRqN0dXVRX1+Pz+db089rPb5B7u/FxuSFF15AVVW2b99OfX0909PT9Pb2UldXR2trK8Fg8JrPhKyJbXh4GMuyaG1tvSbZWgtzc3NcunSJ8+fPMz8/T2VlJYcPH6a9vR3HcUgmk/T399Pb28vCwgIrKytUV1fT0dFBe3s7VVVVeWTZjZWVFc6dO8fZs2dZXFzEsixaWlo4dOgQtbW1ANckXv39/Zw9e5bR0VFSqZQ0dW7bto2Ojg7Kysrw+XySSBe2fXx8nNOnTzMyMoKu6ySTSQzDoKWlhY6ODurr6/H7/YyPjzM4OMj58+eZm5ujq6uL973vfXg8Hjwej3RdKOH+xY1tLR5g3I+79vsBv/nNbxgYGKC6uprKykrpE+D28Sm2I/N4PBw9epSpqSkikQg7d+6U5CmVSklzFlxtvhCLrtAeiOvETleYM8TnYsfu9Xpl+alUCq/Xm0cA3P41xcwQpmny4x//mLm5Ofbu3UtDQ8NVi6T7nkwmg6ZpmKaJ1+vljTfeIJFI8KlPfQrTNFFVlVAoxNjYGH19fUSjUSoqKqRJoLDPBMSOX/iYCLjrmk6n80xlxfrRXde1HJLdJhD3DjuVSkmfD9u2SafTeX5g4npRh6mpKfr6+hgdHeXxxx+nqqpKms3OnDnDN77xDZqammhsbJRjCKsaKqHVECRIEC833H4u6XRaamKEJiKTyXD8+HH+5m/+hqamJnbt2nVNXzvTNK/SLIlrl5aWOH/+PL/61a/o6+ujsrKSRx99lMrKSqqrq2Xb1to8uMdStEPMSXGdu26ZTIZf/vKXmKZJW1sbdXV1zM7O8uabb7J7927Ky8spKyuTY+zxeOTYuX2RHMfhzTffBCASiRCJRPLei2IodH5fXFzk+PHjPP/888zMzLB371527twptV8jIyMcPXqUF198kXg8LufE+973PhzHkSRI1/WrCFQ6nWZ4eJj/+7//4+LFi6RSKSoqKti0aRMNDQ3X9YEbHh7mpZdeYmRkRGrEDcNgcHCQvXv38r73vU+OTbHnLC0tyTXN4/HINoXDYT7+8Y8TCAQIBALYts34+DjPP/88b7/9Nk899RQdHR1s2rTpmn1Zwv0DfT2k4V4Ti7tR/r1u44MKYV4SglQsiMLHwA23Y2Umk2F6epqTJ0/S2NhIQ0MDVVVVaJp21WIuBKDwrXALTeEfIciWEBKCOIm/hSAR5gC3H4NwaBX1E88sFKqGYUiBHAqFpEAR5QthK8xvbgJkGAbvvPMOi4uLfOITnyAYDMrn79+/n56eHrxeL4FAoGg/u0mO2ydDfKcoiiSM7nqshUITTDFfITFWAu7nuZ38hdOyW7AJjRtkx31wcJCLFy/S29vL9u3b6ezslMJc+JKIPha+LULou+eNmAuWZcl54K6HgBh/URdhUhamHDc5A67qMzFmxWDbNhMTE7z99tvous4HP/hBHn/8cZqamtA0jXA4LIm8aEMhSRXj5UbhvHe3R5jCRVssy6KtrY3Pf/7z1NXVyb4Rc9fdJ+JvwzBYWlrijTfewOPxsHv3bsLhsPxe9FEh3PNDmMF8Ph81NTU88cQTfPzjH6elpQWv10symeS1117j8uXLdHZ28vTTTxMKhbh48SL/+7//i6qq7Nu3T/aLaJd73DZv3ozH42F2dpYTJ07Q29srrylG8N2IRqM89dRT1NXVEYlEALhw4QIvv/wy3/ve99iyZQuVlZV5a5X7Xe/o6ODP//zPpS+ZaZqcOHGCI0eOcPz4cQKBAPX19VRVVfHEE0/Q0NDAN77xDQKBwA2bQUvY2CiNZgl3FIKQiMVtYmKCV155hbKyMkzTZGlpiWQyiaqq+Hw+Dh48SDQaZWxsjDfffJO3336bhoYGZmdn6ejooLu7m66uLhRFYXR0VKrvAWlq2LFjB7W1taysrNDf309fXx/Ly8sEAgHi8Th+v5/du3dz+vRpUqkU5eXlzM/Ps7y8TCaToba2lvb2dnp6evD7/di2zezsLKdPn6a/v1+aGysrK+nq6qKxsZFwOCy1SKLNpmkSi8U4e/Ys09PTrKysSA1JW1sb27ZtIxgMsrKywsmTJzl//jwjIyN897vfJRQK0drayuHDh7l8+TIzMzNEIhG6urqoqqoimUzy7rvvcuHCBebn5/F6vZSVlVFXV8fWrVuprq4Gspq/yclJKisrSSQSLC8vs7y8TEVFBR0dHezfv1+OVaG5yDRNTp48yW9+8xs6Ozvx+/2MjY2RSCRoampi586djI6OMj09TSwWwzRNGhoaePTRR6mtrZXkbXh4mP7+fvr7+6Uw8ng8bNmyhc7OTjweDxcuXOD111/n8uXLVFZWMjAwQFlZGfv378c0TRKJBJcuXeKll15iZmaGRCJBJBJh//79NDY24vf7UVWV2dlZBgcHeffdd/MCFHbs2MGmTZuoqKgAshqEgYEBLl26xPT0NLquU1dXx+nTpyXBTqVSAJw8eZK+vj4WFhaALIELBAIcPnyY5ubmq+b70NAQb7/9Nr/97W+Jx+NMTEzg9Xp54oknaGxsZGJigt/97nfMz89LoiPm3KZNmwiFQti2zU9/+lPm5uZobW1ldnYWgObmZrq6uohGo7LMdDotzUepVEoSmNnZWY4dO0ZbWxvd3d2Ew2FGRkbo6+vj0qVLeUEKBw4cwOPxMDw8zKVLl0gmk4TDYcLhMN3d3Rw4cIBwOEwymUTTtDWJo/jcMAzKysqorKyUJsN0Oo1pmvT29pJOp/nIRz5Cd3c35eXlhEIhfv3rX9Pf38/w8DDRaLSomdHr9dLe3k5lZSUjIyOMjo7mOXoXM8m6P6urq8MwDGpqajAMA13XUVWVt956i3PnzrG8vFwYjp5HoDRNo76+XvpJ2bbN8PAwqqoyNTXFwsKCDBapqqqiq6tLbqSKmSFLuH+xLs3TreJea3XudfnvZQgTkyANo6OjPPfcc1RWVhKJRFheXmZxcVHuVsUueWxsTP4sLCwwPT3N5OQkiqIQiURYWVnhnXfe4cSJE3LBWllZYdOmTSSTSXbt2oXjOJw8eZJXXnmFubk5amtrmZubo6Wlhbq6Oo4cOcLQ0BCVlZXE43GSySRLS0tUVVXx2GOP0djYiNfrZWlpicHBQV555RXOnTuHbdukUilqa2uZmJjgySefpLy8HFgNYxYRhouLi/T29nL27FmWlpZYWVnBsiy2bt2KaZrs3r1bkqdYLMbKygq//e1vCYfD7Nmzh0ceeYTf/e53nD17ltbWVqqqqjAMg6mpKY4dO8aJEyeYmJhA0zRCoRBNTU2kUikeeeQRvF4vb775JqdOnaKhoYF4PC77u6qqiq1bt+aRp8JQbdu2OXXqFN/85jd5+umnaW5uZnR0lNHRUbq7uzFNk6GhIYaHhxkbGyOVSklT5b59++T4nj17ltOnT3Pq1CmpFVIUhfn5eTRNo7W1lStXrnDmzBlisRjvvPMOCwsLRKNR2trapMZwdHQUy7IYGBggFotRX1/P1NQUH/zgB6V/0uXLlzly5AhvvfUWlmWxvLxMKBRiZmaGQ4cO8fDDD6OqKoODg/zyl7/k3LlzzMzMUF5eTjQaZWpqKk/bND09zYsvvkhvby+JRAJd1/H7/YTDYTZt2nQVeVJVlVgsxuDgIAMDA6RSKebn5/F4PDQ0NJBMJllcXOT1119ncHAQQPbbrl278Pv9tLe3s7Kywg9+8AMGBwd56qmn5Abh4YcfJhqNUldXRzweJxgM4vF4JDExDAOfz4dt2/T19fGDH/yAxx9/nLKyMiKRCK+++irvvPMOFy5ckBsDQXJ0XWdgYIDJyUkWFxc5evQogUCAdDpNT0+P1L4K7Z/bfCzmjzDJC02dcASHrNYomUxKgrx3717KyspQFIXGxkYqKysxTZPLly9TU1MjzZRu7ZPH48Hn86HrOvPz81KjbBjGVZqmwmhUgIqKCkKhUF66FK/XSyQSkeY6d2SraGOhiTMejzM7O4tpmkxNTckNRVlZmbxHuAMIDVrJ9/bBQknzVMJdgTuEN51Os7S0RFtbG1/+8pfx+Xy89dZb/Nu//Rtvv/02dXV1bN++nYMHD0pC9cQTT7B161bC4TDT09NcvnyZ3/zmN3zoQx/i4YcfBpC75n//93/n61//Ou3t7fj9fiYmJrBtm09/+tPS8bympobXX3+d3t5eMpkMn/nMZ+jp6cE0Tf7jP/6Dd955h5aWFrZv387c3Bzf/OY3qa+v56Mf/Si7d+9mcXGRkydP8txzzxEOh6murqampka2VWigamtreeKJJ/jQhz4kF/re3l5OnDjB//zP/1BZWcmuXbv40z/9U9555x38fj9/93d/Jxf5SCQiIxSFYJqcnOQXv/gFw8PDdHd387WvfQ2Px8Pvfvc7nnvuOWpqaqiqqmL37t3Yts3CwgJer5ePfexj7Nmzh2Qyybe+9S16e3s5deoUmzZtoqysDFjdaLj9maanp6muruZDH/oQ1dXVnDhxgtdff51//ud/5iMf+Qgf/ehHaW1t5ZVXXmFgYICf//znRKNRMpkMExMTHD9+HIC/+qu/wuPxMDc3x/DwML/+9a8xTZO/+Iu/4NFHH8WyLI4dO8ZXvvIV9u/fj6ZpRCIRzp07J+fOww8/zOc+9znm5uZ49dVX+X//7/+xc+dOHnroIVZWVvjJT37C2NgYzz77LB0dHaRSKWKxGD/84Q9ZWVlh7969zM/Pc+rUKX7+85/zJ3/yJ+zfv59QKMTbb7/NlStXpB/TysoKFy5cYGZmhs7OTr7whS9If7mVlRU6OzuLzvXNmzezuLhILBZjeXmZrq4u/uiP/ohgMMipU6f47ne/S1tbG5/+9KfZunUrU1NTvPzyy3znO9+hvLycqqoqAoGAJAzhcFj2sdAGmaZ5lQm3UPsihLYgO7Zt88Ybb6CqKn/7t39LeXm5JDahUEj27/Hjx0mlUnzxi18kGo1SU1NDJBKRmqyTJ0/y6U9/mm3btslyipl1xRxy+4TFYjFJiiorK4HVoIeamhqmp6dZWFiQmmLxLOHA7faTFM+9UWLiNufG43HOnDnD0NAQmzdvJhKJ5Jl/3U7j4rN4PM7rr7/O97//fcbHx8lkMrS1tbF37162b98uy3Gbhm8UxdI03Mj1hbjf79+IKJGnEu4o3Au6EMaBQIBoNMqmTZtob28nEAgwPj4ud55LS0tyxxoMBikvL6empoba2lpUVeXs2bOcO3eOgYEBaf4AmJmZob+/n8nJSaanp2lpaSGdTstnbNq0ibq6OikwxK6zra2N1tZWOjo6yGQybN++nRMnTvD2229TU1PDwsICp06dYvv27TIqZ2VlhaWlJRRFYW5ujvHxcWkS0DRN7oYXFhawbZve3l6mpqZIp9Nyd3/q1Ck+/OEPs2fPHsrLy6WfSGNjIxUVFdJsIQSRECLT09O88847NDc3s3XrVrq7u2X7o9Eos7Ozklg5jkMkEqGjo0O2MZFIUFNTQyKRYHBwkJqaGulM7BZCbuHb0tLCpk2biEQiLC4ucunSJUZHR9m0aRM9PT3U1NTQ1dXF9PQ0J06cIB6Ps7KywltvvcWpU6ewLEv6bCUSCSYnJ7l48aIMYff7/QSDQWpqauSPW1ipqkpTU5M0py4sLHD27FkWFhaYm5tjenpaaop8Ph/79++ntrYWx3GYnp6WJseBgQEmJiYYGxsjEAjQ09PDrl270DSN5eVl3nzzTWzbltFw4XCY5eVlYrEYvb29UuvT0dFRNA8UQDAYpKqqSpKT2tpaamtr8Xq9zM3NcerUKZ588klptqypqWFwcBBN05idnWV6eprm5mZUVaW2tpbdu3ezadMmWltbpfmo0DFa+Ba60y0U5kISpiYx91pbW2lra6OhoQG/35+XjDQQCNDY2EhTU5PU1CiKQldXF36/n5qamqtC+cVvd3JNdz2FRkoQqsI8aCKIQfhXie/c879QMyp+FxO+xSJ63dGMsViMixcv8sorrxAKhdi1axehUOiqoBD3OwhZstbU1MQTTzyBaZpcuHCBWCzGwsICs7OzchN1M7gdJGI90Zq345678aw7jVuxSpXIUwl3HIU7N13XaW5uliYZRVEIh8MyPH15eRnDMCQBcavddV1nenqaoaEh4vE458+fZ2JiAkD6ezQ0NODxeOQiHolEaGxspKamJi+CzrZtysvL2bx5MxUVFXi9Xnw+H62trQwMDDAyMsLCwgJLS0uMjIxQU1NDe3s7Pp8Pj8dDJBKhubmZdDrN3NycFGCWZZFOp0kkEszMzPDaa6/x7rvvSgFv2zYzMzPMzc1JM4iiKKRSKemg7t61CsdpIViSySSjo6Ns375d+r7ouk51dTV79uxhdHSUK1euyD6sqKigs7OTxsZGAHw+H+FwmGAwyOLioswvVbh7F+0R5KmpqQlAatm8Xq9Mn+D1eqmoqCAQCDAxMSH9q/r7+6VgcS+qQqgHg0FpsnULSUEUxd+GYdDU1CTrIPy7HMchlUpJQpZKpaiqqqKlpUVqGAKBAOXl5czNzTE7O0t/f7+cJzU1NXIOdnZ20t7eLvvc4/HQ1NREVVUVQ0NDHDt2jPr6ekk6xJwqRCaTkX4ywrFcmJUWFhYYGRmR6QNEW5qbmyWhnZmZob6+Xmredu3aJSPQCrNVu8mF+11zv28Cuq6zc+dOTp8+zfHjx5mYmGBiYoKWlhba29uprq5G0zRppnJHpIqx2rNnD1u2bMHn80myVsxJW2ht3OWLfE8iM7dpmtIk59YkiXdC1GOtaMTraZsKk266+2lhYYGBgQHeeOMNrly5wr59+/jkJz9JIBDIW2uKkQCv18uOHTvYtWsXyWRSRg6ePn0aTdPo6emRfXG3UMzX62afcTP332r596NrTYk8lXBHURhKrygK8XgcIM/sIPKfCMdKdyLNwgVYCMjDhw/ze7/3e3R1dUlzSnl5OYuLi9TV1clw+UAgIHPh+P3+vBdVaESEU7twCvX7/ZJoiXp7PB78fr/0LRF1htUsyeJaQTzOnDnDc889xx/8wR/w2c9+lqqqKiYmJnjttdf41re+lUeMPB4P8/PzeZmq3dFmIgpRURSWl5exLEv6rThONhmiIFeQ1SCYpin7U0RvKYoiQ7QF2VsrJF/0hbhW13W8Xq/063BHP/r9ftkfIhLJcRy2bt1KZ2cnH/jAB7AsKy/FhGEYBINBKUiLLaKWZcmQcJElWzg6q6pKKpWSYy3SWLh9WjKZDOl0WmqKNE2TpEYIcTH3/H6/7K9gMIjP5+NLX/oSk5OT9PX1MTg4yC9+8QtmZmb48pe/zDPPPCPLcUcgGoaB3++XWjN3Fm33nBHjUaj1E+0Lh8OUl5fLjYA76vNa5MEd/eZO6viBD3yAAwcOMDAwwNTUFOfPn+eFF17gfe97HwcPHmTz5s0y8EEQMbdzuG3b+P1+Ob+KQbS3WOJWv98v25BIJKSGzzRN6UAfiUQIBoNF04UIuKMs14KbyLnvN02Tc+fO8dprr/Hqq6/y8Y9/nMcff5xwOHxVRFyx+egmYT6fj+7ubiYmJvjZz35GfX09kJ9W4k5jrTQit+t5d7v8+wUlD7YS7ijcZgSRCFEIMUEcgDyy4A5Ldzubi8iYpqYmamtrmZ2dRdM0mpub6ezspKuri7KyMsrLy6U2IZVKyfvEjleUrWka8Xic3t5e5ufnpeC9fPkyIyMj0kE7GAzS1NTElStXuHTpEoqisLS0xMzMDENDQ3i9XplGwW22m5+fJx6PMzo6Sn19vTSxKYpCLBYjkUjI3FVC2AjB5I5SdJ+RJQhgT08Pi4uL9PX1ARCPxxkeHubMmTNUVFRQXV0tyZJ4tkguCavZzN3fF8I9Fu6zztLptCRj7iNT3FmZTdOkvr6erq4uEokES0tLRKNRenp6aGtro729XZoLLcuSPj5LS0uyLPf8cKe4EITITQwAqqqqCIfDxONxLl26xMLCAvF4nPHxcWm2qqqqorm5Gb/fT19fn9QYOo7D5cuXGRgYkFoXQdqqq6vp7Ozk4MGDHD58mMbGRs6cOcP8/DyTk5Oyr2A1tYU7ZYAgnaqqUlFRQXl5OQMDA1y5coVMJsPCwgJXrlxhYmKCUChERUWFFNCCSLuzX7tJSaGWxF2uW4CLVBG1tbVUVVWxc+dO9u7dS3t7O6lUiqGhIWZnZ6Vfndtp3t2+62l7ruWrI1IzdHd34/V6OXLkCAsLCySTSSYmJmTUaGdnpyTpaz1XbCTEnE4mkyhKNr2D+ww/d185jiP93V566SUmJiY4dOgQjzzyCNFoVB6nAsgNiLv8ZDIpo1VFJCZkE3dOTk7mmStvxd+pELdKRO73+zcq7nvN04061pVwdyEWL7EYinBqsaMVWhoRmSKy+5qmKc1jsViMoaEhqqqqpL9FbW0tw8PDnDt3jsrKSmpra7Esi3g8zsLCAl1dXaRSKSl0BHFza0yEU/DAwAB9fX2EQiGWl5e5dOkSlmVJfxRVVdm5cyfz8/McO3ZMmt2Es3kkEpHmM3e6ArH4V1ZWsrCwwPj4OFNTU7z77rsMDw9Lk5OYs6FQiHg8ztmzZ6mqqqK+vp7GxsY8AWYYBtXV1TzyyCNcvHiRixcv0traisfjYWRkhPHxcUkkRV/6/X5JTtzaDnF8R6HWQ8A0TVZWVqSmUECYU4SAELt7kRdKCPtAIMCePXs4fvw4IyMjMhhACCkRvbZjxw58Ph/l5eWk02nGxsbo7+9HURSi0ahsh9AyibP+xDE2qqpSXl5OZWUlNTU1LC4u8tZbb9HZ2YlhGFy6dInFxUUaGhpobm4mGAxy8eJFFhcXZZCBz+fj7NmzMnO0mJOxWIxYLIamaZSXl0v/perq6qs0G8KXRxAYIdzdB8iKYAihfdy/fz9LS0tcunSJdDpNbW0t9fX1eXUoRhwExHMFmXQ7h3s8HpmEUpiEh4aGSKfThEIhaZbs6uqSvmimaVJdXU0qlWJ4eJhUKkVzczMVFRUYhkE8HpcO9O58UbBK+EVmfEFk3NeoqsrWrVvp6+uTebDKysq4fPkyy8vLPPTQQzQ1NeHz+a5qt+jnxcVFhoaGGBkZYWpqCsdxGBsb4/LlywQCASoqKopuCMR1v/rVr3j11VdpbW3lox/9KKqqMjo6isfjobq6WibyddfbNE0ZqSqImsiZJhzO6+vraW5ulu9TseN9bhTrkWfFnPXvdJl3svz7Bfc9eSphY0PsBkWeF4/HQzgclousOxmhIFeQFdBbtmxhamqKn/3sZ5w4cYKtW7fyxBNP0NPTw759+ztNhmAAACAASURBVEgkEpw8eZJjx45JLUV1dTUtLS1SWyR27sJ/Sjxf+NTouk40GuWFF17gv//7vzFNk2AwyMGDB9m3bx8NDQ1UVlbypS99iZdffplf/vKXvPDCCySTSaqrq/nUpz7F4cOHCYfDUrgLoR6JRNizZw+PPfYYR48elSkIamtri5oIHn74YV555RW++c1vUlZWxo4dO/jSl74ktRA+nw/LsohGo3z4wx8mk8lw9OhRXn/9dWkm6unp4fHHH6erqwtA9rN7Ry40OKqq5iXjLDZ2wmQktIdinITmyufzkUwmpWbFTQYjkQhbt27lmWee4cSJE3z729/OO7+vrq6OD3/4wzJXlgj7/973vsevfvUr2tvb+cQnPiEdygVEPYT5MRwOS8L28Y9/nGPHjvH888/nORYfPHiQ3bt3EwwG0XWdffv2EYvFeOONN3jxxRdRFIXa2loURaG6uloKv3PnzvHqq69y6dIlGaru9/t59NFH6enpkQkVRX8JiPoI3ztB4js7O/nqV7/Kiy++yM9+9jN+8pOfoCgKdXV1fPGLX2Tz5s2EQiGp2QiFQtLMWIwQiDmUyWSk07+Y14LAirak02mef/553n33XUlchfb1s5/9LLt37yYQCPDwww/zxhtv8O1vf1s63//+7/8+qqpy8eJFTp48yec+9zm6u7vz6iP+FhsTt/lO1DUcDvPUU0/h8Xj4+c9/zqlTpyTB279/P4899hg+n29Nk10qleK1117jX//1X1laWmJycpJEIsE//dM/sXXrVg4dOiTTagiNrXt8Tp48yfe//32pLZqenkZRFILBIJqm8bWvfY2HHnpIJhN1j6dt2xw/fpyjR48yOjoq+93n8xGNRnnyySfZtm1bHlG8UbxXiMeDgBJ5KuGO4umnn5YhwGVlZaTTaZ599lna29uJRqNy99rc3MwzzzwjnXhFkr0DBw7g8/mIx+NUVlbKoycCgQCLi4uEw2GWlpak6SUQCNDS0kJVVRWhUIht27ZJM14wGMxbnNLpNFVVVXR0dBCJRGTumGg0Snd3N9FolGQySTAYlMdLtLS0SJV+Q0MD3d3d1NfXSy3TRz/6UXlmFkBrayvPPvssExMTMr+R0FKJ5IVCMO7Zs4eamhpGR0cxDIP6+no8Hk9egkfRdr/fz+HDh2loaGBhYYF0Ok04HCYajdLR0YHH4yGTyXDgwAFisRg9PT0ycaZwHBZtrKqqAq4+8DQQCLB9+3a+/vWvs2XLFrkbDwaDHDhwgK985St5DtfRaJTHHntMOl8LkiSiCaPRaJ5ptr6+Xh43EwqF2Lx5M3/8x38sE5dWV1cTCoXYunUrX/7ylzlw4IA00wjz7Re/+EVprnUch56eHgzDIBQKSUIdDAbp6uqio6MDyJqwRCRiR0cHMzMz6LpOfX09iUSCLVu2sHnzZnw+H+3t7ViWRXt7uzQ527ZNV1eX1ErC1f41TU1NHDhwAECe6agoChUVFWzbto10Os3mzZulFqOiooKdO3fS1NQk+/gP//APi6YkKIaKigre//73Y9s2TU1NBAIB2tvbefbZZ9mxYwdNTU14vV6ZJ2pxcZFQKCQ1wCKztm3bbNu2jXA4TFdXF47j0NraSnV1NYqi0N7eLrXChXCPrdtXsZAA1dfXy1QU4ny6QCDAtm3baGlpAa7Opi6gqirRaJSPfexjUgsl/KiqqqpoamqisrJyzUjInp4ePvnJTxKJROQ7KghWMBiUZvRCH0ARgbhjxw48Hg8TExPSfzMQCFBTU8OOHTtkAk1BYEt4cKE490tMYQkPJAoF9t3EP/7jP3Lx4kU+/OEPs2/fvnt27pQ7xFz87442g6t3pOtxmC0Gd0ST8E8S2jj3mXgbeQd8Ox1S3QEBbr8lYZIB1tUfd8pJVghxYZ4rVu6dgiBBheWudbyPqMvg4CAvvfQSR44coa2tjc985jPU1dXlOfsDV/kmFT5rLXPyRoYIfFBVlfn5eS5cuMA//MM/0NLSwpe//GXpz3UnidWturLc6/vvF5SocQn3FHd7cRSmQqGRELhbkTHFIExQYpFZr7PpzfSdWNiEaaXQodddj42K21m/wmeJFAXuaLP1+p3cCQIliNO9IBHFCJKIUhQaY1FHAXfUZywWo7+/n8HBQb761a+yY8eOPDPj9UjpRp+HxSA2ImNjYxw7doz//M//5MKFC3JjJgJX1sJ7hXg8CCiRpxLeU3AvRrt376azs5PW1tarfBzuVl3cZMV9tMtaYeBu3KpAFZoFEd12v+3ybxXFNG3uSM/1ojCf0e3UihVG17nreLfg9k10O1IXkkURZVlWVsaePXswDIPFxUXKysqkedbdV9frp/uVOAgfvYaGBg4fPsyjjz7Ktm3biEaj696c3K9tfy+hZLYr4T0LsaMXmYg3OnlYr9Ap4cYgUh8I4S5SBFxLQ3At3OnxuRdLdrE2XUvTJlI9uFNvXI84uBNi3s9zXATGiP5xH4ZdLLEorI7pet7xte5d6//rRcPd6/vvV5TIUwkl3Ccokac7g0L/Grfz943iQRsbN0G6kWSIhSa965k0HxRzlZhLN6pVu5vk6Xp4UMlToX+jGKebrU+JPJVQQgnvadzuJfB2O7Nf69m3Wvf1OMKL69Yqq9gzih1SLD4TOaw2uqb3XuC9vkG623TkVvq5RJ5KKKGEEkq4rSimpXLv9N/rJKGE6+N2UhORINhN2NdjSr4WHmjyVHpBSyjh1rAe7cda1200lNaBewu3sHpQ/JtuF27FbLfWs+7X++8U3Bnxb4fW84GPtrsfFvUSStiIcL87bh+WYu/U3Y5UvF0omY5uHWuZEt0aJve5h+IImRJpWsV7mTy5j4xabxnrhduf0X2M0O147x9ozRNcHUlTWixLKOHOYyMuKyVhfW9RsgRcH6U+uv24Hc7hxfCeIE+QnYyxWKxEnkoo4RZwrYznxf7e6CgJqVvHejRPwmFcaJ7uVeLPjYrbqXm6H3Gn1gzLsmTiW5/Pl5evTOBm+/OBN9tBdmDm5+d5/fXXOXr06L2uTgkl3Hdw79oK1eyFC9/9ZMK7n4jeRsWNkieR7+hBJAE3i/c6ebpTSCQS+Hw+Hn74YQ4ePCjPFV3ruKMbwQNPnsQLbFkWL7/8Mt/5zndoampC13WZvAxu3yJ6JyZ2aYHf2BDHeIi/S7h/4M7uLvy5Su9bCSU8GNB1nUuXLvGFL3yBRx555PY++7Y+bYNCHG65tLREc3Mzf/3Xf01zc7Nknrc7V8rtTgpWWsw3Nu6Eo2MJdx7uw5Edx8Hv95fIUwklPEA4ffo0//Iv/4LH4yEUCmGa5m07iuo9Q55UVcXv91NRUcH27dvlKd/uc6M2quArLeb3JzbqfCphFcKRVBzAK84WLKGEEh4M+P1+NE2Tx3DB7VmbH3jyJIiT+wBUwzCIRCLA6inXJefFEm4HSoL3/oJ7Eb2Rw4BLKKGEjQ9VVUmn0/LvwsCWWyFRG4o8uXMyCD8l8ZnH47mp/AyFzquFDnnr6bx7LRDvdfnvZdyoVrKkbSqhhBJK2BhwB7rc7nQFG4o8QX4kT6E3/M1oh9yqOiBPLb8ewVgYBXEt3OhhkCVsfJTGrIT3Btzrm5L3ybXegDu9rXMd8CI/KSyzWP2ubs2tYO2eWKv9SpHv3L3q3IZarQXx5PX00/Wuu5nxLSy/sPfyZ9e1nnDrcBOnW9U0FWJDkSdFUUin04yPj2PbtgwnFNlB6+vrbzm80E2C3FFS67nneiHYaz1rrZDu9aKkebp3WOtlczsWlxzGS3iwkJvXeUTFLQJda+i6nlIoQIutZ9ejQKufKesQrtemOet9R50idSgIBsIu+nlhPZ2r+m091LRYfa53T+HYrKevCtroKuYaCROuWfbVV1yvNndm3Sw8X/F2YkORJ4C+vj5++MMf0t/fTzKZJJVKEQqFaG1t5WMf+xhbtmyhrKzspoWUW+AJZ/H15NS4VnZyQaoKnU0LB6tEnu4/COKuaZr8rNh8KZGmEu5vFNfoKI4Dio2NDY6Komg4uWsV1hZ52XtX/1Ec98Wr9wsUX+Hcgg9U1w3u669FxQRlcWt6ipVbnFopFPaLKp9p5/5T8+5xWC1PgbyfvJJzHVCcnK6FdbiYXFX7/CILqZ67XqLudq5eonXFtGhr1c/dn+Le1XmQLcFx9etac+hmqGUxuI9leeDJU0VFBVu3bqWxsVH6PM3NzRGPx3nhhRdwHIdHHnkE0zTxeDy3vXzTNEmlUiSTSelodq/Jy70u/3q416kY7iRx0TQNwzAIh8N3ZL6VUMI9g0tCuXUsqvjDdoAMaA42NqrigOWgaHoRoecUPFDJZxS2Be4NiANYNmCD4qAo4n7F9VsDtFXBLS5RLRTFzJWjFnn/cxc62ecoio6Nuvpkx0LBBCcXeaVqCBKUDwPHhowDqpatkQXomDnR71oPMg7YFoqqoqhqQdvJ1sVQVj9Tck2309k/VCVbSBHKVRSOA1Ym+zAFULL3K7azGlEGoKmgaLn/LTKOje2AoeroBWROdKMNZACPDaotvsuNgqoUVM09brn7JQuzc/2kgm2DYoJmo6gBTMC0yNUlR0TsbHXdQ3G7SNSdwIYjT9FolGeeeYZAICCdxE+fPs2LL77IT3/6U7q7u3nkkUfumCBLpVKsrKyQSqXIZDLA+oXzeknAjZKFO0mebpV43Gqah1s91uNOp5mwLAvIZqQtLy/HMIy8xKvust2ayZIm6v7Ae3acClQ3jpLlEgrk1BNOTogp4FhZ2YwDmgW2mRXejpX9KTRvOTnp6uigekDTc4XYYGey90jBnyNQjrV6v1RTeQEfiu5BUXP1UmywU+AkstJeUXLSGpeKRJAnQNFB86NhIOmPk87+WOmscFd1rtbRKKB4URwvHkcDTSGT+87BRMkkwfKA4yVLNczss20FMAAtR95syNigG6D7sJUcIdEAKw2ZJDiZbH9YQptVSKByP4qW7UtdzV5vZ1b7UyVHlJQsyVVyjDgFmJns/R4PqseDrnvR3O1N2RBPZsmtqmDooClOtp6Wqz/zOll8mcmRUCc7bqrQECqgCOKmZZmSEwfDwTYU0AIYWvZJmdx08Irl084ROSU35NwY7payYcORJ4CysrK8sMJUKkUqlZJpBu7kgidMhaqqEg6Hix5LUYi1fF5uV7LM2zEZ1nrGjX5eCHf/3Ez73L5DN0ue7iSBisfjxONxqZHUNA1d19ftL1dCCfcDFGEWcwAlAZkEWCroPlCNnP4nAakVSCyCmcgKfwR5csHJaRuUAHgqoKI2J0ht0ExYmoREbFXDYOeIkyOMSoI8BcD2Q3UU1ACoOYKSXISVOXBMIJPVashyxf0ABuh+CFaAr2y1LDsFqWVILkMmlb3PLrw/p/nyhUDxQWUUHYMcSwHLgvgUJOPZ5+mO1CaRIdt3tgMLSyw7Or66JvSGFmwyqGoaLBNGRyGRhoy5WqYgntlRIY86KBoYRpaICSJqZUkgmpP9CfvAp2UH1NZg2YS5pSyJra3HqKwBXVvlPokVWJyDiStZFqNoOKqSbWYBJwYlR960nE3PyRI/xwQlA2oGPEq2fEMD1QBbh6QDi0kWU3HU2mq0MgM1EMDWs5xtaiqBR1Noi/qumkq3sqTfaRK1IcmTqqqcPXuW3t5eFhcXeffdd1leXubQoUM0NTXJw/68Xm/e+Um3Q3im02kymQzhcJhIJCKF840Iytt9ttdGNtu5fcduBuLMq5tt462Wfz04joNpmsBqRuobubeEjY33rOapAArkFApxWJmAuTEWljMEmzejl1cDNqQXYOoCTA/A4mSWxGCtPkE4JTlZIbyk1RLuOgjlgazwxoKVaRg9BVMXwU5kSYRt5coW74sFaGTUCCl/A0FjP1Q35ghOGhaGYPgMrEyBFc9pX7iK/KSUIGlvFb5oN0b7dtC9WUGfmYcrvTAzAon5nNbHyml+Vu+3FA28ZcQDDYQ79kJ5FAwfmIswPwrzIzAzBImFHHlRIZmGtANpBUwPw/1TzCohanbuo8lvoId8oFuwEoP+XjKXhlici5HMZNC1Qg1YPnlSFBVV1dB1A9u2sZ0UlpXAdtKoho1mWFTVlUGZka2P6YM5i9GxOdKeIGWbt1G9/WGo3wSqD5JpUsfeIj58jtREP0FVQ7WySgu7qCOSiqppOZkIqmpjOyaOk8JRU9hKklDEgxo2wK+Dx8iSyAWVhVmLgYRJ5Y69eFsV0hGDZT3MyYuDjF0Zp6YsjL1zC12N3qvn5U3gbqy9G5I8pVIp+vr6ePXVVxkcHGRmZoa6ujo+8pGP0NjYiOM4+Hy+vHtEAszJyUlmZmZYWlqSGgLHcVhaWmJxcfGqsgq98cVxDbqmown7NTe2yLqdi28HbnYiuAmf4zjyMM7CiEV3GOfdFiYbXYMTCAQwTZPFxUUMw8Dv96/73pJgLmHD4ZpLiQ1WEpYmsYfOMDwxT4vfT1hTUEPh7Hdzo0yeehUnNoKumICNoubPcx0bS9GZ1JuoCTVS3dCa0zJZ4KRITI0Su3gKbWmcgJ1AkU7EWahZDytiegV27VaCjW0QqQfFyBKcxWkWhk+Tme7Dk17EzqSxULAt4etj46CyopaRCjUTtDw0Nm8FXc9qvzJxGDvP8kgvqdgYmXQCB8WVfTpLVGw8pNQwC+EuNkc3469szJkc4xAbxrr4FvGxi8QXZvAYKjqgWDaaopFOKcxOOly8tMSUEqRHL6Np/wGwFECFeIblC31ceeMYc1PTWLm1wrJtHMfGsR0cR0FRCjeGglA5oKRASaBqFoZXQfda0NWEP6xmNVx2hJkpmxNn+0j6grQ7NpWbu1EzS+BTIRlHu9TH9Mk3GRs6g8d20G0tJwtUbGXVwVyUrak6ipojT4qD7WSwSeEoKRwlSW1DBbX15fiCHhJOCnQvc8NJxobSjDl+yhJ+mr1tjM2McWx0irf7BkguLrK9tYn6unJamtukfu9WcacPKN+Q5Mnr9XL48GF27drF0tIS586do7e3lxdeeIHKykoaGhrktULo27ZNLBbjRz/6EUeOHOH06dOk02kMw8CyLDRNY2xsjJ6enqJlCh8W27ZRVBVVE8RJ5IZwrnrJs5CG9jVxZ4To+p4pEosWc7BPp9PYto3H48k7FLUk9FchzHSpVAqv10smkyn1UQn3N9zOzG44JmSWIDGBujSAsTBLZrYR2+9H9QWzpjcdQn4dJ6Fgmya2YqEqObfg3DuhkUHFQtNtbMXOL8tj4DUU/H4NNQU+25FkSUDDxkLBpztYPiVrHlI10DxACjTQdQtI41VN0CwytiOlWfZ5DpbqoHoNVM0AxQOKN8eMVNAg4FFQdQvLcVA0FdsCRVXR1CxpsVBJahppvwdV13Ne42rWbKWDZjj4dAuPF7xeA1LprPZMtfF7PViGjpaJ4/f48OuerNlN1bLX2DqG4sVn+PFoHjKOjappLuIknN0VKYdWx0nJ+YXZKKqNqlnoXvD4bbyGgqHZZGwLRbFQNdANFcNQQc1qlFTLyrl/WWgOGKiojgKWjWLbaEr2+U5urggjpqIAqoOqaWiampMZWWd8J0e2ULKRyUbQh2EEWElZKF4DxaeQzvgZW/HQf2aY88lRLsdTXFlOUK4b6D4/lqJIa6Isk/VKOlf3OM4dJ06wwciTWyiFQiHKy8sB8Pl8pNNpXnjhBXbu3Mm+ffvQcupDoXHSdR3bttmzZw+qqtLQ0CAJkdAEvf7668DaZMbd4aqq5qarIp0Qc545LgIlFo21ebLw27sVOKs1keWuF0Kr8+tf/5rl5WWefvppgsEg8/PzvPnmm3R0dNDc3CxNlCVcDUHODcO4plaxZKa7//Cem/PXaq5jgZWC9Aqk5jESk5jTlzDLGtBru8CohOgOggQgPQ/mMig5QYyy6qCiZD2iFbUWpXoLqBGykWkWeHTU+oeoCJVBelk6G+c5MGOjolKthsgEolDRBlqALGsKQEUrwe7HoXF7znndxuN+95ysw7ShBDF9Ndjlm8BfgYOBggaeOmh5FLViE4HkQtbsp2pZnx/IkqNc9Jrf1lD1WjyVjaCFyGp8yiDSDq0KRnkrmEnI2Nj9A8TmFrBQqWnaROWmKHu2KJiRSnytTRAOgeEFbAireHcfpLmxm4rFGBnbQjf07AbesrEdOycPV0lp/iBmne1tx0RRbDQP6F6HQJkHNahiaA5YHuoWTPY8vIJlBPA3d6DXtIK/AlQveC2Up56kuqOR0ORBvIBG1p/JUcFRs2TGKZBgjkMuFUMucMaxcBQTW0lh+G2MMi8EPZhopCwvy3UmV0Ixzk0tMGn5mL8yy0xawQiF2bWpg/aaCHvam+mor8XI+d4Jdys3ibrh6fxe8nkSmh+hCRGora2lurqamZkZlpeXSSaT0mwnhJmqqlRVVVFWVsb27duxbVuap9LpNMlkkvn5ec6dOwdwTROVpqqoioLiOKiqkiNLoj4OqiNjMcVH5C0ebjjcgtdbzhFalC1cCvKuyA8TLQbbtnnppZc4d+4cu3fvluTp2LFjAASDQXnW373Aeo7duZmjeW4XxFzxeDyStK91XQkl3JdwIBv1lgE7CXaCcmcZe2Ui59ukgVYOVT1Q1pj12zETWeKRi/ICcr+za1JICQKhrLO3reQcqlWo7IKGjpz2pNhmJHu/qnjxKD5QvaTQsQAPHvRIC5TVIhMIXSUks/cbGBiWhqMGACPnnaWj65VQvwvqc2kCckSJXGqarEO0Bo6FpqhUaiFAuIkooIegoh3KG0BJZx3Wx8dh0GRpPsWyx0tVdAfaQ49Q5asEjw5ksHWDTM7tXPHpsPMRVEWhDBvSCVDVXMRbrj+F2FlrXbFZdRzXlayfk5POEuCc7DMsm3onG3GIooOtkM6AxwG7IoBa0UF4awfheK7tiprziVdcYqXQc9zl2O7koiixc07juZQUtk0qCWOzKfqUJc6vjNOnjjEyH0NVPZRXh+loiNLdFGVbeyObm71EvFkujpZ9fKFkUwDbnaexeK/cNdxz8uTWNjmOQyqVYmpqimAwSCgUAmB6eprz588TCoUIBoN5B3gWCiyhHXCTJ0VRyGQy1xR8eSzVdqQDZSptoXkM0lZuTqOgoaA5DjK7rCLCS124nXLU9SwrN6M0xJR28i4qVqxlWaRSKdLptDRDtbW18Wd/9mdUVlZSVlaWd70Yk3Q6LU19Im2DQLFM74XZ292fCw2hgPAtE3+LU+2BvHG6G+rX9eJOOqaXUMJdx1XmO7EBVMHRURwPjuPDRnctLB5Qg4CVFciajE0vAh0wcpogUYQG4Tqkceaar1MuzF3RMBwll2xAAyWQNcOJiq/5DDWb+yiX50iuPooGRogsWXStL97C28VuVc+t8aKjVNB82c/tVJZEagHGLvQzceZdFssr6HjCwK9p4NXB0EHRUF0JEzByJMVxss82gmu0wVnbdKHk2qLl6mbnyKjmzZGanIlSUbKqpFweAY8nSztkPi8H8F7vUGwnf56Iz/Ts+JCxs9F9tk4qYTG2lObc+BxHzlykb3iKeNImmUrjc1R2bGplz5ZOOpobCHpUQv7so1ImeLNZIXBXLb/N+c4z11cd3Dncc/Lkhm3b9PX1cfToUQzDwDRNqTWKxWI888wz7Nix4yohXKiRKBRymqatS7OxGjKffaHSloPhze5Y0vqq85zugKYoqM7qrskp/OM2aAxFplfHyU50BfDnokQtHFKpOD7vqgNz0QCJXJsymQy2bUsz5pUrV6QZdMeOHQSDQd555x1GR0fxer0sLi4Si8UwTZPq6mp6enp46KGH5HE5y8vLDAwM0N/fz9TUlHTiDwaD7N27l9bWVjKZDIODg1y+fJmxsTEZ6q+qKtu3b6e9vZ3q6mp0XWdoaIif/OQnNDY24vf7GR8fx+/309bWxqFDh269M28Bbr+6Ekp4IKGQ2/abQBpIoTkWtqOSfxyKBkpQ2lKs3G/3FXn+KldJNx1H0XPmoGsvk+IZKvn8zEbDxnPdJdZ9f379NGwlm3zBuY7kdd8vdGrZezUUxYPmeLMaHRJ4LC8hS2fF8ZBU/Pg1L7ah4yhqnv+OyF2U0dSbymNUrI7FPitsmztjODg4OV+1rGO4ctX9+f1XzP8kO/AWYOsqcUtldhHODKxwdmSGS5NzXB6Lk0wb+HSVjo5NdEdr2dlaR0dtEFJxZq9MMG2msBQwNJVDBzZfc144BX8X6MPuKjYUeVIUhZWVFc6cOcPs7Kz0M/F4PLS2tvKBD3yAbdu2Sc3StQhRoVOviLpz/wgiIRzMRDSa5WRVuRlFJ+3AyJTDiqmQyU0UdxLUqxTGt8PMmltwMgrYSgbVzmZ79TomId2hqTaAR7UIeP1c2yKchdDkuP11RkdH+c53vsOnPvUpotEoLS0t/Pa3v+XIkSNUVlbKEP1YLIZhGDz66KO0t7cTDAaxLIupqSl+97vfcebMGaampmRfer1edF3H7/dTXV3N5OQkvb29nDt3jvn5eem4PjMzQyKR4NChQxiGwcDAAM899xxdXV00NDQQi8WIRCLYts3OnTulFvJe4FbyUJVQwv0DK2t2UdOgpsioGRyZ+duRl6DmzHuqhuZo198oFnyvkDPW3aS0K0hCfcOQ5d/kvasExCZLNrP5pyzFIqM4ONhoZAAb1XZyhWUXdTex1HO+tPdGm63kkaOrUMwSunprHpLA2AIMTq0wNBnj3YtD9A+NMb+8gqaqbKoI0xatZs9D3ezcXEm0PJsS6ty7M7x54hjJVBLD4yFSFuLggc1Fi1+rGm5dhVRu5iK4RRLjO4UNR54eeugh/vIv/1I6g9u2LQVyVVVVXoqCawkzoSUozPpcmPTSPXHFOTiKrqEbBgkdTgxk+P9e+C1T83ESjkFGySpeFRxsFGylOI26lRci+3QHU02SUZMYlk3QgpCVYntLLX/0kSdpqNIxLQdDu3Y5oh6apkmTnWmash+SySSO48jvVlZW8Pv9fPCDH2T/eHqiMQAAIABJREFU/v0sLi7yX//1X5w5c4ZTp06xfft2lpeX+fGPf4ymaRw+fJju7m50XWd8fJznn3+e06dP4/F4OHToED09PTQ1NcnEo0tLSwwNDXHkyBF+/vOf8+ijj6JpGplMhnQ6TTweJxqN8vnPf57y8nIikQiBQCDbw/coym0tzVMp6q6EBwqKndU+qRlQzdVIOUCsb1JI3Ut7yQbHA7HJUhCe4asf5FydXLnFWUjByDwcvzzG2xeG6B+fYWVpBdVMUxEIsmtzOw9vbmVzUzUVQQh4wO9krYiZdIzpmSEymQxl5RHKVeOapOl60+1uT8l7Tp4KtUPl5eUyyu5G73fDTYzciS6LaasKSZU43tBWYcWEi4NjTMwt4S2rIu1kneEcx8YEMvKe9dVrXW3Kkae0msJSU3hy5ClopYhWlpNSNCzAK4nT9aeNOw2BW5Pibrc4/LitrY3NmzfT1taGpmkcPXqMhYUFZmZmicVixGIxfvWrX1FRUcHAwCDj4+N4vV5GRkbo7+8nlUoxOzuLqqryvvPnz5FOp5mfn2d5eZmjR4/R2NiQyxxvyFQJra2tbN++g87OLoLBQJ6GcSMRlQdigSyhBHBt4Q0wFcjooPgxnSUCHh+aJnx+SiiKDbQu3Va426VkydKKBY6WzQPadyXF5SvzXBi6Qv/oOJPzyywtJ6gpD7G5qYnOhjp6mhtorg5SWw6e3PmAek7lZXghFPKwtJRA19KEQzoKdk4n5j7CWJGm42Lm4XuFe06e3Lid0VTFNEzXOmZFfO84DlYmq/GybfD7dFqbGwmEV7B0HzYaODaKY5FRFUyFvNxPt0uoOkBGNbGUDIblELAUgrZJwBfEY2S/N23XeUBrPSdXn2x78rVxhZnZHcehqqqKzZu7iUbrZL9pWvb6TMYkHo+ztLTElStXWFpaIpMxmZ2dkf5pAF6vB5/Ph8/nY3x8jGPH3uTixYvMzc3J8kdHRwgGA6RSKYLBYI482dTV1dHY2EAg4M+rq7s9d5tEiX4rEaYSHkSsCiED/OWghLI/1hR2agUnk5KO1WJjKSPdSsiDXbhGuJy17rseE/xFzckbYC4D88swPDnL6b5ZzvRNMzY+TjK+TCQUpKOpni0tteztbqa7oZoaPwSNLGFSdAsbEwWdDOALaPiDGiuJNKqWIhhUUEi6fOyyRkWHrI/Zmq4y62jKnUgA/cCSJzfcmqVrnYMmyJPtZAWlz4Zt9RD+2GOkHY10xkHTdTwaGLqCo4ClONiKcvWA3sKbIr0Mcj56qg26DT4bAopNjTd7zNN1AyRkXa722XEcu+D/1TPmDMODpunyYGaRqV04fIt+euaZZ3jyySdpaKgHwLJsNE0lGAzh9XpJJpP88pcvcO7cWf7wDz9JT0+P9DH7+7//exKJBOb/z96bPVlyXGeeP3eP5W6575m15FJ7FapAEARBgE1xESmIokh2m0n9oEdZS8PWPEz/A3qY/gs0DxozvchG/SJRNm0ibUQtTYoSNwGgIIJAAahC7WtW7svNvFtEuM+DR9wb9+bNrKxCoVBFxFd2K+8S4bF5uH9xznfOCYIUwTMUCnlKpVJbNvSEMIVhmEW8ZcjwyBA/PDUnK8cWu40KQD+CHJ7nopz0uJx25WX3YdMilxo/P2rsi0zssZ5ILxR/2AxgPYLLdzd599oN/v2di9xdaVBruDgmZHasj9NHpnn2+CxHJvsYLkJJWeLUal8RmQgpJBEa6bh4uRwIGxHp++1VQ9pl6/s/tseFJ4o8PUrcb4Lt7OhSymbEnTbW2uDokEHHoTDhY4StyShMXMfSGLSJ4miF2Ni4xzZ3JjrbY99SgQ3CxNGsxl4sT0ocm4IkfbT3b9Mky4k4TUB6QOy0ygmisLWBhDCFoRWF5/MFDh+eJgwjgiBkZHiU/oF+trcruK5DtVptrre6ukqjEXDixAkOH56mWCzw2muvUa83Uplgk+0LtAalnLb9S+u2MmTI8KiQPKYl95UL7gD0HISxLYqBQ2FkEtk3YovRRrHSpVtqlgx7IDnP7Vn57LD24ZzH3awzLSqyc4m0CcCgCGNX3VIFrs7XuLGyyTvXb3Pj3iJLqyHV7ZDJkUGOT09wYDjPsclBjk9Z4uQagyMim8LAselutI4IdIjrOBigHjYQjo16FEbgKDdOvpmM/TY0QOxzfmulGhOPhcj+ypKnRwOb4dVTgIijEkSSf0xgcB5LuGTSflzP22KfPMJoEFJSyBes/i9++X6ORiNECIkUkiCIiCKD1saKypO8TnEytHy+SK1WRwjJ8PAIv/Zrn+fq1av89Kc/ZWRklNW1dYzR1Go1W7xSKSanpujt7cPoW9y+fZdCocT58wv827+9weZmmXwuh44MxoCjXKJIx+VPwHHUDuudvSk+8OnMkCEDsCPY22AzTw9PQo9L79hhm3+o7yB29Alj950gyTCdYQ98xBbyzq2bjneWyKVdZBEJwasBywHMb8LNe3UuXLnOz3/5HqvlKgJB0XM4fnicZ48d5PjcFIeneun1oWjz6FhhuemoviEkQjgkhEgqB6MlJlLoyMVoH5tsq6McTZdjaf/N9mORooaPo05rRp72gESjiFA7hNmGndlD9oDeY8bfNcFcCyaKmjk7TFwoUhubTOz+EBhNXA07rl+noVzessRJOoRRhOc55HN5lHIJggjfzxGGBscRhKHND+X7OZRymRgf5xvf+CY//tGPePOXb/Lf/8//ThiFlIoltra3eOWV3+Sll17C83zOnfsEq6vr/Omf/ilSKqampjh06BDW2iRxXM+mRQhDlHIoFntSWqwuR5ON1xkyPGLE45oAcKE0Dr390BdCpMAp2t+liE3YBoPMqNMTjKQuRvIp+T/O7BR/Fs38TpbiKCoGtg0sViOur0l+9ItbXLl+i8WFeWrVBr7jcmh8jE8cm+b0gSIzw5Khfp/ePHECUAMqzl6VZJUHwCCFQDaf+gU6gCgwRKEkCh3CQDWtTu2Fotudd+2zqaZlNXu8nomMPO0Be0n2ZzbcEymC1Mmj9qPy0iLVKdLj3H42Ha/6xS9+kRPHT9Df349yFLMzs/zX//otzj5zlmLBZrf95POfZHJqkrm5OQYGBpquxhde+BRzc7MMDgzS29uD63mcPHkMMExMTnBv/h6RjjDG4Loup06dYqC/H60jXnjhUxQKeW7fvo3RhsGhQY4dPcbIyDBKKoqFAp7nMjc3x//+R3/EuWfPPVC0ZYYMGR4WYudbE9HMbKnil4gVwzgk1omMOHXHDnfRR/C0J9IWxUTf3/wPkllHI4iwV7QO1A2sbMOtlRrv3rjN1dvrvH9tge3NDXwZMTXWw8m5w8xMjnDs0DijRRjwI/KuwqFFzEycUV7IhPJojIkQwsEREklM3wKFilxE5GC0wmi1a79qUz61hdm1B2s9Tj1sRp4eEokFp8nq09bJPa7fPgxNO6C6MKwHbeaVV34Tra2FKQwNhw4f4L/8lz8gilplVz7zmRdjK1W7D/m55z7RfJ8eG44cOcLJkzapWaMR4nm2O21v1ygWrfhvZnqGubmZ5npJO+eePYeSqlk94ODBKf7oj/6IMGq1kyFDhg8TaQWMQYg4g4/WEAY2EaayYssAcAU2Tj21VqZ9akcbcemAftyRws3diC1BJkVBRCtfUw1YrsJiBW6twevnb/DmhUtsbWyjwoheD44dHOPU7DifPnuUmfG8rWQTNfCFQOgQEWnbb5SM58LUttJFjo0l3ioE2VCoyAftY7SL0U6Tt6fPUqIUS3w+TwqyWeoB0cZuhZ34nwZXkuMIkstt39u/jpOuEwiJkastxccu7123ZRFLE56EOEHL8tV5jlx3p6YJwFHtXbKTdGXIkOHRInF6CGNAN6C2Chv3MNUyomcAigaRH7Wl0tqSAme5nxApAmqSqmvtEWIfwU513b4xtpxOIveoGZvWa3EbLt6s8ON/+yU3FpZZ2timvFWhxxGcmZni1OwBnjl6iJnJEkUXPBOihMZRniU0Iu47KrFapl9xIJARyCTDprSePWUUjvBwhIeSnn2YTh3Bk46MPD0AOgvf7ndCT1ZL16BMIPfhptWRXU5H+1/naUSWhy9DhseJ2M3SnAY06Bps3oFbb7OwNI87NIE/EVI8MICQbkoE/CTZAD5qJILlRGtkLJnowO6U6lFZ8MzOt6ZlxomkrVoYAdUAVrfh4o0NLt9d4Nq9Ja7fmWd5dZ1ioYezc0c4PtnHs7OjHB4bYHwoR06CK+oogngDsfg7MQklboSk6HMzwlAgYtGuiIsaCgG+9MipPL6Tx3dy+I7X9Hw0m+x+dLsf92NERp4eEA/jV+1GmmD/ZCFZ7ledXGTWpQwZHies48aKeGMxeKMCm3ep33uHtdu3KQRVVGkSoWuAm8qNmd2snTAIoliEbdq+p90elWIFJkW82tHexgOd7SZxk03ddoglTlsRlBtwdwXml7Z44823uXjtKvMrSwz29TE9XOLw+ATPnTzFkQODHBqTFDwrxTYNQLrYQsiCpuVRm1jTFPejlHDbYI0MO+QqClzXQUlBznHwhMSR0s6VqXKJ7RGBTxYy8vQAeNjcER/UUtTKX/HB2nlakNZbZciQ4cNCEnll4uRyGhrb0FjGD+YpBYuUmKQg6iAC0AHiYSOaOk0Ivyr3t0nOnUAjiYQiEpJI6yZjaJKnHdOHjslTN6rU+mavU9UKQDJIdDx4ttYywpKmOlAFLq/Aeze3efO9K1y5cpXK9gahrjEyMcqhkQFePvsMz0wfZqoPCi7k3ZZzViuQSbrx9E7pEDAYLRDKEiht7L6JVMxB2yFKUELgKQcXScHxybseQQCqS/LnhHhGWhMGAZHWuK6D5zgx9Xz81qeMPD21ePpHoN0IUkacMmR4HEisB4mLJZ7wjY3BshoehSFxx8Sv/czqnZvZ6/PTipg02adjRVnDupZsaUEgFSl/Vrx8Wg2dPommSaJaiMVBbduj67lL6JdGISU2d54UTUH4RgNurRiuL61z4eY8NxfXuXbzLitLi4wP9jE9fZTpw2McmxrnyNgQgzko5sBrGZaaXaPr1kWc2FLI5v7s1kWah2AsV1dCIo3AlQ5KSoIgII/bRofS7k4BlDc3aTQajIyMxN+J5jl4nMjIU4YnGhmRypDhw0LK9WIiwEZLISKQEUKHoFNuk4RAZfdkCrGbSjhQHKBR6Ef1DSFyBUCijWnm6Os2mCUkIZ22suWs6nBa7VjdIMVO4b5Qghqw2YCNGtxZg7ev3uX1t9/hyu07BFFEIecze3iCs0enOT47xZHDo4yVYNgBL27RaMCkMo8L2f3aSxmTyPYfrfarvb80T0Fky3GFge1jJtLoyKB1BE3ytDMVq5KySZpsHVqNcj4aEfBTTZ4eJg17qyRIhgwZMnyckZ504ylcKRtyKz0i4aKFg8bB6ljkh15N4alDFNlT5+UYmJ5jIjDUB3rJ9w2CVHF6gpgOJW+A5OwlVpVulpN2p1+7DgiSq9GyUBmspWlLw3IF7qzAhetL/OLdi9xdXmGjsoUjYGygyPHDE3zy1FEOjQ4x2p9juAeKtAiBAaI4FU8Snb3TphRH0sUfZdsvxhKvlAuxE9rAZnmLIIqoBSHlra3msdg2dqqdtNZUKhUASqXSR0ac4CknTw+KD1rv5nHVzHnakEQDZsiQ4elBq46Ypql9ShIbSkUU63is285qWUzaivCR7PVHD5F+p1z76nMYef5TiIkpomIBd3AYHK9Je2werY54u5ZJCtEmiErepx/ybZ5tnfq2RZ4sKhrWanBlAS7P17i1us3F63e4e3edoF5lZKiPwxP9nDwwwNHxHk4cHqPXd/AdWxQlvXkhkjJkyX60tmUMcZ+wCaS1sHqutFexk/jtgAGjJduVGqGGMIyoVGrNQxe7rCmlpFQqdW/zMeNXijztFgm3G+HZs5CvlB3FcwESJv3R640eJOJvN3KzVw6lpDTLfhDpCBkX7W00QhzlNBNt7tZ+hgwZPlp0T+go2l7GGIxJ4stbCiltnoRR8AmAie1GOQ/nmTOMz82B60DOFsNVaHQsDNfE3LTbae+qDkr+2t/SFCYCpFHIUFAzUAYWNuHmErx3bZ63Llzl1uIK9aBBjy+YHSvxzPHDnDsxzfGpHgZ8yCvrccPEbZuYoon0PqSIdUyaOitv7BTC73ZMKcQ5NY2WGCPQ2hBFYXONp8FE8dSTp/2SiPtZjLTWXZZp5aqwnyzXT2rt7NXibnu1n07Rhf7t0eLeMMYSpyQDeBBEbcktO5eNYr/zg2T5TkhmGBoc5VhTtdl/HqwMGTI8frSPKsmIFgEBmAaOaSBNmDhm2pbcuf7HFHE4mTYglQDfsyel6U2TCKKYPllZuBR7EI60orrDRZZ8E9feZSu0GqC1AC7chX+/dI8337/F8so6Qb0ORjM53MMnj03xwvEDzE32M1SEgoK2XMSJy60raYqtTSTV8h4kX06XHpJ0M23nGik9JAFgc0E9Tf3pqSdPD4q99E72KavVq9s9zTS7T+zAppXAqf1OsGSi1Q2MMc22OknX7uSv8xGlGfC66/53bUVYUvSP//iPrK+v89u//dsUCgVcV+0gN0LAyvIyr772KtPTMxw7epR8we/ecPPYQCmBjuy6b58/j1KSiYkJZmdns1IrGTI8wWhJkruNLcmk3WkPEBlxShBZs40MG9aM47kxeYpj9SUp0tHSObUh/YVIj/kSjBVpx3J+IuykrYGVBly7F3Llzgrv37zH5bsr3F1ew0czMz7I7MQgx6fHOXlwhEMjDnkJyhi0sQknkjQHO6PoTJzxILYwiRZ5S7612aza57n7otNraSIboCdMLIl5urTIH8uZrZsVqut3SAzpWk5JDIAdOkyHgLK5RKpTaqNJ555t9wkn/uP29Vt/H42bMAwjfvjDH/L+xff59S/9Oo7jdrU+6Qg2NjZ49dVXMdowMTF+X/IURda9F+qI8laZ//k//18GBgZ46aWXOXjwUEaeMmR4QtGiQsnk7gA+iCLIXqpyA0/48feJOcVgcGyU/tPgW/mwkTAPDayvwdaWjVgcHUa7DvgeOpY+C5sl6T7uh5hhmHhBkcw1rbQDoYKVLbi0CL+4ssarr79JeXMD5XoU8j4H+n1eOHGA508cYm48z0A+nuhTuaeamyLejgmbRgFL30Qb6WtFA9L2697YYwkTkyeRGBCMjUzsWOdJJujZzNYVSVextXaEBnSEcJJuFWHT0tv8Hnu1I7DZV5VMKpPHTmZjUparmMFLQSs3CLSsT+knv06qtY8uLCRBEFLeKrO5uUm+kAdyhKFtK9E2RTpicmqSb/1v36JYKjLQP9A6klhEmNZPNRohWmscx/r3daSpVKoMDg5Rq1VRSqIjbFF2bdtPatoFQasAcKMRYoxBKWdPnVVyyqSCej3AdR3kw1RazpDhY4w0aWo+myEAD2QfjJ4GKZge2iLXMwUHjwNJ5kKr4BGIln7n4wwZP/1WKlz89l9z4+JF6n09vPiff4ehE8eI4odsG6tI9/PV5enZRvi3XHUh1k23beDdK1VeO3+Vt6/Os7xRwwQ18tSYHunhzNEZzsxNMTPWw8SALeYcamvAkkIijYnF6aYVo2d0vB3TtCsJkX7YF9ZM0Ja3qjX3dBoE2OPbJh+L00JpHWCIMEJjhOkyu5nu7TwB+JUlT93E4/uPlLPrNcVzWkN9FWrbQCPuAA62wriiVa3aA5kDx4/TpNrhSQV1MEGrIqMQNiRYapudVeuWCUqIuFdJcPLYQatzlHowS5TjCKIoZHu7wtvn3+b1n79OuVymXq9z4sQJTp44ycTkBK7rsLCwzvf+7nucO3eOkydO0tvbS7VW4+6dO/zsZz8DoNFo0NvbSxAG+L7P0aNHmZycJAgDSqUilco2F967wObmJvV6nSiKmJiY5OzZZzhyZNam65eK5eVV3vrlWyyvLLOxvoExhp7eXiYnJ/jMZz6D5zmsrKzx+muvU63VMMaGqa6vrXPw4EG+9ttfy8hThgwPgdYIEo8tAlt6Awmlacj3kxsNwemB4igID4zBiMSB9PENr22eOwEEdTsXbJep3LzByoV3CcdHCbc2kK5DlLLr7ZAxtbfWfKaOYmGTEPZMh8C9Tc3Fu2tcnN/grRvLvHdjkc2tOr35HDNTo5wY7+HUgSFOHR5jfMCnlLdGK0dAGLejRTIjxdfQdOiZhMJG0LVITJpAdROxtx3KDnT5Jc27hCHSIUJqa6EQBrMj6lCnVniy8CtLnu6HvYhU0+NsQkvZ9RrU70B5AUx8s0gPa0iNYuIjgTxQBG8QisOQ77MmXNeByiqsLUJ9yy7vOJY8mcC+kr6hfHCKRPlBVOlAc3+6s/r9W6LCMKJarfDGG29Q2a4wf2+ehYUFzpw5w8rKCr/7u79LEITcm7/Hn/3Zn/F7v/d7jI+Pky/kuXP7Nj/+yY/57ne/i+u4+L5PX38ft2/fJpfL8Vtf/S1KpVJTM7a5ucnGxgY3bt5gY2ODynYF5Sj+03/8T4yOjtLbW2KrXObihYv86Mc/YuHeAqtrqxhj8DyPY8eOUSwUOXrsKLdv3+Hv/v7vWV1dIZfLoSPN2vo6L774ab6qf5OssnuGDA+GHaOEgFaqgghcF7w+W5uDvH0gBIywtdvsh4+vYLztmD3fkhDfITc1ytDWLGZ0CKeQg3oDt+A1p/+dK3d8IVu6pjCyeZa2q7CyDe/eXOLNK7c4f+0O99a30EjmBns5MTXMqcNjPH9ymplROwM1anZqUTKd1qAFA/aBHQOiIxUFiXGo2/woOlt5cLQdvyGKLU9SaRBhTOw6V3gye9nHjjztz/qUWJ4iS9/1Glx7ne03/5mc2SYUDg3pgwlQBCgTIZDURYkgN4EaO0nf7Cdh6oQtKiTXYfFdOP8vhGs3qdW3MULiKYPQNRwTgoQt47HlD1LvPUju4Fn6pwX5wVl2Wp52HBX362DGaKIwolQq8cUvfomRkRHu3Zvnr//6r/nhD3/IK6+8wuDgANoYdKSJIo0UEmMMP/npT/jpT37Kf/jsf+DsubOMjo6ytrbGn//5n3Pp0iW2K9tIKVFKEQQBy8vLHDhwgD/8gz8kl8vx9vnz/MVf/D/cW1jg8uXLnDp1ivcuvMcvfvELPM/jG9/8BtPT02itee2117h9+w7f/e53+eZ//CZKOQSNBhvrG/hjPn/wh39AqVSir68P1+1SBClDhgwPhESkIBILlJOHyLWWdZXDJJYLABxk7LJrufw+zhCWPPUXOfnlL3Dycy+hPRd56LANaTOpSLbOITplhUqLwQVQNbBRhX8/X+bty7e4Mr/IynaF9Uqdgp/jxOwUL8yN89z0CIdHi/TmQMXTgJ9rbSL2kDU1U6HRttacUFhNrYidcumd22su2cUd96AQYIRGmwgtQrSwJKo9t9WT7Rf+2JGnB4EWwnqrjYD1dTbWV4j0JkIItHARsaVFExEhqKgqW57GKwxQiDZwZQ3yPlS3QdVYX7yC2LyBCLbsU4HrEGGoRyHaCLZ0gaprMHoAdyQi71ix9v2p0f50T/lCnuPHj3PixHHGxycYHxvjO9/5DosLi6yvr9PX1x+nx7eIdIQQgvfeu8DyyjIvf/ZlTp8+TalYYnNzk3+Y/AfW19eRUjajGB3HYXR0lLm5OSYmJygWipS3ygwNDbG+vsbNGzc5c+YM598+z09++hOCRkCtWuPypct4nse7777L8soyRhtWV9cYHx8jjEImJic4ceIEzzxzFt/3UbELdLfcXhkyZNg/YtWjtYIHFahuQRBAoQ+j+lB+IbagPHCM1a8eOl1vSZTd7DQohWyEUCiBk2su3y2OLBm2QqAaWPeacWBlHW7cWef8lWWu3N3mzsIy6+srDA32MDM9xtGDIxw/NMzxyQEODLhJSimLKN6/jpldaIMSTcl6Mz9noinaab/fD4HqgvtNVqnfHdehUMyzXq4REeHl3GbGcNPcpyfXs5CRpy5IOpRGIE1gFXf5XnrHpikG6zYlPwqixIitCQQEKk+hMIzT3wueAOpWR+AoUC6lwVEcrw6NDWwdKYFWLrYetgtREc8ZQZemyLt99k56RJBC4Ps+p0+fYWBgEMcRlHp68FyPSrVKZbtCGAZtljljDLVajcXFBer1OkePHqW312Z3LfX0MDg4RD6ft8tqW/ZGSslA/wBjY2P09vbiug75fJ6eUg+e51Gv16lWqywtL7G4uEijESCE4OL7FzHGEAQBjuMwPDSM6zqEYYjnefT393Po0CGkEEghmikYMmTI8EERm0VMBGEFthZg9Q6N7S3oH4XSATx/rmnB6Lr603ovPpL9VgTKxy34lhG5Otat2l8jSdMZJbFqMWGsBikCatiSKht1WNyESzdXeeOt97h4c5lq6FD0FJMTw0z1+Xz++VOcmBrgwCC4UYQQDTtPJEV5tUGkg25SCU5FnHYgLfZIR4A/MpjWn129lBKKpTxjEyN4RYmXdyj1FHDUk0uWOpGRpz2gBdYXnBuC05+ndPA06MDSdumQVB8HgyskA8IF4YLfA6V+cErxz0XoPYnzwiBE22AasUBOIIUE6aCMQ1+oQBVA5DB+L/QMAemIg4eDMSCkwHM9PM9rWomKxVyT6WtjiCKNjlrPSDrSTfIipbRFHJPfdITnuW3JRcPQVmL3fZ9isWj3XYCjHIqlIkIIIh3h+z6e69HX18dv/MZvcPr0GcZGR/F9nzAKyeVyVKtVxsbGuHLlSrw9jda2CGQS7ZcRqAwZHhxdVZJG2sQ/tTIsXSG8+gY3Fhbpnz1DaUrA4BRK5HYoUpq+u27W3w/53uyW4uWxItYzG21whYoF5Bo8B6R95o5ES/bcabGLgJUqGA/ubcCbF+/w7+9d58bCGqvlKhAy3OtzZHKEz5w5xrHJYab6FX2+NXTZB3isfikmHcLt0CUJdmxZ2DV3hCC1f7q/lvZ+57wtlqdTLiVhaHiAL37p12iEdaSvg+8mAAAgAElEQVQDpVIe11M7Fn9SkZGnPWA7vYMRRVTfcSgdiuM+4/gJE4KIhxMRe5dVnPM+cXQrQPSB6IGxqfhJILLEy8S9SLqxYC8Wl4eGoFHHNXGqhHbJ4YMdg4mfRoRAOQpjNL7fsvNarZKwiS51YvONXwJ836e/f4D5u/PM35vH931KPSXW19eZvztPo9GwrjNpI/qMMUglkVI20xEYY3AchyiM2Ny0bs9CscDExAT37t3jE5/4BIenD+P7LtVKnTCyJV7y+ULTLed5HrlcLnPRZcjwCGCtAh3+JxNnF9frONs3cVZvExV8VN8UhDVwvdhp19HQRzjVfSAC9SjInbLPwWxuEC0tsjx/Dzk0SO7gQfyeEo6UmGZhlVZ9OiOgAlxdg+t3N7l66w43Fla5cvMelcAwNDTE5IjLkckcZ2enOD4xyJAv6UlKqkT2gI1UzQPXphXQrY31NtwvFq6bPPt+SCcraK11n5PZxQxV6BHkix5CekTa5kRMFnwaRvmMPO0BaWzUgU5SEQgHVJxWwCorLfGR7fWk7ZVPXX4BeAnXF3Fkntv6Ld0VTQRK4OV9Wjn8O0V6u3XWLk8Hgjj8U1OrVel8qtA6stYl18UYjVQCqQSu6yAEeJ7H7OwMq6sr/OD7P+Dcs+cYHR1jdXWFhcVFlpaWEELEtQAFjuPGkX1VPM/FGAijlsVqoH8AHWnOnT1HZbvCL9/6JZcvX6avrw8lFUEYoLVmc3OTKNZfNRoNwjCMidTTY9bNkOFJRDLaJEJxizhcXIk4dYrA1QJfC6RRduxrKmZSq5ld6Eu3wKwPcUbcdRMftmU6xOrEqLH66j+yeOsGy6UBjn31m0yVjsa+uZiiuIoaUDdwdxWur8IbF+9y8dIl7t6+gcEgheHE2DCzB0o8e/oQRw4PMdTnUqKVtCY5rjB+pm7OCiL16CtafKXbKUifr52P5ukestMKlSzbJFEitcFUC21v0p7EOCWDVE1vI0qCQqKjlM8v+fuEDvkZeYohhGh7Qdx9DGjhIIFQeDtkSN1oTXtHNJi4vWY3THVsOpbf2V5n1++21u4wxiCljZrL5fzY6tRqM4oCfN9ja3uLKAoIwzBeXuM6DlprPve5z6Gk4vs/+D6vvvoqAEPDwyws3GNsbIyhoSE8z7oEwzDAcRSFQoFarUZPj3XXea5HI2gQhAEAZ8+dRUjB0tISP/j+D/ibv/kbdKTRRjM6OsYXv/AFRkdHkVLhOA6u68bkTGSuugwZHgE6xylrbTYQNYCIHCE5QpxYYtAO3bHuPsalDyG3QTLFd232cYwTBps5uLxOeOkdyhffpjwyBS//BwgOg8rZnH8KqsBiHS7eavDWlTucv7HK1btr1Lc3kZFmaqiXT56e41Mnppnq9xnqcykWJTl2uvy0aH2ZJkKd7+93CvZ3imxLomN2SxO5/bUefxayWZCYyDpjRJzgXqrUUWrdYldPIDLylEKaOEHcZZqZwCXqIeV1Dz9edK75ENsWtjL617/+dT75yU/GhKTVIb/61d9ic3OTyclJ8vkCx44d4/d///c5c+YMhWKRXM5jbGyMFz79AtCyIgkhWF5awnFtdJ3ruIyNjfFbv/U1fN/n8KFDzVQCk5OTvPzZl9GRZmh4GNfzyDs+x48f5xvf/AaX3r9EuVzGcS1JyufzHD9xnP7+fvL5PF/96lcplUqMjY1lxClDhkeG9GQY/xWx9glBKASBAF905P1pzsrGTuLxl4KUsTx5SuxMMLTbs+BD7v2OJh7H+JBmKQoIFIg82xXD1nqdmruNr7G5AD3Jah2Wt+D6Usi1e0tcuXWbW/ML3Li7hJEO0+PDzI5PMj02wOmZKabHSvT5Nn+yk9pkGtK0NEXdD3l/J2L307/zQjXnvl040c7pKj5RJiblHSRsY7nClcvXqNaq5HIe/UN9zB45bK1pAlAyrgv7ZDrxMvK0DyRk4+H0Nh/0wj+ajvOlL30J13VpNBpNS5QQgq985SuEoSVEjuOQy+X41re+1bZuLpdnZGSEL3zhCziuQ6VSoVwu884771Cr1Thw4AClnh583+fXf/1L+L5LEERNF1tfXw8vv/wyQkgbKSft/TQ0NMBLL73ISy+9CCT6LOLM5a0cThPjE2hjMqtThgyPA7rl0NMiLkYlOshTXPQ2wmajlkIguujGd1jVE+X0Q6GLjakbGes2mT/suGG6WD8S2Ubi8woiiKCoBYMIolDjRYagGrEuHW7W4MoKvHNtjdf//ZeUtzdxpMb14ciBYY5OjfKpU0c4eaiPYQ8IYkG4y84cByL1ajvMdFH7vW1OLZfaXhei0zlHN/9eR4Ppbaf2oUmcNOBY9zCKe/N3eO1fX6MeBJR6ikwenGBkfJSe3nyr6SdY45qRpxhpQpFcsKQzPskXcD8QQjStQJ7n7fjdcfbuBivLy/zzP/8zP/vXf+XunTs4roMUktm5Ob785S8zOjoa65s0ng0DQcUhccn97Ditcg73i5Jznfbkl1KBjO/QnZfi6b42GTI8OYgf+eMSURqXiBwaH0w8bjTvW3s/O2kJQievieWhslnbshkUllrIfi9o1cxM1m3e62kBzYP4oT6oz0qADQyi49hSFhiJdcsJiYgMjvBw/D5qFFnbNry/HPDj89d4+9JNqrUaW5urOI7h8NQYZ2ZO84kjBzl6uJ/BHPiAB+2zchd+o8PWuUk70e5roUl8fwZMZBBKdB8+0xVR0lomYyW5QnTso44gpWtt1+omqRGsfEUpp1kQuFzfJnIjlleXkEVJLarRiAK0yaOegmE9I0/3Qacr7+MGY6BYsqVStNGEQUitVkM5ipnpGY4dP0apaHM/aWNaN/UeDzX3sx4lg2hSjDhDhgwfHlrcQIMJwTTANBBoDBJtJBjVMiYkIVo6LRjuaFS2jwFCxpFgaeuFsasp1fpsF97lvt/NXfQokLbmpA03O0Ws7Yiwpba0pNEQVOsOq2XJW1fXuLF0hbfKIVcXNlha2cY3DU4cmGRirJ+j0xOcnhpgbqhAyYsn4sTKlPztLB+YMuQYHXOUhBDtp9Rg2lqV5FBQtFvrkpTkyX50kFHRLUOqVO3Mt8tm2/RaWqElmJxDRdaouwENp4EqOvgFDy0MEutlaPavJxAZedoFTdH4Hlfu45Ldenh4kOHhF3nhhU9j4mKSQkicVDI2Y8BpWuwevMMn64gUccqQIcOHh7STp9s4ZlDUGgKzHeFs1AlxUIbmK5QQpC1PMdIWIwMEUYB0JPmcQjk0yUlSDz1q1ajFGMjlsJN6XN+tUglpNBq4ykGadq2T6PzcbL41gBgRJ3sREsd18HxaoWsaojpUKwH1eh0/n6dYUIgkrkaCrkOlqmkEDRzHwYhkuw6+Bq8RwGZE1R8m7D3EhujlzuUlLgSrXC7XCFD0ex5TfXk+dWiSZ05NMztTYMQDFVlLUqgNwthEw9oIHEe1rC9xoHZjywbuOQrCgKa+P8mOswM7LqlBSkGkNcqRiMQ7FhLXbrHe2EhbLqTiOtEkqRGC+JqE1lOJtrqrJMtOaysdvDatATfQwBA4IcZ3iPJQc2tsRBu4PQ7VsErJz7UsmU/wPJCRpwx7Ij2m2pIo6pE+CXQjSYn2aY+HmQwZMjwCtG6/OH2KyIEogOihKgQrqz6hqZKv3KXWcFBGxilctI3C7zIWNGUPaJCGWlDBzUkGBns59czBJtuSCq5eWmFtbQOAwYF++gf68F2FkBAFsLkB167fZWV5Gc/xkUYgTCI5FghMk0C1BOuiWX4EQGOIhMEIw9jEOENjQ/QPxrXdA9hcg/k7yyyvrDIyNsz45AgDI3GuvhC21uDe3SXWVlbbkgiDxFcu+WqDfHmLm40+9MBxGuTZrJeobTcY94fp7+tjarCP4bymd2uTvuo6/Y0cKpSgQDagvFZhZXWDlbV1Cj15pmcOUiw5TeJUWYFbN+6xurSOicBRHkbrljCfNEdJ6EuaTsapKDBIRzA41M/oyAilPgU5e5z1Lbh24xbblTK5gsfE5DiDo6U2dnr+jRtEkbCFi0MQRmGkQKdItMHQzG2V1jtpgzaamqxRdWvcLt9gw1RYp0wxn0d7EZGJCNFIA0rIJ1qVkZGnDPtG1yTCXcjPg5CrzmWT9p7gCNUMGX5l0Lz9jMCaIvph8Dis1RG1kOV5n/K8JFyaR6k8JorQOsBSksRV334TC5mQJwFKUAu28PKa2SNTIA62ucfqVYc7t5bYrqwxM3OInO8g+nqtFqoBYR3u3d5gfn4ZV3ro0Nj8wtrY5L+0W6ASGpGO0dJotAiJZITGY+LAEDqKuVEI66tb3LyywK07t0ErCkWf/qF+OwaFYBqGe9cWWLq3ijSKyva2rZbgKCIBfmRwyhWk6sXxqmAUTlDnYN4nkhI/DMhtbVHb2ka4VZbuOkyNFciN9NsdrkN5XXD3xia3bt9mdLyP0YEBisX+JvcJA8Oli5fYWCkTNMBTeRKzUFObG59TkZz72KdnP1vyFOkGkW4wMzPF6NC4FVrF2KrUWF5e5eat6/QP9eLnfQbHSm3Xdnl5lbXVTaq1ECU9MJJQR0RotGkFGoCxXQrAaITQGK3RIiLKadaiNXRPg8hoQkK0YzDSNJVbRkddBHJPFjLylOGJQZM4PcFPGxky/KogmWxbcEH2Q2mGcEwiwpDq0ga1apFGTeCIAKMbaKHRQiN2canI+MknwiAcSWg0Umm2yuUdloR6NaRWDajX6myXy7E5g6bxpFGDWqVBdatBJQqQxkEYhUC2JNJN4hRTJtOiUckkrgWEMiKKaAYLJporW2VL4WgHxyiUMS3iVQMaDRrbIZVNw1a5ShRJpKPYCOvUTISHIB9Cj/YZyrsUhaTQ1wOOR70eIKXG0wGRCXBVhIoCTFCHmgYvKX+bR5CnUYPtcpV6rWZn58BeFqUEnutTr60Q1iEUCmOsLiiKNMZoS5eEQAqFQSKFwiZkBoS2BexNA8fRhIGhUqlTMjF7UtZiFEQhlXoNt+qwXa20NFUCiGB9bZ3yZoV6LcJxIyAmTyZqkjgDzdyGAMJoq58zEUZqGjpgm202ozXoC2g4dWqySihCwDSLc7SjW2f7aCeKjz15SnRLSY22zlfncunP3b7/OOJRHv7H/FRmyPDh4n4aEiWhdxgHwaAu81xunI1th0rdloryHIkWBiP0Dq2TjlMcyFi4aIRBE6E8qEfbDA4VO8RR0DsAh2dGCBo9jI4M0NtfjEPOrFuvfxCOHBtldLzY1OYkpCGxPMVNtemf2g/XoIUmlAGjE0VyBWwQnQblQE+fy4FDAwwMKEbHehjsyzf1ULIAuUGfoSOHqBa36Fc9bG7VKG9V2F6YZ6u8RilqkA8rNFZvEKoGXk8PI0OT9IwOI9wckVAgBKGpg6wzdmCQQv8wFGRTK5QfEPRVfI4Vpin1OBQHik3NmDDgF2FkYoienh4Eiig0cVSyaJU1MYZIR+jIoLVpeQXiC2WIMCLCcSUT4yP0jviWAcTLuQXB1PQ4wo8o9uQZPzCK1raIBgAOHDs5bQlkCK7nY4BQ2+TGO8mTZcHSGAQGYyIiEVHzGmx7FW5Xb3B58QJaBBiitig9YdJWpx0qqvZO9BHhY0+ePq7QWrcly9wPugnBdyM7D2NFyohThgyPEd3mI4nVPPXlKekKXm9EX00QRApHCVxX2BrCIuUqokWcICFPAiMMQdTA9RSV+jY9CSlJbXt0rET/QJ6gEVAq5fA82Yw2U46h2COYOtDPaNAL2upgREzOpJBt1q8WkTIxX0jch1bvFIkIozRuLk6PEJcH6e338NUQ0gyhFOT7cpZc1QMix6WSAzk5jPIHuHZ7nRvlbTY3t1jfriDrVYZ6XA54PsHiGu7mAtIdZmb804wfH8XkCoRCIaQiNCGRCSn05HE8hQ5jobeC0gBMOsNoPYCUEbm8jW4UMXFxPJg6NGFJi7L1QsMgwGBwHIlMXKXGNMufaJPWZ9kzIZRASUEu5+GW4usdk6tcyWFYDdAzmKdYyuP7LtKJT2wsHJ8+NsV2uYKJwM/nrJ4sNjxo0yI/Jk5RIABpTJxk1RAKzbZTo1ZoIFbqXFz+JZFsoEWYumrJBp9sZORpn0iiN9I3ZCdEl3ed6+9EazTZa/0PimvXrqG1jjOJ521UR0yguuW2SurIJYTGmoeNNQvvQ8jdjJ7BPkHqiGatOsfpLjrXqRrLGZHKkOFDQDqCqVs0kwHqGup1lFQU+osUkgnUZ3ek20nuXYldKYQBXbDl8TqWKfX77fuTXsQRIGFooqf7du6Hzn1qC35pfe/3CPxCy9pEfLy1nMtKA1YasABcWl/hrZtXuXr1Fg6SHlczM5Hj7EQ/zxXgxu2IyvoKdTwGhnP0HOyHnGfbdQC8ZkHfRIyebM8twWDJoW1KTtI6xOPi6GShPfpN+K3jTJ+7Xc5nVzT7gMHLO/hFByh0X1ZCYdijMOy1r59G576k9yduoy4MFRrMV2/iGIlsgAwFvvRwhRtfBrGP+TBz2z0VkE3fccfnTuxyPYW534UWe67/QVCv1/nLv/xLrl69yh//8R8zPj4O0EycCdYSlf5rjEGpVJ0/YYsIGyGQ6v7sqZNg2VQg3ddLLFptSfIy/VOGDB8O0taflL4oCYpqrFVYW92gWquTK+Qp9fVRGirsbQxIR44kFWqTfFCqZUFpTa5NX9LuY15SSz2933uOB10Y3F7tJ0jregQExvKaJQOX1+H19+5y8cY8Fy9fJ2yERFGdmdFhjkyW+OzJCT43kKe3skbtX7a427hHI3Dx8gF4DesGFamkV8kYF8X7ls6p1OmpSvYpfR7i62VEKrmo7B64k5CitvNBa0xtevVEhBAaTKtS7049HCDj3AR7GQI6s3d2nn8BhoCAKo4R9HklBnP99KgeZCBxEh/hjmv25E0EGXm6L/Zz9+22SGrdbn3uMfQHrTVCCG7fvs2VK1doNBqAJU6J9Ukp1SRJqo3giDZXnefZ7hKGBq0jpFTI+EedunvT1qnEYpV8382qFIYRWmt83yUMza7LZciQ4dEgiXAXnV82DOWFRW5fvsLqZpl8Xx+TMzOURmbvU1ql02xkXzrCun4AE2CtT4mQh2RwSa27nzFyVzFxepA17QfYzcKWEkyZEBoGtAuLWw0Wtipcvlvn/dsV3rp0ncX1dUQYMVbIc+r4HGcOjDF9sMjMiKLXc2ApQLoOWjmEUlkxVajjInRYhbpI7U9iQdqNEKZJbbJMLG3Sxrocm1nY5V68cvdBNNmEiHfEpEOcu/EjFbO0TmbVJOHJOU9nR2VHWReBxEExXBzhc5/4PMszy/T19DEzPIsjdiNPTx4y8rQnhL35FUQiiidza07UUjf7tiLON9LswrbzGCMQAkIdIaXVALTcc3Y50+q67G5vffieJKVESonruiilyOfzRJGNjGg0GtTrder1OmEYEkURhUKBXC6H53ko5VAub6G1JpfLkc8XUEqwurrC1tYWvb29DA8PUq8HVCtVGkGDfD6PoxyUo5BSsbGxTqVSIQgCAAr5AvlCHs/1UI4lbSvLK1Rr1WbtPd/3yeVy+L5PqVSIz2VGpjJkeBSIDUxNKGFabCqssb22wuKNm9xbWqJ3ZJhSfwnkbJxoMpk7E9NwutUYomWlT4iTDu1nYTrXSbMDseMhs/m2bfLVJKkS7AOeiSPMEn6hSXJAGVpJC2wUYNxiXHbEiDg/pAt1YLEKV5arnL9+h1d/cYv5Zc1WtUohL5ga7ufM9Bi//txppnsdhvrBi8o2iyZVCOs2lVJkbAZQHVmzUFLBNzkGHYuSlLR7rJOrEQ9yJnU+0g/f8WmVQGisaN8a91Tz+53Yu5jgXpyyK+JcUSYtMxEdf5smtfaWjE0agQDy5JkemmZmaIaKruBKF588bpw4LKkK8yQP+Rl52gPCJB0ZNnWZhqmDsqJFmaozrjC2+xqQWiEiD0fmUEphDNRoYAgJCQhpIDBIJNrkECKHMhGuiFDG4CBRWDGhctwUi/9gBCohR3afDEEQsLCwwHe+8x1ef/11wjDEcRzm5ub4+te/zuHDh6nXGvzDP/wjQgjGJ8Z55ZVXuPT+Nf7ph//En/7p/81/+2//B1/5ylcYGxvn+z/4Pu+//z5nz57l1KlTjI6Ocu3qNf7X9/8X7777LpubmwghOHjwIC+99DIvvvhpBvoH2Nzc5E/+rz/hwoULvPjii9y8eRPf9zl16hS/9rlf4+ixuQ9yCTNkyNAFbfOdic0DIgBVJe/VGSgZ6uWIohNQcG0IuZAJEekkTsn7DvtHas6WjuULhjg62aRcPN2sVt1/oS3yyiRTuBWo23eCyCib+Rq7PWt9l/GEb9AmQAqBwSMEygbWG3D5doVfvHeVdy5fZ3F9k3INhPSZnShy5sgBnj0xzexEickeGHZsHiolS9DYhCCgEUkcpxdFDhkKMLH5PHFjdj2WjvOWkNjOE2B2fq2k3LHITuxteZL3WWbntpNH/73Wadm0dnxlrBREIuNMDBpP+oTxNXHS0o37HsFHi4w87QGBQcqIGg1+fvXfePf2BRrK5sVXgJEaZARRhNQCT3sUKDLRf4ijB09ycPgQIRE1UefO9i1ef/tVNuobIDVSKKIwj9E5HGFwRICnwY0Eg/kBDo4c5MyRZ8ipAh+0+6RTMdRqNfr6+pifn+ev/uqvWF9f5/Tp04yNjbGyskK5XObb3/42X//615mdncP1XC5fvsJmeZPPf/7z3Ll7h2tXrxE0Gly+fJmzZ88yNTXBzZs3uXDhAs8//zye53Hv3j2+93ffQ0nFC596AakkjUaDtdU1/v7v/46enhIvvPACQRiwuLjIrVu3OHfuHHNzc4yOjnLs2HH6B/pTx7DzuDJrVIYMD4fmdN02Q9XBrdDrrjKeXyXy1ygU8pS8BogaQnitNXdL8tSG9mUSy33qwz7Wj1Kf29dpJVQ0pCvJKhEXz5UgpGgWKQ+DOspVSOGikdSA5Rq8e2OVS/MbXF/Y5PKtBVZWKmAU42OjHJgY4cz0OCemBhjvU4z02kwKggjPVRAKm0QqAl/6EChMw1gDTVp7kOaVzROf/Jay0uzjtBiIyV968W6K/c73pvm/2PH77gR2J3Z3Eu7cF6x/EYkQ1uSQ2NmC2ELl4cdeGQvNTnvZkzjMZ+SpK5KOHIKEBjXeufEef//zH1CmgjYREo1SIRAQ6ghjJE7oMewPcXb6HPneAqPDI9jcqyEL5QW+//N/ZnF7iUAEGCHRoUJErq1ujcZHoaqaQwMHeOnMpzl8+Ag5VXok9svEVReGIfV6natXr/Ld736Xr33ta3zzm9/k+PHj3Llzh3/6p3/iT/7kT5iZmeHQocOcPHmS8+fPc+vmFo1Gg2vXrrG2vsa5Z89Rr9e5cOECszOzrKysoLVm+vA0UkrOv32ev/3//pbf+Z3f4YVPv8Dw8DAbGxv86Ec/4q++/W1OnjzJ9OFplKMol8sIITl54iQvf/ZlRkZG8H236RnYrVxLRpwyZHhwdEpWWt8akCG+W2bYX2bTW6W3f5JSUVixcOweSurFpjxJ6Zb3+LwTacdd9zW6uJxM+/fWG2ddYfaBSjbdhUTNuRvh+IRALYJyDTYD+MWFO7x37RYXr91mYbVMtREw0t/L+GAPp08c5PTxI0yPw2AeXG0rmZgIAqPxhIzHbglODpUvoXpKmLyPdhW4ewXW7GBT+x7ju5+r/awsUv8/LPa/nQTtcQnWmaoxlOtb1IIaWgZICVoGGFNESWGDDGLL2m608KNGRp72gAFCIgIMVRmyZepsUUUIjQ0qDRGiQV0aGlriSUVeRNR12NTVKRQhIcqVKE9gqnGLUhBhMFKipURLQaBdPCUJpY79+I8m14UQopn00/M8Njc3WV5eplwuMz09zezsLK7rMj4+ztzcHD09PdTrdarVKnNzc2itWVldAWBjY4MoivjiF77IjZs3uH7tOvP35imXt3Acl/6BfjY3N7lx8wY3bt7gL/7H/+AnP/0JUWifILe2t9gql6nVamxsbDA4NIjneUxMjPPiiy8yNjaGGw86zYc2gRVIdnnYzQhUhgwPiTarU+y6Uw1ghZKapyRX6CseIZ8LsPFndp1I2FDyjnqwD7X5Dnn3Pvc5sX6lf9AgUjqcDgmpUfYIqsDiFly6FfLzd9/n0q273F1YoFarks/lOHJonJefPcnZ2SlGel1G+qEUi9yliSdMBZF2bBkaA7gu5Ets9fTCwYMITyHyuY4j22knEgK4bxT2R4X9WLIerJlEkxZhiDCUG2Uu37rMwvJdhgb6mR6e4fDAIXw3jzamfbzvvNxPADLy1AWJeFvjAi4hIZ+YfR5f2eKFDqA0YEKMiayiyUgc7dGrepnuPciJwVN4YR7HUbi4HC4e5BvP/ybrlVWM0UghCSJNhCBSdkBytEtJFukL85yePEbR5JIdemRIou+SVxiG5PN5hBDk83lKpRK5XA4pJUEQ0NvbS39/Pwv3FnjnnXe4efMm+Xyel15+iTt373Dh4gXee+89XNfhwIEDFAoFlpaWkEJSLBZ59tlzPPfccyipUI6iXq9Tq9V47rnnGB0dJYxCHMfFdVz6+vr2vi5P2t2TIcPTjJR8ycKx4WZRHkwvQgU0Ahtd66Ja7hc+oolsT3WzTIWf0eRXgbFRdA0Ni5twc1Fz4dodbi+ucu22JU45T3L04BhHpw9w/PABZsYHOTisKCrIq9jeFkuYkk2otAjcc6Anz+Hf+BL1jTIzOY/S8IgVihtDqzhux1nbj+fzI8OHcIVTOouIiM36BlfuXOL9qxc4MDFJwSky3jtBD/mWnv7D2ZNHgow87QqBlW/DAD18evo5jo9P4+YcXHxsQUbrvouEtpWgUTjGo4cShchpJoXz8JnMHaD32R6iqI6DwhMeWthq3yEhkdAoXHyRIx/65GThQ+k1QgiklCil8Dyb7Gx7e5tisUgURWxtbTXF3Z7n4TouIyMjXLlyhZ/97GeUy2XGxsw3YI4AACAASURBVMYYGxvD932Wl5d544038H2fo0eO2ON1PfKFPKOjo7zyyit8+ctfjiP4HOr1gFqthufabS8tLWGMTe/veh6Os5epO0OGDB8ajAORB40CW/VeKo0aZhu8OuRxmmHqiTMl5Th7HDu3c1udYurEUm80CEkDKAOrNVjZhneuVHnz4jXeff8K6+UNpDCMDvZz7OAozx09xPGDo8xNeuQFOBo8hY2YE4CME/smMqzk4CXgKCgVyJ89QxGDcD1wHPujSZvAPoaIy5eZNjOSRhNQbqyzuH2Pxe158jWXcmOTwISxJmpvSfqTgIw8dYFB2KgANMIoPAEDxqU3N0KIIMChgUAKjYPVPUX2Gzzh4iIQDjQig6sEGoNB4qoijirhxf+SQUjTQGNT7duaPsIW00Q+8iT19Xqd0dFRBgYGEEKwsLDA9evXOXLkCGtra1y7do0gaFAsFpmamkIqmJme4d133+V7f/s9Jqcmef755ykUigwODqKk4l/+5V/47MufZWJyAt/3GRkZoa+vj6WlJS5dusTJkyc5duw4ADrSLC0tMTAwgO/7RLpVUFI94VW0M2T4lUGXgChwISiyVhtiYWuMexsRvcUCbsVjAKcZcm9TFHUSgg9jqovdYpiO5lvpBozW1mPnyOQrgoQ4aVjahrcurvDOpbu8f+0u95ZX0SZkqM9nZmqEF545wYmD4xwaEvT5UHBAxKVb7KYlWpumFaTNCwdxzgcNRqDyuRaJCwJAgnI/pHPzdCEJWkIkpEhTq1cJwjr1sEYQ1XFchaNakg0dxV3uCZ0WMvK0K+LcTbFOUtQFjpvDiWw0hxTgSoknHGya/ACDJtQhSkI1qpNXfvMe8/HJxfUN2vqDEWB8bAxHbBP+/9l7sx+7juve/1O1pzN1n9PzPHEmRYmkBiuSdSVTluw4zoDrXDuJX5KH3PuQPPkPCBAgMJCb9+QhQB4S5AY/4IfEgJ1rx4klyBI9ShYlSyIpcZ6azannM+5dVfeh9t5nn8OmRFKiSEm9iMM+wx5qT1XfWuu7vsuzv0Y2jP+hw1U61REB13XxfZ+5uTmef/55rly5wve+9z0qlQrLy8usr6/z6KOPsXPnTnI5GzYcGhpiYGCACxcusPfBvczOzuJ5Lv39/ZTLZX71+ut86UtfYnZmFs9zyOVzbN26leefe57l5WX+/d//Lz09P0ZFijAKCcOIL33peWamZ3Ck9YA50iGKIhzHSTlPm7Zpm3a3zHR6bmKGJrrMUjjGQr3GpWpEWOul1MxhhwoNRBkdIj40LtgQw3UsIOhEK6b9MvFAnBGfrAHLIVypwtGzy5y6dJ3jZy9z7sJVmo0Gvu8wOzHKjtlRdk8PM9VfYG5Y0B90EenTDlrgJBvPOr+yA7pS7d8F1vPlJGrdHxDk/MAT8Am3zLWxchGgY9aTpoUWTYwMaaqa5QIbRWQMDgLZDVjvM7sl8FStVrl8+TLVahWwukEmdscllihTa61xXZfZ2dk0LPSJNBE7D6WdZ2nXIB2NkQaJwDdW76l9UR0wEk96gINHIuEGjmnrpN24H9oTLDqzC5wki+RD3jlaa3bu3JnWsnNdl+HhYf70T/+U73znO7zxxhs0m00betu+nT/+4z9m9+7dqUdoZnaGA/sP8PLLL7Nlbguzs7MIIdi2bRu7du9m/tI827ZtY3xiHLBhu7nZOb71rW/xve99j1dfe5XqehUTV/2enJxkeXmZXbt2sbq6yujoGCMjI6key81skzC+aZv2UVh3KKmTEByaHC1TJHR7aLkFlAgyDOd4cZMFNXf2EN48w67dyvayGy2ViBFDK4LVCFYiOH0l4ti5Kxw+cpzT5+dRKsIViqm+ErOjg+zbtZWHdk4x3g95Ybv6UIPUtm/PkpNvIKBnAKclzoMnsG6S8xfB9UBFMDoCuXwa6tzwyD/oBHzKzMpd2ZNosPSRFFrGjgIwGK0R2dTq+/T8fCB4CsOQ48eP8+1vf5t33nkHKSVKqRQ4ua6L53mEYUitVqNcLrNv3z7+8i//kunp6bt+AHfHkidFI2L9CSMl2tjSIVYUU8ejuRVowzjtayzAyWRRyI1C3hldCxPfTBuZ+JDoIAxDPM/jD//wD9FaMzo6miqNj46O8id/8iesr6+npVoKhQJDQ0OpKnkUGQqFIl987ovs2LkjDcl5nsOePXuYnp7m61//H4yPj1MsWjVw6UClr0xPby9/9M0/4nd/93eJVJQej+d5VCoVgsBndGyU//U//yfSkfT2ljY8hg3rNm3apm3aR28SjFNBuQO05BKh04Nx2kVzTTpfvNsjfxupdHiEENazE3/WAhoO1AScuApvnlzgV0fPcGZ+kWq9QbPWYrjis2d2nEd3zbJrepSxSpFKHoKYy62NQguNcJ10n6mTaaPoZMwaD+NlPSPg+jKnf/RjTr79DnJkiCf/4PfJbd1K6uHbUBriU246PugbxjCrEY8UaGHQwlgyfryYFMKOmRuFaru2cy/tljxP/f39PPbYY+zYsYNarcY777xDFEUUi0Wmp6fp6enh2rVrnDt3jiiKKBQK9PT03OCd+mSZyLxIa7ilPttEORY2nnxlSXICREfhzCTx4O6fG9d1McYwMTHR8X3igcrn8yn/KVvjLgn1ua7AdW34bs+eXXaW1woJQ0Uu55PL9TM42A/YYwpDhRASxxG4rmBgoI+BgT67TdWp1aQVeK7H1PTkDc/XJmDatE27W5Z52EzXZwfyeYdCTuJJhSuULd+SrvfRhexubm1FoHR/8b60Aa0lWggaQM3Auctw/Pwl3j23wMmLV7l0dZF6rcnoQIWpLTNsnxxgz+wIs6N9DJY8ir6d8kahnSBLV2KE07F3ge2DNqyDG3vH3aRBkYFayJUTZ5g/cRrRqFOvNchFyobvPqPWPf5rbQsLy9jhECoweBhcDE6cgiAy8DUbV77ZgHDv8MUHgifP8xgfH+fP/uzPAFhYWOBf//VfqdfrzM3N8fjjjzM0NMTZs2d5++23OXv2LIODg2k5ENf9NNCq3gf1pqF40xnfjX/TxrTj8ibTCYkbb667YVkwlMgT2OYaVByrdxwHKTvDZd2f7Tp20hUEtnhjGFqyt+u4SCema3lOB/DJvu8Wuez+nC0KvGmbtml3wbIenJuYH+QIghwkoRXRphNkK3PefUsGTVsDVAEtQAlBaGBFwq/PwbunL/Hm28e4cPkq1XqTnoLP1HiFvTOjPP7AHDvG+xkouPhEuLSQLYFwJJ4nMZn6oomytcH2j44x3FDkNvPXAYQSNn5XKNLXN8DU1DTVcolCvhS7UjbuzD6pLoXbtg7aiUjvHo2wBeZx0LjoDHiKV+R+P0u3hGxc16VUsiGVMAx55513eOqpp/i93/s9KpUKzWaTvXv3Mjc3xz/+4z9y9OjR1LPxWTYTAyeR9VLF9nF75LrBkBDitq9PIlaZ2M2I3dlDu53DdF2xWXJl0zbt47asd0WAMTqd2LmuLfLdvfjdbpBB2HZgJ3wKK3CpBawpmL/a4uVfv8fRi4tcvHSV1eU1PMdheqDE3u1TPLJnjq1jfUxUJEUJIgKMg+u5qbMogTZJuWCDdSQl3bXMzoSz8+d2QMGaI6Hgs/35LzCz9gimVCIYHYurIsvPrFJB9xgnhbDil8LWSHRxkErg4eLiI7TAka6VNiB7n93sjvsEhO2yVqvVuHTpUhrmAVLdoEKhQKvVYnl5mWaz+ZE39r60DePZCb9SdC6XZSJu2oa2CZw2bdPukcURMhWFKGVreAohbAHauw4AOtGJ7VY1oYFIuDSxZPB3zzc5fv4KZy4tcnz+OuevLGFaIZP9I+ycGuLBuVH2zg4zPeRTciAfS77gQFJUTXbNZTVxgpxsh+sEWaoGnULgCQc8GeFdCYUA8eBOgtVVKJYhyLf3ucEYYYsUf8o7u64sqVQnC42LQ0+uB185uKFDoD2KbgFPujgxeAIy5+3+O1e3DZ7y+Tz9/f1cuXKFI0eOpKrSy8vLLC0tsbS0RC6Xw3Vdoij6bHifRGcyCnRSCVIQdZPrfxP8tWmbtmmb9jFYZp5voBU2aLUaGKNpNptESoEC4X70/VTb4SW6vgEtXCIB1QiurBouLDf46a+Pc/i985y9vIwwLgO9ZSbGejiwY4oD2ybYOe4wENehk5qO7N2W0qAFjmdT5pXSCAyutL4ngS1cK1J5hO4WpY3tpOEIbJaddKGQg8DBZmvL1MvSQTMTJo5K3H+A4G6bLWisCXAZKPYyUhogGqwz3DtETjn4pruA6b1p563YbSOb3t5eDh48yGuvvcZf/dVfsX37dnK5HKurq5w4cYKJiQmefPJJ8vn8ZwM4xZZ9joAbShbd6j2QPJf38T2zaZu2aZ86i3udCMKwSRg1iVRIq9WydSn1B27gtvYEsaNLa+igFFjgorFhuvkanJ5f4fA7Jzj83jmurIUs1SMibdg1PsijW6d48sAOhoowkINBH7w2VaqDpyScBCTF/WziZsKkXiaRzISzzWHDr9IfDDYbW6omBLFen1E3kvGz9hnq4LUySKczCOcAwz39fPWpL9FoNSgEBSpeP4GwfNqsMsT9eqpuG9309fXxxBNP4DgOR44cobe3F6UUPT09PProo+zdu5cDBw5QKpU+4dl20Jld0sUWzOSCdEuAwPs8bBvYTXJZNm3TNm3TPgaLiT4x4NBaoSIrLZIV2N1otQ07q67OrztXKsU2ho4aCo2WXV5JuLwCRy8t8fa5eRauLXHp0hWuXV9GItgz1MfWyWEe2TbOjtEKfb0tKmXf1hy9sZtOzXME2mQo3LGGH7c4TnX0zckHCSLSCBXROH2CnGqxiqB3bgsUN5Ze+axZ1sNmT5lEYCi6BXorRSIUEhfPeJaADx3c1/vVmXBHYbt9+/YxOTnJI488wpEjR1BKMTg4yOzsbCpdAHxKwnYbPIVs7L6+mUt7o4u/kXzIpm3apm3avbG4lIILWkdEKgRuIbHlFuN4ouO9waDjQVWme1c+LNbh7BU4d73Ga8cv8Yt3jlFdX6XgGPoKObZNjPLQ3BiP755m23CenFOP2eDEmXFJmZaN6Maig8fUBkJd3NQNOuwNz0LyZaigWqN65D3mL55jtZBjd18fQaknlqsRZCnQJv73WbHuW0giUCgcXASCAB+DwMuE7LSyyUnyPqYJ3zaySR4m3/dxHCcFS1NTUxSLRVzXZX19nVKp9CkATjc30fV+I//UxrDr5t9t2qZt2qZ9/JbVE7HgSWvFLSOjD7Ab+zrLNVLCIbSRQlY0XF+H9843ePWt4xw7fYGVeo3Vlev0BJK9W6fYu2WaA9u3MDUQMNIDNsBTZCO0cyv9602X+QDglO4tcaEpA+s1Fo8e4/y7b7PWV2HrE08STOh4kUQQIVm//e8zwXvqOkSDQaEIiQCJhwcYfOm23YLm/h8j7yjb7uzZsxw5coS33nqLtbU1fvM3f5MdO3bQbDZ59dVXiaKIxx9/HM/zPtklWm7DusNt2Zp09/tNcCe2KSmwaZv2abK4rqaQaKNSDbgPbRuE8KxzR9AClpQt3nviYpXj80u8efwCF66usLJWp7fgcuCBncwO97JnZoTdk8OMFFzKAeR03K/KeMP3wgTtwsD1OtGFc4grC4Q6Imo0IFLgOjf6mT7zGUIGheF6fYmltVWiZohrHKZ6RhjpHQEnrit7n0PL2wZPYRjyxhtvcOjQIY4ePcq1a9fYvXs3n//851laWuKXv/wlp06d4uGHH6ZYLN6NNt8TEwkz8IaUOvsUpAri8e8yWT7dwL2/DYwxbdXz2DZyyxtjUl0oYyCKNJ53o9hbFBkcR7Rj05lNd29WKysY2m3Z9TvbYNOHhaRj+93LhmGY6tFcv34dz/Po7e1Nj+OTzbnbtE37OMxkXh+RZZLnjLAYI9Q2q1/h0NRwtQ6X1uG90wv8+uh7vHdmnqVqE8fLMdabZ+tYL4/vnWHb5Aizo3l6HVs+3bnHJJhk11rEQr9CgwixBVsiDBolACFiAGCz+JI1hcmQ0z+FZjJ/U6dCxzUTaDSrjVXefO8wS4vLVAoVnNm9DPf0IYyt0nzTerD3id02eJqfn+cHP/gB+/bt4+DBg/z93/89QRBQLBaZnJxEa41SikajcTfae88sQiKEzRJIzD4DSRxbdFxsW2Ly1q9+tvvqCAFu1J/d4U2VVRhP99sFaIwxKUnUqguzIXASwopaatVuYlaMNwFLUgikYzsZuUHDk/WTdVNvnSAV5EzF2zc4btd1CcOQ1dVVDh8+jOM4PPPMM3Hb7/Onb9M27eO2m3o92uAp60Vvf3ML2+3elCElYyd0pBo2i+7MVTh88gpvn77M6dNnWbp2Gdd1qBQCZidHeeTBHTww08dk2aEn55F3rPSAl8mgS0qn3atBVqf7VmBaBLpJoFv4RuHGx5+wnTqZV5/+fqkDQGXuOWNAC0OEYrW1ypkrp5m/tMBY3xizg6OEuoEvXWQyINyvbHHuADz5vs/a2hrj4+PMzMwQBEE6AHueh9ZWG0Qp9SkhjFvbKAsu/Wygo/wTN36+1X3cLYuiyJYcyNSv28iyoCOKrMJbAoC6LalesNHmxE3AUrd3SnYBpO73yXI3bsOkHjIpJaurq7z++us0Gg0effTRNGlh0zZt07qsExl1/pAAnpt6om6BTZ2SruNtGEE9gnXgxILi4lKVo2cucvTUAgtXV6mtLDFQyrNn6yRbJgaYGeln5+wYw2UoOZkJa2Y8TZXA7+DwPypzIFbYNFgely024mtDPqnzsmnWMreNTRfQNKIG9ahOtblOUzVo6ZAwUvguiAQR36fACe4APLVaLXK5HPV6HcdxUEohhKDVaqUcpyAI8Dxvw/ponyQzgNIaR0ocExMoRVx522DjSonp7hhTZJfT2JTYrErvBkzyJCwosj98RMSiKIpYWlpifX09VYUHW9MuCAJKpRK5XA5jDFEU0Ww2aTQahK2IViskUhG+7+M6LoNDQ6nHqVavcfXq1Y59lUolgiAgn8/jeQ6tlt1evV6n1WrdANwGBwep1+qsra/hOA7NZhMpJEEQEAQBhWIBIQT1ep16rY7SCh2/wFCp9NFqtVhYWOCtt95iZWWFkydPUi6XKRQKjIyMfOjzt2mb9qm0BOQkekSpt8RYIGDAMQKZEa0TSQCqw9OU9TMkGxFgbLpUXcPVGlyqw0+OXeXwu6c5e+katfUaI319DI/n2THRz+N7ZnhgZpCJAUEgsW7pdNSVaGUhnbzHWVhpdCA9dxpQSBSuUbjGIA1JaGITQ3WZwXqemqaJciO0r1BuhBIRoVFozH0fsoM7AE+u66aeplqthu/7SCmp1+u8/fbbLC4u4vs+Qgi01p9wACVQkcJxDdTWQUfxU+OAiUtJCiyISmNL8fFGEal2ipDguDG5MAZSxXxmP3FJyiiyaa+OZ7/y4l5CCm5Q3bwNcxyHv/3bv+XnP/85X/rSlzh37hznz5+nVqvxhS98gccee4xnn30WIQRhGLK0tMR//Md/8Oqrv2JtdY316joT4xM88ugjPPvss8zOzKKN4Uf/9SN++MMfUq1VaTQaeK5Hpa/Cb/3WV3nyiSfo6y8ThhGHXjnE//6b/82BAwcoFkucOHGcffv2sX/ffh544AFeOfQKP/vZz1hZWWF1dZXBwUH27t3Ll7/8Zfbs2YVW8OMf/5hXXjnEsaNH7el0bEmgP//zP6enp4d/+qd/4uc//zmrq6t8+9vfJp/Pc+DAAb71rW/d8XnbtE37bFg2FqZwfTAiQgqNawyO0enPIuOTalMMRExSTL8gQtIQsNKEc1fgreMXee3IGc5eWaXWbJF3JQM9Pvvn+nlg2zS75oYZLUM5iENz0Fk5PG6CzIYdRaYR98oS4CkEWlgdqcgRtDwHz+mYCn92zXT9jT8YDEZApCO00PHFta97fVlvxW4bPJVKJZ555hmWlpb47ne/y8WLF/nJT37C1atXWVhYwHVdPve5z30qyrMIDL4Q0KjDr17j2ol3kaqF0AKMRKCR0mCMRmuDyIS8VBQRaKt2q6RL6LiERmD8ANVXYWD3LtzxEaiUIazDtatweZGLb7yDKfWSn55hYP9Dsepb7O26A0tI0/Pz85w/f56VlRV27tzJzp07WVhY4NSpUziOwxNPPEEul2N+fp7vfve7hGHI/v37aDZbFAtFVlZW+MUvfkF//wADAwMUCgWGhoZ4+OGHY2+Qpl6vc+bMGU6dPElPT4knnniCWq3K9cXrnDhxgsnJSaampnj24LOMjo0ipOD7P/g+xhh27dyF67k0Gg2azSZHjhxhZGSEYqGI53scPXqUixcu8MXnvojnuQhhBfz6+/splUrs2bOHV199lYGBAZ5++mnK5TJjY2Mf3c2waZv2aTSBnZiZGImYkKDgMTBWwfEM/YNl/EB01Gmzc0KTSYoR6Q9aQcuDqyGcvgrvXgg5ceYiJ8+cZWm1znqtycTwILMjfewcK7FvboDR/iLjQ5YM3mFdkUPRPQ+/X1w68eHbSIXCCIFx5P3PeP4YbKMzkOYeSoEyikiHaBMhpOwQdbjfz94dKYwfPHiQH/7wh5w6dQqlFEeOHOH06dMA/PZv/zZPPPEEhULhE0vYTZ5JxxjwXKhWqf76bY796D+hvk4rihUqjMEVYLRBG4OQIq7dAypS5IzAUwYtBJHrUTcQFvIEW2Z4IGcYKDv4ZQdUE3XtMitvH+PNH/wHptLP5JNPMLBvD7bX2oBwdIuWhFQTL+DIyAhPPfUUk5OTXL16lb/+67/m5Zdf5utf/zrDw8OcOnWKf//3f+fpp5/mc597nOFhC2BeOfQK3//B9zl9+hQXL+5kx46dbN26lZHREaSUGGM4e+Ysi4uLHHv3GNValf3796eex0a9wfDwMAcPHmTPnj14rscvX/0l//av/8Yjjz7CU0/9N2ZnZ3Ach8OH3+CVl1/h5MlTFPIFxsbHuHhxnkhFPPfcc1Qq5RhAiZTb9OUvf5mf/exnNBoNvvnNb9Lf30+r1fowt8GmbdpnxDIkKM9lYnoM3w1YHCzRP9RP//igdU7pGD0Z26+0gZNVBW9ipQeurcG756v8+vgCR96d5+qVy5iwxvBAhbmBEttn+jmwaysP7wzIKXAFSEW7mzMbNO39mn0/WEKI1gYppK2X9wkd/+6a2XJ/gPVWOkYitUQogdACRzhIIxHmk0Gpv23wFAQBc3NzfO1rX2P//v2cO3cOYwzFYpHx8XHGxsaYnJzE87y70d6P1aw7Ovb81FpEy6vkTIgvBbgunhTWMWRi8JTJZlNC4gqB1AZhJEa61AUsq4iwWacVNTE6VsZ1XBwkZr2GW2+hcy1oNKHVhKAYi6ndmWmt8X2fXC5Hb28vjz/+eOo5mpmZoVwuc/XqVVqtFteuXePy5cu8++671Go1fv3mW+hY3mBlZYWFS9ZTtXBpgZmZWY69e4yfHPoJ7x1/j7AVsra2xrXr18jn85SKJaSUhC2rVOz5PlvmtrB9+3a00tTCGkuLSxw9dpRLC5d469dv4fkeUkhq9RoLCwucPXuGublZxkbHcBzJwqUF/uVf/oXZmRl27tphQZjnEYYhruvi+z7VajUF7kEQfOh7YNM27dNqN4ZGBLiSXH+JycBndHYI7YBfDOzSOrSUAjqBUyhsFt0a8OoF+NW7F3jn5HmuXF2lvlZHNBvMjVTYt32czx/YyUR/DyNl6AEcP9MaE+saCOgAdMnHD0FduKuWgr04iCnFJnB6X0vCcw7CuBgtEdoCKBEXb/kk2G2DJyklrusyPj5OuVxm27ZthGGYksUrlQpRFH0o8BRFUZpFlVhWs+du6/ckW9Y4VlMkXyL/uceZK5dwTYRjwBUJ58l0tEnGxPBIRWhpVT8cI3Fx0QbG/YDm8AD57Vtxi6MQlcAoGJpi4HMBB3qG0fki3viYJVzifCSprVprHMehv7+fvr6+NEsyebVarTQBIJ/P8+CDD/LoI4/h+T5hK6TZbCKEYOeunYxPjLOwcInXX3+dM2fP8NBDDwG2Svn8xYucOXsmXl7iei6O4+J5LuVKGd/38TyXZrNFpCJWVlY4ePAg+/fvTwGPVhqlFVu2bGFubo6hoSG++MUvMjU1hZSStfU1XnvtNV5++WW+/OUvMzc3h+/7tFqtNFzcarU+hQKtd5DCuWmfEvtoWSA3JtrFIThloJBDeDk8tC1A58V9nRukmW4GG5Va07C4DsfOr/LuxWu8d/EqZy9f58q1RUpBwNRoiR1TM2yfGGb7ZD+jlRzlPJT8WK/JZFrTwY3pauFG33V9c+8iHZbQbvWbuuBoCga7vrtfQo530dI7NsNNax+2BOMihI/n5HBlgDCOJdp/4GXsZNzdK7ujbDutNSsrKywuLqbfN5tNpJQsLy8DsG3btjsmiyc8Ka01Wmtc14ZoujWJ7raliRSBQD76CDMP7Y7pRy5oaTuWbLnx7IwjUu2zawQYFxT25Tk0Ag8n51vRE6mhPAiFCkMzW+3szvWg6PFhn7LUExZnRTqOg+M4KWhKzm22AGgul+PRRx/l6//j6/T1VwCb+BJGIUHgcf36MidOHOfUqVOEYcRXv/rbjI2Nsr6+zosvvsjyygphFMYZcZ3m+27aLs/zKBZL7N+/nz/8wz9ifHwkFccMoxDf92jUm+QLAb/1ld9iz54HuHbtGsePv8sbbxzm+9//PkNDQxQKBQYHB9PjSLb96bOPhkjZfUfdze7nZu293ePo5giT+Xy77dnIbradjZb/oH1+dOe3fdTdvudbPQ/dy3STvSHushKvjsT2UTq0D70XJ8eINnXACCs7sFiD5SYcPV3j7ZOneefkGS4vrxKGip58jun+PJ/fO8uO6XG2z5Qp5yAX06dECobiB/4WB0IjRHvdu8AqvtXpyQ27ToGTQBhhvSeJGOYGG71hQnyPGdIf5pnayETmleWuSUAKB4mLY1yk8tANEJFD3ssjTZyV/gkoYXHbGm2pQQAAIABJREFU4KnRaHDs2DFefPFFXnrpJVZXV2k0GqnmjlKKPXv28Dd/8zeMj4/fEYDKenGklKnw5gdpFH3kJhQkhPecA27OdibCw3YBWUajASeTtaJUOzUkCf0p7Ptmk5zrQ4i9AlKC8CHnxZuMt5M+dB+N50kIkeo9mUyYMQFVhUKB4eFhenp6OHnyJEePHWXv3gcpFIqsr61RrdXwfY/lpWXW1tZpNlsEQUBfpYKUDhcvzvPSSy9x5sxptm/fgRCZ89H1SPq+R7lc5qGHHuTChQu8/vrrlMsHyedy6DhMKKWDMVY3TDqSnp4exsfHmJ6apFQq8uabb7K4uMjq6iqVSoUgCKhWbeZfqfTJr2i+0cCXfH/jHXHrw/xtzds+sFN/P3B/KwPE+7U79uoiEq5y+q1Bx+79rvDO++1/w282svZol11eZ/YhNnh3e/vI7ie7VndqUps8m106C4IkG66yYVtE1/vuwQ0F6vp16ovXWK83yZf76BkYQJYK4No6dGvAmUU4OV/n8JEznDpzmtX1JZpRg7ILQ0MVHt2zh0d3zDLZl6e3AIVce7DR6f5FzG/pPrqNzQjRdWUynz5MF5k5b2Kj77MmbhLujF9SWHFkmfUubXTxMm8FJrPBDQ7kZh1BdhFBTO9I6uXdygmxG7K53nb5ZFQT7Z83tszmu5v3QXt2EHg4+Noh0A55AjztoVsbdRD3r7f9tsHTlStX+NGPfsS1a9fYsWNHrOfjdYCc6elpisXiHQGds2fP8t5773H69OnUmxUEAVu2bGHnzp2Mj4+nXqhsGZH3M611h3L2B1scHkRhTNM+mNKg8gERLjLprnTbfZ08eMkRRzEo0cY+GA4CN/Z+U7Dy89pYiX9XAkiUUTQlOFoTpOzJD+/i3agsS/a8aa3xPI8gCNi6dStf+9p/Z329yn/9139x+PAbSCmJQstd2n/gADMz00xOTjA2OsKJEyf4P//yf/B9j1Yr4R55+L6HMRpjErU4u/8o0riuVS7v6+vjd37nt7l69So//elPOHPmFLlcnlarRbPZZN9DDzE1PQXAkSNHmZ+fT46I5eUlyuUys7OzTE1NMTAwwMTEBOfPn+ef//mfCYKA7du389xzz324k3ePrbs76b4V2tGMjZ81gcmQe9uL3gCgTGfvbozBISa9btCnKdXejgXgnW1KqxWRTYRvb6jta3i/PsIOlskdJLCzeCNMDGREZtviVvv6Da3TGyM6QUlmGY3GxdiHVzpE8TF0g5JbN43J7CnxMJnYa5HoGYmusEf2vCT7NJlL9X694g3wLIvbGoqFs5e4fuEijVaDQv8KA01N3/QMzQAursHJ603eOnORU/MrHD81T9SqkvdgfKSfvVsn2TY2wtbRYWYGc+QFOE7buWSwfV5ykuy+RXqMKQwx8Y+mDbWSY5Yi8eZ0Iok76SZN5rzJjc5b10ZNvOBGAMqCfGHZHMrYyXL23GY3Hh+MFnYtmV7AeMs3UwDtBmEacDrBtBXvNCDFDSWxZKdAF9polLDynrK9ubZ8e7Ifkf3bBl3ZaIsxJu1LhBDtkGV22DVWPNlF4iuPxx98jLnhaUYqQ2yd3horiycHluz0/pQ7uiPP08svv8zDDz/MN77xDbZu3YoxBs/zUi9GAqTuxOr1Oi+88AInT56kWq2m9fGGh4f5yle+QhRFTE9P3+UQXrZLim9o6WD/xTefzow3JruONQ8wymQgUOyBytwPiTSKAYQxSA1B3JnoG2bWd3gkMWjcsWNHSh7PCmVOT08TxsDI9322bNnC17/+DV566SV++tOfceTIkVQANZfLMTU9ye7duxgdHeWRRx9mcWmRF1/4kfVA9ffz4IMP4nkuIyMjeJ6D1i6VSi979z5AX18lDuXZh2Hr1i0MDPwBr7zyCi+99BI//vG7aKVxPQ/XdRgc7Gd0bJRWq8W5s2c49JOf0Gw2MUbT29vL5OQkMzMz9Pf3k8/neeyxx6jVarzwwgv09PSwsrLyiQdPWe+AIOmn2kOnnbVK6600GReCkHHH1dnNC2Ossns69GbBbTxYpYUFHcAF2RUCNRqHdl0dg0gH+2zDpdHtdHYhaeeaG5yO5yXpMJOHI2lTUuKoM1xpi27r+Nlq38uiu0tIVQw/uPMV6dwbTJay2h67cbpxpNEpuJTiTjNi2wU8UoCQARFZDkgKHuMPQts2JUXIlbBQzEEjsoNfth/ZoERTuogGGjUa165z5sQZrq9ep2d0gJnAQ4xNsFB1+dXJS7z57kmOnTzDSrWBlA5D5QJbxgZ5bPcc+7ZOMd6Xpz/XCaLjOeT7ZO8n3pckHcsAyh5kfDtIEh5sJwBIgFQHCPwg4JEetrFgLgbinTcabbAQXxSBbVK6gDFxjSmDkZJIQig1LdMkb5ogHHs/dZDIdQzATNfdreNfDVK4aUMsuNMkKf7J0o5pT26SUmEGg0JZaUAkWrQ9pu092OfCoO3qRiJFOrKlj6tJhaEz5yNuj7Zrx9EFe00Eog2g0HEkU0CchZ4cm7ZxYXZv2UmLiNbuFnkZ0EMBtymzD9gGF/H+sTsqz5LM+Hfu3JmWZPF9/yMhcvf19fG5z32Or371qwwNDeE4Dm+++SaHDx/m3/7t38jlckxMTHxsITwhnPimtfO5ZI6ZnT3FS964buZ955BgO8UkqqUARwiQMkX/Oh5HPizmTsj73/zmN9FaUy6XU06ZMYavfe1r1Ot1ZmZm0gK74+PjPP/88zz11FMpb0kIq2E1PDyM53l4nsvnP//5WAuqGYf+bMZbGIYUi0VyuRy5XI6nn3maubk5JiYmcF2Z7tt1HSqVMgcPPsOBA/tpNBq4rhP/5jE8PEwul0MpxdjYCL/5lS/HoTzrcSwUCpRKpZQY/hu/8Rvs3bs3bU8ul/uQZ+/eWoqTuv8KDSLO1Ex8LxsW/9vgBupYRoNRnTtLJ/NZIKNSuKMBRxiEI0i6D2GIC2MnN20yUMdBABEPMqk7Kt6SSZZJG2D/xiUvjIiFZnFwRHa6L4inJ9hAUjz1VlGm7WCEjgsCxLydDLbsOD6RDBLCLpeoaBtiF1t8TI7EJA9tPGFyU0QbD7BGd87as7u74RrEoDcBeQL7HG3UcSTbtMjXti8BTvH27dnWVsw3OzPLimCmRSMzOxH2GqNaEC1T1Mv0uOusizpSK+avr3HmrVO8fn6RoxcXWVxaJaw2qRQCdsyNs3frOA9uHWP7cC9DxTZnRQjTPtQbRJqS41MxYNdE8XJS2vtJC21zr7prQxmDSQbjWKzY6ajnFJ+zBNx+QKkPiSFM7nCTbJ92mFAYy8hIn8EEEcaTDRWBVgRC4iIwJkSJFrjKut06PCkivWDJv/hASHk+kgyUB02ENhHaCJIHWgphJ9zxcnYvBhV7k4SQiDRG0gZPbRhmbw6Jgyu8jm5CJ60TG8EDHW/LxPQ4225hbG1XKZNjUiiUBYhCxkvbfToY8jhY5pNHr9ObhvLcXNKAbIvu/jh/J3ZHCpbj4+MEQcCVK1cYGxtLB69Wq5Vm490psOnt7eWRRx6hr6+PUqmU1sq7cuUKhw4dYmFh4ba9TtmsstuzLGBqT0lMXPD2drfU/cUNjCDRfhDSLz8k+E6I05OTkwCpR9ACFZexsbEOiYVknfHx8ZSwn3DZgDQjzxjD4OAgg4ODG+7XGJN6tAI/YNeuXR2/J2rmruvS19dPX19/en0SEB6GYUp0HxgYZGRktGP7Sfg2iiyQ6Ovro6+v78OdsPvJTOYFNhPKtEDXwDTb4ENsIMiXqN1LD+PkUMiYqGsgakBYs4OliAGWlFbROQECIu6ojUTJAO0EJGxiYZpxOyAlyqZliQxEmYHAdbHdjBtPZ3VMRm5ZYCJoK0lnt4FBiAiMslXWKYJxY44gdh9qDah3eiwgbbdAQGhscodx2iBEx9MYo+KHMGrPZqTNABLCtYNiq2nPrR+A6+O6sRdOY4+7uQ5h2AYrySB4MxMiw40MsCBQgQhtOxwNXuxSMh5ozyafqKR9DsJ3297jSEErglYLTIQr4wy55DymApjd4Clpg45Fllqg6xAtUigsUhlYZc1ErOsGi5cWmD+/ynvzS7SUZLRQYmbPNmZG+9i7ZZzpoRIjJZcgWoOVENNqAAKRK9hZoFIZ4Czb5aqSaxB7Ol0DRgoiB1rSEDogfJe8dPFDAy0NkSGUAu0HOJ6PlA5CSHQUIcII0WphogiM9aqkbrksvSNBnsmDJQWe69hrF0U0VEjoOkS+QxQjWddAYCS+MshIIWOsLHM5UKG9r6VAug4NWizrFVy1QkMHKJPA8WT39tnKGZeCk7PPiBQYJQiNpmU0DVoYFeEKgxQW6sj4upkYdLkI8tJDxBMQoTUCQ8tErJmWhUhGp6E7i/PbPFcXiWscAgRIN32EFJoaDSKt6A6G68w4qpVCIHAIKHjFDtBvdJOaqlE3rXjfIgZ1Apkor5sAVxTwHBdJm2+lRQIt71fYZO2OyrP09vZy7tw5Dh06xEMPPYTneR3ejCAIKJfLlMvl225QPp9nZmYmHeRd1yWft6VMHMchDMPU69Tt6froJQyyl69zux/Vvj5wC1ncdjN39PutnszQYiCU1X2CzuPIltPJAs0k4zEJASaALIqiDg9gsk6WhJ6sm1WbN8Z0JABkyevJ+lEUdUgNZNuTrJ8kFHRn1iW/f1LV7Tsvc4yeVAtkC66dB1bBVIlLlGdmwkk8IVajk/0wthuBsqEcE0FrHRqLUF+073WL1CeahCfQdsCVeRiYxvEHML4Ex8M1ITQXYf0i1JfbWVkdfayJB8gCBH0QDEJ+GPy89YqoNQgXobUMrVVoNmOAoOzg6joxkIsTNoIxcMbA6wGZs54StQzNS7YdrQYd+kACC7R0DkLfChFFmjiGYcGTiUsiEYFoxuBFQW9v6u1CB7DaAj8H+QImKCEmZrHZtkDUhDPvwfJS7JJzPhg8OTFwEBJEYAGSiEDUQdTAa0EusqO1CUDlrPqkckD4UBmGygD09AIKqkuwUoWlVVtCChUDwaznqRs8uaSK4kK1zwE1EFWi2kmacp4lz3B+vcpK9RqrKw7BekQ5X2Kwd4xn9jzC/t1bGe8FoRVcOoNeOAc6tABdG3B9ex9GUQxYsdfWce3fxCOpEg6EQbiwFgiu+pq1QBD5DhVcStWIfDXCaxmUF6B7SohCgb7hEYSfQ7SqsLoOFy4Rrq3hYHBcCUQY3Z6UAe3wHDG4zwX2ryOhuk6kIuo5h6s9HtfyEiMEBSPoiwS9TU2hpfCVoSp8+nfvjc+joeYIqjmXBbHOidZFrqwWacYSNaT8TxsglsahJ/KZ7R2np1hBSZemUKxFdZYaayy1Vmi01pEmDl1C2ysqQBhJTrlU3CKzwxPkRYASEVpIVsJVLq5epqFqaEKbLJSBQRqNMAJPO/R6PYwGIwznh8B3AcOaWuFy/TorzRWUiDDCxDIMtMGYMXhaUhA5evw+jBRIWYjheJWV5hWuhMssUaUVhehIobRGCoHrODjCIdAFCqKXkttD0S9RDIr4jpM6diWkXL/70W57dFlaWuLQoUMcP34cIURaVDYZdF3XZf/+/fzFX/zFHYGnxBLelNaao0eP8t5777Fz506mpqY60u+zA6RSKvV+tVqtdFB2HIdqtZp6Tz5xtjF+uy3r1s1KN30TAJjlr2W/y37uBifd28ruM7tsNpPyZm14v20n4cWb2Qf9fr9b+0iTgS0EswYrl7hy9BDhtZPI6gJFKZGRsQr3mHSQcIhQuCy4Wxh57Pfp27YbkfcsaKlfJjz1Bmun30AtX0KGVVw3w7oREolC41CTFYpT++ndexC3nAdfggnh0kk4/XPW59/G16sYFcXjn+1YhVZoJGtOH+vBJP07/xuV2UfwBsfARFC/DvOH4cKbrFw4QqtZx/NzGRBuBxlpBKEJEBOPUtp5EH9kS1yuaBUWj8DZ11k+/ho6bGJEWwIDCdJIiqpC9VLIyuI69UaT1fUajuPTihSO4xGpEERIkDfkitA/VKTYG4CjiLRB13o4f7rOasuQGxulf/deZh97Em92l71Kx96AV1/mtUOH8AtFVCtE6vZsPx20xc0cyA4YgREtjKxjRJW57SOUyi7SM3jkqa5qLl1Z5XpNExaGGNqxnwee+U0oViCqwcXTLP7yV1z4+a+QzSYqbKGFJhLQhuHtl5QSIRyUtl4fgX0hFZETUgsU64M+l4qCd1uKRb1Cb9NntCEY1w5eVCIfCaZ6NcN9Mc5cuMaZn/yUMz99hWB9lZKQmCgicgwNoeJr2j4DyXWWQiIMeMrgGgglrLhwughnKy5LRQdT8Ok3Lv1rEZW1iEI1ws0VKY6N89iXnkcMFO1x6ibVw69y6P/7/6l4Hq1ajcBz0Kh40tfef0KbcGPZAyPaidBKQF0YVvMOR8oOZ4fy4Hv0asFQQzNS0+SW1yngYAanOVgo09vfD8LQnBjhWvUy58wih1/8Hv6RIZrGoGKwro1BRQqFppQvMZsf5wt7Ps/D+z5HixYtoVl1VvnBy/+X4/MnWGmsoJKQcqZnsFdVUArz7J96gC8/+UVmB6ZAaCIijl14l//8xQssrM1TU2soHVl5gGRiHIMhX3tM9IzxxQe/wHP7ngdCFJp1tc5Lr73EW+fe4lrjCpEKcWS7P9XGBhULUcBYbpj+/DC/9dzvMT0yhYtEUePU9dP8569f4ej1c9QadUR87FJaL7krHXztUvHKbBvZxoMzDzI7MMfc6Mz7DHfJbCB7T987u+0RZnR0lGeffZZdu3aRz+fTwsCJV0IIwezsbOotul1LHjKlFI1GgyNHjvDqq69Sq9V45plnmJ2dTZftFtFUSvGzn1mS86lTp3BdN+VkJYWLP5pBtfNm/rTYx1nE+ZNdMPrjtDgM4yjwQso90FxeR9Uu4jTrOJGdtVt3euytNSGR8MAFt7FkvRME1ruganit68iV0zSvnCSnGyBsSQkhY8BsFEI4aDnCqlumd/YAFEYg8MAJrddo9QxcegvJKhKNK11MnNUqTERkJK7oxwQNRH2vVdOPIquMGK7A4knUhTcpLp2hoEKMdFFRhDYGV9qQo5EBSvRAZRYaqxDVrTeL0HqtVs/jX30PqUNUDJ60MUREoAVeY4DKBc3a/FXCRhNVbyH9PI4IEH6eVr2KdA3KqWKKLaTpJzABuA1cbTDrw+Sua1arEVoqGB/Hixo2ZGmkrUk5f57w7EmUH+DGZKTkOmRpMht1FcI4NgQjGhhZRctVvL4qgXFBhrgqR35V4F+t4tUluhgRVLfa6gOamOPVwl++RnT+LLJei5OfNEKYDGCLPboYlFaW5hWHABUCFQOXdTditSBYdnu4JH3maVJzWuTCJsVak1LLp8AgBSoMOg08FVkPoYkoVdfgwjnCq5eJXNcCSE/EIUEbaEqpDtKCFg8HR4MbxQR3Aa4vafZLrimHK6FHq+6wph0a6xpnTeMsNWlKn5znUMS0vYBhSDFSOBfn0Sqi6AgciaUnqwgV35sJrc/6cNqhIS/mN7UwRK5AlDyaymNBODR9h6IStKoauRzSs7iOdgJU5FrvVqUHzCClx/YT9AsWj/+C0/VrRFeWiNA2/GXaHnZFRLFZwtRaPBYdABw00CKkrhsst65z9vp7rIQ1wg3S/7TQSCOptEqM9AyyHjZpxCymFiHXq0ucXzzPpdo8a3qVSEc4SGQc6jXx9QiUR71R56HaA4TUibTGkT6RUFyvLjG/fomL6+eIdIjn+G1ahQRpBMUox/rKGrvG8hghkHg4COq0uFK/wvm1i5xcOsN6vYaX4a0l8MfVkqLIs1JdJfByjA2M3xhcuekQe+/H3ttGEoVCgYceeojnn3+eoaGhjuytJBTjed4dc0+SWUm1WuX8+fO8+OKLzM/PMzY2xjPPPJNyd+DGAVgpxfHjx/nFL37Br371qzSspJTC933OnTvH3r17b6M1WaTb/R2Zv7dr2W3e+5tg0+5TMw6YmPTuOpDXBDueIPAKrDsVorUVlIoy4Mnej5FRaOHgOkPkyh642m7LKYHpRQdjiP6d+G4ZHVYRUqISaqnRSDQah4bTT8/MQ+hCGelJkJENVbk5GJxF1ppo3bKCqCYTtsVm6glZwJFl/J4BHMezoRGhwS9B3zTOeJ2GM4QKW0jHiwc3QxTP0mvCpe6XyZW3kHPLqNDBURJELxTmYGAR1b9IGDbROOQL+TgEpGzx7loelhZZrC+xrCTFkWm8YoUWHiIokhOgRYihivLrNEZ6qfZ54ERobdBBL07kENRC3IEBqIxCacCGDrWBcj+1iRnk7gcJlc2PTbwZEPdlorPHiC8sIDDGBxwQLbSoYeQajckBRC8gQwKdJyo5RN46oinwCoO4Q6M2zIS2PJV8GTU4ipmeodGsoyUooVGi7WFJZulJSrzltAvqkcNyPWKx3qIhBcrVNLwIRS8ReYqmToCmr2zoLTj4DZdSfoS+ye0EuYrdf6RtyLVSITc7jRjogcClhUY6Dk48qTbGoHT26AWuFrgq5i0KC7EcR1DqFQxUJLLo0HBsyCxfFOR7BMViiPQD3OEJal6FwB+2B+oamqVBitsewItaSNegVZh6nrLh1DgwDaJTIkGamGrmGMg79FU8tlV86nkXaWC4LhjqMwR9NfK4MDSC8YQl6wyPMvvkE9QG82yVNYpUWY7qRMIC+oQYLh2JMhrf9Rl3RynKXvyYPh1QpKVDZnrGud47Rl1HRLhtykZy98Seo54oz66x7ZS9PnwLJdG4DOSH2Dm6nf5aHyutdZphyx5jFy/S1y4jpSF68/00jSKQOQQegckz3jvB7uEq/YU+lIkQRhCGViNQOpaR5BsXP/IZqUwSqCJS+eQcaFGgIEqM5UZo9BpahRDJRiLXDroFA8URegv9lIo9mDgTz/oCE77k/Wm33bJLly7xne98h+eee459+/alEgVKqdTz1M1xuV2LoojTp0/z4x//mJdffplnnnmGb3zjG4yOjnbwcuBG7tFXv/pVvvCFL7C0tIRSimKxSLPZpFqt8g//8A9pAeNbt6w8H3R2hXcmx9Dezqb35aOwu12u5+O3jcB1Abx+8Iownac0vMdWVE3IqoYM98mSZPtkAMV+KJYtf0dIKE8gPY/yxCzQAjKZWcm6RoOQDDg9kBuAfNnKFRhtle8Hp6C/n8LUPmyMTFq+SJLxFze/KByGQ2BwK4iyPS4DFPphah8MbCEXRTEHSFjPVEI0F4IexwfhQX4I8jFoQVpvQ2UOXJ+e0a0QuFBvpoK2RRHHYeoG3J/iHZvHVdA3t5etv/PfoacfvLwlgksNomG9YSUJXkza1hpqPsO618ZycgH0DUChFPOVNIyMU/jd3+fxp5/NzLNE/Ht8LhLruD3jE2Q8bBccc47cpuU8iQaYJog8mCK9603Qrm23X4T+YQumjQuDE5S/+BUeeewpqx9XX4/RgMlc18TX4oAbQFOwvtbiek3z49fe5MzZ06w267gutMIagV/CJUdg1hktBjy5ZytP7txB2etBOL0gcpZ3JbHXfWSEwWcPMrh3lz2cnAuNetx1um0OW4okjeW3KWybHBmL3dmT9ISnuFxyqPqCFhqhoaglI6FDsBaCI6kpRWFiG0jLpXd6KgQPHuCJkUlbTka3IIr5fI7beS3SayLalyP5q5QNLfuC1bzLck5S9SUhhkoDJsjBag3VDKGYx6uULedPSlr5XgZ37eMrwyM4BQ/lGJQAYuFMIWyEJtIRAsGgrFAKi7g4aRhxNBjg+UcO8vCunQgvQHNjpYTEc5RTPkHkM1oeTXNPJTke2vIQE8PDNAlpaOvNlXE2dNakhpz06Qt6yIsSEofQaCp+hacf+jyPi0eoRlVbYks6RGGYZjrbbD5QTUVB9zJRHqcYO5d8Cjy49WEmJ7ZSVS2kIzHaEIYtktCxlBIlJPVGSK/fQ39QoewXsWIGyk7AOhTe7j+7bXQThiHr6+spcXsjTktS6+52LMmGC8OQI0eO8MILL3D8+HGee+45nn76afr6+tKsr24eTnowrsvQ0BAjIyOpF6zRaKC1Zm1tjZ6ents9XDaOrX7YsN39e0N0Wzc5u/u39wMtSRbczUD07WY/du8r4cQlns8sYf39rBuA36+mMiEGK0ePzb7qm7FAJsqk2HeDLQHWqxGr4ae51gJKo1AaxMoUZKUWE4snBcKLX3FGnxFAAKWc5T71JLP5+NW9GeHYwRM3/huHWZxeKOWhGKepb+jBTUCIi81Ii9uRzFfcHPROQnHYqv4nICxxK0QK8nUYPkPoBogoIipVYOsOqPSDH4PBRDZBJLWTtAVGCAtOhB+3JQOKjLEXpbcMpgQDoxu0/1Ysk/GWbUPCczFJDlKyXHwdhLRfeb7NAiz1w3B8HKk2j2m32UhQNuPQtODEguJY7TpvnzrD2Wae5dwAIqgz2lfhgakp6mtV1laWcWor9MkeegvbqYzvg3zOevaUsQDFYL2argveIPT1x8fV9vJ0WFI5QWxwv6TMYIF0YNgxRGRCPICjJfTb+7sgIJG5kGDBbqUHeku0b5IbfX6d7bnJ+/ih641fKsZ8bm9MihqI6/IJ3ZEa7ZNjKMjRPzYcJ+mbtAUi83wm+k4uDm66ASvL4CMZL4wzWhgm0QvvbJhIt+ggkDjIWH3QYJvjiAI9PTOpMlQCttqHmuTr2XY5mQCmJ6yEwEx5Ah3/u5nFVysWHWjnE/p4VMQgvfn+uHdJhBc6x1KFxhTBxY3Pg4lbkvTNyX3ffR27uU/3xm4bPAVBQKFQYHFxkaNHjzI0NJQOYEqpNPPudsN2ySB97tw5vv/973P48GEajQZ/8Ad/QG9vL9evX08BUFJ6o5uEnCidZ39Llr1zz0T3BfowwKf7QchstUtKoVs+4F5Y0p5sVly3UrudhbTb2Q1mE8vKHmTTZT+MZQHdrXqfulXp70+vVdzViOSdgmgd6jUrayQ8tF9EBGVbO7rLkq6lHbbJmgsyuBm+fLMtAAAgAElEQVRc6by9E2AkYoATC/7pzPoi+3pfLJxJ1pDFbmlOuoUis12jiI9KpAOv5esYAuuIkmD8zBOVrKxWwStQiwxRJFgXPvT0QbFgudqGjD5V17rJ2yzGNvF/yXMqXYzoyvR8v1NwE+u++5Lz2F3hI70+ifaW41i4J5OB08HBs2fQgBaCEHvLrBtYasAbJ0LeOnOd14+f4+ryImFkGOkbZ264yNbZWbYOjXHlxHl8dZmV2jxFXUSqPiInjwvouGSSVJpUHxGBkt4NfoKbDW3J9U2CM93nwsHC5SB7I2Dxn4qvh0xfVkvKCCtQGXGjbdQO0fV9G5JksrziRnZIx8QONB3vG2PlNkz8ozBxsOlWboTMRZWxKKjlzQX2dSvrp38TdW8Ri5I4t34zdp0gx1hAdXvrty+UMBYGfuD62ROefvXJcSzcNnhKBqwXX3yRQ4cOsWPHDoIgIJ/PpzIFIyMjfOUrX7ltAKW15uTJk3z3u9/l8uXLTExM8Hd/93f/j733eo4ju+94P+d0mAwMZpBBEADBnDYreoNlrSzLK5eD5LLrVrmurQf71f+Ay3+By68OD/aTX2xd29eWS7qr0l5dqSRrtUnLZQ4gQJDIeWJ3n3MfOkzPIJAguQzL/rLAmenpcPpM9znf/oXvL/reMAz+7M/+jN/8zd/c1WoRugtDjSHTNKMsu9AScu/Y6bZ7GBaL7ReH1r64mVb60dfw2wWh1lJoRXQcJ0oQAL8/QwtffJtweSrVGgB2y/bbL+Lu4LgF6V6JU1xD6kH0yB4FohAFrwa1VdhYhOVFqo5CdPeTGT6MyJSIhv5Ic+kuO9bhKqHlpRMhWYpPMf5TYDh/hPtp2+luENB+3wTK49v+OtfrmN5Ct1hAYEQ4BigQkfQ2ROKF2gHPQSkXYRhI7fpuzkYTLNN3DUjaNYBi5xFORjueT9AO0TEOPcyrKRLA3Ibg/IUXDOAtl1fLTef/ig0NS1W4MFXlV5dvcmlqluW1TWqVCkWpGeor8tLJQ5w+NMqRwS66TPjVco4rc5q6DWZGYKWF7xHVILUmiMRu/VTal8Iw7scSEDHCHSwJnZM6cT35th0giOyTsX54QOzB/qIrJmDXEeUPx5N9XwjRE8seP/xe/bvDcR/0GX9f24vtb9ueZu7NUrR3uaYnC/el83Tw4EEAtra2qNVq1Gq1SCJga2sLy7JoNBr31aCDBw/yR3/0R3ieRzabjSY3wzAwDIPBQb9cR1wDKEQYmAgtcchQRPFe6+C1Q0YhGJ8mokLISN8y/wRN6JZl0Ww2mZqa4vz587z44ouRXMRu7rif/OQnrKys8Nprr0Uq4w9LOiB0wc7MzHDx4kU+//nPMzAwgGmau14XIULSVKlUmJ6eZmRkhO7u7n27mB8tHFB1aKxB9Q7u7CdUGi5GY5xMsQxx8rQXdhmM/WEtVmZVhP+1ikfEDem773OHB4JdNwmPpmK0qXWs1pL4Y6ne/TSVR6RrFCqAy+BPa4RhYBkWrZgs7cfYCIEb03KOOTZb7e08rbgp6GFM0A+ElstTBxlbSrS+2QL+v4sOV+6scuPOEtenZ9na2iBrKA4dKDFcynN6cpxjYyMc6DUoCJA1yAmTjEzhNTxMwyBlW3G20DbPb48J7cCTMpTt1o4HMnSEZXgf+4XwVOLJtPrfO/Y9o+XzeU6cOEGxWERrTS6Xi4iT1r7VZGhoaN9SBaH2z/Hjxzl69KjfONOMrAthRzcajV0nyJ1q6sVdRHcnT7Gn7FAUTMXGy2DsjeaXEPu5d3Z6kA2CbOPZEHE3V/w87hedApid++pcFlp4XNel0WiwsrLCD3/4Q8rlMkNDQxGpChMG4vjP//xPLl68GBVzDi2BnZaeuBswdOeFJDcuhhouD7MmPc9jdXWV73//+4yPjzM0NATQZhEDIkIVwrZtbNvm+vXr/Nu//RtvvPEGp06dYmBgYNd+eawQ2o/lMADhwsY8jeUpqnUX007TrKxjl+9xX50xHUSG/h0u5ZbF6W7Pine79HfcNn5D7dCOVoSGaLOkbHu6ju9cdq4bvJUSN3A/mkKA57UMWPgPLCpogb+8477oPJeH8WR/34NHuG3Yb35moutpv8qLhJqC9Q1Y3ahxYWGLn164yYWr02xuVhCeQ18hw8nRAZ6bHOG5E5P0dZvkM5ARvqqAzEMmVyCT7cIyLdKWhWl02Ht0Z3vufg67E+lPCfvZeWfjdth2t/Y/QaPFU4cnaqy9D+ybPPX39/Prv/7r0WfDMCLLTnwS3K9AZtySEbdSdLpl4q6gnWB03ui0E6h7aEnsT7assHvxrvu8BpQXCPFGsQMQTV9CIHYI0N4vwtp2zWazrdZbZ9B0aJUBvw/D30BKSTqd5vTp0/zlX/4lhUIh6scwu7LzeCGJDt2lcQ2wcLtw3/FlcXIVJ7vhPk3TpFarYZomr7zyCgcOHKC7uzsizfHrJ7RCdpI7x3GYn5/n/fffZ2hoiImJiV1J4BMBHZbbaILeIKeWqCuF1huYNO+6+V13H7t4dex1R8v9DuFBe12RbVb7Xb7d6fjth9rDhxBYkbSUvkEkYkDSv7kC/4olNGiFafjreagdB77O43e29uFGY8RJh0bfdc+tgqthzwGYwsQ0BXVgE7i9BldurvLhhet8cmuZW6s1PE9R7irQm5W89sJxzh4aYHKwm6ypyKf8S8wUREFIwtOYwq+LlrJNwhiq3c+j1Z62RezjGnlc2KUBnW3e7Rwee/sTPDbsmzxtbm4yPT0diVjGA4nBn+h6enoolUr7jikJ1w3jbML9xtXGH41ytA4k8FukyXVAeQrt6Ui/hUCz4+6kxjevGxosaSANgzBOtUWcNMp1fd0eYWIYFoaxd9/dC5kKyeTbb7/N9PQ0ExMTbG1tsbi4iNaaI0eO0N/fT7Va5fbt2ywtLeE4DmfOnGFsbIzx8XGazSZXrlzhnXfe4fXXX4/q2a2srHDp0iVu3LhBs9mkUChQKpWYmZlBCIFt25HsxPe//316e3uRUlKpVGg0GpimybFjxzh8+DClUgmlFCsrK0xPT3PhwgWq1WpE+g4fPszJkycpl8tUq1WuXbvGD3/4Q37rt36LYrGIUorvfe97TE1NcebMGebn59nc3KTZbDI8PMzk5CTHjh3jypUrfPDBB/zqV78il8uxurrK0NAQZ86c4fDhwxSLxbv26aNDYAWNInM14CDRLYdX24x+j7EFwWUTXsbhFne1Dojt3+10lG1N2hUCiW5bpZ2k7DazhU80/ozvFx4NMwTDkwvXVTQdxw9ydprUGw10ygoGPkWr1Hf78Xdu7cPBzoRCx/7f6Yihe8jXaxKAh6QJNBTMrThMza9z7todrt9e5cbsMltVh1Iqw9joIKcODTA5UuTwaIlSl0GXBUYUeebhuRJDCnBAKBftOWjtIU3DFz/qPPn4j7zLBXS30WkHY+gjx4M43J6E9id4fNg3E1lfX+fnP/85KysrUVxTnDxprRkbG+PIkSPk8/n7epoPCVLcWhSvr3a3kiIPA201dTxoVKBR81BuzC0ojDZxwL0hkVoj8DAtj0zeJpUlugPdhqBW1TQafqmEVFqRSpsYUgfuvO3Ws3s910qlwttvv80PfvADfvu3fxvXdbl48SKbm5s8//zzHDp0iEajwfT0NHNzc6ysrLC4uMiXvvQlBgcHqdVqXLt2jb/5m7+hr6+P06dP4zgOV69e5Sc/+Qnvvfce9Xqdvr4+Dh8+zJ07d+jp6YksTHfu3OHv/u7vGB0dpVQqUa/XqVQqSCk5deoU3/jGN/jc5z4HwLVr1/jZz37Ge++9R6PRYGNjg3Q6zYsvvojnebz22mvUajUuXrzI3/7t3zI4OMjx48cxDIP/+I//4Je//CW/+7u/y9zcHIuLiywtLXHs2DG+9rWvMTk5ye3bt5mdnaVarXLz5k3W1tbo6enBNE0GBwefKPIUeqGi2B8NKIXl10cN3Eg7P/Hf8wFi8+LDmgB23E+np0q0vuhcfxth6zT5tPxusSTo0P3m/yG0X2sum6fZXUJKm3RvH+lcFte22na+U3t3IpUPK7KlnTwF93b0ySfEUohAqVwjhRGQZb8orMLPsqsDd6qwvKm4dH2Ojy7e5MrNBVa2mtipHH09BY4N9/HyyTGOHOjm6AGBdjRK+wrlQvrFYZEmvuim3wrDFGjt0nT94rKqLXah47Xz/Q7nere+eJzEaadE/P16/BLi9Gzivsw4zWaTarUaxaForVlcXOTWrVuUSiUymcwD1ZHbiRTE3XefXmyKfzuF6hpRIKCCS+dmOPfRRTzHv12UVphYSM/wySN6VxIltI3GRAkPaWuKJZvTZycYHu0i2+27IWtbcPnyIh+fO0cqrRk9WOall89ipQPl5fs8XSEEuVwOJxA46+3t5aWXXuIP//APuXHjBj/4wQ/47//+b37v936Pb3/726TT6agkzrvvvsurr77qd0EslkwIQbVa5Uc/+hEff/wx3/nOdxgZGQHg448/xjRNVlZW/B4NrpHQTXjy5EnefPPNaN2///u/Z2BggL6+Pg4dOsQ777zD+fPnefPNNzl58iSe53H9+nXefvtt1tbWOH78eJs7sLOwcbPZxDRNvv3tb1Mul1lYWOCf//mf+f73v8+bb77J2bNnqdfrfPe73+Ub3/gGb7zxBkNDQ/T29t53SaFPD/FpVgI24DNuoVP4OgV7BFKHeJyj+27M5EH2Efssha+bo9tm96BPDAvGDvPS//F/4tRd5PAIpFOxAtX+NS0in3w7merka7s1q7P79yZcrTgyHXsvwpVj+gQCGXwpkIgotd8F1hyYWoP3ri5x6doNpm/OsLZeoVFrUi52cXSij1dOH+PISA+DPdCVBu35ZUiEsHzrVejihLaMw/nVZRbWVlBCs7yyxHClFGMJmh0zEHewQ7bO824xQw+bvt87HuSID6/997rd00rTPq3+ebz9sW/y1NXVxRe+8AUajQau60axKcvLy8zMzDA1NUWz2Yy+e1jYTRjz00PwBBvo5m2u1rgzvYJyfbIk0Fja8gmUkLu0ScdeBK7wUFYDPJdGpYHwgmBgFyqbsLWpWVyokM54lMt5TMMMrE27PR/fHWEGWvg7HTt2LAr4LxaL/Nd//RdKKc6ePcvk5CT5fB6tNf/7v//L9PR0FKsUkmTHcXBdl9nZWZaXl8nn81HB5kqlguu6DAwMsLCwEJGber2OlJLh4WEOHTrE0aNHEUKwtrZGX18fq6urTE9Pk8lkmJ6epl6vc+bMGcbHx7Ftm/7+fn7yk5+wsLDAysrKrnFvWmsKhQLHjx9nbGyMwcFBhoaGSKVSbG1t0Ww26e7uJp/Pk8vlyGazDA4OcuTIkWj7Jwk+jTcD7RcR/Ukt0doknpn2LKN9aA5detJXQ+8fInM2RcYDI5f1lcKVB9pDeR5ChnGNew/wnZaoTqqwl/VsN+tEdMQ47/M9kf5f6LYPEtqUgE0Hbi7B5ds1Prq1zIXZJebnl2hu1unvKXF8spfjB/s5PTHEWG+a/gJkbT+mSTiBNpFBjCx1tExC3W3SUC7SMqjUqtQb9VhDffX5dgIldnzbea6d/bd7jz067N6e3fHptP9pJUb3is9e/+yLPGmtyefzfOELX4iWhaSmXq9Tq9X4p3/6J2ZnZx955lLcdfigx9WxfxiAgnyXQbk/g3ZNpPDjDwxpIIXcgzyF1hq/eroSEqRFrktgpRw81QR8a4eVgu4ek96+NOmMJJtLP5TJPC7ZUCwWOXXqFOVymXQ6zfj4OIbhk8Fjx45RKpUQQjA6Oorneayvr7f6JGiLlJJ6vc7c3ByGYVAsFunr6yOTyWBZFidOnKCvr4+lpaUoCSDM2uvr62NycpJ0Oo1hGAwMDHDs2DEqlQp37tyhXC7TaDTo7u7m8OHDkSL82NgY3d3dLC0tsbGxESUjdPaPUoquri5eeOEFSqUSqVSKXC6HYRisra0xPz9PJpPBcZwo+09KGVmrHMe5a0LCo4QCPNFS3/XLeDgoYeCJUE7uyRtUHjnihlkd+iEFCAVdWTL5LJFoYCwDxDDDft0b+/RU3XXbtul3p8PHhce1n0FXB9bqMLsM71+8wYUbt7lwY4aaq7CEy4nBMicmx3np9HHG+g0GusFSkJHBIK+IBB5b2S9hnJUiEqMQYAiBIYLsZe36KtOS2JgudrZ27kGcdu+Lx4f7bc+T0v4Ejxf7Ik+hAGKYvRVKBjiOE2XYNRoNVldXP5XGPlIIjRbaH3RMOP3cJKMHDiCUhSEkhuGPwyooygotN0ALUS0JwnQ6aSiQdXrKGaKCRCaUy2DZg/T2voqVEqRSAjtj+qnqD3IasfT/kBiE2leVSgXLskilUpEW0/r6epQF53lem4sMWrpPjuNEQeIhgZZSRoH+oaUqzJKzLCsqGh1vVyqViiQoQiFNpVRbZmDY9kwmQ71eJ5fL7Xq+YbJBKpVqSy5IpVJReZ+Q6IbXciiB8CQRJwg8TwI/HUq5oB2giR+pEmST3ctOPsuI+8d0LDs1cHf5WiOeX8grrM+nNcppImVYtmZ/ndS29j24S3e1UujYH/hkTwKhu87wDd8bTbgxD788f5MLN+9w/fYiG1t1cD0mB8qcmBjm7NExJke6GSxCdyoQi5TxfccZZmtM0UEIghEQKs9pid+6bhPDtJBBLJTSGmO3B9PP+nWWIEEH9u22q9frnD9/Ppocw7pnW1tbrK2tcfPmzbYJ94lM/74rWiOaUhppClJd0J9K+aNZMLBFA3Q0ctyLCKcEkW3T/gsJVFcPdPUUWrvTREGcD2JhCH8rIUSknWSaJvl8PnLLxb8Hn7C4rovrum3xTp7nkc/nOXjwIFJKbt26xdLSEoVCgUqlwrVr11hYWPDbHNtfo9FgdnaW6enpSMdrdXWV8+fPR5l9vb295HI5VlZW+Oijjzhy5Ai2bbO8vMz6+jqO4zAwMBBl8XVKEITleULZgTDOKrR+hbUYLcsinU4jpaRarUbnqpTaU2TzUcMAhAorfBlgZ/BcwZYHacNEpO7S1qfx1rsnxBmTICqX0mlK8Dy/pM3Sol+YNpOHrhIE1uJ2ZfHHCEFEmjS+KnhdwXoVFtc9rtxc4NrsEudvzDC7uIwwLfpKBY4Nj3NmfJCJ4V4ODmYoZiFj+DwRCCqHBK42M36u4XsVHT5E/FlNd9QdFJ1rf2avrwQJ7o59k6dqtcrPfvYztra2AH8yNU2Tra0tVldXcRyH06dPRxaFpxUaPx3c1QpTGT6HCYugh4Pdw7BDd2axhGyqrWzG/Q/yodilbdvb6tKFv10oORFaE0MhSiCyDlmWFZGpTCbD0NAQ5XKZW7du8eGHH7K5uUm9XufcuXMsLi62lXEJrVaLi4tcvHgxCi6/fv06CwsLlEolJiYmGBwcpK+vj+XlZS5evBiVeJmamqJWq1Eqlejv7wfaBVSByIIUksF0Oh2daxiDB0QE6eDBg2xsbHDz5k1M06S/v59sNnvf/fxpwM+80oAFVhnyB3D7J9F1STPTS90R+Pa5HcwfT++tdxd0mms6zj18ltHaZwKLS9x5/wOU1mRGDlI6nfML6pomD718QPyhJ/ZGx77cZrUK11VQ96AmoKJhtQmXb9X55MoMn1y8ztzCMlpIrHSaiYPDHBkd5AtHDnCoJ0VPzq/V3IJfcFkYsQe7tvTh1qDjN6HVqlb8V5jZG1cx74z0SpDg2cV9kac7d+6wvLwcBRCnUqmoYPCrr77KqVOn6OrqenotT6KV+BJWe1BBGTCx05it7y1sd8eeaFsYVlUPv4geSe8bIbkIXWGhKy0UkJRSkslkIh2t0PIipYysRs1mM4p3C78vlUq8/vrrAPzLv/wLGxsbTE5OUiqVcF03iksKCzbbto1pmly6dIkPPviAjY0NbNvm85//PC+99BIjIyNYlsXXv/51MpkM//7v/x652RzH4bXXXuPs2bMUi0W2trZoNBqBa8GNCJNhGBQKhUhCIyRXoehnKAI6PDzMq6++yrlz5/j5z39Of38/b775Jq+//npUeujJgEBjIEQOMiNQbpI6bdCv03iZIawen4S2KtiHE+VTeM/dE9p8XK3FkbaThxfYaKXWvgLt7Dzv/T8/oul4DL34PF+cPAymAWbKt6zoB4yR3DESfPcBYYfWR+65ugzq0N2scmFqll9dmmL69iJus0lKaA6PDTM5NsyZoxOMD+U5UISc8IPB24KYhUCLsKhOJ+HpzAvc7STCh7h261OCBAl87Js8FYtFXnjhhSj+ybbtiED19PQwODhIb29v5DZ5GslT/EnRNPxyl36GSmyN6EluhyfKXfe611ouUWofBAfbrpa+X4QE4itf+QrPPfdcVAcu1Iz65je/yfz8PPl8PopHyuVyfP3rX6der5NKpTAMg7Nnz/Inf/InnDhxIiJkp0+fxjRNRkdHaTQaZDIZRkZGGBsbiwpEhwHmSikGBwd58cUXo5iK0P136NChKI5pbGyMr371qxSLRTY2NshkMpimycmTJyM18HQ6zcsvv8xf/MVf8Morr0Rut6985StsbW0xODgItPTCvvnNb7K2tsbAwACpVIp8Ps9v/MZvMDg4yObmJgBHjx6lr6/vgfv7YcJTGqWlX4YtnQHzMDrVhTJSKCMHVhZ06Nb7rBOnTgQRywLCiT5M449uVeVny2bqCuF4GA3P137Sfvqa2LNswL1h5xT8WEyTiBuRQ0ICINECPAFbLiw14NKs5uqdFS5MzTA1O8fqZhVXm0yODzHZ383JsX6OjZQYG8jSmwmM3zo4T4IYzbYHLxHZjPxWtYsGtBIOYpancKcCwnzPcEySz8y1lSDB3bEv8hS6bMbHx+nr62NkZKSNIAkhuH79Ojdv3uT06dPbSoA8LRA6KIaqOyKNRPzNp5GjYeBr9xANsPd3rBbC/v+d3/mdaFnoRjNNk7feemsbwc3lcnzrW99qW3bixAn+6q/+qm2/fX199PX1RVpQOyG8ZsKah1/+8pc5evTotmsjbFO5XKZcLnPmzJk9z+vkyZP89V//dfTZNE3++I//eMd133rrrbbPqVSKcrnMCy+8sOcxHj/8CU+EGWRCI+wuTMtCIvCtlJ1mh88ydsrbaiXACwQGInjkCFLqc3lGz56l3nDonpgEMwXCX0PHOu5+uy9swa7Y5mEUYAhcYMODqob5dbg55/Lu+aucv3aTlbV1mo0a/b09DJRLPHd0nNMTwxwatBnOtsih53gIDdLw47dERCQhjBZvtU/t0M5AVDReb1L68liblVUazSrKS2F2lMhKkCDBPsmTaZrcuHGDf/zHf+TNN99kaGiobQJ0XZef/vSnXLlyhaGhIUql0kNv8KPC9gBt7T/gIfwHs4fl/tcEpnF8P2FEmB7OjLgTeY2T3U8boUyBYRhtcVBhsefONiVoQejwqT/ItvM8EBZgoLXjkwO9/2yxpxud59pybUt8MUnfjSl9K9OhQxzt7fcz7WwL0nkct45FUFZJPKjYQ6AHFz7kdDKUtth2X+iyCaxrmGvAJ9MuH124zuUr0yyubVGp1il35zg01MeLJw9xenKY0T6LvoIvamIBuFVQCkNavpYVIsbi4tam8NAaHY4xsbgnfxyLjQ8aPA0Nr0I6I3CVwPMcqtXKM0TQEyS4N9wzeWo2m3iex+bmJleuXOGll16i0WhEk16Y0TU9Pc3ly5fbvvtsQID244JkEAi179Pb9RE1Ht/0MKLQnxw4jsPExATf+c53OHXqFD09PZE7MJRQSLAzpND4wb9NcCpQW4PKGlg2ysxi5HohVcS3WD7k4OenAdH9JHxrUmTlCZiECRTzUMj7DyYKMA0kNloLZJsF6j4OrjvNSiL212oa+By3Diw3YLEC04tVphY2uDh1m5lbd1ieX6A738Xk+ADHx0eYHOllcqTE+KCfQWcDWik85SCRCNMMyqr4hC3wRMakrNqvBdEWOxnGiIVEq0UgtYB0RlLuy2Gnm2TzJl3dT07JogQJnhTcM3na3NxkbW2NTz75hHq9ztTUFB988EEU1AtEYoRhnMxniTzpYKCUQRHf+5qo4jb+NhM7n1kLQiiG+ad/+qeRdlOYtRfGWCVoR/SQL7Sfb04TmiuwdQumLlDRBqo0hjFiI1M9sTiXZwg7WXjisc3SJ1RK+O5N4SqEbQcSSn7mqDR9i+f+bU8hWwnIU0RcYwkecRkNfOJUAa5vwqVbm3x08QaXrk+zurqBdhr05tKcOTTCmckxTh0aYnIEsgJsDTgumBpk3CUn/Yc5DUIY6IgI3WP726KhwuAsPxGxWMqztZVDGE36B3r9eo8i6N/kWSdBAuAeydPc3Bxvv/0277zzDj/96U+5ffs2ly9f5rvf/W6UiRVq55w8eZLnnnuuTaDws4POrJX7JFBt0IG7bvvT6mcBYbZdnCh9Nq+NTwPBJIkGpwqrM2zc/BUrjoHdhFRpDLvnGfOo7MUQ2kOgQCuk14SGA3YmFq+tMQzZcsPfV+fF79fg/hWGrwof8CkVWIK2PFjchPcu3uaDSze4emuOSsOhWa0yWsgzPjzCc8cPc2xshJGSb2nKysBFJwhitJRfVgZA+m33lTgkInYO93YuLddd69VfZkg/vvHI4aMYEiqVDUqlHoCnNoY1QYJPA/c0i2UyGSYmJtja2qJQKPDuu+9y/PhxRkdHsW0bpVRkfTp8+DAnTpzAtu02FfIEe+GzSZwgiWV6IIQxcNoFdwtqcxQas9SdNKK54RMDnjHytCNabqiW+Kz2LTazs1z/4AOEtCiMHKT3zBmEbSKkaBPgvtejiG1LQsjokyH8rD8HuL4EF6Y2uXBjlht3Fri9uMRWrUZ3IcPR8VGeHxviyMFhJkZLdKWhkPZFLs24lUcE54MAafhGNoEvRxDGLMVP/R7OJQyxl2EOXiAroxRYtiCTNdEKMtlSGF+PNGVysSVIEOCeyFN3d3ekx7OxscH//M//cPjwYU6dOtKoVkYAACAASURBVIXWmmw2i2EYUZmWeGmNBHshFmCaDEhPBR4pGQwS6pAycEMphAlpLXGl4cexRLXcnhF0Gn9jqfQIgSeCbDtPgevCjSnO/1//QdPTTLz6Gr3Hjvt9aRu78oD2W3L7p2ibIPZR4weCh8UH6hqW12C+Aj/7eI6LN2a5OnWThtMgnZJMDJQ4Oj7Ei2PDnB4ZYKAMmbS/bxMiFqSU58dXCgHCDIaLoByU1n6NzR1+/u3n1G7Zbklj+svjXt9wf0qB4/pnZhtG+64SJEhw7zFPUkrS6TSe5/H1r3+dlZUVbty4weLiYiRdAL5pt9ls0tXV9ak1+mEiXvA2rr79yJBYZhLsBaWCUBrDn/S9BqopwXGCOmPP8PUjYkHbQuMh8ILQaKGVX6htc538whzKsLDX16DZREsQdgaltb/uDvdgGBUUj4iK9Jriarna12tygAawqWB6Hj66cIPzN5aZnq+yuLyK1JqeQp6jY/18/rkjHOovMFa06DF8sfNWubkwtimQEOhomwoJj4gqN93HFbD7daMUuE1wmqCUi2FqlKdIZyw85WHIB9eeS5Dgs4B7Jk/xAWZhYYGPP/6Yjz76iNXVVb71rW8xMjJCtVrlF7/4BY1Gg69+9atPBYGKn5cQgnw+z+bmJuvr63R3d0dlPT6VY0fvJLptMGsXs2stS/CoUalUcBwnEuvslFh4JNAClAGk0SJDEzO4cZ/xa0KH94zvgJOhxlOUBadAKDztoJXG8RwICnn7FGBv2hHatAxoryygQctAwTtI4tty4co8XJxd4vzMAldn5lhdXkbVtxjqKTA21MepQwc5fGCAkZ4sg0XImGCEHCwiZgJ0YFES29sjYEdr08OC6yiuXpph/vYK9WaF3v4uyv3dTB4Ze5ZpeoIE27Bv8lSr1XjnnXe4cuUKV65cYXZ2li9/+ctorWk0Gnz44YfMzc3x/PPPk81mn/jg4LAobvwz+GVoPM97RASw80lwJ/KU4HFgbW0NpRSZTOaRuaPbJilp+AHDSoPrItCYEkyZXCM+RJByrzoSWAPqoxxM1URpzzepGNIXlWR3EiI63ot4VwcFfB2gqaDmwuIWXF+oc25qjl9eus7UcpXNhkuP6XJkKM+JsQFePnWUoyMDdFtQMANrU+xg92KAfiR2RqW5c3uO8+eusba+zIGDfRw7OcHkkTFkYnVKkCDCvpnNwsICP/vZz3jllVd44403+Id/+AeklOTzeXK5HOl0ms3NTSzLeuKJU4iQQJmmSTqdjuqmNRoN5ufnH2VLSCbEJwthpmAmk0FK+UizjbQAIYJ7SHvg1UE3MRBo7ZFcK3GIIIpne594aDyl/Fihe97bDkRFgKt90lTxfKHLy3c05y5f56NzF1mv1FlcWcNOZXl+dJjjw+O8cmSQsYEe+npSpAVkfDHwJxaeUDSNGm66ilOvs1hZ5JAYRUdioE9w4xMkeIS4L3aztLREX18fExMTAGxtbUVlWh7HJPOgCDNNwmB3rTW2beN5Hs1m83E3L8FjRFhUuFAoPPKYOE0QkxyKYAZuKFOC9/TcXo8EYfhzi/LE0/H9P6Ujx1fbGrvskEjdHQOEwBG+OvhKA67e2uT8co0Pb60yPXOLyloNQ7kcHBlidGiAIweHmOy1OTWSp68r5Ytc0p44B75B0V/mdbR7b3waVQI0ICyNazepWFus6RXKPWPkejIoFNpTmIHVLpF8SvCsY9/kyfO8iGAopaJCq67rsrGxweLi4lNVEDicEONkL51Ot+kSPfIYlwRPDOr1Oul0+rE8EER3kJYgUmAWUGSpaBvtmWS8QAsoQTs6ddPaIPxagXttjh84LYVESEnDg5oHVQVza3Dz1jyXb9zi3avTTK9VQCm6UgZjQ728eOooR8cOcGjEomz7JVUkCi+olxlyt7iWJ4AQj98lplG40oWswMsoNr11PKuBK5poVMe6iWpBgmcb92V5OnDgAK7rsrCwQK1WwzAM1tfXOXfuHI7j0NPTg2VZkUXnSUdbYUytIxce0KZhleDZgtZ6G5F+lBCB0KOvnJ0Gs5ua2U1TWRhmDmn5MVhP/h32OBAnUIGVRoe1AGVsaYDY85EQflk88Lu+KuHWBswsN3jvk2tcujrL3MIqrtJkNAwP9PL8iUOcGB9gcrhIb0FQtIIkSdzAoSh3JEh7a0fd63nuH/GjhHtQuNRklUpmk9XsEsvWAlV7iKZRR6GwZCtNIagGk1x7CZ5Z7Js8lctlfu3Xfo35+Xnef/99pqam+J//+R+uXbvGysoKxWKRz33uc9i2/dSV4AiJU/gefGL1tMRuJXj4eBzkvzWhKlBN/1OmB4oHyI2fQTZNVHEMI9cVMKxkCtsdQSFvtveSbl+t1ZW+aiRNBFNLMLNW5eLMLDfmVrg2Pc/yWh2hDCbKBc5ODDJ2oI8jk0P0FSFnQ0oCuHgIXG1iBLICPpna7lhsb9GnaeXe+zpRKLTQNEWDhqzhGg7KjCldxchfcsUleNaxb1bQ3d3Nyy+/zA9+8ANu3bpFoVDg3LlzLC4ukk6n+YM/+AO+9rWvPRUyBbBdqqDTCtW5ToIEjwYa8EB4YKagOAi2gvIAGU8COSiU8JV/Hr/LJ8ROHu7HdvsEliaJnxAi8PC1vw3AbMkPdKCuYLMmWHHh43nFexem+PjyReaXV0mls6RTGQ4NDfP5iQG+fGyYkUEL0wTlaLJaBZKZCoWJG5z7k0ZxQ47YapOfrWhhYnoGZsMgrbLYXgZDW8jYFk/SeSRI8Liwb/LUbDaZnp7mi1/8Iq+//jrz8/O4rkt3dzfFYpFSqUQ2m8XzPAzjyRnU98Ju5CghTQkeB0IFaH+uMojq26W6wbT9KHJtgEzzZE3JPuK3TSCG/Ri1YAVSg4dCCxdEk3DY00E8uAiM4038Ar7zDfjw6grvX5rlV5dm2NpcQ3s1yhmTwxODnJ0c58yhg4z1G2QN38VnGJCyREBk/XFPQhQo7tOOwKrd1rp4EPtdYrF2YKYiLg++T8QeEwEwsch4kvxKD4OrY4h6Cns5D+syoEwtutVyfiZI8Gxi3+RpdXWVn/70p3zxi1/kjTfeYHh4OAocT6fTbbXskkDrBAkeBDIiTwqQIgtGBgyB5zaRykVIi73tGnvdgw/OaOK3+E7CjkK01nnoJGr3mPBYA/EtQSKwOgkXLdyWKIivc0kVuLkG52Y2ODezxKXZZeYWN1ha3qA3n+LYyBCHhoo8d+QAY6UcB8sGVkicOvWiOrpcCNUixDEa0tnY3cbLnR7iHvzBLgwAb7kKBSamY5De6qJrawDlmaSqWWTDwNBG0FQ/2kk+gaQ9QYJHiX2Tp83NTa5evcr4+DhCCMrl8p7rP+lB409y2xI8yxC+IFAwx0nVhK0lUDWwUxjShlQXez//P6wYmp3ukdClvfN6WiuU8hMtpDRiJGvPyKN9tCeWsrbrLaxBKLRQfu05IQELT1hIoGFA3YWNKsysaM7duMMvL1zjyswcm7UmaUNwZCDLoaFeXn3pNM8dKdJtQtbw45r2IkztkLQq38Wb3G5xuttY9HDHKkFLisH/HJLJJpKGkJA2UaZCSQLNjDBMPEGCBPsmT4VCgWKxSK1W4/Llyxw8eJBCoQCA4zhPVYB4ggRPJqJwcYTEj9Wpr0FtDhan0IaNm+/HKk/4FWX3NZ/pXd7vscU9WJBFVGfPn2SF0MgwD78tzf1hTb6d5p4Youb65Xo97aGkwMMAYeOQQQCbwIV5uHx7lV9dmeHy1CyLK2torRgsdzNWzvKVV05zZLiP3pygZATSA6HeV2RWazGpnYoqaaV3kblojx/SnTJiAT+Unwpf6dypRGgwBQiVRZLHlE1StoERZtlpkTxsJkgQYN/kqVarsb6+zg9/+EM++eQThoaGKBaLEWnyPI/x8XFeffVVcrncQ29wggTPCnxVZxdUFRqLsHaN6vR7VEgh+w5TsAvY2T6U57umhNE+QWsNSgukEA/kLtvvtv4kK6PtwixWpXxC1ZmYcd+IeSujM4/74/D9iK4wUIaNtnJ4OkNDwdw8vDu1yie3F5maXeD2rTncZoOR7iyHRwc4PjbIeF+RowdKlAvQFXpHNS2JcOX3L7FFHR5DP+arQ5TT076rr21F2l2c8eV7BuF37mcnw56IvW/bxvBj52Lf6wbkU3nymQJOc51yqY98rnuHgyVI8Gxj3+RJKYVt21y6dIlLly5RLBYjVXGtNalUirGxMU6ePJmQpwQJHgAagacVpleHxgpUbiKXP8bz0gg7ja4f8dcLCuF2Tm1CiPZJ+mG1S/kikkqDIf3ye7FG+/aUeCwUAiEFUvrb6mBb8EmH2EfkcSh9FQquSxFoiMqAJ3gglALl+it5CqkEBhaNhmSjZnDuVpOPbi7x02vTXF5exq3X6TYlkyO9nB0f5PkjBzg5Vma4O0YXPCJZbe2CMP33OzVd459fGONlxFx8CvA8hafxSS34K4XkK0bCBOyaEbgjdvqtdyBpbY2JyzMokBZkMzlSVhrPhWy6QDqVa22f8KcECYD7IE8DAwN885vf5NVXX400kAzDaCuw29/f/9RIFSRI8KTCd4KlQKR8C4HjIOo1hJYIR4GnQHto7VtZtOogIm26RbHP95smFWwvpE8IjNjysLpISBgiL164XXhOeodYoT1qfWybr4P9y/h5hO4t8BtlSGhKUBJcA0QaTYr1DYd3/t9f8N58hamNBgv1BrJR51BvF89PDPP85AGODJfp6xLkbBAO4OCPkrHz0RIcF+zO0TNOmOg4f+GTPinBNiXaA+15CARKilbJlmB7HfTV/ZSTC0LN2FbHN34thJ8lbdeFqkDDqeF6NbR2WwSPhxzsnyDBU459k6eenh5efvnlHcUkhRC4rhtl3iVIkOD+IQGhdWBWEaBcUrpJTqeRGmxts7FYoeL47j3Ltij3xh5aNCzdrqE88FwPz1MoL3Cj7RjvJLa9F4HLz7JMbNsknbZIZ8BIASaoBmxuahqNJkIIUimbbA5MKzgBB9bWNNVKDafpoj2FISWGaSCERHl+0V6t1Q6xVTpwXfrMRQH57gK5vPTbYIF2oN5wqdXrNBsNTCFIpy3yKQvsNGibitFNgzwbWynWrq+xvN4AYTBg5zjU18NwMcXRXJYhNKm1DbZWoSZN0lJiaE1TubgoXK0xUiapbJpc3sJI+20AUA64Lty+fQfPVfSUSpR6M1GsuNNUuI5ibW2DRt3BEAaWaSLQeDoI3VYatGpxG62RCISUPr8Jxlj/swYchid62xLnVldctioVNJpcPk25NzYOK9hY8HCaTQRgSBOn4V8XaInWBrZtsbVUxau6pDDB9dCu25LHSpAgAXAf5MmyLEZGRu5p3Sc90y5BgicZAs8PQtGub3ny0mi6QHaBzrCxrrizVuHKzeuUSylKfeVt5Gl6ap2VxRXQHp7r+RO0CshTu3cN8GOVonghLbBtC61dGs0qPaU8k5Oj5NJ5f0MX1pa3uH17nqmbtyh0dTE6OsJEVz8Y4NTBMmHm5k1uXJ0lm+nyyZvnIPDQ2kApw3fhxf1TWiDQGLhI7aGEgYeBEpqBoT4GRsr0D2UxgtFLOYrV+SoXzl+gUMhTHh3gyNEDpOYWuNVQLBaGaIouarKLpbk1uu0svbaBIQVHD4wi8bA2FXc2l1iSvjtNCulbXXSQsYeHFh5Np0K+kObg2BDDB/oxunx/odeE2Zl5Ll64hmFkOXgwTakr4ws9STC05M6dNW5Nz7O2WkVrA9OQCBRSg9FhkdMi8BTGFmrwiSaSQleecq9FVyFFvuQn7GgXNta2eO/9cwhhMnl0hFJptJUop2BzY4vZqVkqq1sYwkIriaslGhOw0J5ka7WGqjlI7VKrruF5vXiB1SwZzhMk8PGp1h1JiFOCBPtHy1XlgXTAbYLngBJ4pHGVjaEtGnXBwuoGUzfuUK9lSaWz2/xct26uMnd7AbdZQ2pfQsD33ojgWO2SjT5xCoQ5tUAaAs9r4Ho1hod76O3pplzMYaUFmCCVZmVxjdsz83R11yl2lyLXoZUGXNhYrXJ7ehmhNnCaCuU1MAyNFCmUsvz4oA7lIwFY2sHQLp4w/KBv4aGainzGQhXTkJIIC9yaYuX2FtNXl1HGOqWmxWq6xK0PL7F0bZkZq4+uwjAy24+BTRZB1nWwtcvaJ+dBSJSQaOn7G/1gdwMtRGD5Uv6JiCaCJoODRXq7i7hlj1Tel5Nwa1DfUkxdm8cQGYr5kZa7TfrEY2vV5cbleVZXaghSQaiTh6E1pg5WD118gCOIFMpDj1vDaSKkRW+/g+eYDPSnyBcLfsKfgI31Taauz6C1STZnc/LUKKbwLx9DwurSGjPXZ9lY3EJqC6VNXG3gYSINC6Gh6dapNzfwjBoNZwvXq4FQKAXGIy6OnSDBk4qkaFuCBE8YWtwnIDJRvI1NhQLrrkVGm2ipyecNeoo5CoU8mWymtXHwWiimqVZTNOoutmkSBtcoT2GExa+jHHkRpMuHqubhZGmDyNA3UKLQlfeJU+DCEdIincmSyxVIp3MYRsq3chhE8Ux2KkN3sRvtSpSrUSqFaQqEsNDKQGmNjhE+Py7KJy0ChQ4lJoVDJitJ2ZKU6QddKQXKSmPme7CLQ2w4ik+mVjm38jFrt+7grjTIFXspDg+R6+pBWSmk1tgyEKtUGh2ymx1/Cd06EVwQDpmuPFYmhzCtaDVpgp1K0dPTg5QWqTTt0k4Ccvkc5d4SplnFMFO++0zr4Fx1W4C4DgiU6nj+bDZ98lQqFejpsUll0i25bwGWbdLdnUIaBvm8TdTE4HvblmS7MniexjIyaG3gKYkSAk8oPMOjsVWlsrlC01mlJtK40vUD/pOH4QQJIuyLPCVuuAQJHh00JoIM4IK2gRKbjLDuOEgvS85O01fo4rAeo9iTI1fI+EHLoQSSgOHRIoWCQHuOP/lpEEL6k2cgL9IqiB2Sp1bxDSklQmrAo1BI0VXM+MTI8duYSksOjA5i2jamZdNTirkNg0DwgcESBgYGtp95h4cwNFIYKCUCt13MaKZjigPC35HAQ+NipyU9PSmMoDLNFrBpQTXfQ610gJuzC9xaW2X55hJZS9LVPUA+bZMfGWa4v4fufAYZuMp8N6WBRvoECoEOiORO8Vc+efLI5VP09HWTyrS+TWWg2JNnYnIEwzDpG8hDFmj4m6Ggq5hlfHKEaqWBlCZaKYQGLWLZkjH33U5RaUr5ZLKrK09Pn0U6bfgkLei8vt4Sp08fRUroKnVH20nL/81Kfd243gj1qouUNhoDlN+GpmxQFVXU4hILM0usry5RN7tRprc9+DxBgmcc+7Y8ua6L1hrTbG2aEKoECT4lCAPIg9fF3GqGmbUiW9UKtTtVThxKMzrWz8h4P8Lws8CUbo9LOXKsB9fpAeXHOxnS9PWfFIR6ttqPU47etx0+2JfjakwT7JTw43iCmT7dYzNctOkf7mlljJmBe9CPSmZ4tJuBwW7MIEvOC7LBPOU/jBmGnxnWOYwo7a/refhexMAQZ0ioC5+/Lbjw4YzDz9//hCs377CxVaW+VaGYtpjoyfPaC8/xyuFDDOQMpAhiyIP96+D8QtmEsA5fvD+EaM9gbH1WeLgIVyJtCTaUD9oUeo7heS62bfrk0SKyHPaYglxXGdfzDV1GmF1HQHg7+36Py0Lj94k0VIt1Cij3pyj3nvZVGqA9A9OA3gNdlPq7UG4gpxA7TtNosKU22Th/A7VRpbK+StOo40p3W9bjNsmoBAmeMeyLPIXSBOCria+srFCpVGg2mwAYhkGz2SSTyTAyMoJlWbso6yZIkGB3BFYgQo5iAnkWGiXmmnVqjVWaWwbSyoBykHkrLnLdslhIjbQVth2U1dCytUKnpMFO72mtZ4V+pMi3FDAg4e9M2j450UHwt8ALiB9ISyENGRXhNTVgghnl/u/cC1KDVGBpjZYKRxq4AjYdmFtpcm0VPry1ydXbc1y/NcvKxjLlfJ5jB0Z54cAQR8spjvWmGbaqpLXpW8xSaZ/BhZ0V74cYgQxJ5LZ6fTL8UQLrXAd7sAv4v1doRkK3mI4Ntg3hz9EmvL4fxJlLXBgqfJUxFYJ4IHrQZBnEqumgjX5QvIcQTSpehUZ6g63UKpvGKg2jgieaaBQCI7oGFCqwIib0KcGzifuyPK2trTE1NcX09DT1eh3HcSKLlNaavr4+BgYGSKVSn0abEyT4jMOfkGQoHCQVmBJHGjSNDHWjTtqwcYUE29imAyTa3hm0ApTYWTdou0JBCzFdoECL07c0S7NtG2nENxeAFVtfImx8vhWRj/Zjejq+PS09KAkIQVMZVF2oAYsbcG5qnV9cucPPPrmGqxwypst4weD0RInnD43xuSPjHM4JWLjFyqUP2NSC7OAAue6jrRiyOHeLmVZUrCFtelW0bxfvn6jocdv3otV/4bJ4Pd678Y5dSOW27eK/p7Hz4vbdarTwAnoeLhRoIVGYeDKFK1MoaaCE6wfqb9ufQuz4YyZI8Gxg3+RpZmaGH//4x/zoRz9iZmaGYrFIKpVCKYXneaTTacbGxnjllVcwTTMhUAkS3DcCpWwMPCtLw+jGTUmcpoSUjYuEdKtUSOdsGSixIRC4nodpGG1znWrFiUforKPmi1BrDLkPG0NIDHQH+ZAd38cQV0JXaJQQEQ9wgRUFy0149+IKv/j4KreXtljeqrNerTJcznF6fJjTB0p84dgYvTmbsulAZRmufsC5//u/WXM0/S+8wBeOHPSJnzDwhNhGpDr7Q3danjrRQbKU7vgZwmMEcDx8N+XDNMgrAnNZ0KBIPNSXpPDjuLTP26RAIpEi7N2QpWoMJMrQ1GSTDeqs6Qo1o0lTengozDB5IcpATIhTgmcX+yZPlUqFH/3oR2QyGd566y3y+TymafqBpYGIW19fH+VyOSFOCRI8EIyAFBloM0M2V8AUFUwMDGEi4hPgLtVjQ0kC09ge8ds+gXf67vzPsm3y32Oy3CG+urP+WugO6yznEs3DApR28YIivg3taxdNrcC52xu8d/kW08ubLK2tsLmxSilv8/JLYxwod3FibIgjAz2M95pIwFSA7Iamy507C9SlRa5S9U1awXnHVcofKGxzD/LZiXjd9LbYq+DTvpoRpSgGBKjtJMKAplC7SwduPP9zi7/6/kONRxMHgUCaAi09XAmeaeMZBioQkxDBvuU2xpkgwbOFfZMnrTXT09N8+9vf5jvf+Q62bQN+FoiUMnpNkCDBA0IHkx2gDRtppf2JUBggfIVuf0aLWwHa773dp7e9Ap1CRhPfS8g0dtjjju6lmHkpzKbbwYvVNgdrjRYSD0kFP7bp5ozioxuL/PLKLa7PrbGwukZXwWBsqMx4t8GrJ4Y4MTbMSG+GjAuG19GMYomho8doSJO+0QNBvJMO4rJEFDS+u49sLzwIedBt/2u21ybca0sBQcM7lStj0ePbWhiLUmqL+BZtv4uUPqHylPbT9AwjEGpQWNucgffif0yQ4LOH+1IYHxwcJJ/Pty0PSVOcOKnAL5CQqQQJ7gMChBlIBgAGDpIGkkawRLVHiYvOqfIuO99zzVCo6W579InItmUQWEZ8v1fYPCmC4ri0yqp5AbHyVZ0Emwpu3Gly9fYGP//oGtN3FllZW8eQBif78xw+2Mvnzxxioq/A5GCGlOErdPukKMbQjBScfYnXDhwCrfHSKRAmoeiRFnHplUdNAEQbb9zfltvf7fRt57LI8drJmwMCJTEwsEg5FgUvR1Hnyak0tjY79rpTtkFCoBI8W7iv2nZf+tKX2NjY4Hvf+x7Dw8OYpolSKiJQPT09jIyMJPXtEiR4UAQcSXseQjkYNBA4aCyUCNPC9DbidF+IT6oi+m/39QREdT92IlpRxLckrFDnBX+hrIHGV9Ju4v9dn9Ncu7XKhRvzXJpdZmp+Gdw6B3q7OdCT5ZXjExwe7mG0N8dAt4WlQ80mAhLXImwYBuTyUMiDCgmWfwKh+OSzM+XfLXBLIjGxscmrPL2yjGM36fKypDwbGRCmlp0ppL73Y7FLkODpx77JUz6f5+TJk7zzzjv8+Mc/5vTp09i2TSqVwjRNHMdhcHCQt956KyFPCRI8KAJVAM9pUq9sod0mQrsoz8NVgTri9jSvh3Pc3XYnOj8E0eHbnHL+q2I7xYpzva0mLNXgxvwW56/f4f1zN5iZW6XWrJPLWUyM9nB0pMSLh0c5fqCfvm6TvBmfxGOHU7q9SV4QD2bgR54HsUFSJNN+OyQSA0uZDHQNcmzkOAPWAEcPTNJXKCERGLumaT47FDRBghD7Jk/z8/O8++67vP/++6ysrGCaJoZhBGJ3BqlUimazGUkXJAKaCRLcP5SnkZ5AOQ5Oo4p2G6AdHLeGpwKZ7/smTvuNV9nuotHbPsVfARQyCC8OCVTIYyoKah5cn4N3z1/m0tQdbtxaYGW9TjqdYbCvyCtnxnlucojjIz30ZwWllGwFZQcZhm2ErNMbaQhoumCaoENnof9lMjK1IBAYmORknhMjxxksDtOoVimkMxRyXVgYu5DNpBcTPJvYN3nyPI/Lly8zOjrKW2+9RS6XI5VKobVGSolt2+RyObq7uxPilCDBA8LXVAJDa/AUSvmp557XQGnvAecusf3jrsHf4WsnVRJB7lXc+hWwGhXIWwsRLa3jE6flCkwtai7PLDB9e56pqRnWV9fAaXJipIfJsWEODpU4PjHEYDHDULckzN1VgKd81188cc+A9pgntw63ptm8cIkmAt3fR+/LL/prRjVsEkB7V+TMDEa3wOvOIxFYWIHQQZJhlyBBiH2Tp0ajwczMDL//+7/Pn//5nyOEwHVdlFLYth1ZnKSUieUpQYIHRJBljiUFUuMXstWuX1pDuw/pKDGL0o63azy2JcrJAgJdo6j+RxgHE8v/j5GUOrBag3UHrsw2ef/6bX5x/hpLCytkDZO+XA/dluJzZyZ4/vgIJyeKZCSkaB+oPGgTS98VbhMu24ZjHwAAIABJREFUf8L1H3yfTUfT9cpL9L78fKt9z2qiWCdJ7oh1E0AagwaaLVUlK0G7CttMJa7OBAkC7Js8CSHo7++nUCi0LQ8lC8ISLUBCnhIkeFhQCqXCPHz9kCf9u+0sntLX+hxSqPbsr9YnBbgaak3AhpqGi9dX+ODCNT65PsPU4hpVbZAxbEbK3bxw/AhnDh1grM9iuAQZESdOYcSUDGStdglbjkKvtF8Ub2uT1VvTbHlgrB2KtU/t4Od7XLjfNjxA20O9Ah0ju4CHxqOBh4uDRkiLpnKxRZh9+ST0V4IEjx/7Jk+GYdDd3c25c+f413/9V8rlMvl8HsuyqNVqmKZJNpvl+PHjiURBggQPAE3w8KFBKz9IPHKW6TbK8IjQEZiuaT0cuUF7AmkFN1hdGXCnApevrnBleo6bs0vcXlji9vwiqWyOA319HD54gONjB5gc6maiD/Im5CWt/C7tBdV7AxemEJGoduilixoUts1V4LqgPKytDVJILMdpGcaeOBPKoyYl268fJaCBx9TiTebWZlnd2qRcGuBI30GK2SzNRh0rlXnE7UyQ4MnEvslTJpMhn89z/vx5rl69yrFjx8hkMhiGQbVaJZ/PMzIywsGDB+nq6vo02pwgwTOC+ITq140Ml4vo/0fZjh2OFzZJikheu6ph04PNJiysu1y7vcC5qzf54OPLVOsKUwoO9PcyXO7mhRNHOXH4IONDvqXJxi8I3Da3C3NbAV+J7pDzDkQ9hQYlWzqfUqKlgUCitAatfJ+fDqWxnkVLim57AUCAA2ypGlfmp/jw8nvcunWbF068QI/MMpLtxwhU6hP7U4IE90GeHMdBKUVXVxdCCFZWVvA8D9u2aTabrKysoLVmY2MjIU8JEjwA4qHZSqugRpkINCkftVV3hwy7iDj5C7z/n703a5LcyM42H3cHEFtGRu57ZlXWvnAnm+xFPerWNNUmG5k0PS3pQmZjupf+gq71I/QTRmaSffpmPn2ybkk93a2huBSXJqvIYi1ZlbXmvkVmLADc58IBBCIycquFLLLwlkVlLIDD4XC4vzjn9XM0hBI2gdtbcHu5yf/77kfcvHOXza0qtXpAOV/k5PggP3rtAieGK8wM9jDUZ4mTLS8qVIjI2pQ6dEdU7PhLEaUOadXMWLG60RCEoDVCQOjHqxPJZv8kgrxtiBDw0exIn+VwkwfBGkv1Nar1bbZ3qkCISmmeTJIYOEOG5xNHJk/lcpkf/ehHhGGIEALf91FKIaWkVqshhGBiYoLBwcGnUd8MGZ4vRKG5HeXgeR5KKowxOK5LoVj8WqqUhFPSBmHADwXGhW0DC6vw5cMqn9y8w62Ha9ycv0/QrDHYk+fE2UkmBvs4Oz7AydEKU8MlCq719GkDJrQJiJM5ObYspRd67SI9HeaTtoCZEaWKyJY2pn2355pA7T55g0YTEoqQgIBQBxhtogUBe8V4ypDh+cSRydPo6Cg//elPWV1dpV6vA9DX10ehUEiijIdhmAXIzJDhsRGH4TaEYUDQCDCBQQcaoTV+o/HVVykKQimFAEcQAtvA0g7cW4MrN5f5+OoNrt2aZ2O7Sc7LMTkwyOnxXl6/MMuF4+McG5R4gW5LkpvEZIqRdtulVOlpe8ne03d3PZg4KGvv8wpBlF0vRBBiqGP0Dlo3wZhInN/ZdllbZni+8UihCur1OpcuXeLdd99lfX2dP/mTP+HNN99kbW2Ne/fuIYTgwoULFAoFHOfIh8iQIUMCSxeUUriehxAS13VxlKLRfHrkaS89tSUgBnTIjlAs1uH+Gvzu2j0u37zL3L0FqlubeAKOVXKcO3mcl09Pc3Z6iNE+RU8OlAbH7RIuIIkKnvouZfBoJV9Juee61jWb2PdHhx/UmCgIu8YlIK9DCjrECTsj2Lda/bk33GV47nFkZrO5uckHH3zAlStXWFhY4ObNm7zxxhs4joMxhuvXr7O2tsb09PSucAYZMmQ4IsIAHA8qPfQPV/C1Qz0sURr2GBoZeWqHbdM07fpBsN5U3KvDJ/fhg8+ucf/hQ5bWNtneqTNYKHBmfJBjw72cPz7BqakhRiuKkhvFrQJAo30faSRIx1qdUiTKYLfdbWnqFsU8w5ERJ22OWtimZA6il48xPpHzzuZQ7NydJBRqhgzPJY5MntbW1vinf/onxsbGmJ6e5vPPP6der+M4DmNjYywtLXH58mV+/vOfP436ZsjwXEEDUoeQd5k9N8PAZJOGaWLy4JbiZePttCKNR7IOxNogIzBRkHAkNH0IJCzvwPWHdb54uM1/Xb7J/J071DbXGOzrZXKoh4uz47xwYpwLJ8focaHgQt5NETJjy5a4CRlLV9i0IiF0tTRlxOlJohUpS4OlTkrRVA6BVARCJEmUY8SUKyNOGZ5nPJJPbWVlhddee42zZ8/yb//2bwghEvecEIKtrS2UUlmQzAwZHgOhMeAoG7PIVcjRCv3D1kITKIPjdoaK3iWfPhqS1W6xvUchohGiDiw34cEW/Odn9/ng6m3mF1ZpNHwc7TNYLvDaqSlePzfLheNjTAyCDELyrkZKm1Y2qZQgijzebm1K199ESV/aCZPpjNOZ4UlARClvojV0oVSE0kFLtVs9ZlrbZ5cgw/OMR8ptByT56xzHQUpJEAQEgU0X4bpuRpoyZHhcCGtzQUbmmJTg2VGPeX+ZzjciZQVqxfNphrDahBuLhusP1rhy6wHX7z5kZWMDGnWmeoqcPz7L7Hg/p6dHOHesQm8BXIgmX9ldH7OH4rvFpVoupa4bPDKycQnoaAbrtBMoJA7KuLjaw9OKnBY4ZvfF2l+wnyHDtx9HJk9BEOA4Dr7vs729nZCmarXK5uYm29vbSCnRWmcEKkOGx0JMniT4GpoCdnyauokqOqiiF61Qe9T7LE550nKOxTHMNdAQsNCALx/Ce1/c5ZOrt/ny1m1KBY/+gmIw7/HjV87wwskpzs72UnIhL214JYgomGxZj2y57YE+W2faGUkqDmgZfbvPSrmjnX3m8oPdqe1MRJoFCld7uNojp13yocTVuxMJZiN7hucdRyZP/f39vPDCC8zPz3P37l2q1Sp3797l17/+NZcuXWJlZYXvfOc7lEqlp1HfDBmeIxgcBOgQajWq91ZYfLhCKDSFvhKjs1O4lZ6uex5ucosT+MZBEqGBtRpVDfzXF3X+v8s3uTp3l+pOnY2NdfqdgOP9eb5z4Tjff/ki/TmXoifxJLhRYG8jO/Qw2p6LMRpU7PJRST13icG1brn2DomDtswoUwudxAlAInCQOFpScUqMFvuh3GCkd4i8ytOyTMbbZwQqw/ONI5OnSqXC22+/zdWrV/nkk09wXZfLly/TaDTY2dnhlVde4YUXXiCXyz2N+mbI8NwgmaAC0Gvb3L12h8WHawihKQ0WKfdVqFTKu9xisU5lX0GvaN8rxAa5fLgB91cMNx+s8tHtJX53e5H1lU36PMHs+DDnJwd4+dgwF4+NMjKQw40E4fGxtI1igBAGoaJlcwkZ0tYqJUUUUyjZK6p4OqK4OPTsvFv51f6FMDadi100lk350N5edj2AQKLo0S7nR08w6BWozdQY7xtnbHDEJr5LdajY0Ze1Z4bnFUcmTz09PZw/fx5jDCsrK6ysrFCv19na2uLYsWO8+OKLvPzyy0+jrs8c9hLnHvX7DBm6IXFsaZCNgJ3VDdbuPQRC6jt5RmYnqRyfpDM1bjekZdcyKj3+XDewtmO1TV/MV/n4y3k++OxL1usB280mI0WX85MDvDI7wVsXTjI96NJXgpoPwrVJgGVUmIw07nFwTwATL3WXwgZcNEQu/ej3pNJP0DWXkgwYISLtlbRLB4WMuNnzfRcm1Cdi21IIyipHfnCCqcFhDAahHQqypz3uaNR2z3v7ZXi+cWTytLOzw8bGBiMjI/zZn/0Zf/qnf5ponAYGBqhWqywuLjI1NfU06vvMofX83v4kv1cQuSy4XIaDkPSRdDCdAgzkGzSLdbTWuG6OSqkQ6ZQEDmmp927E/CXue1pY0hMC9zbhoy+XuDy/xKUvbrG8WSNEIoGXTkzxw5dPcWGij9mhIgM5KHhRlbxWPEuB5Stt1i6jY7NPdE6tQIuYvWjeYyJdEWM1XdKIaO1eduelYTCtNrHiOoT08JB4KAJCjLQ2KR0GSOlk8QkyZIhwIHnqDDewtrbGP/zDP/D973+ft956a5co/P333+fevXv8/Oc//9YmBt4dbcY+ltnPouvTf/eEERkyHAAByAaoNcqlRerF2/hhjnylRC5nol4XRULq6JgGG5fJjcuJEISwoWFxE+YebHPtzhLX7y5y8/4iK1tVCjnF5HCZ88cnuXB8gmPDPUwNuRRdq11v0CJq3r51lyBs4t52F0+7o+2JURoThTJQInIzCSgU2A4Nm6Gmv6dM1/jYz9mNGRn/dge6FESfND6WcIIgwEdKN3vqy5AhhQPJUxiGKKUQQmCMYXFxkf/4j/+gt7eXV155BaCNQH344YfcuHGDn/zkJ4eKMP5NXZF3kHuk87v2HOYdP34zmyDDVwEJhJsglxjsXcYU79AwvZSGZvBKOtIOOSniZCKrjkBgCLVEypZFygD3t2FuA24u1Hnvd9e5MX+f1fUNCsU8/X1lTs8M8p2Lx3lxepTxoqDXs1YmgCYQoAmJyuwm6t51T6eJSjokAm39/3FvhXj/EDDS4EhAucihUUpuCZEv2q2MaR3oOdVBxTbAtjM3AAEPq6s0lI8OQ0penh63TFEWuuyfIcPziwPJUxz8slqtsrq6yp07d2g0GiwvL3P//v0kEbDWlh6sra3RaDQwxmD2Mc3HpOmbGEhz99Swt3DyQIvTN+vUM3zl0GB80D4gkMIBIZAeWIedQe1aQx53KqvtqUUr/qs+PFiHT66t8NHVW9xbWmVhZQW/ucNwb4Hp0SLfe+0FTs4MMzXsUhTQI8FL+QIloJAtMhZzoW5LuHaJvrsRrYPjhqdJ1YG3ixBWHC4FSBeGJph+6wc0jKQ0NQ1SdZC75zDqZiQJE6nPAAhDHZ8vH9ziywc3WH+4xOtnXmZm9BhTIzkUDo4TX/nnqL0yZOiCQ7ntNjY2+Pzzz7l8+TLvv/8+N2/exHEcNjc3bfRgIZDSGn8bjQazs7Pkcrnku28jWjqnVpyczt/jSSU9VndbGZUNQxn2R3Qf+SEylBghCAMbrNauZItyqMRWoKjzBdHeDQF3V+GLe3Wu3V/n+vwCt+4uUm/UyOUcTh2b5sLsCDMDBV462cfEkIsrAF+TR6JSnTR9R8fOt3377yHDDRyFQHVi98NMVIry4MRpho1LIVeg2ZMHISOtTywCS2t+niN0nq8AI0LqBDxsrPPF0m2W5u4wWh5moGcI6ThIs5eiLkOG5w8HkichBEEQsLCwwLVr17h27RoAq6urXLp0CSkljuMghEAIwfe+9z1+7/d+74mEKui0Sj1TVioDcVKDJPnXLhIVB/tLBwYUyYCdnjCekbPK8AygrS+EEkQv6AF2agNUG2PsGA9TLdIf5AAFopX6xAf8EIyy2qSVbbi3XOeLm/f48Moctx+ssrVdo1TMMzZQZHZyiBdPTfHq+Wkme62GyfZmg3Cs0ttouzQdZROmCGOSeu6yOh0GXSbuvT52brprxaoQ7e8j4TMIKPdCuZeB/kEwgoIrCVNBEgRkMvIYwrpjG/hUw202girbQZ2mDtHCXukkTulzaKzLkKETB5Kner1OT08PP/jBD3j99de5desWv/jFL3j55Zc5e/YsjuMkKVqEEBSLRSqVCrlcLknX0s0ClSZBexGibt8/MwRKtL9p2aB2rSuKkHLgJb6O/YjTsx7Y4Gj1e9YJ4rNUv3Q/st0mD36Zha0+1qs1akFIqQTjVYMz3LIGBFg6vwXUGrBUgw+uPOTDK19wf3GF5dUNFIreosObL8xy7tgo52fHGCy59BWhZAxKBNFx7csQRbwUrQAHkpQ4PV3pNI7QmPttemAxexE3IWz8dAPKVcm2focV7Vm67l8bLCPGJ6RBk6qpsaV32NFNmmFAaOyyBNNhRY+RtWGG5xEHkqd8Pg9Y4XilUmFgYABjDBMTE7vCERhj0Fq3kSUp5SO774wx+L5vK5qybj0LsGO2ShQnNn5O+3o7g8BET23R+NRWQEt3cPCj++4B6ll6/OtW/6PU60kOv0edxc2htjoaOh/R9/o9vY3o8qsGqcEY6qHLSqPIcq2HRqNKsKPZbmoqUmA0NDVsA3UJt+7XmH+4yvUHG3w695Bbd+8gRcjoQJlzM1PMDlW4cGyMqeFehnodJOAKUEIQrc2zkIdsl66nuV+fFru8eY/UA7rtlPosDZZRBhqaDVCCXN4FFdOmvR/cvpk4Yium9GYajY5WRQpCJCFCGAKto2e91NPeszT0ZMjwNeFQcZ5qtRoLCwvkcjkGBwfp6elhY2OD5eXlNkITW5/6+/sZHh6mUCgceXCqVqs0Gg3q9XoiPC+VSvT19SVE7uuGSb1CWivpZOQOkB3btTnzukwaB41C3ZVVB9Oug1p+v99N6l303EkrMJ5dfH4Q4jIk7YTyKDU56vhsurRLez3av0s7beJVkaLLdgdBdPxNf9q/DNH1+tp6hRF5cmnKMjX62TGGmvHIm1580QMCagbWQ9gMYW4JPrn6gE+/vManV+9gZIFKMcdgyXB+aoA/eP00L58coqzA0QZHBMhoUQhBxOhV+4mkp2RjbAt3LgYxqYlYGhCmvV2T1jD2P4Fd8RaKKIyBScujRHLQ/bRQMjpWfPxWu2EvpDbw4AGsbdBsNJF9FZzj09YP6SiMjuJQCUEScf1Jap8Ow9tF+gMcJSVNC5HuLWm09Ch0WCh0ZFfUjiFUPlppwigboQG0MRHB7lb/DBmeLxyKPN24cYO///u/5w/+4A+Ymprib//2b7lz507ilkujUCjwwgsv8Hd/93cUCoUupe2PpaUl/uVf/oXPPvuMq1evsr6+zl/8xV/wl3/5l0xPTx+5vKeBeJKz84BBit2xnUTyikcYHQsz7AbagJSHGntaT4e2rPah0ST/WsdOCWLBul5S1CGZpE38X/oVbSPiI9on0vjIKkoe2mZF6zrnpMqM4+8IGUV7TrfPIU58vx/bBnDR3sTJljpph/TxkjaIihKRt6rNLSV2zxHph++4nFZ77saucxS7Wz0mFCJxmYHVM9kJLe/mGBkcYu32Ol6xQq5/HHK9NJqwruGLh/D+Z3f47NpNHmyssNnYRMgm52fGeO3kBK+fmmR2rJ/egkPRsXnoHCUAx/ZF03oESLuVI47TqroBtG7TWWsRcZWo2g4Cx0Ao0g8WoDRJnjswIHVifRXpTmSiFjWW1HS2d3zzJY7EmDilWVpgYG2B4PMP+ff/9j9oNjXTb73Jy8f/T4wBLWzbKg1WEW/tLmn3ZPratM42tbbWpBop1VAm2sLePen7Mn0HGmwMrNavXUcD0UrfnC5Hxsc1aeIU9VQR3XPxPS/afk3KSF9bKYjWUEqM0WgRdtS+AxlxyvCc41DkaXh4mB/84AfMzMwwNjbGH//xH7O2tgaA1joJS2CMQUrJyZMnKRQKj+SuK5fLVCoVTpw4QRiG/PKXv2RjY4Nms/ns6J3SEDa6c6w3iSeL1sN7p03C/tVGHO7ZMPVArFOUKC5N76JKLdImolppZPRUaSF31a97m2oUBvv0qTEoJDImTlG9wj0f1m25ySAf7RBE72REFPZqAwPJxNqdmIpds0Hc/unrEP+Ybv24Np3JTY1oRcxWWDLgs3ue6JzMY2qqRMsSQrR/XF5CeKPfLSFtWZ1M9I1BoBIBeFQTCQ2nRE2UCHID7Ogmq6KHL9d9AjSfPtzg8t0N7j1Y5t78Cjg+09MTnBrp56XJES5M9DI7UKCvKJDSxwgHjSJM2iDqAxKQIok8LuxHhLHnFtfJEo/dbZ2Q4qiRVbR/ci2SrqYii49EJhafXbQ2uSadE3/6OoiormF0rGRAEwKkwllZIZyfx2iFWN8EIxGusuedRCK3dYr15um+0vXOiK1uJr1l662gpXzsXJ0o2j7Z+9Tsd7TIMNZ5f7fqYVo3S4u90a3VOolT2zGw7WcIMKGP0H7r2nSMZBkyZDgkeRodHeVnP/sZnmcj5f31X/81UkpqtVoiGO8Wt8n3fYQQSayow6BUKvHaa6+hlGJubo5Lly4hhMD3fcIwPFJZTx8GiQYUTpLhq3MQTD97g26GSE8hj7DqV5qWMUCBnfYiS4Hac0gzgA8iQAJ+pM2KyxDxAJsMorunpljDJYVDmN4qxR4UqS9ao3rrjzEtS4KM9zE48bH3clOILm/TD/rpvxGiuT+hITJNN2NXhhDt1UzqaCeynDDJ91KCJzqnoHQLxdQ1tpREx4gOGRMHh/gYLRuCFK2UIYIQTEwrY6rVfsQQh4b00IVegvoG9abPjfsLzN2Y49K1OZY267jGMFGSTI6WeeniJC+dmuXYQJHhHmitfdWIyMYQC6qT1ovawREmmfRl3O7JBE2y6mr/xMOtPwpLbpIPyS/dLvLuYg6atFW62BiOhnwOhsfpPX+eJgIxNghhHVQOYWSkfWKX9bHlANPRq7NS8Q0ZUfDEUhYVl7yN76G9zTSxMzy9v30b9+K0TdkijG1bEVETqKjvxftbmxfR2sL4OOmjWouepe9SqOh3H0lITksKoUNTK6QRlucCbYrxjElleM5xKCaitU6IU1oQ3s0tF0ciF0Lguu6u3w9CoVDg+PHjAKyvr1MsFsnlciilupKnr9MaZZ/RfaAO/iZW4CtB5aFhQDggXJA5ULatpGlAGNjtkwmzE9HMjQeyALKIUjmkMQhdB9EEXQPj04rms7t2dtRTIHtwhUTj2glPN0Bv2/1NGy1qHT9+5BUOQhRwZIFWdzGgd4AaiDotpdDu07DfeyByoF086dpBOAR0aF/7N3IXxBOWIbF9CA0ijMhiaD8bAcbBiqA9kJ4NnJgQmdDGSYpfwkRMNdWEYu95QqTbKrHBpJidiKJcawnaukQQCpSLkA5CaNCB7Q9hSLstxbXnowToHJVAk9OC0IfaapWgWWVx/jbXN1ZpbmxwamiA6eEKr16YZWy6TN9ogYFBTVmF5NBA3QqnAwEqByrXWnoOtg7GRIRAJ8S51RYdrZA2hyR/Y5OTseQlsrw1MUlwTUJpJ3opo8ZN0SOtIYzbUHeQ6477pNPoI+JLEEbcU4MTwJsX+cF0H4ES1Cu9NIshPjs4KBQuUjhIIe3hBPhofAJCfGxQA92ydHacvkLioHCEC1F2wQBDQEhIiCaISEx38iQRqNQ/YwxCSkJ8fHyCqCQ69o5bQtmj4+HiCic5TDPaW0ev3fu3/gnAwUPiEEQKJ6klnnZxjYMyXVIAd7R9xqMyPI84VJDMztVz8fcxcekkL7GlyCYwdY+8Si4mXY7jJJHLY1LWWbf4u/j3mGDFVi+tNfV6nVqtdujjH4RkKDQ+NJdhbQ7uXoadNTsp5yr4poifHyA3OIMamIYex+6pt2BlHuZ/B/VNO8jbM0gdwAY9bIgyfmEMd+QMudETCDQE2xCuw8Or6IXrSLNjJwwhd+3viwL13ABUjlEcPYnqHY4Iywasz8P1zyDcgdBPmZQESfoKIfGlR6M0jjN0kvzkWTAKpA96DW58AIs3rIDGgGn6aB1GVhVr85G5Ir7qRZYncKZOQXnY8s25O1RvfkmweBdXKeq+n9hh0khPnfE0Gz8JW/IaYPDxwzr9I31QUOBqS4K0C9uwvN6kGroEfeNMvvQ6hekZ20ZBE5YesPDrX1PyfUId4stdV2PvThDbO4SPEXUQDYolRaGoEDkFnmtJUx12NgNWa4awOMCx7/8+DI2BYyCowd17rL3zHjIMadabOCKHI3OgDKEwbAceazseW/UyzhoMBz7BwxX82jJn66ucqNco1R5Q2S5AMMf91TxXByTbeQfl5hn2NeP1kMEaFBqSNSM587/8iJ7pmRaBvX+fW++9j9zexjMhyujIBRnZRRLLsiaM7klXg4tAyDgsgKEpYTMnWCkJFnsUq0WFdCUF3zBZEwyuBYitJtLJcfz3fwDHJlokaW6ehQ8/QjQb6CAgh8DVKcNX1PShMVZn1eHOimmsRBOIkIcFzWJZEOQVgYD1+7D9pSWxrlZ42uGNi68xPTyFI11CDKuNDa7e/ZK7K3fZbmyjCe04o1tHMkIgjKAQSmaHJnn9xe/gySISRYBmfuUutx7eYn7pLqEKQQikEAgRO7GtvcnVkrzxeO3C6wyXhyl6RRwkG/4atxbnmFu6zWp9HSMMjlQEQdixv4fru5wYPsb5Y2coF3pwlccOO9xav8Pd5Xlu3b9pY/Gp1ljayogoyTl5crrAmWPnmJiYohGCI4oU3T5kOUdPoUjBy9lrkE5rkyHDc45DBcnc6/v9CJHrum3E5kiViqxLMSGKy+nUUMWhEeLtgyBgcXGRarXK2toaWmuUUgmRW11dPVI99kKLPDUgWIOly3Dlf+Iv3kQ3twlzA6yrQeo9Mwye+x4V1wOvYK0IwRY8uMLme/9Ic/MBCJuCM21WlyZEC8W6HCY/+116ZI7cwBQ4jiVs23fh2r+z8sU75MIqAo1Oub8kIRrFluol6D9J7thbOIVeCuVeIIDmIix8xMYn/wO5s4wIahijk3oIYzBC0BSSmteLHnmZvvOK/MAoFHqBHRAb+HO/ZfPTX+JJg5Yuvu+3WQI1DqEqUStO4k6+yHRPCXoq4Av0wwW2P/uEm7/6n5hmkzAiuiJFkDtdNi3SJCJ3mY+SAUL6BKbG0FgPgyMlCr0CjU/YLLC95XF/qcFqUGR9YIbB8UkK46PQ2LEpT65/yZV/+r8obVfRYUAQxQfSwhpQpGlN3rsRCWxFHS2qGLnF4Gie/qEc5UqefC5P2JRsr4csLTW5uynYzI8wNDhOqdQHngZRg/kb3Prv/42dlWVbrFYI44AxhEawo8rs5Iep5sYRlUnKjsLdWaVv+y56+y4F3UQy89JuAAAgAElEQVRuBGw9qLJy0+f6oOHmiMNKb4Gm8pjc0ZzeCJnZlLiLdXZ6B6iMjdAzORJZkELCO3Nc+df/h+DePXrCgJwOWnIgSCZ+rUN0RCY8AzljrUehsKuxagru9ghuVATX+zX3yxrhKPqakgsbijOrgtxmgMald6iHgdEKFMvQqMHqQ278y39na+khjjDkA43r21ANYTLxg9VdtYTq0sTpbK0GT6DZcTQfVDSfTxWoll18T7EjDYEUeFpRCFyKoUf/cC99g/30yUEaNLhffch7cx/w4a0PWVpfQhttzzfWFyES4lH2Xd469TIzZ2YZKIwiUDTwubEyx2+u/Ib3r16iKX200W0PBTH58UKPodwgxYF+3FyJglemTpPF7RU+uv0p/3nlP5lbmaPuN3BV2opv0/l6YZ4eU+YHp99ksLdCznNwlKLKDte3bvHx/Af85p1/pxk0UVIh4/sydkUbB5cCQ+4wf/S9kFy+xNjAONO9x6gN1KiLbSZGxuktley5y4w5ZcgQ40gCotiyk7YoddsGDiZXBx0HWmL0GJ3lxaER4m2bzSb/+q//yq9+9Ss+/PDDxPIUk6u5uTleeumlR6pT94oGUNuA6ho7m+vQrOMKgVYymmB8HMJIIxFa942RgEso8uAUEvVJenCVUdpVqRw8z0EIA44CxwOTjyY8m+lcUwZjVwol7RaRH4RL6DdoBgG+URSaGlyV1COUDoFUhMKxOookWrMd3kMhCXAIQ4cw9MDrifYVECp849LAwWAIjcIkea+sG08YDz/w8E2eQOfYCR2KWkE+hxweZHRqhsXKENX1NUKt7VM+HUawjiaPf7OqIAcldUSeoK5yNNwcjifQQoLwaG4LmmFI029Qa2zTDBt22VdORSpjF4RCS+sW1ohkUjad7K17J7BtLx20dGkIj4Yo4JLDkCMwmroxNEMIQjBGoLUBLwd5rLvOzUOugO941EIfo6weytEKSY6m24Pv5ggdkMpnJ6zh6i1KbgMpqigZWw41oTSEwkXJEgWniCsEORWAaiKkREmJKyWuFCCdxF1XN4a60aAEPpFQHIOORMMiWspmtIikL5KmjmiAsHGbhDYICdpVBJ5Eug1yKsA4AqElxpWEHjRy4AsIPBdknmQYMoZQWM+iFgaktpYbbe2LYMcAqSKhvbTXCpMS6gsIhSBQAtd1cEOJDIRd9CDs6j4ZGmRo+7AncijtkpOejc7e0DSbAaHWNBsNZCqaeroTCiMwgcSRHjmniIOHQOEbg9AS182Rj1yj2ui2jhyTJ0d6NBqG+k6II/I4ePa8tIMwLq7wyAkX+xiSIk+R5kpJB8/J4wgXDw+PHAKJRhOEIWEzxDESjHVSOtJqU7XQ0R3qIH2JE0IBh3xTMkAPr05f5MTQJDoI8KRHX6Viz/9ZW6yTIcPXiCORJyEEjUaDMAwT95hSKiFKxhiCICAMw7a0LfG+h0UYhsnfvchYN6tWEAScOXMG3/cZHR1FKUWxWGRjYwMpJb/85S+Pcrp7IhkHTWhdb7U1imYHSkWoDOMOHGfKHSUsT6BGZ6Cn15IfY2y+reEp+i+8CeEmpNaftQq2T5YDqgf6jqP7Bq24NV5LX+iDqfMMFgYieYghpfwlZh4DUkGxD0YuQN+gJV9+w+qPRk4wcPZNqK9b3Y1Skc4qDXusuhizLr+6b3uMUmA8iscuUvQMeNLqadoaSViiF+bxC2PUesYpVsZBO5b5jAzCxXO82PwpfnWL7YZ9urZ6bdG2yqoTLcmF1cYYGvjhDgMjJegBChpUCLpAb1Uxslyn6jvUBsap9JcjPYyyzTw2wRs/+SmevwNhmLgbO11CXY8fWfuMCDDCJ5R18mWHXI8DBSdyywWwZRhZ1QztKGqFQcpj4zZ+U6yRm5zm9I/eplkPWNqqsrbdZGmtyuZWneraNk0jcUoVZE8/oeuhhKBnYJBjlTJT5WO4JqDph9SUYS0nOV72eNCXZ7vgYiT0NTXD2wGjVUNfXbFqJAMjw1DdBNdqwEpjI7z6498nXFqkqEPcSI+XOJVFuyRbCBGtMGzdlyo0BBKGiw6jZclyuUm10ATXJee7TO8oRlYDTLWJcXP0TU7aa9BsWKvq0BAv/vjH1KvrNBo7qCDANWmHLUipUFJaK4q018qJZFYGQSBs7KhtB/pKgpk+j62SR82FZpRI2dOKfOjiao/pkRnyqkCA1TCNVoZ55fRLjE+NsLK6hBORQ5GyusTkJxd6zPTP4FFA4dplI1ozVhnjtdOvMNhTwUjrtmuzPAmDMAJpchSdCqenTtHjlmywUlwGy0OcmT6LVHC+fgaDwZEOQdihbzQuJbeXE+VpBvqGUNJFICnRw8mxEzihYSTXh5SSIAxR0SoVLeKgJwqPPF7d4YXZC4z2DuMCI4UBRgoDBDQxaFw8S7Yy8pQhQ4IjL10zxvDOO+/wwgsvMDk52fabEIK5uTkWFhZ48803H6lCxhgcxyEIAqSUKBXd8CkL0l7o7e3le9/7Ht/97ncT95HWmiAI2N7eThIcPzmIKIKxIAw8KE+gJl6GF38ExQmULEGhjBWNq0gPVYaRMzA8bcmXMS0zh9btMXeEAyqPdHoSaxPKATEOZ/631nZ7Vk9gl4Xn7CspcwAqZXjrLBCLpbHH3lWGJE++w0LggKzAqR/Dye/RGRjAwk4FkMMljytykS4rEiVXeiA/C4MDuI0afcoBJx8JySPaFK/uEbJFHuPPiaA9FowbEtF4ErpUgXDJCY+ccm3bOa61/mkscZmYovx//LnVP4XxAv194ChbTkw0tY6sN1EdXAWOsE1ldkDXIfDwdJFJItG9pyDnELv9GJtF/a8j6LqgsVxlc2WLzz+7yqJ6SJVVhsslSlLRUxgi9BU51UQVA9740auUz06A55D3A3r9JqNoTipD3ZMEjl0L6hlDwYATCtCSGSnRQuJrgww1yvVg9iSzo+OwvQN+s9W+cT8SUfunXTfdRORAnxKclYa6CgmU1dcoIymEAhUmyjVr9ZMCXM+237GT9A2NQaNuPxvTerVpAjv+xqJzISIhOgwIw6QDWw40lCBUllghbCgIJxJpu9LF0RJNAyVgvDDE0MnvE4qwLQQLQKfm0lpzXDzhorR9iCzicX7kNGdGZtHnfh8jdKKX6rSi21WPDp7K4Vg5PWAYcHv5zsyrvDbzohWe61ZdwlBjTGTZFRIlXQoqR166kXtZ0EOJc/kznD15CnMyRBMSpB5ESbWmqzw84eFF5C9+YIkJol0LqhG71zNmyPBc40DypLVOtENCCB4+fMg///M/s729zU9/+tPE+hQTm3fffZcvvviCEydOMD4+fuSnldiCFR/TcRw8z6PRaNBsNpNVf51C9rSgPE24lLKrWJRSbaliOgfCR4Oxk7pUaFWk6gxiCscZKMxCYdwSFikxwmBEEM0ZHloUI42TjUkuIj5h6xWfTzoQXrwqzVjyIwcwojXQ7YUksrcJgYA4MKetl2vXQInWMbs1iQCkCSwpMbo1Yco80N8iMm2rs+LJzGpQVMyFAE1g86fF+dL6B+2ScunYGofK1lNEFZMxYRL7uA0MsakqOYdo9RToKF6NgTjEgxGWAGHAyUGhBMZEuq8DGpWo3iY6SCyIEk50DjHhwJJd2QSjsCsO7X7aNAi1RkiHgBIbObhRLPLR/AM+vvyQ23cX2Ko2CMMcI1OzDM2MM9zTg97w2VzYINCbyLLLav8AfQNj1mip7WVWGFxjrJMnIT/Wz6mlIRAgjUm2s/3B3ru65NLMlWwwA6WQSTyNlFg61UliC11b02BF5I6GYuKmjjq4sHXQwtjYUUT9SThJHf2yh1+0JFZK6/7WHR0zjiye/E3OU6KFwEgZETaopHaNrYmxZTPukcm3BlzjUDJ5RGwJ7gzU1IE43EMcsctF2WCXB5lN05+toTnSVoHSirxxI1dZqorpfeJ6RVEKYhssGDzjkDepffepf7xQNu2itm/j8QnioJ8ZMmRo4VCWpzAM2dnZwfd95ufnuXnzJufOnaNWqxGGIUEQJPqkK1eucPv2bRqNxiMFyVxfX+eTTz7h6tWrfPLJJ9y7d4/f/OY3rK+vMzIywo9//GMuXrzYNWde53dSyuSJLSZPaTx2mIMo+jNOD5u5QfxcHzk3ZzU1sokdlTwQgjBqahscMooPZMJI3xQt3e462kasoy2OixVLH7rmAnZHwgkRxC6F2MpDO4NKx3QRrThJLXSGWohJT2t/gSQQCiNEFMPZoJo+rKzC8oodtYcG7Uuq6FxTx9DRLGkMyYrCpA4m9bJWkWRPFQ/3KUsHTmvbvZrpsEisdDFpjK1eIiFySAfU7nAdkhxSw0YI15Y1V2/d4/bDZa7eesDcvSWatRoTQ32cmJzl7MwYL8xMIza3ufbJl2yFOyACjLD6JQdawaQc2o9v2o0zEoHXOQkbIuunQRpFLtYROqp7gxz2maPtVku53dI/xX0tbFm5XBSOlAgp46iN3Vl9uj4Joe8eeyp9pdKcJt0/0hHzdfL//j2ivRxsyINHgIFElC7APkOkWI9QrXrILuOVbaJUPCqRIrWp2z5ZHZ2qc2d7dDvjjDZlyLAbB5KnmHCsra2xsLDA1atXWV5e5saNG7z77ruJlQjszVmtVqlUKpTL5Ueq0MbGBh999BEffvgh9+7do1KpsL6+znvvvUdPTw/Hjh3j4sWLu1bz7bcqMCZOaW3W46A1SCnIlWkUxtis7BD0jEJ5AnIVa9HABS3b8t+ZKDiihiglgn16VknJnXUTe49qTwgGE1mgTJu2o60W8VJ10pNO/E36My0zWjQ0RxGVAEEOCX4Idx6wcH2OnXqT4uxxhrwianBoH+tS11pxmIZpb9H22j8yknYS1vNpdNR+QNzXOq0PkSUj8GFjB2778H9/+IDfXb3Kg/vzhEIgXYep8QkuzIzzyslJXpqdYKYCt65KdOCjHImWHk0MoeOBYzORSFp8LvJOpTtqdyOISV3FNk0Puywnuy5LlwY86l0VrxDVWO2U5UqxID11nL0IQ5eq7Df573Y82UYy6Y3SxzhgnEiMjvH7x3gYS2tD027CzvI6rXDxPqIjrcx+x+jWdns/TuwO2JohQ4ZDWp42Nzf59NNP+dWvfsU777zD3NwctVqNy5cv4/s+QRDgeR65XI7JyUl++MMfUi6XH2kwGRwc5K/+6q/48z//c5rNZhKfKXYL9vX1kcu14iUfpvz0qry0juGRB7r4TSihPEbuQoXZ02+AW0GrHhAFktwXkpaLInIFtJKYttBtoN6vfk/G7Zgcac/j7Yrhtce+e31nQ32mtokCV9658iUfv/MujUDzRqUPvV1D9bP3TNhtpuyGLr8/9aFfgpROVEUT2RajyTq0VgBf2RVmGri5CB98fJtfX77Bg7rPxvoC4c4Gp45PcHp2ilfOn+HUxDBDeRjrsTdp3hjyjoujctT8kLAeJB1JRvxapvpVd7rRgRS52rW91i2LT1pTtA/26a1dv1XS9mOZFB3HlDp8304TgcNlityNvfY6zPjQzY65173ZyaU7rUi7VhMLGx/KmCi/XzRmmS7W4cSIeEAdOsvf//HjKT+1ZcjwDcahyFMul2N6epof/vCH9Pb20t/fz+zsLOfOnUvIUy6Xo1gsMjY2xpkzZxLd0VHR09ODMYZKpZKERYi1T+no5nC4wa1z23TQzccmT6poBy8HKLigCjRRuIAyNtyA3V4jjdUsGSTaCCv1IH76N6l56XB1elZWvnQaVtKQ6cHXtL4FRSlXYKDSz1atgascXKmg6Vs3lxLtZgKT2rXbgVLb6S6i96St9rCWHEaestfv6ctgz1aACaM8dtb1FSpYaMD1hwHX7q1y6+46N28tMfdwC+M6TAyPcXbiNOePDXJqsp+p4QH6StAjbKBuAshJied4IBRCOSgliBcMtFLEdJ5Z51nuvYXo/FbuteWThEi139EJk3219osdbbtCrXYWnTAekXrt7c7dD91uw8Pem3v2OdFe/9jV1ibgT+3f7bkiuWVEF2K8z/G71CZDhgxdcCjyVC6XuXjxIi+//DJvvfUW586d48SJE7zyyis4jkO9XqdarRKGIUopBgcHH8k9lt4+thalheGPoqFK40kRjtYwK+0EibETvgDXYBfRRe4AIWOLQEv1GScMjTSytl7JU363A3azGjyhge2w16jdD9T6uuN9urT2rH6pjZSk9/gMxx2Hmh9QnhqHYi6KSKnZlfiv89C7H/XjN20OqlZ/iohyF9/T4Vtxj8k1ljylXGAi6hNawuIOrNTh2oM1Lt96wLuffM7aZh0pFEO9BaZGepkd7eMHL59hZjjHeKXlLEluTgd8CQ3dBBniSoNyAmRH6o3d9Cm2hXU/U/t9fF6PRpAen1YdvR+3rqrZ5TrbbSc1u0+vk1mlLV3dci3udY90uwf3PM7eZ9qpOTpsi+x13Q/67aD6ZMiQ4WAcijzFuqEgCCiVSoyMjDA4OEitVqNQKLCwsMBnn33G/Pw8Fy9e5KWXXqKvr++RVtrF6OZae9SI5Y+6zyEKBaGAIGJMgY2lIsEY2ZpQTWv7OJK4MCYhUG3QXZb9P00r00FlH5EAp0uLtU4OEYGMi3JzOKdPM3n8uF2mLjQU81akjABhiOT2HQaQ9vSmInGQYVkq2gqNk987n8Xbz8XsG+pBYNeuidRElCjX7CtOBByTtpSoPxSCTQGfLPh8ePUWV67d5t7SGtVag7ynOD45zLmpES5Mj3B6YpjjI5J8fL5BAI5DI7SRD5DQlCF1XadpdgjCKo7wseEs2ddo0mmd6DzH1vntJlBpfY0UIvmc3nKvvM6tIzydvitS73YThTQF2dvqeGjqd+A9crhiutn/4mUih22lzgfSbgnZOWR5X2de0AwZvuk4UpwnKSVbW1u88847aK0ZGxtja2uL3/72t7zzzjv09vayvr7OvXv3+NnPfkY+n3/kiu2VM++ZgmlCbQnW72NWF6mrXtTALN7wNMJ1Wjl7RRTzSMg2a0y78X0/HPCE+1TR6XY7/G4x+YltbgpsmwhsiAKFTQTrN6wARkXJTY3BE4ZOarM7w7xJPbXHKuO9K7rL7pSyjnY1+KXOvaUOMVhKaI8XGHCk/c0Yq29a2IRbyzU+vbPGxzcecn9hkdXlBVwJ58aGOD87wanJIY6N9TFayVPJSwoiVQfHsV1H2TSACij25pk5MY5UIb5vGJ/oR7kxWetuezj4bhGp/4nOwXT82vrUFuKJg12dTxpPvuyUxfdRj7DP7tp09td2xJqno9jT9zKSPcpY+cyNpxkyfINw5AjjKysrXLp0iYmJCV577TXm5+e5ffs2d+7c4c033+TevXssLi7y9ttv43neY7vanhTSwe4euyxii1IDqvdh6QrNO9dpeMN4GrxKP7h9HQG7beyZSDbeGmc7B7BneUDbb7bsoiuRGCQ2po5OfZ8Sp0TBL93WeYsDeFqqeR7lanYjULu2MNCm2GpjCnE9TXIOIVAHNhuwXIXP727xX1du8fn8Mg9WNnFpMFwuMdGb54evnefizDCnJ8sUHYOrokCp8UwY2qjjAtqirOeKhtGJXhxnFB2WGRgoUe496OHk6Hafx51Qn0bvfTQ10mHxFEvutgCDI55PZydPW5ee4aEiQ4ZvOw5FntLusiAIqFarADSbTa5cuYLjOLz99tv85Cc/4R//8R+Zm5tLUrQ8C3iSxAnS41kIQRW2HlBbukY9v43omwaaALviRwoSaRTi6c4ITwf7GXa6/iYSSUkSqkZirU+hb9O9iNC66zw34lUyCucQL1YUqaLjHGG7D9Yt/k2MQzV1Um7K3bMnWXTj2mCADeDWCty4V+XSZzeYu7fEwuoGmpABL2RquMxbL57mhZNTzAyWGCxBWaaojUixyyj6ubLxSwnRSCBXzFE4PsXM+Big8TxJrpCzNYhjYHUqh5+ydfIgyU+6Ko91nCdQxteBdG/q/P5Q+MqsyxkyZDgqjpyeJSZEQRDw4MEDPv/8c4aHh3nttdeYmprC8zx836fRaDzxyj4qOtMsPDkEQB30GvnmA4SbJ2e2QYbRgXfvofb4/huJlEdvt4WG1of0LKuAnRpcucLt+dtUTUj/iWMMnTmJV+pFKRWREtFmoet0MHWxIR1UzbYqJT+Yzi073JRpK1n8U8R1doAba3BjMeCLu2vM3V/l+q1l6ts7VIoFRnoVZ471c25mhBPjg4xXPPryIcVEEN/AOuZyYFwSxhhBag1CgwkQUpEvuOQLu4Nu7upQX1X/Mntd96eIozCpw9aps/5HZWtP8ty/LWNDhgzfchyZPDmOQ19fHwsLC1y/fp0vvviCmZkZxsbGAEuutNZJGpVvNwQEIWiNNpoQaISGfJQrw2jZPeikzX7bKuMbjr3OwAibpDUWJTtgI0SGTZY/+oAP/v1XLNV2+O6f/e8MT45CvghCIaO0MZ2Fd4rrW5qPbralPcxG3ThXsmlKXi1E6wAatLSvuraetfVtuFOFy/e2+OCza9y8fY/lpSVKOZcTI30cGypw8fQE509PMDFUZtCLhPPERdoo89b+JLoKX+zhJUK4aG1oNgJCLdEmRMiQfM7DUW0xu78efJUTfsq6tt9hD31Xdeln6cMcqsyvkjxmyJDhmcCRydPo6Cg//OEPef/99/nFL37BwMAAfX19DA0Nsb29jTGGcrmcuPgOSub7tBFHQH/yVqcI2q6yM7qBQeMnyWyNXYhnAuLcYRaRilx8+yP3hli7SiwWl2gkPhAw1Gww0WhQDA0jGFwTgA7A5PYtM43WnNWNEXVr24P6QHo9VGQGivysGqiG0FSwtAUff/mQd79c4NPba2xtbuLoJn0FlzfOn+D1MzO8eHyc0T7FYDmVUlVH5UYCc41I/rVNwFH1RSrsY7CjWXywwvZOQGACcgXFxMQwPT3yKWuCnkEcoHsT6TcHMKxuP3dbFQdZrO0MGTK0cGRmUygU+MM//EOGh4e5c+cOo6OjXLhwgd7eXowxfOc73+HixYv09vY+jfo+g7AzXWgEWroY4UJCGPUuL1BrH7nrm28cDuAiMnK9xZO7QVjSKKyIXBqNDH20DvEBN5c7QKDUxTyQmilbtKfb8vX40wGzaRuJsWpwX8BqHe6uNbh6b4m5hyvM3V/m9sI6W5s1xgd6ODU+wrGhXl46OcPY4ABTY1CODV2mFbC7lVtMIHFpy/a2D9/bXN9h7vo8Kyub1Bp1KgM95HMOPT0jLQHdo3Six3mmOMD683XicQ27T+x+fCLmsQwZMjxrOBJ5MsYk0cbHx8fbvq9Wq0gpefXVVwmCgEKh8MQr++whsq1oHxn4KGPQQkYBjnyCZoBTKCRPsiZ5167g+UaNoenlQgfMnAJQKVKjEag4LpIJyRsfWd/GUwLhpFfcpVjRgUvv0hVqtxt1c+SZju0gSm/SsWMU2JuNELZDuLum+eLuOv/+7mVuPVgmRJAXMDtY4MXZYV45Oc53XzpBr2djMyVWimh1YWRs6tB0x1t11FS0T/5CQ63eZHFpmYcLy2zXdqj5A5yqzURVti37SMKdx+h88cLJrxoHVdns8f4o5aR/O5Rl70ndxO3duTueO1NjhgzPHg5FnhqNBlevXqW/v5/+/n6+/PJLNjc3k4ji6SjgxhiUUrz++uuUSqWnWvmvH8bObBgcY2PkaBOtCNMSJV0gHSGoRZ9iPBvrEY+I/Vifad/MobUqzS5oc2wE8bCJNj5NERAIgUG1JbJvKaX2LL7d6rTHLGni/yJCpLGxmAw2ka4Qdu2cEhA0wM1ZGXc12vbykubKjXkuX5vjxr0lVjZ2aNRrnJ6Z5MxoLz9+7TxTQ2WG+4v05Fr55VokSUcpDUUrzcZ+6HBJGayxLsg3CYoNtuQadadO08uBG+7ROhFB/AqCID7rc/hBBOkw9X+sc3yUnQ/a51lv9AwZngMcSJ6MMWxsbHDp0iVeeeUVhBD89re/ZXFxkTAME21TLBSXUnLq1CleffXVr6L+XzMMGA1G40Qi8VA3rRnDUYgAWjGEY8eSjer87Xl47GAtbY/skX1FpMhTHJVbh0CIUBAaCLRAaZCOtaTYUmUbgYqjCezXdl1DQIjWHxkVZIQlT2GUDUZg5VZ14EETvljY4Nq9Ktfn17n/cInFxSVqjZCh4QlmJ4Y4Pd7HKxNlzg/nGRsu7mLB2gRooxEiiheVpLfpZJ6i/SO7lVch0MjvUO+psuYu4xuf3lyR0Asikpne66vtVYcxlDxr+KbVN0OGDM8eDiRPQgjCMKTZbFKv16nVajx48ID79+8nK+qCwIqgjTEEQcDAwABbW1v09PQ8U1FshRBJzrwnAuOAyQMl6rKEFm40P1qtk5GiYzK3Shf5rSFPe0lrIwgSAtUm4pUKEhF/PPnLjqIM7Tu2F7vvMdP7x8TVtGyANlyEwTFRyCkjqAKbTVjchvm1bT68epvPPp9nZXkHEQSU84qZ4V5ePHecVy+e4dgYDLhQSS+hi49oDMYIjLHkz6aMOfzV7qRYmpDAbeLnGuyoLZoqoOE0bdB6sG0sDmyZJ45vpNuZb159M2TI8OzhUG67kZER/uiP/oiRkRFc1+Vv/uZv8H2bV0splVictNZsbm7ieR6Dg4PPVO6kJ1mPFhFwQZbQaoAVNYxSfeREHsgBTrTaDlrqkOd7vc7eZy5AC2yquUOIqQ6NOGJUTFUFrfxzVswupbU2LdXg7ib85ndzfHLzLncXV2ls1ihow7GRft64cIIXTk5zbLzIYBlyCgoyDpdJuw5MmyhupbQ+t0dF5FYMCGg6dereDtvuJk2tabgNtOx022XIkCFDhq8ChyJPjuNw7Nix5PP09PSe2/7yl79kfn6emZkZcrnDLzv/JiEhAdKFwSmkCDk2OE1D9OIOnQVV6fANxO661qdvBx5HnGHJjBAKJSRKRFHCjWgJxx+baMYOLVum0dJGkYg0/ds+bNTg5sMa1x+s8PntB3x+6z5Lm3XCEK8x774AACAASURBVC5MjnB6rMKpyWFOTA0zPVKgJweeAld2JHVNiBNoY38U8lE1be12SYlCBg4FWcIzeUwYkCeP1OkQ9s8vKc+QIUOGrxpPNAiTMYaPP/6Y9957j7fffvuZFow/jiUq3tOIPKJyDHqGYUqT811QvSAi8bOiY05rEahvz1R3wJkkS8461y9FqiZh3ZiKdCLolornsO20u10NwqSJhcBI8CNXXdWHlR24PLfJ5Vv3+fjLmyyuriMQVHJFZoaHeWG6nzdOj3JsfIDhAciJVs2sKqudGpkoHAHCWrQeXQ8kOj5JVNNF1RWFII/SAU5TQhipuMTXseYtQ4YMGZ5fPBHyFLvnjDE0Gg1qtVrb9183OnPsPak6CaR1AxkXCMHNg/RsUB+ZchXR0v18/a3xVaJD+mxiXZPZ9RLJmjyd7Cl2rblL+8Zay9rS2eXbSVTkphMCLWy8pqaApSp8dmOVy3N3+PzWHR6ub7HdaJJThtnxQV45cZI3zp5hsCCZGJIUPUuTkvRzLfpMTIhNaNBGIERLgP5EYMAVEq+Wg2VJabuHvDaITYFoqmQpwtHpZoYMGTJkeFQ8MctTHMHbcRxyuRye5z0TxOnpwrHzlTTQ2Iaca5eW6SDKbycBB5OKFP18oiNuU2QRMqKD7MQJqCGJWtSx+D75xsRlCoHEtEw+gBHJujoAAgE1YXPRXbpW44tbD7hxb4E7i8s8XFzEcRWz02OcmRzi7FgfL0yOcnzAoceLioxiGkgREz1DG/XTYCJXXaLdTp/9oz5ECDCh7VKFWhF3tUDv9jBCgbvl4PhOJCjvHtYhQ4YMGTI8HRwqVIHv+/i+j+u6BybYrdfrBEFAGH57xazJNG0CMDtQfQDVJSiPQW4E4+UxqNgZ9XxPa4aWhqkV7AmIYomKdstRsl202+6eZiL6krLjmSiCkwFQCCkIgSbWTbdWg9srcGt5m//63RfcvnOX1bVlco5kqq+Hk9MjnD8xyYsnZ5jsz1PJgwcEocGRpssKvviqajRWHC5Fd23442YF0iEoBY52KIo+SiIk1A16XBcCHdWmq484Q4YMGTI8JRyaPN25cycJiLkf1tfX0Vp/q8lTAtOE6uL/z96bNseRZGe6z3GPJVdkYiFW7luxFtaq7i5JY/ea5to1GzOZvtxv/Wv0K/QvxmTShzaN2di1UY90W0t3dVV3saq4FPcVBEDsyCUi3O+HWDIyAZAguHbRnzIUgMwID8/IJP3lOcffA/e/p//gR7q1WZrn/xwZn8foaraf6x3G7vqhFHkaPC5lfTKSehp+fDgWNThyUDidWIshNbrcMLDeh9/9sMo3V+9x/eETHq2s0etsMF6tcHpukl9cPMcHJ2Y4OlmjLgnjldQwEwAvKV2zvFNy8N0ai4hG7dEAurBieO4dd4NXJlm+MJAqDT1OS2s68QatSkggPgMLUofD4XC8Lp4pnpRSrK2t8U//9E+srq4Wnk77ce3aNTzPKzyf3nRj4FfBIPLUhegJrD9ge/E2vVqfoH2cSuMIWtcH7gTvKkOuA3bwTcCKxUhRyj2IHpE+aLOTpXRu+kipF1z2TIKAeCQCnQS2O7C43uHekx7f31zi2s27PHq8zPbONnOtJrMLM5w/Psvx2XE+OHOUIy2hqbLC7KGRhcGL2KuViiCi2EM3YW1mk3Co1HVpp102IR1qvKpGfANiqTarBJUQF21yOByO18+BlE2n0+HSpUvcvXt3V/H1rgE9j4WFBer1OkmS/GTFU0oH1m/D6k1k8x4eimjtPpX4Qvp0Jp5+GmW85ejGAV/NXpEnLIjFiEkTcEXUyWYhKEuMYBD8QlRl17RpbiwPXGnSU+KsELwHrAMPtuHbm0v88eoiv//2JhpLM7AcaVQ4NV3n5x+f4+P3TjJeE+ohBMJANNkkvaaUi5dyV/jhwn9h5LDsdVhrGNZML/AJyE7T2iPwA5RWiBHCSpVKtXK4MR0Oh8PxQhwobTc9Pc3f/u3fsrW19UwxpJSi0WjQaDR+sj5PA2xaGK5jrOlgbQcjPVBpdC5RP9VKlIOKgZGdcbltgTVsRj12kpiehUTyvf2qECmDWrH8/LQg2wCxhX5qsE2gAT81uvz+ruXK/cf861d/4P7SCv2+IFHEVKvGhZMz/Oyjs5w4MsZUq8p4Uwh19gcg37FnAavBZleXvDQc9nq95eRjsf+uLPZ2l44f8L7tRomgtCLwA3ZiwfO9kiTdHRFzOBwOx6vjQO1ZxsbGaDQaxe9PS0W8LfYErwcDNgJ6+GYLYQdPomynnUkFwU+GF3lPc0EEqYtkQtfziMIKsYa+ViQCWivyXm0aO4gCZUIGK+kOPQUqC7qs7sC9x/DDvWWuPVrh8p2H3H60Sq8fM9Uc46MTx3n/xCyfnpvn1JEK7RBCD/Sg5eAglUgmokSNCJOD3JWS7cKen/989+Vzkk0kTuJ0I4ZJMNbQjyMSk4zM4V35c+dwOBxvlgPn1HIfp4Mcl/OTF1JWAQGIhyRx2tIu9zKyMUqCNz3Dl8chsnZl8v1g+B7sWGRsHH92Dh0Z+mGFCNDiAREeJlMxWR2UpPG7tJVwuotuvQ+rm7CyCd9evs1/fv0H1ne2WFl9Qhh6nJqd4r0Ts/z5Jx9xcrbOTCuLVJVeTrERsFwHXnqdI7/uYi9Lgt1RoP0jVwfGQLffZXtni06vQ2ISNjc36PV6hx/T4XA4HIfmucRTLoSeJaLy437SwglS8WQUaZPZGGvNwNHJJunCvNetemtuy4j/0q557ZNmyiM1z9DSmX0kMWCyvYdiLIQhM5//jMrsPGv9hJkPP0BVqqSl31l0xprM5KgYjDi79KaBK/fh2xuP+ebqXR48ekS/20WZhLmZI3x8/jjvn5rjw5PzzDQDxkLwLZD0EZ0Zm6KGfKbKL+3pr2kv8h1vo/cr86R60X9EWOhHfTq9Dt1el1glbO1sE8VRNqmfUoTT4XA43n4OVc39kxdFByarxUGToDForNXZY09Z0EbW2Nevrw6ytX1kkjJ42O6lE57B0KFKwbGjtMbHaWkfKnUIAqwVrGTyU6XFTLnHeA9Y3ID7y5tcuf2I6/dX+PH+Ex4sb6KVMNkMOXfyFKePHuHU/ASn58eYqkNd0g+5YFPDJAa+CEoGruHFPJ/ymvaqYsoZjjqVc4L588VPz/fnJ9voZyxEUYxJDIaEKI6Ik/yae7+f7s+pw+FwvBp+elvhXiv5QjlsnwiCtc9njvmCWbFDYEpXGt0yZhn2DyqVvUv5mKEHdpMpBo2QZGVLKAFPw5EpmJpiYMutwMYY8VAl4dlB2Ijg8QY8WN3h3766wo93HnL/0TJRDI16k1PHZvjo/HHOzk9y7liDqQZUAWMSPAxSGGjKIFdXejnP0oHP1omDz0H63tuRKO3IfrznjUQp0J4mMQYlgrFZZZgqvX8Oh8PheG048fQiiALlgQroqwArPh6aVGy87amUUihpF2mt0WDnWO5zlEcz8q34uWjYa/HOc3tpJKn4oAlp5KnXS8/VfhoR0oLgoVHp1Q3sWHi4CXeWNvndd9f57sY97j1eI44Tqn7I3HiFP//0A86emOPM8RatEFqVtLZJA6hS77e8ZYsdFoFPiyaN3qmnHzEcAXpWajt//pkiKh9GSVYgLpjEFMXiDofD4Xj9OPH0QqT7wpCQHamjpEpAANbD2j+lfnajC305kmIxNkGJKdWy5cc9zYhB9tmtb9PU39JqmovSPlINoNmAMCQGtgysrMOjHfj6xwdcu7vI7QfLPFzaJPRDFmYavH90mlPTTT47d5yjMxVqIXim/IE22KLJcOobJUgx96e+N4d2FMgF1Mtz9ion5qy1WEm/nK+4w+FwvDmceHohFFTHoDaDnjqP1BaotueBME095d09skOHKNc82ZG03StXXQdL94jorG+bRSRP85Vf0GEmKpAIycMn3L5+g1gUxz/9hGp9kq04NbjcMnDzQcR/XrrKpes3WV5Zp+oHHKlozh2d5OKJGX524SQnFuoEPkWsb7huWqXNerG7pUx2v/etsz7MyxrKYh40lrWH/NlHEZkkNRW1aTc9BiLN4XA4HK8bJ54OQbE0SgWaR+G9CrOnPgJpgZ6GsDmwrDajJ2UUO9ZscZC1A8Hy/ALqefeJPa1WaeSoYj9/Hu/IGq4NRah2D5JgMQgepfovMdDrsf7DFS7/67+yKUI/bDDTPsZmA/7j6jJfX7/P9YcrPNnosb7eoaZDzp9Y4ONT03x2ZobTU3Xm2lKUMNmirHww/dSzKbfbTF9QMdP9soyjzz1HIZo8dfB9z9o9CRm+aBbrK2qnLKp4bQ6Hw+F4MzjxdAgGQqAK9QVojIPZhB0NMk6xB778JSMDZEEcsaWDjCBiESUYm9UDG1MUXtus6HlwTooRSJ65mApiBSVqzya2e1I2kbSpUBrUQeVPJEVd0eCUNLUk1qY73awGq0iURXsKdLr/zYQBO1Zxbyvixne3ub1hubW8zeV791ne2qQahPz87FHOzE/xwfEZzi6MMz8BdR8iIIoB6RX1V0pSjy0peUTkTXlzESXlmqe9fArMSEH3aOpxRFAVt8judcDTbqxFUMjoB0NKH5i8yN2kxe+2dJiLPDkcDsebw4mnQ1BEOJQGq7GRRUkFvIAkUtBJ9UFukG3Jdt4LiMewk4FRSKk+yphUnKh88U5UtngOrm/t8Hq+a7PcCPkaDAZRdnDC02rGy8U2CWDTHYSgMJldQa7XyklA9RTjJKskbRtnfPrNI/gnLtLvwY3eGLe+X+b63RViI8T0WRhvcnKmxc/fX+BnH5xizIeqgN5Je9mJSuvMLQHGxNl9zgRUOWwn5WlYxBpEpVv/VLnXb35KTLb7jywzWQoD5uIq/9pTPO3/ThTBLZF0r0F23WK6GlIPqtIJRWBSsCQYibA2YiC0HA6Hw/G6ceLpBRBiEE1/J+LJ40021/sIISKpwDBGMIlFK0utpqk2PCanW0hIumJG0FuHhw9X6cc9gprl2InpTGilEYfNJ7C6ssnOzhbprjGV7bYfxCxUIaZGF+50Ie7HPUTFhFWh3gxpTTQJG5UiE9dZT7j+4218zyMMPU6enU+f89PnN1b7PF5cJYrSVF2cRCRJhMJHE6AFPEk/TMpaNJLtmlMkoogFEi3ExChPmGjW2D5+kQ4zXP72Bht3tnmy1afq+UwGwuSRKf7s5xc4Odfg9FybsRqsr8DjpXV6WxHK+ojVpJ7jMXnzl8EOt3Lh9sDA0krqkVStVYiTiLn5GWpjXiFkt590WV3dYWtzk2otYH6hjV8BRIMEbK5sE/UVDx4sAR6B5/MsQ4rcXNZaSxRHJIlBaY32NdqPmJ2foDEWFpnQzg4sPV4j6vcJA0WjVqHVSvtEKj8hYoPYbqO0x/bW5mE+tg6Hw+F4QZx4ehGsoru+yb1b69y4sszG2g5KBE/7aQRJAuLEoCWm3Q4Yn6rSGmvg+14aZUhg+VGX7/94gzjpMTlT4eTJmazxGmBg9TFcv7bMyspjTG6KqAa915QFz1p03sx2qBJdUFqTmB7ixYQ1y+zRcQIJCINKUWm9sxFz/cp9wDI11ebkiflUOGXt2HY2Ih7cWWf1yRZxZDAmAgyeqqBMgDIWjcGzFs9YvGwuRjSJ1sSepmsNPTHYSsCGt8aDbofb612udYTAKsZUnSO+TzPZ5kTV5+Jsm+MzVaoVA1bRW33Cyv0V7t1aRtsQsT4qi9jJnjm47AYW4smQqISd/jbVakijUaVVO0KtWTo1Drl97RbLyytMTDYZbzbwfR+8tKmLJFVuX7/H7duLdDsJyqrUUf4pm+uUUuisx6GxFmMtygvwfI0KN2k0AhrjYSHg+n24fPkW66urtJoVvvjsIqmRuGVqukXfbFFFmJ2ZZGbmSHaVP519nQ6Hw/FTwImnQ1CUJxvF5oMOj35c4vaVe0RRQpz0qQQVLKCDgH4SI8R0elUSadPrW/ySfdJOb5XF5dv0+l2M1yZOIjzCotB8p9NjZXWNxcdLqXjKFuB867qyoLOvXeIJ0EpITIRoQ1hXeIEwv3C0lDaEXidi6fEyUdRHicUmIAHkzeS6nR7ra+ssPlyh34sxJkYr0CoAo9P2cwaUzVqwZOIplvQrMpadOGbDGLq+x5N+xOPtdfreNrVKxNHxeaa9JpWtHVqhx9RYnUatRmxVYdbdiQybnR3uPbqXRZ48lNXIU3f92eJFWhKsGKK4Rxh6tFoN1je2mPImigBVEgsPHy6ztLSEtYbt7YSxdrNoiBfHiuWVdZaWVtje7mGSZ8sWpRRKp7sHCm8n5aXiKVjnw95Cmir005fR6fRYX19i5ckyJmnS7feomzrNZoWz50/RmKiTENNoVgmCn1DvRIfD4fgTwomnF8GC14VkPSLZSvB9zXh7nEajjojgVwN6pk9iIlrtOkdmx0lMtlJmOmdiqsn0zAS9fo+pIy28apj6HxlJnRDqAdMzEwShJfACTGJJzMAkMa8zKouW4WpoQz/ugTKEVUVzvE2l0ShScvQhDAPm52fpdneYmGynO8eyTiZEUKkGTE5NIoTE/bQAS0hQktZmiWjAS+u/sr11BkVX+WzEEHV7JDsd4qjH2tYG4NEWn2rN4/z7M3zx/hdMhkd4fO0GycY67YkajQB0vsEPCMMKjXqduflZlNWpcLJ5AVn6Zsg+3gNWbOb5ZAgrHp4WtCdMjI8PqR+TWCYnJ/G0ZmZmilarTWKyeUgaOZqdm6HfT+h2o7QGTGTvoFeGKCkiT0Uhumi0J2i/TqUakiSpVyhJGnScmT5C4GvGGnVEWURbxqYC/PoC86dnEC30+z3q1cqBP6oOh8PheHk48XQIylkaTReVfSFCY6zKZ1+cJwgDekkf5WuiuEtQ0VQbIZWmSoULgAfNsRofXryAFaFSUwMXgMzqYHpe8CtH6O7U8TwPY9KicpPvwINsK/4eaTvSmps06hJjJKY13kA17cBxwIfmZMDHn5+l2+0wNlYHLyuSzuYyPlXjfHCUXs+QxDYVd1hE+kAM4pFYj8hoIqPxvJD1rS4/PFzlxuI6K51N1tZW6HbXqNguHzQqhBv30WubNK4/ZuL4CU6cmGe8dpqos8NYO6RWV/h+NscYJicbtBpnmZqYQKFQNm+LYxFV3usnu0RUbmeAJCQmwtOKaq1CbYx0215mSd4+JrzXO0oUz1CpePjVBN3UhRadOCZ04wrjU6dJEosxByvYttamXyaNGopKTdZFTdBoNtKIlE1r3Br1kPPnztLp7BCGHu3xBl4oGCxeFbTyENFUa2HhhuFwOByO14sTTy+CBY1FWYMlBjFU6paFk5NITWH6oJqkaRnIKqoZBEt8CMYUJ+uzaWoo24IeW4MSjQKq41Bt1cDUBr6UeR30QUtdMk1V3h1m8mloCJpwtHqEqN/DrwZgY4rtZr4iHFeErSBN4+UnC0AdpA86AAV9YCOC5TVYiT2WaxW+27rH45UV6O0wXoWzR8b4i6kqsv0D6w+us/54h9r7Z5j44iLjbZ9O1MLX4IeUFSrVBlCDZntit/9SUTk//N4MbQPMH0uy+XsMvLhI0q2RBMyfa2J76W4+KqTb6iB9wMD8sbF0vIN24LFAPHCcyH29lKSpV5ROo1HZe1ttQrXVgLgxMHC3lsR0wRq0+Gg8IiA2Fv+gthMOh8PheGk48fSCGHwSUSQKRAw61EhVQQVUwPAivpc1T2GPnT5nxSJKpdvYi6pwhhdq4WALd37NrG5aJPslO9dK5jOU7azzvTCbq8eugp7ROWQkNsAIdC2s7sCP9xK+vXKHyzfu83iry9LaBlXlMzvR5v3TU/yXj+b4P6dDbqxc5uvrK3hRRMV2obeJ+GPUahR1TqmvQTY/LUWRfVEDPiqO9hJLZfayJgAKV9Lc2qk6eq4U5+cb+mR0jL3I5+iXLRzStF0xrMl0Wy7s8nmWO98IQEwUR/Q7HQwBnl8l9HSpObDD4XA4XhdOPL0gltz1Od0wb5SiZxIk1gQhaVpoZNG2edinZCEE2fOZ8U9i02iFWIvnZUmpxJYsCWw+geEB9hJnRU21ZAXWWdF5VoNT1I6Lzdv/ZqGXEc8hM0jn2QR2DPQEthO48zji2r0nfH/zMTfuLbG4skavt8OpYzOcmp7m5ESbTy8scHZcoNJhwm4w1lulKh7jOgbVA52khlgxqdqwcTFHawxiyHyQpKResp/3alq3l64oSqQyISmQG1NaW9JrqjzGQDENZQRtSZk+i0II5fPOXocqXavkSm9Nlr31IKLL481FljafcPvBA0zsMTt+lKNTsxybnn32tR0Oh8PxUnHi6UUQsDZGYfGthxGFsR6Ixqos8LBHYUqWiRkmK3spb7xXAloPFIDoEWVwKI/EVOTlAScoL/0ySOdlflIGIAZtskkHgukaTKhY78DDDbi/vM3X313h2x/vcm9pDWMNE+MNTk+3+PmHx7hw+ihnFhq0fWgrYDvG71t8VaULxKJHVGR+l0p5O5tXsGfP5RGXXHnsFYkbvT9Dty/PveXFXxaRvd6vp4SYijHKc3tORiNouYepHmipLgkrdoff3P6K333/e3QU8OWFL5mYaO4ew+FwOByvHCeeXgQL1iaIMVmARxW75FDp7iy9y3I7XYx3rXUjD6hizbYjB5Qa3ZbOefbSvasRyIEQMnd0RRr1EegFiodb8N2dHX5/9THfX73Ok7U1Ov0Y0T4XTs3z8XvH+OzUHKcma0y0oOFlH7YoAZNQiQ0hwqbJo2mZ3wG6NLlBMZPkYbrsIZvlNQVTCK9dGmLfF7nXndgr17eXcBp9/pkXezrFaXsoIIFO0iXSCV3fsGTXWa1sEqqQbdmib3uHu6bD4XA4Xggnnl6QtAA4AfpoETT91LInVzd2n0V1j4dHl/G9D9zb0/p5lu6B1BgtwhouCBIM1hoi6xHZtCD87qOEx1sdvr91nyt3Vrj9cJ2V5SWaFZ+zc+O8d+o4Z47NcHphkhNTMOZBkOshAyRptEa0j0EwNsl2Do4IFSE9bijdtccrKT3+coIvzxrlVYV49kg7kt8VQ8XzqekQL9LYjiHpZWlMh8PhcLx2nHh6ESSNLlkxiMp8j0wfSWLEeiRJgvaz5MtePd/eWKolK+7ZJaAGBTgWwVghMprtJK1r2hb4j9s7XLp+h69/uMyT9S187THVrHF6dpwvPzzHX1w8zmQDWkFawpRfrijyzq5jjM565WWU6paMZVB7VZrzwCeJQePenzQWT3soFEkcEUURMHAtz803HQ6Hw/F6ceLpEJSX7T6Wvo2wKiG2CWibpvLw0rTdG5vlsxhJOWX1O32T1YVrUndwDY834NKPW/z7N1e483iNJ1vb9Lo9ZhoVzp2Y4fP3z/Dpe8dYaEPTh4qA5LviRsNpWUTO2DSmkkbu9kk6ykBjpr168+jMuyCcUnSpmMsY40qbHA6H4y3AiacXQWB8YY7jfWjPzeGFCe3pGpLdVaXeXuk0FHWSPDmUZtW0gq0Ibj2BKw873Hm0zY07y9y4s8H65hatZsAn753h/NE27x+f4Ph0i7mJ1BapKhYlNh0kL4AG0tSmFNk5yWrCDjLLAuGdEk67kqoiqVu62H2zwQ6Hw+F49TjxdAjK9cyV6TpnqmfTAm/fgu5A6IMCPVSE/JatdkWRtcKiUuEEdGLoR/BweZPvHmzwT//+Aw+Wtuh0DI1qyKm5OqfnG/zsw2OcX5hiYSKgGpQ9J4WEJDVvKIvHvBgcMtOjGGuTLPK0/73JK6FyIfGW3cVXjsFkAkqK/QNiJXVXcDgcDscbwYmnQ5Et4Sqrz2mQOoQngPgjxoW5Q7W85tV/tJ5puBg8JfUaikntqPrA9WW4fP02316+xpV7T3jSVXS6MZPtFuePTfPnF0/x0ck2C22hqS2BAtOPsUohnkpbwViDEcnE44j0EZuJp2f4I71rKmkPbNbQGNK6urwJj8PhcDjeLE48vQg27VGGtZCYrDAnb1yXMLDKzg7ec1v6q1gMc7FSFigCVmGMQumBiIpJncEfrVu+v73ItQdPuHHvEbfvPkQbw8nxNifeO8ap43OcPzHD3GRIqwLNII2sWUAFg4+RoFAIqvAUsAzCJDb93WSGlC568lSyqrBMkFoalQaeCfDxqAVVQj9401N0OByOdxInnl6UBOzmDqbbxfghXYTGeI3E9vC8kNSXSRhUTw+EhOzp7PgyEYruvnZQvW3I+tB10150d5YM31y5xX9eusbdpXV2+oZGbYxTkzU+Oz7J+6fmuHB2jpl2+oEZjALD4i9d7lVel1S0WMmuL5lishZjUxuEPWftgitAGmXySFvo2EgITEjLa+Nbj8CGJL3k2YM4HA6H46XjxNMhKOJGFtbvLfLk7gqri2tIzWNsvk2zdQbP9zE2QURjh5ItsnucV4JgUIV/tkgq4iINHWBpBx6tw29+f5nrdx5y9/5jdro9AhGOjDf4+MIZPj0zy4cnJjnSFpp+qn0Gwuagwm/Uv8kpowNjFYhPSIUxr82xiePYExDYgJMLpxhvtUnNRV+1CHc4HA5HGSeeXgRrMesbbNxdYvHmMjQFo3tw4ST4AdZGJd+k3TmqV5Kws7Yw6CwKjAErQh+4v2G5/qTPpXvr/PhwhXuPlll8+AQVGeYmJjh/bIaT89OcOzbL2bmQiaql6mWl3oea8F61VkX2biCmSj5PTl5lWAAhpMJEOMXZIzBdm0aJZqo1Sb3WKB3o7prD4XC8Lpx4OgSDyFNEsr2I7Dwk2XyE6BCV1LBxHyFApOzSMxAQtkjlvdw55XVEcRTj+T460yNRAps9WOnBlUcb/ObSDb67tcjdR0soEaZbTeZnW1w4PsMXH5zh6HSN2XZqPaARVG5QiXoJAiqNhSVWiGKLhD5K+ZS6Fw+9KCvvsCzI9yWIoh7U8CdnmZ6cQhB8fAL8p5/vcDgcjleCE0+HYBBD6jDubdIPVtn0lpCgRVU6EHcxpoao/dIpL0sOlOunQGzawA7y2AAAIABJREFU500HA4uAHvC4B9/dWOMPNx7y+2t3ePRkk24UI0nC+ZNH+eTcCb64cJIzsz6TVQhV9sEwIDYCkTSOpUYuLUM/PIPSMRZCowhN2kjZz4VT2WHc8A6rJrvrN41Qo0Jq8tAnJiLG4BG+kRk6HA7Hu4wTTy+C7aPrhomxDqvNNaQR0qwK4mW10YceN/suu9sCD5NHcrLvSmHjGNGC6Xe5t2X4YbHDzcc7/HDrEbcfLPPo8TLtesD5hTYLU8f55L3THJ+bYn7Go+ZBSFZinqf7suiGKIqWLgPfoXIB/AGVjhLQGt/zCcMKfa3TVislewdjTarTbH7hdxGbvf+WCEOfCJN11TESIcowULPvrMp0OByON4ITTy9ED7xNKv5DGv5NCIRGJQadqh4pr28jHGi5y90Nsq3+AzE2XICeGhOk37djBTEsr0d8/7jD//vtLf744wNWN7qEXkBrrMn7R9t8emKSn390ltl2nWolS/tFBt9X6ZRLZUrWDGqUJIs2CandgBxG3Pia7WpIt15lM47oeoqGUqV7ZUr/LyU+37Fic5M5PfXps5Fssd3bodfroQUafgW8MSph5U1P0+FwON45nHh6IRSEdVAaz9dI4KepOs/LDKD2RihHdvZow0HmI5n7IkkaVUrjPjKoHspqgmIojC6XYo/vrz3id5eucPX+MvdXtzAmYTLUnJqf5NMLZ/j0zDwnp2q0QqhmZTMWEK2GYlnFfFRaiJ5bEAyLmN3F4MNPZSOKDJoRa0v9y885P15FwoCJ989jxRb3RWkFkhRWDuV7UzQH/kmTF85bbGZxsbLzhH/77t+4fPMHmtT5/NRnfHLqY9oz4292qg6Hw/EO4sTTC+GDCUgiSBKLxJYktmnIRDOI3LBbXjxt+beAEVA2D1+l8kGR9p9TCCaBngXjwWYCjzbh1mLMj/cece3OQ27e32R5tUu1UufMbJuPTk7z3rEjnDoyxnw7YLyS4NkYSbIuwEo/ZVZSEiyjzVL2fyVDCb1cDJoYbARnjzM/P46IIO1JOkoIjEXZNIVnsx2DxVX2FG4/ZdJ7m2Rmq30V87i3xPW1HxmLxjg5eZJur0+R231XbovD4XC8BTjxdAiKdUpqsFPn8eYEK1sz+EELtjXjsaTtWmTk+ANS+IOrPAqV9jITK2glWAOxgW0LT7bh4RpcvbPIH67c4MrNu2xtblINfE5MNDh/+hQXTx/lk3NHmG1BTUFFsjfeZguveroI2v8OHHLFthaaTVSznl7bq1HV1aHxUsmYura/O4JplFQko0GjqeoKNV2nQojyVB6edDgcDsdrxomnF6LGZqfJ8uYRnmxvE4TjqE4IicrqlA6/6A8iL1mrE5umsBKTuoNvCjyx8D+/fsj1e4tcu3mbxZUNosQw3Wrxwck53jsxz8fnTnJ0XJipp9YDaSDLpqLlhYqxD/bahu6CAFqDrkAngWoVuttgDGg1MC1XgslibEre7W5uSmsSEqIoIopikiRO741YtKefPYDD4XA4XjpOPL0QQr/v0YnHWOu2CXsNWqqGsWpQ5rxfcGC0yGl05MwgMYoVnp+aHW0nsG3g7mrCzcdL/HBrhcs3l1haWWFna5251hinji1w7sQsp2bbTI+FnJwVqjoLUuTt7pQMZ91eYdonTdmVIluJSVOEW33sg0XEUzDugbYkRtA6vTk6E47vsnBKyT4opUaAUjzuIk8Oh8PxJnDi6RBISW10VZ0dPcsahroK6eomRoeDxrgHYajtySAbY4DAF3ZManK5ZeDWMvzx1iK/+/4KN+48pt9NaNd8js9Mc/boES6eO86HZ+aYbUNNQFmDNhYlOr2GZAOXg06vUjjlP1gZvKjEwr1l1u7eop/0mfn0c2hOEhuD8lTJUlOcPBg4ZZKLJVts5XR3x+FwON4ETjwdgiFvyGoFW6sRByEmCIlFcZC+b6PprNFAlAXiUrTp1hPD9zce8PvvrnP30RprGx1CDSemm7x/eoFPzp/k5Nw40y1hopq+sdaAr1QhzNI+vLbwo7SlybyyuqLRunLPg40OD377NV/9y6+R0OOzSoOFuQWUHxS6zsWcYPjGDe05dHEnh8PheIM48fSihA1s2MSGY0joYUbbjOzjIakY1GuPYgQSYEvghxW4cm+NH27c4vaDZe49XMbGivmZaU5M1vjk9DRn5ic4Oddmop7WqevEgk3AGoR8Jx0YYhDQykszeCZBRBUWBK8EyYu/8wbFAuJRs4pKZNjpbZFsd7C9Pl4lIMlPKn1/lzeTKRQKQTBFHC4VTk4+ORwOx5vCiadDMcizhTZtkBEQEQABZu+bOhRaSouPLGBF00ss1gpVLz1svQcrW/DDUpf//PE+P/x4jTu3bqKVolYJmZlp8PmFNh+fPMpffjRN3hlOk6X8RIBsMJsUFx8VSSLPlVx8bmzxX3a9/Im4R3B0lsmLFxj3LBMnjhaRr0EJtJBLhHdVOEEegUuQOEFbhcQKRNCi8f3gTU/P4XA43kmceDoEQ23dYgWJxZoIEosnZvggGT0pJo3FGJT4GMDTQh/YADa6cP1ewn9+d5Xf33rInbVtNtafUPcCTh+d4eNzJ/jk3Dwnp+rMNyo09go+lBWHSGa0OUjN5ZJEXvFONsOgvGogiiy0x6h98Qmff3AKulswfwwqYdpLT+VH5faQ7zbWQiIxNo5RCQQSEqoQsUIcxW96eg6Hw/FO4sTTC2KTHknSJU66xCbYtdonuddT8bjOzC4VCRoDdIBH6/Bwpc+1W4/48d5jLt+6y9L6Go1mjWPzbc4eneXCsTkuHJvl+JGAZgAVnemkUQE1NIdCjezvO/Wc7emeByETTtn1bdRH/ApMtCGYhHgrtS4oImUUyvRdr3uyQGIS0EJFV5moT3LsyDGqEtJutAm8LPL0bt8mh8PheO048fQiWLD9CBN1SZIOSWwyD/ABqWNRWvGTygHBoLGk7VQ2E1jehit31/n+5iN+/9117i2to/2AifYYs2PCx+eO8fmF85yabDDXzMSIAuK0PioP6xTRsIPYI7wGhtb0/NqeB0mWSrQRlL2K8ltnLaJG+/m9e1gApQkImKhPsDC+QBJrqjpkdnKBsUbrTU/R4XA43kmceDoE5ayYjXuYfheSCBNrktgM+q/Z3F9JsErwSmqiI7DSgd9dXeH7H2/w4627LK5usr7dox7WmJuu818+Pcv7C03mJsY40qrSUKBzNZFkvpklb0ldniAcPCLxiiIXQ15Xmemn2KyCXPmpQaaKIQwGx4xEyN5l8QSgRCF4jFcn+OTCp5w918fHo6lrVAjf9PQcDofjncSJp0MxUBsq3sZGWyhisJZ+L8bmu9yIITEo7RW7zjaBpW24fGuVKw/X+Pb6A1aerLCzvoGQcOHsUU7MTnNmYZqLxydYaAr1QFHxSLvmGsl6tgxSgfsKjFER9VJE0vOWcNthTwajoGfg6jXu/vgd1os48sFHVM9cAE+V5vl8kx2d1asrNH/6yINnX84MNKDwCKjjS526Bx6Cx0EMMRwOh8PxKnDi6QVR0kckRimFUh5xFnnKngXPwwqsG1juwEoPvrv1iH//4w9cvvmI7Y6loizz7RazrZCffXiai2eOc26hBhHU/MzWILGDTX4lKynBjuxQY3fIprSO57YB5Xr2cl37KLb0k+x6dNjEcnSMfKddHhnzIK0IjxKWv7rEH3/9P9A14fPqGNVjZ0CHpcnI0BWfRjlRehgBZdn7nuw+avRn2XVEnmx8UQFVvoIAmLS/YaDBB+LYEpmYIPAPNb7D4XA4Ds+frHgyxqS7xd5I09jBNUVbRCxaCVpbjOljrEnjTpkVwBZwewO+e7DB//rqOx6sbrG4skqvE1EPfE4szPDlx+/xxel55mvCfFPShIw3sAIXLVi913I8Il+eEmXKhYwt/a72P3z0le55RZP9JnscLdnoCekeQzB4cR9sQmX5Mc3lFTqqT7jdJQ/NWS8/XxUF4wd5hxMGxelCqYj+ACfb7Pz83uZjDLOHKdeInVc+hspe+WE/mQMhZzNnUwGlsECPiARBbIKnXG87h8PheBO8deIpjmPW1ta4dOkSV69epdfroZRienqaX/ziF0xMTNBoNEiSBK31GxJP2TIrEElAbNNFzNo+XmhBK/oW1gzcW4Ub91f58c4DLt97zM2HK/Q7EW1POH9qlvMnxjl2YoH5+TnmGkK7lI7bq3GvKcrNocjfHZDM/emFKEeSyK6emwrkMkphCwdQIc3GDc7pg3RRdhXMZnonS433UtkxsNV86rub3QbJmjAXEa6hXXuj5VS7k5wmu3J+3DP7Eg5NwRSWDOmmgME9Oui7M3qZQQ2bYI0l0hGLO8tce3SVm49uMabqnJ85y6nZM4x57QNcweFwOBwvk7dOPHU6HS5dusRvfvMbvvrqK/r9PlEUcfr0aeI45he/+AWNRgPP896QcCphwRoP8LBWiICNfo8nfcPmJlxdh/+4vsLNm3e5e+sWq5vbVCpVplsTfHB0mp+9N8kHp1pMzLbwgApQzYY2pNGTvPzHkEY2kuw5r7yVv/ArGNyPfEHfL602kDrDG/Ty1ii7du5JWm4VZXOANH2kEQQ1JEAsgi6lDuPsS6HwxIJEaLuDSnbQ1kfbbKYqP7o06/0iSKVD8vswtNFw6Pny95GBZPfQxWvfi5HQX3rNwYOq9Lh62jgjF93T08qCWIMhZrm/xKVHf+Tf//gb6kmd+OL/RbPeZqzafpUFXg6Hw+HYg7dGPOU71O7du8c//MM/UK/X+eu//ms+/fRTHj58yKVLl/jHf/xHxsfHOX78OJ73Fkzdgm8FlfkFGOPRjz3uL65zeWmD395e4fuH63Q31vGjHU5UFF9cPM4Hp47zwelpJmsw3UjXvRiQBFSS1lTHWe5IZTv2xKZixc+W55HgSvbAYKVWZL1k95v4M8IqNusibEUwMoiGlNNa/uDgoXIrjc1OSB/3s3M8m2QRKUUsHj0r9DAYJWCTQjwlWJJcjMju91lIPyuquGJeWJ2+NitpmhOGo2SD8wf3LX++HCGy2RgUYnDk5OKoBJvVN+ksBielcwxpVKzcSkWKcwczsaWo19BbJjGx6qbRLUnY3NrGojHKow90o2iPV+dwOByOV81boEBScvH05MkTvv76a/7qr/6KL7/8khMnTrCwsMD6+jq/+tWvuHXrFp1Oh0qlgogMpe4Ki4DXiLKSfpFGoNbXt/njt1f4+vYidzZjor5ltubz0ckFzk03+fz8AjOTVVqNrBo8shDHeKJApUu4Uumim2AxAj42XdyNLnbbSV5UU6iAbLnOozjFir/X/RhNvjGsxPLxlRCRup9bUhEU5qk0q1IhhErtEkyEUlkMyphsPunzSiSzbIghjsDEeEkfSIhFSCRThyRARB9Ln9wRay/5Y0k38Cs8PMRm46t08jGGmDiLhO1ZvZRF16SoT8pvZx5JijJ/rvRulscpS6MEhcFDo/BQmYCy1mDFkGAyeWULkTUskFRR2yWFfBt0sLNEdGUHgybyE7rSp68SfCzW14jnap4cDofjTfBWiCdrLcYY1tfXWVlZYWlpiaNHj3LhwgWUUtTrdc6fP08cxywuLnLnzh3Onj2LUmpIMCVJgrW2SOnZUiTGWku32325Exfoe5a+7aMlob+2zsbyKvfWv2KtZ5mqN1gINGfbk3w+PsanJxuMqVXobZEsraERCCpF415MmvzqBsJ6VdELNdb3CI1Q6RkaPfC6hsiCPzFO5Gn8Zm6UGMHiQ+hsD8bq9cl3/KF1qZgqC2cVN0dS40qTZBEggcBjs+azUtXsYIijiDaaVqLwepakG1NvtdDVKtRrKGtQSUKyuUGyukbQi6BSGQgsm0WXNlYh6cP2KkKChA3w/WxuhgjDRrzD4+11/CDAJgZjEoy16fuZpSjFCqHxaHlNKlRo1dtF+CjC8GjnMZv9DRJlEAVSqh9L06EKz2hCfOqqxlg4RugHGJsQS0zHdlnafEKfOI1klRoo57VTQgJRxHilTZUqrUobQdM3PdCW+xuP2Eq2qdQqJHFSfE6F1O9KW40k6TwqukJrrI0mbdocE7PRXeXR+l1Mw+Ph6mM6cboZwRMh1B6Bfiv++DocDsc7x1vxt6/NFsZOp4MxhlqtRhCkrSfyXXW+71Ov14fOG40yGWOIoohut1sIp0qlQq/XY2NjA61fzr/Ui6sqWEt22OxuoPtbVDuPCXuP0WtbzMUavdqh7seML2l2Lgt/9BICevgVH6OEMKjgqwBtwRpDzyasmD73q7A0VeXJRJXtikczVkxvwcK2EDzaYr2fcPSzzzj5s5+x8P77qfC4d59Hf/wDt37/Fb3FR4RRhI8Ma6TsnhgsVuzgvvphujvQxOwkfXZszKonXG5pHh5rsxNofAPHYs3MWo/aZh8/EqpHT3LiF3/O2U8uonwF60948M3vWfz6D2xeu0HFJHgWlFUIGouh6ita3S22792hJj6rvT5xHJNXUq1sLvKH+9f5529/y1Z/K5VTJk33WZtGoUwmnupJyC/OfcEnxz+mWW9A7NGxMTc37/C/vv81V+9/T8wOBoNYwVhbRJeUVQQmYKY+zZ+d+owvznxG6E9gJWG5t8ylBz/wv7/5/1iPNulFvbTv3pB4SgvTQ+vxwfz7fHriUz46+yEKoZNss95d5V+u/Atf3fqaKIlIomRIwCkUfhIQxCELYwu8d/Q93j//PnOTcygU270tbq7e4b//7//OWrxNTxKWNxdZX39CvV5FJxbPFTo5HA7HG+GtEE95+g3SgnHP87DWopQqxJPneYThbkdllaW6jDH0ej2++eYbrly5wq1bt4jj1H8piiKUUvz2t79lbGzsxedbXByiimBDS9xboxWtE6/cYaEb40uASB+V9NFdg1hDx8T0JY0ueZ5mR0CJ4FkwcULHGpaIuN+ARxs17m1UeFLXjPeFjU1INhTjKzEbPUNzeoadc2tpmk752O0ddhZX6D9YIr6/iO516JuEWNL6GlUSmoYs+yeC52l62kcZS5REdEjoKVgLFY86irvVDjuBIugn6A7oJz3qyxtUYqGvKiyvbHBOUhNQ+jG9pSd07j5g+/qNTKSkQgU0sTKsErMRd/B6HWxtEj8M0Z5Hngrb2lrn8coi1+5cZzPZwKguxpqilgjSHW6CUItD5o4c4djsMfoqIlQefdNhLdng1so9frh9GcN2JrrSnWvpG2gRq/BNQGdqh7Ozp+glHRIiFELk9VnqPub7e5fYiDeITYIWhVK6lIITfOMRxCFj4QRn5jsgHmCwnmF9a43ri9f45ubvSUjwlV98VvPaKD+p4HUDktgy0ZrivE1IiPAIQSzLW2tcfnCLtd4GOtD0zQ4KoeZXqXsV/D3qwRwOh8Px6nnjf/vmabdcQNVqNbrdLlEUFQIqJ0mSofPKkSRjDEmScPXqVf75n/+ZP/zhD1hrCYKATqeD7/vcvn2bTz755CXMOhUisYA3UaU2XWPjdhcb9WjVA+qhxossfhhgRDDWoJSHZBXcNknQIpk/lCIQRZzEeBhMIMRNDW2PblMhNU0rEppiqSlFaPqMxYpmq4FS+Q61BAkDwloFv1pBNxs06jV8T9FLYpIkxiSmFHkaiCff96lqH20tURKjSAgFqCjGxhStVpuKr/B3eowZw9R4nXqk8HsJlbEmQSVIC9XjBIKAZrXOVrMJ7XGafpDWE2Wpu0hZOnEPbSOsiaAxhfhNvPEW+D7WRtQbbRrVccaCFp4W+kojyg5qgjIXBLFCJQmoNqtE0qdjO8QkJCpCeZYw8GlWGyjlIwJS+hzlu+M841OtVrCSgDbE9ImIMEmPmu/RrFUxSUJsYzzRaTo4O1+s4JmQIA7TiKgWunQYo4FWHmE1pN1q0260wANf+cTZ59dKGgnzTYUgrOKHGuULhhjBYolRShDxqARN2n5AJQhQyuAlMDc2y1ilgVaZaUWpWN/hcDgcr543Lp7KqbeJiQlqtRpRFNHr9QphZYxhY2ODjY0NRIRGo4FSauhcpRS+7/M3f/M3fPnll2xtbeF5Hv1+mhaKooi/+7u/Y2lp6aXNXQGnTxyjGhuOtBuwsUZLW+qiCEWwypLo3L/IIAKep/C1h6cUvig8pRCliJOEnSRiPekzry0fVn26NR8aVXzReN2IYCciXt1CtEdzcpL65CS230fCCoy3mPny54QnjtJdX0dFMRUr+GaQqsrJLJgQUfi+R+gHCGCspZ+JrY41TFQt67Mt/EpIJTZUdiJq232qvZiGF9Ct1qgfP0ZaqK6g3ubIxc+oTM3R+cUq8fYOOrNbECuZYCO1K8Cyozwunj5DfWYBEot4NRq1BT47PcZ8+zSPN+4R6e1016GorM+bIKKKmqHZiRnG6+MokWwHoM/R6jT/z2f/jbWzv0jLyQREpZErY20WyQJPeTSCOlP1FvVqA4vFQzPjTfJnkxeZ/D8m2VYxiU0Lw8Vm5d02LftWVlH1q4xVx5gcm8BD2Eq2qOgqU8EM//X8/83nx39Op99JhWuR9ksjT8p6VHWVmlfhyNg4Va+GRmMRAh3w2fGPqf23On0b4/keUb9HPawwXmsxPzFDS40X5qD559EJKIfD4Xj1vHHxVMb3fcbHx5menmZxcZGrV69y6tQptra2WFpawlrL3Nwc09PTQzVRaWsURRiGeJ5Hs9nEmLQ+RmtNr9cjiiImJydfqngSQGuhNdMmrL2Hh8JH41uDjyURS4TF2ARr0553Siu0KLTSqQWBSgu6PYGKTSBJGLMWT3v4vo/2NFYreiahH/VJTILCUg0CqpUqeH66Na45BmGFsNlE4hgRRQ1FZY/NaoXNgRJE6XR7n0l3yQWAMpY6UPGFfjUg9Hz8xGCiGBPHECf4WlP3Bb9WAe2lu+sSg52cxWtMUIliJDGZeMo35mfiQykMQqAs1Yk2ElRA0pSsr32mGzWmwinemz9JrHZSsWMz9ymT75NLxZ/ne2jPQ2eOUx5CWJlkaqpFMgFJYoltTGKSzM1hIJ60UvieJgg8ApWm3MBSI6RZqzA5P8MWcZYmNOn7hSrmUogWTxGEPj4BfUlQaMZ0m5PNEFPPnK90qhxtXjSeiUprARMRBh6BF+IRpvvyRNGwwsczH4EolOcRdfuEvod4EKoAQRXiKRfITjw5HA7Hq+etEk+QRp8uXrxIFEX85je/IY5jbt68yTfffMOxY8c4duzYkMdTOa2ntR56Lq95yiNYueB6WaT+PkK72YaxiYFZUJRaBvg2oSKku9ck80KSks+Atdkut1ThBAqCXNqIDM5D8LDUi91mpSUyH8sP8Hxo1tqQlBTTHiuqQJFCLMZKDNqY0hyFpgIjCoWmsNy0djC+gM3maMSAsmgP6lUGFx01SRJVjF+VfP7pgYmxaVG1sqiqEFIlyD6iZXsBCuEimb9S6XpI6sLu+QRDdVLlnwaTymNB2Z5AlE1d3FXo0QwbNICkcJ0avlI+o/J4Kts5KSiatUYRZTLFdaUYQzLJk15bsvuc2VWgqQQVqmFqgiBAHFaKV5C/6qIdDbveZofD4XC8It468TQ5Ockvf/lLfv3rX/OrX/2Kv//7vy+iSb/85S/58MMPERHiOB4SSvmOvTyVF8cxcRwTBAFhGBapu5eJTdIIhjEJSoGNTRrJ8XPnoGfcXpE06mMteLLv6ldkfMpWQ6OrZeHDqPOeKZD5ROVputFDRUmxXBtv4Eqeo4zFs5Kt50UnYsiPNRZrSt5a2bWK8weZKooDRlf6/LWYJDvHIiqtEzPGInipTxSSpe7K0mVvdKlVcvl159GZsoVF+TnJhKk1Eb0oJgxTKab39MzKomlSjkHZTACRRT4FTx2gcW9mcGqtRTRZ+jH9wQJxktZY+cXHKZN8u+6vw+FwOF4Hb514ajabXLhwgW63y8TEBP1+nzAMOXLkCO+99x5jY2ND0aacUduCPJX3KhGtwFiUly6Qgjr4P//zBVlIhVP2mB38WCzoUj4+P2f0sfLjxc8D68V9j8vI5d7wg6UDR66femhmkbG9bLqfxqhtdyZadPajArRo0PrZUZW8G2+ul0YKvKT43+D3vY1UB3k0EUWYRXlAleyx9lCse9uPp7EiNVptVjpm18NZk+u8T8tAj+Lrvd+HoY48LmfncDgcr423TjwZYxgfH+cv//Iv+Yu/+IvCnqDX66G1Jo7jYnfe03gd4gkYSaGl3/bSBrvPG3zbSwsVkZDyEwdYHIti8N2X2n9Czxh3zx1d5bntt4DvJ/L2u4jIUBJu17X2+nn0GgcRmXsyeIGS7+Isv/A9x9k/WojIAa+79zQOdO5e2szhcDgcr5y3Tjzl9gN5Sq7f7xMEQVGvNNrTrpyq2yv69FrJbYQoRzxs6WnZX6fsl4LZK6JwkMjT6EPPsciO6qKnBjWeqtKedXL5auldUzIQn0X07SDXeNq8DsuoOHmuMU2WdhNGkqGl4faJQj3P/BwOh8Px2nnrxFMugEaFT5IkewqnZ431rGNemKf969+aUvgoXyz3WfFGH95vzGcIib0CQvsd+zRGAznPGq8seMqH5HXy+17F5om64aOK+qS9Lzc8iuz/Hsszz34GT73w08+zpMXnw1LQlA6RtB/eQSJITig5HA7Hc2GMKXbev+xgylsnnkbZL+IEzxZH5UiUiOzyhtqL/cZ76nn7Ln4HDZM8ZcznXDTzWvEXWWufWmP0lHNGxVP++L6MpsVGUoMHmYMFErPPe1aM8QICuhR+O+h9saSCLv9v5JmhGZrSU4PdhOlxxdGjwavB6W8F+0V+D8ur/AfP624c7nA4Xj2jf67zriRAseP+ZbVny3nrxdOzOMxfhk+rmTr0X657nvY8MmSPBUPs6Fp7+Km8JkY131MjRy9hogJ4rzs9+wwOIz73GuHFx/nTxAkch8PxMvA8L+0McYA66ece+6WO9idAHMf0ej06nc6udi9P43lv/EA8vNi/ostXfdtrgw+SaTz0EXv8y6IeLrafAAAgAElEQVRoN7NftPCZo756nvb+P6UC7k+Ovf58vMy/rF5VNMoJtWfzovf+Re/x/9/emf5GleX3+7lVdWtfXLbL+14YA24Ts04TbGiYMGyZkI66o1Y0UedVRoqi5EWkJC8SKf9AXmTR5F2k0UTdk5medKuZUW/0TNMbBqabMbTBxm284AXvZddedavq94LfOZSNMdgGjPF5JKvKdi33nnvuOZ/z3c56f/9KeOJhIhuQ9WyTcDgsyxilUinsdvvD3/SIbArxlH/xQqEQg4ODxOPxBa952A22ohtQy3uy1n6zgdTTasODHuUVi/3V4no8zRtzJd/0SIH698WN3W9m3AhTu4gpgI03eSjx9HDWW7ys9/cr1sZ6jgkjIyOEw2HS6fSCcepx8NyLp1wuh2EYRKNRMpkMw8PD/N3f/R3pdBqXy4XJZCKbzUp1Kp6L9woedAOKquaGYSz4m/CzPuoxLvcIPPYLv9EQ8Wq5XI50Oo3VaiWTycjrZ7PZSKfTZDIZNVg+ZkTbm81motEoTqeTZDKJrt+tbyYtgCvso089G3YJntW+km8Vz2Qy6LpOOp3GZDItGf/5JFlv8fI0v1+UuMnv35lMhmw2e19/fxLH+jyyXJuI7dPsdjvZbFaO8blcTt4DaxknDMPg1q1bsszR4xxznnvxBHcHdZfLxYkTJygsLMRqtZJOp5cVRw/7XWCxWMhkMiSTSX79619z584dTp06hc/nkzWqVou6Ee8h2l/cbAMDA7z77ru0t7fzwgsvPFZzrOIeokhtKpXi1q1bvP3225w6dYqmpibZ5mKwE8+fBE9K5DyL4kks+LLZLD09PZw7d47Tp0/T0NCArutygnlaC6rNJJ4ymQydnZ2cP3+eV155haqqKsxmM6lUasHnLJ478pORHva42Vju+k1OTvLuu+/i9Xo5evQouq5Lw4Po32uJVxI7ixw+fBiHw/FYg8afe/Ekou7tdjvHjh3jO9/5Dk6nUw5Cgocp0uUCzEUM1dzcHD09Pfzwhz+kuroap9P5yMe43O/Pwgp9vcnfdieRSPDBBx/w3nvvcfz4cV577TVsNht2u10JzseMYRjouk48Hufs2bN8+OGHnDx5kpdffhmv1/tIn7Ga/rxZJxpAWlczmQw//elP+fLLLzlz5gzHjx/H4XAsEFBPg7WKtLWOX0/z+8PhMP/93//NlStX+JM/+RMOHjxIQUGBtPottVBYnNW91PPVHMvzwnLXr7u7m6tXr7J7927+4R/+AZvNhsVikSUG8oXTatounU5LK6LL5Vr1OSzFcy2eROcWbjWr1YrX68XhcDywZtRKBySxMhfuPsMwcDqd+P1+aeZdzTErFpJvedJ1HY/HQy6Xw+Vy4XK55KSieLyICUPsEZlIJPB4PDgcDtxu97LvXW1fftLC6Vl3uyyOIYvFYjgcDpxOJ3a7HV3XF7g1HpXVTtybSTyl02kcDodcjIk2t1qt8nPyBdRajvNZ6GtPg+XO0+FwkEgksNlsuFwuaXkSllchnlYzJuRyOUwmE263G8MwFhTUfhw81+IpH5Gy+CBX2mpNq8J1kUqlsFgs6LqO3W4nnU6vajLfjCuTlWCxWEilUvKGdDqd2Gw2GfO0WBRvZgvG40RMGIZhYDabsdvtMs4vv88+bOX9LLDcca3XMedPyBaLRbap6M9iPMkfp1ZrLV8pax2T1nocT/P7xWIhFosB98Z3sRH9cvPE464j9LywnHjKZrOYzWY0TZOxfSaTSdZ3fFw87s+D51w8Pa2BMJvNkslkMAyDeDxONptdVVDnszrZPEuISUO099zcnFwtiptQ8eTILzy3lsDlx10aZKPysHYQCzCr1UoymVwwCTyLInAp1vtYVvL9+QJWWD7gyUy+CqQFVRgfNpLx4LkWT08DcfE1TcNms+H1eqVyXulNu9iHvtkz7PIRbZJOp4nH4zIWx263r8knrng4ItNOZKwIk3oqlZL/z7eEPI7JcrGoWO8J+GmwOI5JZJKKc3c4HI/0GYrVI0IwbDYbuq7fZ3ESKPH/eDCZTNjtdkwmk6y9aLVaZcY6LB1S8yxYuJV4WiMiIN3hcODz+WhoaMDlckn3Rv7rHvY5i1Fi4H40TcPpdFJTU0Nra6uMYVM8WURJjj179lBZWQncs0I9ykC21viOjZbF9zjQNI1AIMCBAwcoKSlZcn9PxeMlk8lQXl7O3r17KS4uXtDe6XRaTurPcr951liurbxeL1u3bmXr1q0ykQvuDwV4ULzSel4H87/8y7/8y7p9+3OEyWRC13UqKirYtm3bAhPkiquTLyoAqW7UewjXnAhi3rt3L+Xl5et9WM89wrpUWFjIvn378Pv9C7Y9eFhQ5+LXPSs/683iY8l/FOnaxcXF7N27F5/Pt+xxP6nzWe82fprfn81mMQyD4uJimpubKSwsXHAM4rni0Vlu4SOqfjc0NFBaWiqt3A+z9D0Llictt1lC/p8gwrQ+NzcnM8CepI98M16ypW6QiYkJcrkcpaWl63BEmwex6guHw0xNTVFbW/vUraKbwfK0+BwzmQyZTIbZ2VmKioqwWCwyg2ip1z9L57JRyWazxONxUqkUbrcbXdfJZrPKC/CESCaTzM/Po+s6BQUFD3zdg+7/9ezzSjw9JvKz6/JNjPmxTMvFMOXfnPnPlfVpISLGTLkvnj6i9sqD2l5N5mvnYbsaLB5b8lHtvXbyhdJqM6YfxGadapc7b2HRW+yWy4/1E5/xrLntlHh6TCQSCVmiQMRB5fMozawGv0dHiNKHrQgfd22PzcRSbfegdl+qf6t2Xzn57SgsTyaTaUEA7VKvFROQeK54/IjFg4hlVe18l4eNsflbnz0oDngp8SSE7LPiYl+MEk9PgOXMvGq1uDIeRfwIi14mk1kwyYigfdXGj06+ZS9/0BOLgaX+lo8o27FUhpLi0VhchFHTNFnDbLnFghJPq2e5xZioZ5bf39U4fo9HcWsuHjfyLUtigQD3b8Ui2jmVSi3IYBe/rydKPK2BpW64/NXJZr6hHpXF3U/8nt+m+YOXmNxF2y/eZkdZmtZO/sAkUrUFS03QQryquJAnw+LJaan2VnE5D+dhwn+p18PCraEAFTKwiPwxQoy/DwpjEeT/bXFx44e5qx/0mU8b1QvWgDCVx+NxxsbGSKVSssP4fD48Hs+aNwfebORPAJOTk8RiMVlHS+D3+2XmEdwNOhwZGcFsNpPJZIjH45SUlGC32/F4PE/9HDY6ospyNBolEokQiUTw+Xx4vV5sNhuGYZBMJpmampLFSgGqq6vRdX3BQAqbe1X+qCQSCWZmZohGo8DdrFKr1Yrb7cbn85FOp4nFYszNzZFMJoG7NYmsViuFhYVo2sMrjm92NE0jlUoRi8WIRCIkk0m50HU4HDgcDvx+v7RYj42NMT8/L2uciWuRv/eayWTa9O0uXHHxeJyZmRkymQzRaBSLxUJJSQkej0fOlZlMhmw2y/j4uAx1CYfDFBcXU1xcvCAZQtT0m5yclNfEZrNRVFSEruvrbnlS4mmFLFa84XCYS5cucfbsWUZHR9E0DZfLxcmTJ2lra6OiokJNHitADEpzc3N0dHTwzjvvMD4+jq7rZDIZGhoaaG9v5+DBg5SVlTE3N0d3dzfvvPMOIyMjzM/PY7FYOHHiBN/97neVeFohuVxO7gU5PDzMm2++ydmzZzlz5gyvvPIK27dvJxaLceXKFd5++20mJycJh8PY7XZOnDjB8ePHKS4uxmazPVJMmuLuyr27u5svvviCS5cuEYlE0HWdkpIS2tvbefXVVwmFQnR0dPCzn/2MSCQCgNvt5vXXX6e1tXXZTCXFPWZnZ7l69Sqff/45165dA+5O/sFgkL1793LkyBFcLhejo6O88cYbdHV1MTo6isfjobW1lRMnTtDS0oLL5VJ9+/8jLE39/f289dZbXLt2jbGxMWw2G3/1V3/F0aNH8fv9ckHW19fH2bNnuXLliiw5c+TIEY4ePUp9fT02m41kMkkqleKXv/wl77//PrFYDIvFQk1NDadPn6a1tXXdK5KrOk8rYKmV9Pnz5+no6CCdTlNXV0ddXR2GYTAzM8Ps7CzNzc1LZhMo7rJUTRZN08hms4yOjpJOp2lubiYYDFJaWkokEmF+fp5UKkVTUxOdnZ1cvnyZO3fuUF1dTWNjIx6Ph5GREUKhEM3NzSr+ZgWk02my2SyhUIizZ89y6dIlenp62L17N8FgkIqKCr766isuX77MxMQEW7ZsIRgM4nQ6GRsbIxQKsWvXLuW2fkQMw6Czs5OvvvqK3t5eampq2LFjB3V1dQQCAZqamggEAnz66adcvXoVwzDYvn07lZWVJBIJxsfHMQyDHTt2rPepbAi++uor/u///g+LxcILL7zAjh07KC8vZ2Jigps3b9LU1EQ8HufChQvcunWLoqIiWddsbm6OGzdusH37dgoKClT/zkPTNObn57lz5w7FxcXMzMxw8+ZN2tvbqa2txeVykc1m6evr49y5c8zPz1NVVcX27dtxOp1MTEwwOztLZWWlLDJ99uxZenp6cLvdbNu2jeLiYjKZDLdv38ZsNrNly5Z1PWdleVoDqVSKzs5Ourq6OH36NHv27MHv93Pz5k3eeustzp8/z+nTp+WqcKlJXN2ACxFC02q10tjYSFVVFcFgELvdzu3btzl37hyffPIJ4XCY7373u3R0dPDb3/6W73znO7S3t1NfX8/IyAj/8R//wWeffcapU6coLS1V7tNHxGq1EgqF6O7u5s6dO2iaRllZGTabTWa+dHZ20tfXR0tLC4cPHyYQCDA+Ps6//du/0dnZyezsLAUFBetuVt8IJBIJLly4QE9PDyUlJbz66qvU1NSgaZpcbedyOb788kvm5+c5evQoe/bswWw2c+3aNf7nf/4Hm83GqVOnVHs/Ar29vXzwwQf8/d//PWfOnKG0tJQ7d+7w4x//mB/96Ee89tprDA0N8d577xEMBvn93/99Dh06xOjoKG+//TY///nP+f73vy+v0WYfv/M3rHY6nbS1tVFQUIDFYuH27ds4HA45bpjNZn73u99x7tw56Rmor6/nm2++4Re/+AW/+tWvaGtro7y8nFgsxvnz53E4HJw8eZLm5may2SwdHR288cYb+Hw+2tvb5cbN64GyO66A/HRgEYMwPj5ONBpl165dNDY2UlFRQWtrKw6Hg5mZGUZHR0kmk8rEu0KsVivV1dU0NDTIGBqv10swGMRisTA1NUUul2N4eJhkMsnBgwcJBoNyi5xAIICmafT398sd0hWPRnd3Nz/5yU8oLS1l3759uN1uHA6HjG+6fv06U1NTvPjii1RWVlJQUEBtbS1FRUWEw2H6+vpk7I5ieebn56VF6bXXXiMQCGC1WrFYLDidTnK5HNPT0/T19QFw9OhRysrK8Pv97Nq1C03TGBsbY2pqikQisc5n8+wjgu3j8TjT09MARKNRDMPA4/Gg6zoTExN0dnYSDAblWF5aWkptbS0Oh4ORkREZorHZyd+iyev1UlVVRXFxsYwNMwxDWrMjkQhjY2NMTk7S1NREQ0MDbrdbehVmZ2dlX56cnGRgYACHw8GePXsoKyujpKSExsZGYrEYo6OjhMPh9T33df32DYgQUMlkkmQySS6Xw2azUVpaKoPFCwoK8Hq9Mqi2uroal8ulbraHkJ+9KGJv8rOIIpEIPT095HI5KioqyGQyTE1NkUqlqK6ulnE2Ioh2cHCQ0dFRGhsbpc9dXYN7LOWG7u7upq+vj1QqxbZt2wiFQmiaJjdjTiaThEIhAGpqamTgZi6Xo7CwkKmpKYaGhqipqcHv96/LeW0ERF+MRqOEQiESiQTd3d1cuHCBXC6H3W4nGAxSWFhIPB6X94EImrXZbJjNZjweD4lEgtnZWWw227quxDcCjY2NHD9+nN7eXkKhED6fTwYvHz9+HLfbjWEYRKNRioqK8Hq9xONx3G43breboqIipqenCYVCVFdXb/pFcf7YIeY4kX0nAu1Flfa5uTn5v4qKCpn5GAgEKCwsxOVyMTs7y+TkpFwIOJ1OKcTMZjPFxcW4XC6SySR37twhEAis16kr8bRaDMNgbGxMpsvnF/+Cu5kwXq+XRCJBOp0G7t81XfFwhLstEokwODjIpUuXKC0tpaWlhUQiIWuE6Louzce5XE5mx0SjUWKxmBJOS7BYPMXjcTo7OxkYGGD//v1S9MO9DDwxsdhsNoqLi+VniUnd6XSSTqdVP1+C/D5oGAaxWIzZ2VnS6TThcJivv/6a4eFhZmdnMZvN7N69m5qaGmpqagBwOBxYrVa5QW0ul5ObYs/MzMgNmxV3WWpxUFNTw+7du/noo4+4cOECJSUlhEIhmpqaOHnyJA6Hg0QiQTabxev1YrfbyWQyALJ/i4y9zS6cHoQQReJRjMmxWIx0Oi3Ha7fbLd+TX7Yg3yqYP6+Kfu9wODCbzevuUVDiaRUIX7fNZpOTt+gsohOIVaLYaFKxOsSK+6uvvuLTTz9laGiIY8eO0dbWJlcjwIKdzhfveq62dFmeXC4nTepXr17FbDZz/PhxSkpKGB4elhO1EFBwf00ncQ+I+0AsGBQPRpQXiEajaJpGRUUFx44dw+l0MjAwwE9/+lMmJiYIBAKy+KvNZltQeVl8znJbPynukkqluHnzJr/5zW/Yt28fr7/+OlVVVQwMDPDll1/yk5/8RJYqELXk4J5rSqTZw+bdauVREV6E/B8xNojnS71elH7Ir5co2j+/uObiMX49ULPJKrHZbHJVnkqlZO0VIaDi8TjJZJKCggIZbKtuuJUTiUS4desWX3zxBaOjo5w5c0ZmIInVXyaTYX5+HrvdLoNmRS0Xn88nVyqKhYhBSmz6e+vWLW7fvs3MzAw+n49UKsXo6Cg9PT24XC4ikYh03TmdTiKRCDabTZaRyI8dEYJrvQe4ZxUxATidTgzDwOVysXfvXoLBILlcDr/fL0tBpNNp0un0fTFNqVSKaDRKNpuloKBAjS+LyO97wmI6MDDA5OQkdXV17N69G7/fT3l5OcPDw5w/f56xsTHi8Tgmk4n5+XlisZiMPYvH43KcERY/xf2IfigehRB1OBzSrSesUPnC1DAMHA6H9NgYhkEqlcIwDOlVSKVSpFIpTCbTAsvVeqDE0yqxWCwyxiZfPInVSTKZJJFI4HK5VKbXGvj22295//33GRwcpKysjFdeeUX6ub1er8zmmJ6exuv1YrVa5c7oyWQSj8ej4kCWQViQstkss7Ozsv0+/vhjGacwMzNDT08PHo+H8fFxOZkPDAxQW1srLaxi0ikqKsLpdCrhtAzCMl1YWIjX68Xj8VBZWYnX6wXuuit8Ph/JZJJ0Os3s7CzFxcXE43GZuRSJRIjFYui6jt/vV9anZRDifnZ2lvHxcfx+PyUlJWiahsfjwe12y0B94ZaORqMkEgkcDgeGYRCPxwmHwwsWzpudBy2Q8i3Uwu0pxupsNksikZBtC8jAcofDgcfjIZ1Oy2sWj8dlAWTxOpPJtO7XQImnVWKxWCgtLWXr1q1MTk7S0dGBpmn4/X6uXLlCNBqlvLycqqoqnE4noGKeHsbim/DixYu8//77fP3115w6dYq2tjaKi4vlikXTNLZu3UoymeTLL7/EZDKxZcsW+vv7GR4exmKxsGPHDlwul9z3Tk3o98jviyUlJfzhH/4h+/fvJ51OYxgGdrudS5cu8Z//+Z8cPnyYgwcPcuDAAW7cuMHQ0BAffPABZ86coaioiJGREaamptB1nR07dqz7qvBZYLkK60IAORwOgsEgkUiEvr4+rFYrZrOZkZERZmZmsFgs1NbWsm3bNhKJBB9++CGtra3oui7ry9XU1FBWVqb69jKI4sVOp1PW4AuFQrJ+09TUlGzvHTt20N/fT09PD36/n2PHjjExMcHg4CDz8/NUV1dTW1u73qf0TCCsQnCvn+u6Lvu+cL/puo7X66W+vh6v10t3dzeBQIC6ujq+/fZbRkZG8Hq9lJaWUlRUhGEYNDQ0EIvFuHjxIq2trSQSCa5cuUImk6GkpETGAq4XSjytkZ07dxIKhfj888+5desWbreboaEhXC4Xra2teL1eFWuzAsRKJhwO8/nnn3P+/HlCoRCdnZ0YhsGFCxcwm81UVVVx5MgRXnzxRXRdp6uri4mJCRwOB/F4nEAgQGVlJeXl5Uq0PoD8ydZqtWK1WrHb7ei6TiQSwe12MzY2htVqxePxUFJSgtvt5uDBg/h8Pq5du8Ybb7yBx+NhcnISu93Ozp07Zcq34n5E/9Y0DYvFgtVq5ejRo3R3d/Pee+9x8eJFcrkc8/PzeL1edu3aRWVlJW1tbfT19fHxxx/zzTffoOs64+PjBINB9u/fL8WYYmksFgt2u526ujra29u5cuUKvb29FBQUEAqFmJqa4sCBA9TW1mK329E0jZ6eHj788EO6urqYnZ0llUrx0ksv0dDQIL0Om12w5heAvnXrFr/73e+Ympri448/ZnR0lF/+8pf09vZSW1vLkSNH2Lp1KydOnKCvr4/+/n7Z/tlsljNnzlBWVobdbqegoIBjx47Ja3D16lVZFHb//v3s2bNn3dtezeorZPEFe+GFF8hkMvz85z/n2rVrJJNJOegdOHBg2Z24FfcjzLrz8/NEIhESiQQlJSWMjo4yPz/P3NwcNpuNffv2cejQIbZt20YqleLatWt0dXWRTqdluf+2tja5ClID3aMh0oqF5chqtdLU1ERJSQlOpxObzcauXbswmUzcuHFD9nmz2czp06dpa2tD0zSZSKEykh6MyWTC4XCwd+/eBRWVU6kUHo+HtrY29u3bR0FBAQcPHsRms/H2228zODiIyWTC4/Hw53/+5+zcuVNaVhVLI4Lt9+/fTzKZ5Ne//jU9PT3yf9u3b+fQoUPU1dXh9/spLCxkYmKCrq4uent7AWhpaeHll1+mtLRUJaH8f0QRV7hbL+vrr7+mq6uL6elpAoGAtCo1NDSwe/duGhsbyeVyvPPOO/T39xOJRPB6vezfv5+XXnqJoqIi4G7Zg0OHDpHNZvnoo4/o7e2VJQ7a29tpbm5ez9MGQMupGX1NiHT5iYkJaZ5Mp9Ny80JAxn+I4Nx81IS+EBE7Y7Va6e/vl1kVYnPgTCaDzWbD4/FQWFhIJpMhmUwyOTkps5CSySQVFRV4PB7lrnsI+a4lwzDuEzzJZJLBwUFKSkpwOBzYbDYZvHznzh353lwuR3FxMVarFZfLtWBX9c3KUjvBw/33vAignZ6exmw2y01QvV4vLpdLlieYnp6W8ZWiDprH4yEQCCyoh6Z4MOl0mrm5OTlui6Bkj8dDQUHBgnp8t2/fljE2wkro8/nQdV3Gsapx5R7RaJS5uTnm5ubQNI1kMilLyFgsFurr60kkEuRyOebm5giHw3LscLlccmNgIchETbloNIqu6zL+T5RQWe/+rsTTU0AMosr68XBUGz0fqMn80cWTQqHYeGzu0e0pkV+PRbE8qo2eDza7cFIoFM83aoRTKBQKhUKhWAFKPCkUCoVCoVCsACWeFAqFQqFQKFaAEk8KhUKhUCgUK0CJJ4VCoVAoFIoVoMSTQqFYNZup0kn+DvEreb1CoXj+UOJJoVCsGlFcc7FIyGaz5HI5+Sg2zt7IiG1VxLkahiGLKAJyM/AHCSYlphSK54fNXVteoVCsmVu3bvHRRx+Ry+Xk9jqZTIZAIEBzczNbtmzB5XJtuMKZhmEQj8cZHx/HarUu2Ig0kUhw4cIF0uk0e/bsoaioiNu3b3Px4kUaGhrYtm0bfr9/gVhSNcwUiucHJZ4UCsWa6Ovr41//9V+pqqqioKAAk8kkt1y4fv06r776Kjt37twQwkkIvFwuRzweZ3Jyki+++AKfz0dNTQ2GYWCxWEin0wwNDRGLxdi+fbvcTuh///d/OXToEE6nE7fbLbdRgbtiDFiwBc5GaBOFQnE/SjwpFIo1IfZi+4M/+APa2toIBoNMTk5y6dIlfvSjH1FRUUEgEKCiomK9D/Wh5IunVCrF5OQknZ2dlJSULPifx+PhzJkzTE9PU1paKkVQPB4HkPuhCWscIEWUEkwKxcZHiSeFQrEmdF1H0zR8Ph91dXXU1tbidrvp7++XG7F+8803XLp0iWg0Kjdl9Xg8bN++ndbWVrLZLAMDA3zyyScUFhYCMDMzg6Zp1NXVceTIEW7dusWNGzcYGhqSosRqtfLSSy9RX1+PpmkMDQ3R19dHf38/qVRKbuLa2NjItm3b8Pl8DA4OMjQ0xM2bN7Hb7WiaRigUIpfL0djYyAsvvEAgEGBwcJCf/exndHR04PP5KCoqwm63EwwGOXDgABcuXGBmZgav10tBQcGCvevEhtbimDo7O5mdnSUWi2E2m/H5fDQ0NLBnzx75HoVCsXFQ4kmhUKyJXC5HJpPBbDZjt9sBcLvdcgf6yclJLl++zJ07d4hGoySTSVKpFHa7nbGxMUpKSiguLmZiYoIf//jHVFZW4vF4iEQiWCwWdu3aRUtLC59//jmXL19mdHQUs9mM1WrFMAxqamooLS0llUrR1dXFb3/7W3p7e5mfn8dsNmOz2Th06BC5XI7W1lZu3rzJ5cuXOXfuHDU1NZhMJsLhMPF4nOHhYQKBAFarlZmZGa5du8bw8DDT09N8+umnmM1mNE1j586d/OIXvyCXy9Hc3Izdbl8QIC+E1MjICJ2dnXz66adMT08zNzeHyWTC4/HQ0tIihabD4VjPS6hQKFaIEk8KhWJNiGwzkXmXzWYJhUIMDg4yNTVFR0cHu3btYvfu3dTX11NVVUUsFuOzzz5jeHiYjz/+mMOHD5NOpzGbzcRiMRobG3n11Vfxer1SfF26dAmv18s///M/SxdYKpWisbGRdDrNwMAAHR0dOJ1O/vqv/xq/308sFqOnp4fPPvuMaDTKnj17yGQyTExMcP36df7oj/6Il156Cbvdzm9+8xu+/fZb3n33XX7wgx+wbds2Xn/9dd599x2yJlIAAAcCSURBVF1KS0v527/9WwACgQA2mw2TyUQikZAZePmxTEJAnT9/ntu3bxMMBvnjP/5jSktLicfjfPLJJ4yPj/Pee+9x+PBhKisr5TkpFIpnH3W3KhSKNWEymTAMgytXrhAKhSgvL2d2dpaJiQm+973vMTIywo0bNzCZTExPT9Pd3Y3FYuHy5ctSbDU3N5PL5TCbzZSWlhIMBmlqasJsNhMOh/niiy8AaGpqoq6uDpfLRSqVwmQy4XA4+Pbbb7ly5QpdXV0YhoHdbsflcpFIJBgZGaGrqwtd1zGbzZjNZlwuF4WFhdTV1VFfX4/L5aK3t5eZmRm6u7sZHx+ntrZWCiW3201tbS1wN3ZJBH8DmM1m+XchoITL7vr163R3d+Pz+QiFQni9XgA6OzsJh8MAHDhwQJUwUCg2GEo8KRSKVZPL5WTMU3d3N3fu3EHXdXw+H2VlZfzZn/0Z//Vf/0V/fz/9/f0MDw/LQGoR91ReXo7VaiWVSpHJZAgGg2zbtg1d1wGYn5+np6eH7du3U1lZSUFBAYD8P0AkEqGvr49wOMz8/DwXLlwgk8nIsgkWiwWv14thGGiahs1mIxgMUlFRgcvlAqC4uBiHw8HU1JTMkjOZTGQyGeCeaEqn09LiBJDJZEin0/L7crmc/N/o6CjXr19n69atzMzMoOu6dHE6HA4pAoX1SsU+KRQbAyWeFArFqhGuOrfbTXt7OydPnqS2tlZaXtxuN2+++SZbt27lhz/8IeXl5Xg8HrLZrEz7z2azFBcXMzMzI0VVPiaTCV3Xsdvt0sqzmFQqRTKZZPv27dTW1vL9738fs9ksMwETiQRer1cGmZvNZukmE4/iszOZDJqmYTabpUATsVxC+NntdlkcVFibxLGLgHG4m4m4c+dO/uIv/oItW7agaRrZbBZN09B1HafTSVFRkayPpcSTQrExUOJJoVCsGlEPKZFIUFFRQX19PdXV1VIcWa1W6urq6O3tZXh4mNraWioqKtB1HcMwSCQSMr1fWHN0XcdqtUox4nQ6aWhoYGJigv7+fvbu3StjjpLJJA6HA7/fT0tLC9euXSOZTOJ2u/H7/VJ4TU1NYbVagbsCyGw2k8vlpPstm80CyIBw8TdhKUqlUtKKpes6uVxuwecJV11+u2SzWerq6hgaGmJkZITm5mZZ1kB8dzKZlO2kShgoFBsHJZ4UCsWqES4wQFpPhPtJWG1+7/d+j1gsxuXLl2UZAhEYnkqlcLlclJaWyrIBmqaRTCZlHFBhYSGtra18+OGH9PX1MTAwgNPpJJ1OYxgGpaWl+Hw+GhsbuXjxIsPDw/T29lJYWCjjsUKhEG63Wx6LOE5h5RLCRXymEDQejwebzUYoFGJ4eBiz2Yzb7cZutxOPx8lms1J4AfJ3IR63bt1KNBrlypUrVFRUEA6HpXCMx+O43W4qKiqkEFMoFBsDJZ4UCsWa0HUdXdfJZrNYLJYFlhtN0zhy5Ahms5lz587x1ltvEYvFpHsrGAzy8ssvU1RUJMVSMplE13VpzamsrOTw4cMyQ++f/umfpKvNZrPxl3/5lxw4cIAdO3Zw6tQpOjo6+Pd//3fMZrO07NTX19Pe3k5LS4ssC6Bp2oIMN2FB8nq9aJqGw+GgqqqKhoYGLl++zD/+4z/i8Xhob2/nT//0T2VAer4LUrj+hGXs6NGjFBUV8atf/Yo333yTubk57HY72WyW2tpaXnnlFQKBwNO8XAqF4jGgxJNCoVg1hmHQ1NTE3/zN37Bjxw4ZfJ1fWdvn89HS0oLNZmNiYoJIJALcFSvl5eVUV1fjdDqpqanhBz/4Ac3NzVRVVQHIQGq/38/u3bvxer2MjY0tcJvV1tZis9mw2Ww0NzdjtVppaGggm82STCYxm80UFhZSW1uLxWKhrKyMtrY26uvrKSsrA+4KvUAgwIsvvkhJSQl1dXXouo7L5eLIkSPU19cTDodxOp0y6+573/seAGVlZXg8Hnn8O3bskFavQCBAS0sLhmEwMzNDNBrFarXKOK/KykpldVIoNiBaTuXIKhSKNSIyxvIz4PKLRQpr1OK4oPzhJ51OS2uQiC3KRwRoix9hnXrQhsPidfl1mNLptPxcEe8kgsDFa5LJpHRF5pP/3qUwDINMJrPgvfnvyT9X8V2JREIGr6tgcYVi46DEk0KhWBOLU+zFkJJvfXoQosDmYtEl0vmXEhT5gmxx3JKmaaTT6QXWHOFSy3/ML2i5+DPFcZnNZumKXIxwSYpzXNwG+YIuP4tOBJILxGcvHoaVkFIonm2UeFIoFI+V/CFlLSJgvesePc3vX+9zVSgUK0OJJ4VCoVAoFIoVoAqLKBQKhUKhUKwAJZ4UCoVCoVAoVoASTwqFQqFQKBQrQIknhUKhUCgUihWgxJNCoVAoFArFCvh/Uz11ItK684EAAAAASUVORK5CYII=)\n"
      ]
    },
    {
      "cell_type": "code",
      "metadata": {
        "id": "N-TCx9hnLvhK",
        "colab": {
          "base_uri": "https://localhost:8080/"
        },
        "outputId": "54d42441-57f3-4646-9658-5d3d3d43308b"
      },
      "source": [
        "a1 = np.array([0, 1, 2, 3])\n",
        "print(a1)\n",
        "print(np.percentile(a1, [0, 20, 40, 60, 80, 100], interpolation = 'linear'))\n",
        "print(np.percentile(a1, [0, 20, 40, 60, 80, 100], interpolation = 'higher'))\n",
        "print(np.percentile(a1, [0, 20, 40, 60, 80, 100], interpolation = 'lower'))\n",
        "print(np.percentile(a1, [0, 20, 40, 60, 80, 100], interpolation = 'nearest'))\n",
        "print(np.percentile(a1, [0, 20, 40, 60, 80, 100], interpolation = 'midpoint'))"
      ],
      "execution_count": null,
      "outputs": [
        {
          "output_type": "stream",
          "name": "stdout",
          "text": [
            "[0 1 2 3]\n",
            "[0.  0.6 1.2 1.8 2.4 3. ]\n",
            "[0 1 2 2 3 3]\n",
            "[0 0 1 1 2 3]\n",
            "[0 1 1 2 2 3]\n",
            "[0.  0.5 1.5 1.5 2.5 3. ]\n"
          ]
        }
      ]
    },
    {
      "cell_type": "markdown",
      "metadata": {
        "id": "x0NnNsvvNDIs"
      },
      "source": [
        "#### any()"
      ]
    },
    {
      "cell_type": "code",
      "metadata": {
        "id": "I1XDqsFxOMvA",
        "colab": {
          "base_uri": "https://localhost:8080/"
        },
        "outputId": "1d811fe9-0d83-4bc2-b52d-ecb67292206c"
      },
      "source": [
        "a2 = np.array([[False, False, False],\n",
        "               [True, False, True],\n",
        "               [False, True, True]])\n",
        "print(a2)\n",
        "print(np.any(a2))\n",
        "print(np.any(a2, axis = 0))\n",
        "print(np.any(a2, axis = 1)) # 열"
      ],
      "execution_count": null,
      "outputs": [
        {
          "output_type": "stream",
          "name": "stdout",
          "text": [
            "[[False False False]\n",
            " [ True False  True]\n",
            " [False  True  True]]\n",
            "True\n",
            "[ True  True  True]\n",
            "[False  True  True]\n"
          ]
        }
      ]
    },
    {
      "cell_type": "markdown",
      "metadata": {
        "id": "Uw-wjYgyONBZ"
      },
      "source": [
        "#### all()"
      ]
    },
    {
      "cell_type": "code",
      "metadata": {
        "id": "sXi2AHOHONYq",
        "colab": {
          "base_uri": "https://localhost:8080/"
        },
        "outputId": "238d345d-90fd-400f-c7e4-1d28c21b25f5"
      },
      "source": [
        "a2 = np.array([[False, False, False],\n",
        "               [True, False, True],\n",
        "               [True, True, True]])\n",
        "print(a2)\n",
        "print(np.all(a2))\n",
        "print(np.all(a2, axis = 0))\n",
        "print(np.all(a2, axis = 1)) # 열"
      ],
      "execution_count": null,
      "outputs": [
        {
          "output_type": "stream",
          "name": "stdout",
          "text": [
            "[[False False False]\n",
            " [ True False  True]\n",
            " [ True  True  True]]\n",
            "False\n",
            "[False False False]\n",
            "[False False  True]\n"
          ]
        }
      ]
    },
    {
      "cell_type": "markdown",
      "metadata": {
        "id": "0n7lgzmUwqr1"
      },
      "source": [
        "### 비교 연산(Comparison Operators)\n",
        "|연산자|비교 범용 함수|\n",
        "|----|----|\n",
        "|`==`|`np.equal`|\n",
        "|`!=`|`np.not_equal`|\n",
        "|`<`|`np.less`|\n",
        "|`<=`|`np.less_equal`|\n",
        "|`>`|`np.greater`|\n",
        "|`>=`|`np.greater_equal`|"
      ]
    },
    {
      "cell_type": "code",
      "metadata": {
        "id": "E00V-nBTVnCu",
        "colab": {
          "base_uri": "https://localhost:8080/"
        },
        "outputId": "bd821b59-2093-42a0-c114-d838bdec6923"
      },
      "source": [
        "a1 = np.arange(1, 10)\n",
        "print(a1)\n",
        "print(a1 == 5)\n",
        "print(a1 != 5)\n",
        "print(a1 < 5)\n",
        "print(a1 <= 5)\n",
        "print(a1 > 5)\n",
        "print(a1 >= 5)"
      ],
      "execution_count": null,
      "outputs": [
        {
          "output_type": "stream",
          "name": "stdout",
          "text": [
            "[1 2 3 4 5 6 7 8 9]\n",
            "[False False False False  True False False False False]\n",
            "[ True  True  True  True False  True  True  True  True]\n",
            "[ True  True  True  True False False False False False]\n",
            "[ True  True  True  True  True False False False False]\n",
            "[False False False False False  True  True  True  True]\n",
            "[False False False False  True  True  True  True  True]\n"
          ]
        }
      ]
    },
    {
      "cell_type": "code",
      "metadata": {
        "id": "3MwV1CU1WsWS",
        "colab": {
          "base_uri": "https://localhost:8080/"
        },
        "outputId": "82c82d08-912c-4c11-ccf0-2a853dd4d88c"
      },
      "source": [
        "a2 = np.arange(1, 10).reshape(3, 3)\n",
        "print(a2)\n",
        "print(np.sum(a2))\n",
        "print(np.count_nonzero(a2 > 5))\n",
        "print(np.sum(a2 > 5))\n",
        "print(np.sum(a2 > 5, axis = 0))\n",
        "print(np.sum(a2 > 5, axis = 1)) # 조건에 맞는 요소 개수\n",
        "print(np.any(a2 > 5))\n",
        "print(np.any(a2 > 5, axis = 0))\n",
        "print(np.any(a2 > 5, axis = 1))\n",
        "print(np.all(a2 > 5))\n",
        "print(np.all(a2 > 5, axis = 0))\n",
        "print(np.all(a2 > 5, axis = 1))"
      ],
      "execution_count": null,
      "outputs": [
        {
          "output_type": "stream",
          "name": "stdout",
          "text": [
            "[[1 2 3]\n",
            " [4 5 6]\n",
            " [7 8 9]]\n",
            "45\n",
            "4\n",
            "4\n",
            "[1 1 2]\n",
            "[0 1 3]\n",
            "True\n",
            "[ True  True  True]\n",
            "[False  True  True]\n",
            "False\n",
            "[False False False]\n",
            "[False False  True]\n"
          ]
        }
      ]
    },
    {
      "cell_type": "markdown",
      "source": [
        "|비교 범용 함수|설명|\n",
        "|----|----|\n",
        "|`np.isclose`|배열 두개가(z*1e+02)% 내외로 가까우면 True, 아니면 False|\n",
        "|`np.isinf`|배열이 inf 이면 True, 아니면 False|\n",
        "|`np.isfinite`|배열이 inf, nan 이면 False, 아니면 True|\n",
        "|`np.isnan`|배열이 nan이면 True, 아니면 False|\n"
      ],
      "metadata": {
        "id": "1GIFRfGzLOmh"
      }
    },
    {
      "cell_type": "code",
      "metadata": {
        "id": "D4cuMoyEPn8R",
        "colab": {
          "base_uri": "https://localhost:8080/"
        },
        "outputId": "fd31a34a-d8f7-4926-b0f0-c4f59071d536"
      },
      "source": [
        "a1 = np.array([1, 2, 3, 4, 5])\n",
        "print(a1)\n",
        "b1 = np.array([1, 2, 3, 3, 4])\n",
        "print(b1)\n",
        "print(np.isclose(a1, b1))"
      ],
      "execution_count": null,
      "outputs": [
        {
          "output_type": "stream",
          "name": "stdout",
          "text": [
            "[1 2 3 4 5]\n",
            "[1 2 3 3 4]\n",
            "[ True  True  True False False]\n"
          ]
        }
      ]
    },
    {
      "cell_type": "code",
      "metadata": {
        "id": "af9VSc6FyMBh",
        "colab": {
          "base_uri": "https://localhost:8080/"
        },
        "outputId": "86e16d16-14aa-4c03-a5c2-24e731e6dd5b"
      },
      "source": [
        "a1 = np.array([np.nan, 2, np.inf, 4, np.NINF])\n",
        "print(a1)\n",
        "print(np.isnan(a1))\n",
        "print(np.isinf(a1))\n",
        "print(np.isfinite(a1, b1))"
      ],
      "execution_count": null,
      "outputs": [
        {
          "output_type": "stream",
          "name": "stdout",
          "text": [
            "[ nan   2.  inf   4. -inf]\n",
            "[ True False False False False]\n",
            "[False False  True False  True]\n",
            "[0 1 0 1 0]\n"
          ]
        }
      ]
    },
    {
      "cell_type": "markdown",
      "metadata": {
        "id": "4BHMetMlYmt-"
      },
      "source": [
        "#### 불리언 연산자(Boolean Operators)\n",
        "|연산자|비교 범용 함수|\n",
        "|----|----|\n",
        "|`&`|`np.bitwise_and`|\n",
        "|`\\|`|`np.bitwise_or`|\n",
        "|`^`|`np.bitwise_xor`|\n",
        "|`~`|`np.bitwise_not`|\n"
      ]
    },
    {
      "cell_type": "code",
      "metadata": {
        "id": "ZV1-8DkUHOZq",
        "colab": {
          "base_uri": "https://localhost:8080/"
        },
        "outputId": "0c1c7271-01e4-4ff2-8a3f-57d77c587945"
      },
      "source": [
        "a2 = np.arange(1, 10).reshape(3, 3)\n",
        "print(a2)\n",
        "\n",
        "print((a2 > 5) & (a2 < 8))\n",
        "print(a2[(a2 > 5) & (a2 < 8)])\n",
        "\n",
        "print((a2 > 5) | (a2 < 8))\n",
        "print(a2[(a2 > 5) | (a2 < 8)])\n",
        "\n",
        "print((a2 > 5) ^ (a2 < 8))\n",
        "print(a2[(a2 > 5) ^ (a2 < 8)])\n",
        "\n",
        "print(~(a2 > 5))\n",
        "print(a2[~(a2 > 5)])"
      ],
      "execution_count": null,
      "outputs": [
        {
          "output_type": "stream",
          "name": "stdout",
          "text": [
            "[[1 2 3]\n",
            " [4 5 6]\n",
            " [7 8 9]]\n",
            "[[False False False]\n",
            " [False False  True]\n",
            " [ True False False]]\n",
            "[6 7]\n",
            "[[ True  True  True]\n",
            " [ True  True  True]\n",
            " [ True  True  True]]\n",
            "[1 2 3 4 5 6 7 8 9]\n",
            "[[ True  True  True]\n",
            " [ True  True False]\n",
            " [False  True  True]]\n",
            "[1 2 3 4 5 8 9]\n",
            "[[ True  True  True]\n",
            " [ True  True False]\n",
            " [False False False]]\n",
            "[1 2 3 4 5]\n"
          ]
        }
      ]
    },
    {
      "cell_type": "markdown",
      "metadata": {
        "id": "FlQJVeGBxIFw"
      },
      "source": [
        "### 배열 정렬"
      ]
    },
    {
      "cell_type": "code",
      "metadata": {
        "id": "x0sodUMqLU37",
        "colab": {
          "base_uri": "https://localhost:8080/"
        },
        "outputId": "682ce339-65ed-46a7-ad60-a3f81fd5df3d"
      },
      "source": [
        "a1 = np.random.randint(1, 10, size = 10)\n",
        "print(a1)\n",
        "print(np.sort(a1))\n",
        "print(a1) # 원본 배열은 그대로\n",
        "print(np.argsort(a1)) # 위치값을 뱉어줌 퉤\n",
        "print(a1)\n",
        "print(a1.sort())\n",
        "print(a1) # 원본 배열이 수정됨"
      ],
      "execution_count": null,
      "outputs": [
        {
          "output_type": "stream",
          "name": "stdout",
          "text": [
            "[6 5 9 3 4 5 7 3 3 4]\n",
            "[3 3 3 4 4 5 5 6 7 9]\n",
            "[6 5 9 3 4 5 7 3 3 4]\n",
            "[3 7 8 4 9 1 5 0 6 2]\n",
            "[6 5 9 3 4 5 7 3 3 4]\n",
            "None\n",
            "[3 3 3 4 4 5 5 6 7 9]\n"
          ]
        }
      ]
    },
    {
      "cell_type": "code",
      "metadata": {
        "id": "FO_sO5POzeMp",
        "colab": {
          "base_uri": "https://localhost:8080/"
        },
        "outputId": "68526f16-b150-4fb1-90c8-a8a88bb043cf"
      },
      "source": [
        "a2 = np.random.randint(1, 10, size = (3, 3))\n",
        "print(a2)\n",
        "print(np.sort(a2, axis = 0))\n",
        "print(np.sort(a2, axis = 1))"
      ],
      "execution_count": null,
      "outputs": [
        {
          "output_type": "stream",
          "name": "stdout",
          "text": [
            "[[2 5 4]\n",
            " [9 8 7]\n",
            " [9 9 6]]\n",
            "[[2 5 4]\n",
            " [9 8 6]\n",
            " [9 9 7]]\n",
            "[[2 4 5]\n",
            " [7 8 9]\n",
            " [6 9 9]]\n"
          ]
        }
      ]
    },
    {
      "cell_type": "markdown",
      "metadata": {
        "id": "yYSItPz_00sZ"
      },
      "source": [
        "#### 부분 정렬\n",
        "\n",
        "* `partition()`: 배열에서 k개의 작은 값을 반환"
      ]
    },
    {
      "cell_type": "code",
      "metadata": {
        "id": "QQwov4N00YFP",
        "colab": {
          "base_uri": "https://localhost:8080/"
        },
        "outputId": "c3bdff75-64c8-4c85-ae8a-080ba5f63658"
      },
      "source": [
        "a1 = np.random.randint(1, 10, size = 10)\n",
        "print(a1)\n",
        "print(np.partition(a1, 3))"
      ],
      "execution_count": null,
      "outputs": [
        {
          "output_type": "stream",
          "name": "stdout",
          "text": [
            "[6 6 9 2 1 2 8 7 4 2]\n",
            "[2 1 2 2 4 6 6 7 9 8]\n"
          ]
        }
      ]
    },
    {
      "cell_type": "code",
      "source": [
        "a2 = np.random.randint(1, 10, size = (5, 5))\n",
        "print(a2)\n",
        "print(np.partition(a2, 3))\n",
        "print(np.partition(a2, 3, axis = 0))\n",
        "print(np.partition(a2, 3, axis = 1))"
      ],
      "metadata": {
        "colab": {
          "base_uri": "https://localhost:8080/"
        },
        "id": "m7knIz7Tr0f2",
        "outputId": "6deaf032-3e76-4135-ebfa-6ed02bf8b050"
      },
      "execution_count": null,
      "outputs": [
        {
          "output_type": "stream",
          "name": "stdout",
          "text": [
            "[[2 8 9 1 5]\n",
            " [1 6 3 1 6]\n",
            " [1 9 9 6 8]\n",
            " [8 7 3 9 4]\n",
            " [8 1 7 8 4]]\n",
            "[[1 2 5 8 9]\n",
            " [1 1 3 6 6]\n",
            " [6 1 8 9 9]\n",
            " [3 4 7 8 9]\n",
            " [1 4 7 8 8]]\n",
            "[[1 7 3 1 4]\n",
            " [1 1 7 1 4]\n",
            " [2 6 3 6 5]\n",
            " [8 8 9 8 6]\n",
            " [8 9 9 9 8]]\n",
            "[[1 2 5 8 9]\n",
            " [1 1 3 6 6]\n",
            " [6 1 8 9 9]\n",
            " [3 4 7 8 9]\n",
            " [1 4 7 8 8]]\n"
          ]
        }
      ]
    },
    {
      "cell_type": "markdown",
      "metadata": {
        "id": "77DSA72ML5cI"
      },
      "source": [
        "## 배열 입출력\n",
        "|함수|설명|파일 종류|\n",
        "|----|----|----|\n",
        "|`np.save()`|NumPy 배열 객체 1개를 파일에 저장|바이너리|\n",
        "|`np.savez()`|NumPy 배열 객체 여러개를 파일에 저장|바이너리|\n",
        "|`np.load()`|NumPy 배열 저장 파일로부터 객체 로딩|바이너리|\n",
        "|`np.loadtxt()`|텍스트 파일로부터 배열 로딩|텍스트|\n",
        "|`np.savetxt()`|텍스트 파일에 NumPy 배열 객체 저장|텍스트|"
      ]
    },
    {
      "cell_type": "code",
      "metadata": {
        "id": "da-Mm_gzIs7U",
        "colab": {
          "base_uri": "https://localhost:8080/"
        },
        "outputId": "737df120-1210-4872-c69f-a73552c3b0b8"
      },
      "source": [
        "a2 = np.random.randint(1, 10, size = (5, 5))\n",
        "print(a2)\n",
        "np.save(\"a\", a2)"
      ],
      "execution_count": null,
      "outputs": [
        {
          "output_type": "stream",
          "name": "stdout",
          "text": [
            "[[9 9 5 3 5]\n",
            " [7 4 7 2 3]\n",
            " [7 5 7 4 8]\n",
            " [8 2 7 6 7]\n",
            " [4 2 5 5 4]]\n"
          ]
        }
      ]
    },
    {
      "cell_type": "code",
      "metadata": {
        "id": "pFOWyDvAsf11",
        "colab": {
          "base_uri": "https://localhost:8080/"
        },
        "outputId": "29ed7406-8554-480f-f217-685acf69563e"
      },
      "source": [
        "!ls # .npy 바이너리 파일 (machine readable)"
      ],
      "execution_count": null,
      "outputs": [
        {
          "output_type": "stream",
          "name": "stdout",
          "text": [
            "a.npy  sample_data\n"
          ]
        }
      ]
    },
    {
      "cell_type": "code",
      "metadata": {
        "id": "Hvb_ilyisoIV",
        "colab": {
          "base_uri": "https://localhost:8080/"
        },
        "outputId": "90540c02-4168-42fd-fca8-45656405fc3b"
      },
      "source": [
        "b2 = np.random.randint(1, 10, size = (5, 5))\n",
        "print(b2)\n",
        "np.savez(\"ab\", a2, b2)"
      ],
      "execution_count": null,
      "outputs": [
        {
          "output_type": "stream",
          "name": "stdout",
          "text": [
            "[[4 3 3 7 5]\n",
            " [3 6 7 6 2]\n",
            " [9 3 7 9 8]\n",
            " [1 1 2 2 8]\n",
            " [3 2 5 2 6]]\n"
          ]
        }
      ]
    },
    {
      "cell_type": "code",
      "metadata": {
        "id": "ArWZfL31s1wU",
        "colab": {
          "base_uri": "https://localhost:8080/"
        },
        "outputId": "ab655358-437f-46b2-da54-12aa285c740c"
      },
      "source": [
        "!ls # 배열이 여러개라 npz로 됨"
      ],
      "execution_count": null,
      "outputs": [
        {
          "output_type": "stream",
          "name": "stdout",
          "text": [
            "ab.npz\ta.npy  sample_data\n"
          ]
        }
      ]
    },
    {
      "cell_type": "code",
      "metadata": {
        "id": "che4cEJEs2Tr",
        "colab": {
          "base_uri": "https://localhost:8080/"
        },
        "outputId": "e0bbe6e7-0213-45db-e507-f6783fba5142"
      },
      "source": [
        "npy = np.load(\"a.npy\")\n",
        "print(npy)"
      ],
      "execution_count": null,
      "outputs": [
        {
          "output_type": "stream",
          "name": "stdout",
          "text": [
            "[[9 9 5 3 5]\n",
            " [7 4 7 2 3]\n",
            " [7 5 7 4 8]\n",
            " [8 2 7 6 7]\n",
            " [4 2 5 5 4]]\n"
          ]
        }
      ]
    },
    {
      "cell_type": "code",
      "metadata": {
        "id": "X2yIUsYvtMj6",
        "colab": {
          "base_uri": "https://localhost:8080/"
        },
        "outputId": "e164fead-7160-4c6b-d8f0-e7ecb1194c49"
      },
      "source": [
        "npz = np.load(\"ab.npz\")\n",
        "print(npz.files)\n",
        "print(npz['arr_0'])\n",
        "print(npz['arr_1'])"
      ],
      "execution_count": null,
      "outputs": [
        {
          "output_type": "stream",
          "name": "stdout",
          "text": [
            "['arr_0', 'arr_1']\n",
            "[[9 9 5 3 5]\n",
            " [7 4 7 2 3]\n",
            " [7 5 7 4 8]\n",
            " [8 2 7 6 7]\n",
            " [4 2 5 5 4]]\n",
            "[[4 3 3 7 5]\n",
            " [3 6 7 6 2]\n",
            " [9 3 7 9 8]\n",
            " [1 1 2 2 8]\n",
            " [3 2 5 2 6]]\n"
          ]
        }
      ]
    },
    {
      "cell_type": "code",
      "metadata": {
        "id": "Yj5ec-CYtaH1",
        "colab": {
          "base_uri": "https://localhost:8080/"
        },
        "outputId": "59930808-2ee3-42cd-b3a2-d01eb44d2ccf"
      },
      "source": [
        "print(a2)\n",
        "np.savetxt(\"a.csv\", a2, delimiter = \",\") # human readable"
      ],
      "execution_count": null,
      "outputs": [
        {
          "output_type": "stream",
          "name": "stdout",
          "text": [
            "[[9 9 5 3 5]\n",
            " [7 4 7 2 3]\n",
            " [7 5 7 4 8]\n",
            " [8 2 7 6 7]\n",
            " [4 2 5 5 4]]\n"
          ]
        }
      ]
    },
    {
      "cell_type": "code",
      "metadata": {
        "id": "_NIDrc-VuPmv",
        "colab": {
          "base_uri": "https://localhost:8080/"
        },
        "outputId": "1c6f739d-9fc2-46d3-bb72-f6f50a2a2ac1"
      },
      "source": [
        "!ls"
      ],
      "execution_count": null,
      "outputs": [
        {
          "output_type": "stream",
          "name": "stdout",
          "text": [
            "ab.npz\ta.csv  a.npy  sample_data\n"
          ]
        }
      ]
    },
    {
      "cell_type": "code",
      "metadata": {
        "id": "bPhmIoVBuQMf",
        "colab": {
          "base_uri": "https://localhost:8080/"
        },
        "outputId": "994b141b-bdc6-486f-df24-3351c6379e47"
      },
      "source": [
        "! cat a.csv # 텍스트로 실수 형태로 저장됨"
      ],
      "execution_count": null,
      "outputs": [
        {
          "output_type": "stream",
          "name": "stdout",
          "text": [
            "9.000000000000000000e+00,9.000000000000000000e+00,5.000000000000000000e+00,3.000000000000000000e+00,5.000000000000000000e+00\n",
            "7.000000000000000000e+00,4.000000000000000000e+00,7.000000000000000000e+00,2.000000000000000000e+00,3.000000000000000000e+00\n",
            "7.000000000000000000e+00,5.000000000000000000e+00,7.000000000000000000e+00,4.000000000000000000e+00,8.000000000000000000e+00\n",
            "8.000000000000000000e+00,2.000000000000000000e+00,7.000000000000000000e+00,6.000000000000000000e+00,7.000000000000000000e+00\n",
            "4.000000000000000000e+00,2.000000000000000000e+00,5.000000000000000000e+00,5.000000000000000000e+00,4.000000000000000000e+00\n"
          ]
        }
      ]
    },
    {
      "cell_type": "code",
      "metadata": {
        "id": "FeB2p4azuTDv",
        "colab": {
          "base_uri": "https://localhost:8080/"
        },
        "outputId": "f72ba85f-6c1e-414d-b633-8d6d86c895e2"
      },
      "source": [
        "csv = np.loadtxt(\"a.csv\", delimiter = \",\")\n",
        "print(csv)"
      ],
      "execution_count": null,
      "outputs": [
        {
          "output_type": "stream",
          "name": "stdout",
          "text": [
            "[[9. 9. 5. 3. 5.]\n",
            " [7. 4. 7. 2. 3.]\n",
            " [7. 5. 7. 4. 8.]\n",
            " [8. 2. 7. 6. 7.]\n",
            " [4. 2. 5. 5. 4.]]\n"
          ]
        }
      ]
    },
    {
      "cell_type": "code",
      "metadata": {
        "id": "IUg8Vg4fuxR5",
        "colab": {
          "base_uri": "https://localhost:8080/"
        },
        "outputId": "a24ac411-a04d-4cf9-c33b-28cab3e48b51"
      },
      "source": [
        "print(b2)\n",
        "np.savetxt(\"b.csv\", b2, delimiter = \",\", fmt = '%.2e', header = 'c1, c2, c3, c4, c5')"
      ],
      "execution_count": null,
      "outputs": [
        {
          "output_type": "stream",
          "name": "stdout",
          "text": [
            "[[4 3 3 7 5]\n",
            " [3 6 7 6 2]\n",
            " [9 3 7 9 8]\n",
            " [1 1 2 2 8]\n",
            " [3 2 5 2 6]]\n"
          ]
        }
      ]
    },
    {
      "cell_type": "code",
      "metadata": {
        "id": "lIK5dSv6vtm2",
        "colab": {
          "base_uri": "https://localhost:8080/"
        },
        "outputId": "83cca8c5-a035-4d78-827b-14d3ac0b1b2b"
      },
      "source": [
        "!cat b.csv"
      ],
      "execution_count": null,
      "outputs": [
        {
          "output_type": "stream",
          "name": "stdout",
          "text": [
            "# c1, c2, c3, c4, c5\n",
            "4.00e+00,3.00e+00,3.00e+00,7.00e+00,5.00e+00\n",
            "3.00e+00,6.00e+00,7.00e+00,6.00e+00,2.00e+00\n",
            "9.00e+00,3.00e+00,7.00e+00,9.00e+00,8.00e+00\n",
            "1.00e+00,1.00e+00,2.00e+00,2.00e+00,8.00e+00\n",
            "3.00e+00,2.00e+00,5.00e+00,2.00e+00,6.00e+00\n"
          ]
        }
      ]
    },
    {
      "cell_type": "code",
      "metadata": {
        "id": "l4O-gVxdv8-d",
        "colab": {
          "base_uri": "https://localhost:8080/"
        },
        "outputId": "1a148ed5-cd70-4cf4-f80a-1bdfef40167d"
      },
      "source": [
        "csv = np.loadtxt(\"b.csv\", delimiter = \",\")\n",
        "print(csv)"
      ],
      "execution_count": null,
      "outputs": [
        {
          "output_type": "stream",
          "name": "stdout",
          "text": [
            "[[4. 3. 3. 7. 5.]\n",
            " [3. 6. 7. 6. 2.]\n",
            " [9. 3. 7. 9. 8.]\n",
            " [1. 1. 2. 2. 8.]\n",
            " [3. 2. 5. 2. 6.]]\n"
          ]
        }
      ]
    },
    {
      "cell_type": "markdown",
      "metadata": {
        "id": "JM2Ghx2NGloN"
      },
      "source": [
        "\n",
        "\n",
        "---\n",
        "\n"
      ]
    },
    {
      "cell_type": "markdown",
      "source": [
        "NumPy, https://numpy.org/"
      ],
      "metadata": {
        "id": "sW-05tOX2QHz"
      }
    }
  ]
}